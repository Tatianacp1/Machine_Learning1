{
  "nbformat": 4,
  "nbformat_minor": 0,
  "metadata": {
    "colab": {
      "name": "Proyecto final ML.ipynb",
      "provenance": [],
      "collapsed_sections": []
    },
    "kernelspec": {
      "name": "python3",
      "display_name": "Python 3"
    },
    "language_info": {
      "name": "python"
    }
  },
  "cells": [
    {
      "cell_type": "markdown",
      "metadata": {
        "id": "TdZITsm4M4bK"
      },
      "source": [
        "## Carlos Fernando Gonzalez Sarmiento"
      ]
    },
    {
      "cell_type": "code",
      "metadata": {
        "id": "hCDslquW0mKp"
      },
      "source": [
        "\n",
        "from sklearn.neural_network import MLPRegressor\n",
        "from sklearn.compose import ColumnTransformer\n",
        "from sklearn.preprocessing import OneHotEncoder\n",
        "from sklearn.preprocessing import StandardScaler\n",
        "from sklearn.compose import make_column_selector\n",
        "from sklearn.pipeline import Pipeline\n",
        "from sklearn.metrics import mean_squared_error\n",
        "from sklearn.model_selection import RandomizedSearchCV\n",
        "from sklearn.model_selection import KFold\n",
        "from sklearn import set_config\n",
        "from tensorflow.keras.preprocessing.sequence import TimeseriesGenerator\n",
        "from tensorflow import keras\n",
        "import tensorflow as tf\n",
        "\n",
        "\n",
        "from xgboost import XGBRegressor\n",
        "import pandas as pd\n",
        "import numpy as np\n",
        "import openpyxl as opx\n",
        "import matplotlib.pyplot as plt\n",
        "import seaborn as sns\n",
        "from datetime import datetime\n",
        "import datetime as dt\n",
        "\n",
        "\n",
        "import multiprocessing\n",
        "\n",
        "from sklearn.model_selection import train_test_split"
      ],
      "execution_count": 64,
      "outputs": []
    },
    {
      "cell_type": "code",
      "metadata": {
        "id": "XfaAxxYYG3fT",
        "colab": {
          "base_uri": "https://localhost:8080/"
        },
        "outputId": "a50b45a3-7e3f-435f-992c-6c1df83a8539"
      },
      "source": [
        "from google.colab import drive #Para que permita abrir Drive \n",
        "drive.mount('/content/drive')"
      ],
      "execution_count": 2,
      "outputs": [
        {
          "output_type": "stream",
          "name": "stdout",
          "text": [
            "Mounted at /content/drive\n"
          ]
        }
      ]
    },
    {
      "cell_type": "code",
      "metadata": {
        "id": "C6Czq-0tXrdb",
        "colab": {
          "base_uri": "https://localhost:8080/"
        },
        "outputId": "9a13171e-5fb8-4bbb-feaf-66fd67b8d557"
      },
      "source": [
        "#BASE DE DATOS (BASE ACTUALIZADA PARA EL DÍA 24 DE NOVIEMBRE)\n",
        "cont = pd.read_csv('/content/drive/MyDrive/Casos_positivos_de_COVID-19_en_Colombia (1).csv')\n"
      ],
      "execution_count": 3,
      "outputs": [
        {
          "output_type": "stream",
          "name": "stderr",
          "text": [
            "/usr/local/lib/python3.7/dist-packages/IPython/core/interactiveshell.py:2718: DtypeWarning: Columns (14) have mixed types.Specify dtype option on import or set low_memory=False.\n",
            "  interactivity=interactivity, compiler=compiler, result=result)\n"
          ]
        }
      ]
    },
    {
      "cell_type": "code",
      "metadata": {
        "colab": {
          "base_uri": "https://localhost:8080/",
          "height": 382
        },
        "id": "MIgnEATzJi4I",
        "outputId": "ce9e88ef-ca69-438c-c504-b5011fd30a34"
      },
      "source": [
        "cont.head()"
      ],
      "execution_count": 4,
      "outputs": [
        {
          "output_type": "execute_result",
          "data": {
            "text/html": [
              "<div>\n",
              "<style scoped>\n",
              "    .dataframe tbody tr th:only-of-type {\n",
              "        vertical-align: middle;\n",
              "    }\n",
              "\n",
              "    .dataframe tbody tr th {\n",
              "        vertical-align: top;\n",
              "    }\n",
              "\n",
              "    .dataframe thead th {\n",
              "        text-align: right;\n",
              "    }\n",
              "</style>\n",
              "<table border=\"1\" class=\"dataframe\">\n",
              "  <thead>\n",
              "    <tr style=\"text-align: right;\">\n",
              "      <th></th>\n",
              "      <th>fecha reporte web</th>\n",
              "      <th>ID de caso</th>\n",
              "      <th>Fecha de notificación</th>\n",
              "      <th>Código DIVIPOLA departamento</th>\n",
              "      <th>Nombre departamento</th>\n",
              "      <th>Código DIVIPOLA municipio</th>\n",
              "      <th>Nombre municipio</th>\n",
              "      <th>Edad</th>\n",
              "      <th>Unidad de medida de edad</th>\n",
              "      <th>Sexo</th>\n",
              "      <th>Tipo de contagio</th>\n",
              "      <th>Ubicación del caso</th>\n",
              "      <th>Estado</th>\n",
              "      <th>Código ISO del país</th>\n",
              "      <th>Nombre del país</th>\n",
              "      <th>Recuperado</th>\n",
              "      <th>Fecha de inicio de síntomas</th>\n",
              "      <th>Fecha de muerte</th>\n",
              "      <th>Fecha de diagnóstico</th>\n",
              "      <th>Fecha de recuperación</th>\n",
              "      <th>Tipo de recuperación</th>\n",
              "      <th>Pertenencia étnica</th>\n",
              "      <th>Nombre del grupo étnico</th>\n",
              "    </tr>\n",
              "  </thead>\n",
              "  <tbody>\n",
              "    <tr>\n",
              "      <th>0</th>\n",
              "      <td>6/3/2020 0:00:00</td>\n",
              "      <td>1</td>\n",
              "      <td>2/3/2020 0:00:00</td>\n",
              "      <td>11</td>\n",
              "      <td>BOGOTA</td>\n",
              "      <td>11,001</td>\n",
              "      <td>BOGOTA</td>\n",
              "      <td>19</td>\n",
              "      <td>1</td>\n",
              "      <td>F</td>\n",
              "      <td>Importado</td>\n",
              "      <td>Casa</td>\n",
              "      <td>Leve</td>\n",
              "      <td>380.0</td>\n",
              "      <td>ITALIA</td>\n",
              "      <td>Recuperado</td>\n",
              "      <td>27/2/2020 0:00:00</td>\n",
              "      <td>NaN</td>\n",
              "      <td>6/3/2020 0:00:00</td>\n",
              "      <td>13/3/2020 0:00:00</td>\n",
              "      <td>PCR</td>\n",
              "      <td>6.0</td>\n",
              "      <td>NaN</td>\n",
              "    </tr>\n",
              "    <tr>\n",
              "      <th>1</th>\n",
              "      <td>11/3/2020 0:00:00</td>\n",
              "      <td>8</td>\n",
              "      <td>9/3/2020 0:00:00</td>\n",
              "      <td>11</td>\n",
              "      <td>BOGOTA</td>\n",
              "      <td>11,001</td>\n",
              "      <td>BOGOTA</td>\n",
              "      <td>22</td>\n",
              "      <td>1</td>\n",
              "      <td>F</td>\n",
              "      <td>Importado</td>\n",
              "      <td>Casa</td>\n",
              "      <td>Leve</td>\n",
              "      <td>724.0</td>\n",
              "      <td>ESPAÑA</td>\n",
              "      <td>Recuperado</td>\n",
              "      <td>6/3/2020 0:00:00</td>\n",
              "      <td>NaN</td>\n",
              "      <td>11/3/2020 0:00:00</td>\n",
              "      <td>21/3/2020 0:00:00</td>\n",
              "      <td>PCR</td>\n",
              "      <td>6.0</td>\n",
              "      <td>NaN</td>\n",
              "    </tr>\n",
              "    <tr>\n",
              "      <th>2</th>\n",
              "      <td>11/3/2020 0:00:00</td>\n",
              "      <td>9</td>\n",
              "      <td>8/3/2020 0:00:00</td>\n",
              "      <td>11</td>\n",
              "      <td>BOGOTA</td>\n",
              "      <td>11,001</td>\n",
              "      <td>BOGOTA</td>\n",
              "      <td>28</td>\n",
              "      <td>1</td>\n",
              "      <td>F</td>\n",
              "      <td>Importado</td>\n",
              "      <td>Casa</td>\n",
              "      <td>Leve</td>\n",
              "      <td>724.0</td>\n",
              "      <td>ESPAÑA</td>\n",
              "      <td>Recuperado</td>\n",
              "      <td>7/3/2020 0:00:00</td>\n",
              "      <td>NaN</td>\n",
              "      <td>11/3/2020 0:00:00</td>\n",
              "      <td>23/3/2020 0:00:00</td>\n",
              "      <td>PCR</td>\n",
              "      <td>6.0</td>\n",
              "      <td>NaN</td>\n",
              "    </tr>\n",
              "    <tr>\n",
              "      <th>3</th>\n",
              "      <td>12/3/2020 0:00:00</td>\n",
              "      <td>10</td>\n",
              "      <td>12/3/2020 0:00:00</td>\n",
              "      <td>11</td>\n",
              "      <td>BOGOTA</td>\n",
              "      <td>11,001</td>\n",
              "      <td>BOGOTA</td>\n",
              "      <td>36</td>\n",
              "      <td>1</td>\n",
              "      <td>F</td>\n",
              "      <td>Importado</td>\n",
              "      <td>Casa</td>\n",
              "      <td>Leve</td>\n",
              "      <td>724.0</td>\n",
              "      <td>ESPAÑA</td>\n",
              "      <td>Recuperado</td>\n",
              "      <td>6/3/2020 0:00:00</td>\n",
              "      <td>NaN</td>\n",
              "      <td>12/3/2020 0:00:00</td>\n",
              "      <td>21/3/2020 0:00:00</td>\n",
              "      <td>PCR</td>\n",
              "      <td>6.0</td>\n",
              "      <td>NaN</td>\n",
              "    </tr>\n",
              "    <tr>\n",
              "      <th>4</th>\n",
              "      <td>12/3/2020 0:00:00</td>\n",
              "      <td>11</td>\n",
              "      <td>11/3/2020 0:00:00</td>\n",
              "      <td>11</td>\n",
              "      <td>BOGOTA</td>\n",
              "      <td>11,001</td>\n",
              "      <td>BOGOTA</td>\n",
              "      <td>42</td>\n",
              "      <td>1</td>\n",
              "      <td>F</td>\n",
              "      <td>Importado</td>\n",
              "      <td>Casa</td>\n",
              "      <td>Leve</td>\n",
              "      <td>724.0</td>\n",
              "      <td>ESPAÑA</td>\n",
              "      <td>Recuperado</td>\n",
              "      <td>6/3/2020 0:00:00</td>\n",
              "      <td>NaN</td>\n",
              "      <td>12/3/2020 0:00:00</td>\n",
              "      <td>31/3/2020 0:00:00</td>\n",
              "      <td>PCR</td>\n",
              "      <td>6.0</td>\n",
              "      <td>NaN</td>\n",
              "    </tr>\n",
              "  </tbody>\n",
              "</table>\n",
              "</div>"
            ],
            "text/plain": [
              "   fecha reporte web ID de caso  ... Pertenencia étnica  Nombre del grupo étnico\n",
              "0   6/3/2020 0:00:00          1  ...                6.0                      NaN\n",
              "1  11/3/2020 0:00:00          8  ...                6.0                      NaN\n",
              "2  11/3/2020 0:00:00          9  ...                6.0                      NaN\n",
              "3  12/3/2020 0:00:00         10  ...                6.0                      NaN\n",
              "4  12/3/2020 0:00:00         11  ...                6.0                      NaN\n",
              "\n",
              "[5 rows x 23 columns]"
            ]
          },
          "metadata": {},
          "execution_count": 4
        }
      ]
    },
    {
      "cell_type": "code",
      "metadata": {
        "colab": {
          "base_uri": "https://localhost:8080/",
          "height": 686
        },
        "id": "iIPojAqFaCjl",
        "outputId": "7e4b48ca-0aea-4321-9e13-c5dd5249ed18"
      },
      "source": [
        "cont[cont['Fecha de diagnóstico'] == '22/11/2021 0:00:00']"
      ],
      "execution_count": 5,
      "outputs": [
        {
          "output_type": "execute_result",
          "data": {
            "text/html": [
              "<div>\n",
              "<style scoped>\n",
              "    .dataframe tbody tr th:only-of-type {\n",
              "        vertical-align: middle;\n",
              "    }\n",
              "\n",
              "    .dataframe tbody tr th {\n",
              "        vertical-align: top;\n",
              "    }\n",
              "\n",
              "    .dataframe thead th {\n",
              "        text-align: right;\n",
              "    }\n",
              "</style>\n",
              "<table border=\"1\" class=\"dataframe\">\n",
              "  <thead>\n",
              "    <tr style=\"text-align: right;\">\n",
              "      <th></th>\n",
              "      <th>fecha reporte web</th>\n",
              "      <th>ID de caso</th>\n",
              "      <th>Fecha de notificación</th>\n",
              "      <th>Código DIVIPOLA departamento</th>\n",
              "      <th>Nombre departamento</th>\n",
              "      <th>Código DIVIPOLA municipio</th>\n",
              "      <th>Nombre municipio</th>\n",
              "      <th>Edad</th>\n",
              "      <th>Unidad de medida de edad</th>\n",
              "      <th>Sexo</th>\n",
              "      <th>Tipo de contagio</th>\n",
              "      <th>Ubicación del caso</th>\n",
              "      <th>Estado</th>\n",
              "      <th>Código ISO del país</th>\n",
              "      <th>Nombre del país</th>\n",
              "      <th>Recuperado</th>\n",
              "      <th>Fecha de inicio de síntomas</th>\n",
              "      <th>Fecha de muerte</th>\n",
              "      <th>Fecha de diagnóstico</th>\n",
              "      <th>Fecha de recuperación</th>\n",
              "      <th>Tipo de recuperación</th>\n",
              "      <th>Pertenencia étnica</th>\n",
              "      <th>Nombre del grupo étnico</th>\n",
              "    </tr>\n",
              "  </thead>\n",
              "  <tbody>\n",
              "    <tr>\n",
              "      <th>1460570</th>\n",
              "      <td>23/11/2021 0:00:00</td>\n",
              "      <td>5,051,423</td>\n",
              "      <td>21/11/2021 0:00:00</td>\n",
              "      <td>11</td>\n",
              "      <td>BOGOTA</td>\n",
              "      <td>11,001</td>\n",
              "      <td>BOGOTA</td>\n",
              "      <td>19</td>\n",
              "      <td>1</td>\n",
              "      <td>M</td>\n",
              "      <td>En estudio</td>\n",
              "      <td>Hospital UCI</td>\n",
              "      <td>Grave</td>\n",
              "      <td>NaN</td>\n",
              "      <td>NaN</td>\n",
              "      <td>Activo</td>\n",
              "      <td>20/11/2021 0:00:00</td>\n",
              "      <td>NaN</td>\n",
              "      <td>22/11/2021 0:00:00</td>\n",
              "      <td>NaN</td>\n",
              "      <td>NaN</td>\n",
              "      <td>NaN</td>\n",
              "      <td>NaN</td>\n",
              "    </tr>\n",
              "    <tr>\n",
              "      <th>1460587</th>\n",
              "      <td>23/11/2021 0:00:00</td>\n",
              "      <td>5,051,497</td>\n",
              "      <td>21/11/2021 0:00:00</td>\n",
              "      <td>11</td>\n",
              "      <td>BOGOTA</td>\n",
              "      <td>11,001</td>\n",
              "      <td>BOGOTA</td>\n",
              "      <td>30</td>\n",
              "      <td>1</td>\n",
              "      <td>F</td>\n",
              "      <td>En estudio</td>\n",
              "      <td>Casa</td>\n",
              "      <td>Leve</td>\n",
              "      <td>NaN</td>\n",
              "      <td>NaN</td>\n",
              "      <td>Activo</td>\n",
              "      <td>NaN</td>\n",
              "      <td>NaN</td>\n",
              "      <td>22/11/2021 0:00:00</td>\n",
              "      <td>NaN</td>\n",
              "      <td>NaN</td>\n",
              "      <td>NaN</td>\n",
              "      <td>NaN</td>\n",
              "    </tr>\n",
              "    <tr>\n",
              "      <th>1460589</th>\n",
              "      <td>23/11/2021 0:00:00</td>\n",
              "      <td>5,051,499</td>\n",
              "      <td>20/11/2021 0:00:00</td>\n",
              "      <td>11</td>\n",
              "      <td>BOGOTA</td>\n",
              "      <td>11,001</td>\n",
              "      <td>BOGOTA</td>\n",
              "      <td>26</td>\n",
              "      <td>1</td>\n",
              "      <td>F</td>\n",
              "      <td>En estudio</td>\n",
              "      <td>Casa</td>\n",
              "      <td>Leve</td>\n",
              "      <td>NaN</td>\n",
              "      <td>NaN</td>\n",
              "      <td>Activo</td>\n",
              "      <td>11/11/2021 0:00:00</td>\n",
              "      <td>NaN</td>\n",
              "      <td>22/11/2021 0:00:00</td>\n",
              "      <td>NaN</td>\n",
              "      <td>NaN</td>\n",
              "      <td>NaN</td>\n",
              "      <td>NaN</td>\n",
              "    </tr>\n",
              "    <tr>\n",
              "      <th>1460600</th>\n",
              "      <td>23/11/2021 0:00:00</td>\n",
              "      <td>5,051,512</td>\n",
              "      <td>21/11/2021 0:00:00</td>\n",
              "      <td>11</td>\n",
              "      <td>BOGOTA</td>\n",
              "      <td>11,001</td>\n",
              "      <td>BOGOTA</td>\n",
              "      <td>27</td>\n",
              "      <td>1</td>\n",
              "      <td>F</td>\n",
              "      <td>En estudio</td>\n",
              "      <td>Casa</td>\n",
              "      <td>Leve</td>\n",
              "      <td>NaN</td>\n",
              "      <td>NaN</td>\n",
              "      <td>Activo</td>\n",
              "      <td>11/11/2021 0:00:00</td>\n",
              "      <td>NaN</td>\n",
              "      <td>22/11/2021 0:00:00</td>\n",
              "      <td>NaN</td>\n",
              "      <td>NaN</td>\n",
              "      <td>NaN</td>\n",
              "      <td>NaN</td>\n",
              "    </tr>\n",
              "    <tr>\n",
              "      <th>1460602</th>\n",
              "      <td>23/11/2021 0:00:00</td>\n",
              "      <td>5,051,514</td>\n",
              "      <td>20/11/2021 0:00:00</td>\n",
              "      <td>11</td>\n",
              "      <td>BOGOTA</td>\n",
              "      <td>11,001</td>\n",
              "      <td>BOGOTA</td>\n",
              "      <td>34</td>\n",
              "      <td>1</td>\n",
              "      <td>M</td>\n",
              "      <td>En estudio</td>\n",
              "      <td>Casa</td>\n",
              "      <td>Leve</td>\n",
              "      <td>NaN</td>\n",
              "      <td>NaN</td>\n",
              "      <td>Activo</td>\n",
              "      <td>NaN</td>\n",
              "      <td>NaN</td>\n",
              "      <td>22/11/2021 0:00:00</td>\n",
              "      <td>NaN</td>\n",
              "      <td>NaN</td>\n",
              "      <td>NaN</td>\n",
              "      <td>NaN</td>\n",
              "    </tr>\n",
              "    <tr>\n",
              "      <th>...</th>\n",
              "      <td>...</td>\n",
              "      <td>...</td>\n",
              "      <td>...</td>\n",
              "      <td>...</td>\n",
              "      <td>...</td>\n",
              "      <td>...</td>\n",
              "      <td>...</td>\n",
              "      <td>...</td>\n",
              "      <td>...</td>\n",
              "      <td>...</td>\n",
              "      <td>...</td>\n",
              "      <td>...</td>\n",
              "      <td>...</td>\n",
              "      <td>...</td>\n",
              "      <td>...</td>\n",
              "      <td>...</td>\n",
              "      <td>...</td>\n",
              "      <td>...</td>\n",
              "      <td>...</td>\n",
              "      <td>...</td>\n",
              "      <td>...</td>\n",
              "      <td>...</td>\n",
              "      <td>...</td>\n",
              "    </tr>\n",
              "    <tr>\n",
              "      <th>1461080</th>\n",
              "      <td>24/11/2021 0:00:00</td>\n",
              "      <td>5,055,235</td>\n",
              "      <td>21/11/2021 0:00:00</td>\n",
              "      <td>11</td>\n",
              "      <td>BOGOTA</td>\n",
              "      <td>11,001</td>\n",
              "      <td>BOGOTA</td>\n",
              "      <td>46</td>\n",
              "      <td>1</td>\n",
              "      <td>M</td>\n",
              "      <td>En estudio</td>\n",
              "      <td>Casa</td>\n",
              "      <td>Leve</td>\n",
              "      <td>NaN</td>\n",
              "      <td>NaN</td>\n",
              "      <td>Activo</td>\n",
              "      <td>NaN</td>\n",
              "      <td>NaN</td>\n",
              "      <td>22/11/2021 0:00:00</td>\n",
              "      <td>NaN</td>\n",
              "      <td>NaN</td>\n",
              "      <td>NaN</td>\n",
              "      <td>NaN</td>\n",
              "    </tr>\n",
              "    <tr>\n",
              "      <th>1461081</th>\n",
              "      <td>24/11/2021 0:00:00</td>\n",
              "      <td>5,055,249</td>\n",
              "      <td>22/11/2021 0:00:00</td>\n",
              "      <td>11</td>\n",
              "      <td>BOGOTA</td>\n",
              "      <td>11,001</td>\n",
              "      <td>BOGOTA</td>\n",
              "      <td>60</td>\n",
              "      <td>1</td>\n",
              "      <td>F</td>\n",
              "      <td>En estudio</td>\n",
              "      <td>Casa</td>\n",
              "      <td>Leve</td>\n",
              "      <td>NaN</td>\n",
              "      <td>NaN</td>\n",
              "      <td>Activo</td>\n",
              "      <td>NaN</td>\n",
              "      <td>NaN</td>\n",
              "      <td>22/11/2021 0:00:00</td>\n",
              "      <td>NaN</td>\n",
              "      <td>NaN</td>\n",
              "      <td>NaN</td>\n",
              "      <td>NaN</td>\n",
              "    </tr>\n",
              "    <tr>\n",
              "      <th>1461082</th>\n",
              "      <td>24/11/2021 0:00:00</td>\n",
              "      <td>5,055,275</td>\n",
              "      <td>21/11/2021 0:00:00</td>\n",
              "      <td>11</td>\n",
              "      <td>BOGOTA</td>\n",
              "      <td>11,001</td>\n",
              "      <td>BOGOTA</td>\n",
              "      <td>31</td>\n",
              "      <td>1</td>\n",
              "      <td>F</td>\n",
              "      <td>En estudio</td>\n",
              "      <td>Casa</td>\n",
              "      <td>Leve</td>\n",
              "      <td>NaN</td>\n",
              "      <td>NaN</td>\n",
              "      <td>Activo</td>\n",
              "      <td>NaN</td>\n",
              "      <td>NaN</td>\n",
              "      <td>22/11/2021 0:00:00</td>\n",
              "      <td>NaN</td>\n",
              "      <td>NaN</td>\n",
              "      <td>NaN</td>\n",
              "      <td>NaN</td>\n",
              "    </tr>\n",
              "    <tr>\n",
              "      <th>1461083</th>\n",
              "      <td>24/11/2021 0:00:00</td>\n",
              "      <td>5,055,276</td>\n",
              "      <td>22/11/2021 0:00:00</td>\n",
              "      <td>11</td>\n",
              "      <td>BOGOTA</td>\n",
              "      <td>11,001</td>\n",
              "      <td>BOGOTA</td>\n",
              "      <td>28</td>\n",
              "      <td>1</td>\n",
              "      <td>F</td>\n",
              "      <td>En estudio</td>\n",
              "      <td>Casa</td>\n",
              "      <td>Leve</td>\n",
              "      <td>NaN</td>\n",
              "      <td>NaN</td>\n",
              "      <td>Activo</td>\n",
              "      <td>NaN</td>\n",
              "      <td>NaN</td>\n",
              "      <td>22/11/2021 0:00:00</td>\n",
              "      <td>NaN</td>\n",
              "      <td>NaN</td>\n",
              "      <td>NaN</td>\n",
              "      <td>NaN</td>\n",
              "    </tr>\n",
              "    <tr>\n",
              "      <th>1461085</th>\n",
              "      <td>24/11/2021 0:00:00</td>\n",
              "      <td>5,055,280</td>\n",
              "      <td>19/11/2021 0:00:00</td>\n",
              "      <td>11</td>\n",
              "      <td>BOGOTA</td>\n",
              "      <td>11,001</td>\n",
              "      <td>BOGOTA</td>\n",
              "      <td>54</td>\n",
              "      <td>1</td>\n",
              "      <td>M</td>\n",
              "      <td>En estudio</td>\n",
              "      <td>Hospital</td>\n",
              "      <td>Moderado</td>\n",
              "      <td>NaN</td>\n",
              "      <td>NaN</td>\n",
              "      <td>Activo</td>\n",
              "      <td>18/11/2021 0:00:00</td>\n",
              "      <td>NaN</td>\n",
              "      <td>22/11/2021 0:00:00</td>\n",
              "      <td>NaN</td>\n",
              "      <td>NaN</td>\n",
              "      <td>NaN</td>\n",
              "      <td>NaN</td>\n",
              "    </tr>\n",
              "  </tbody>\n",
              "</table>\n",
              "<p>230 rows × 23 columns</p>\n",
              "</div>"
            ],
            "text/plain": [
              "          fecha reporte web  ... Nombre del grupo étnico\n",
              "1460570  23/11/2021 0:00:00  ...                     NaN\n",
              "1460587  23/11/2021 0:00:00  ...                     NaN\n",
              "1460589  23/11/2021 0:00:00  ...                     NaN\n",
              "1460600  23/11/2021 0:00:00  ...                     NaN\n",
              "1460602  23/11/2021 0:00:00  ...                     NaN\n",
              "...                     ...  ...                     ...\n",
              "1461080  24/11/2021 0:00:00  ...                     NaN\n",
              "1461081  24/11/2021 0:00:00  ...                     NaN\n",
              "1461082  24/11/2021 0:00:00  ...                     NaN\n",
              "1461083  24/11/2021 0:00:00  ...                     NaN\n",
              "1461085  24/11/2021 0:00:00  ...                     NaN\n",
              "\n",
              "[230 rows x 23 columns]"
            ]
          },
          "metadata": {},
          "execution_count": 5
        }
      ]
    },
    {
      "cell_type": "code",
      "metadata": {
        "colab": {
          "base_uri": "https://localhost:8080/",
          "height": 686
        },
        "id": "1JNm3jpMUUHY",
        "outputId": "dd311186-d561-4537-816d-4a107adc80df"
      },
      "source": [
        "nov_23 = cont[cont['Fecha de diagnóstico'] == '23/11/2021 0:00:00'].index\n",
        "cont2 = cont.drop(nov_23)\n",
        "cont2"
      ],
      "execution_count": 6,
      "outputs": [
        {
          "output_type": "execute_result",
          "data": {
            "text/html": [
              "<div>\n",
              "<style scoped>\n",
              "    .dataframe tbody tr th:only-of-type {\n",
              "        vertical-align: middle;\n",
              "    }\n",
              "\n",
              "    .dataframe tbody tr th {\n",
              "        vertical-align: top;\n",
              "    }\n",
              "\n",
              "    .dataframe thead th {\n",
              "        text-align: right;\n",
              "    }\n",
              "</style>\n",
              "<table border=\"1\" class=\"dataframe\">\n",
              "  <thead>\n",
              "    <tr style=\"text-align: right;\">\n",
              "      <th></th>\n",
              "      <th>fecha reporte web</th>\n",
              "      <th>ID de caso</th>\n",
              "      <th>Fecha de notificación</th>\n",
              "      <th>Código DIVIPOLA departamento</th>\n",
              "      <th>Nombre departamento</th>\n",
              "      <th>Código DIVIPOLA municipio</th>\n",
              "      <th>Nombre municipio</th>\n",
              "      <th>Edad</th>\n",
              "      <th>Unidad de medida de edad</th>\n",
              "      <th>Sexo</th>\n",
              "      <th>Tipo de contagio</th>\n",
              "      <th>Ubicación del caso</th>\n",
              "      <th>Estado</th>\n",
              "      <th>Código ISO del país</th>\n",
              "      <th>Nombre del país</th>\n",
              "      <th>Recuperado</th>\n",
              "      <th>Fecha de inicio de síntomas</th>\n",
              "      <th>Fecha de muerte</th>\n",
              "      <th>Fecha de diagnóstico</th>\n",
              "      <th>Fecha de recuperación</th>\n",
              "      <th>Tipo de recuperación</th>\n",
              "      <th>Pertenencia étnica</th>\n",
              "      <th>Nombre del grupo étnico</th>\n",
              "    </tr>\n",
              "  </thead>\n",
              "  <tbody>\n",
              "    <tr>\n",
              "      <th>0</th>\n",
              "      <td>6/3/2020 0:00:00</td>\n",
              "      <td>1</td>\n",
              "      <td>2/3/2020 0:00:00</td>\n",
              "      <td>11</td>\n",
              "      <td>BOGOTA</td>\n",
              "      <td>11,001</td>\n",
              "      <td>BOGOTA</td>\n",
              "      <td>19</td>\n",
              "      <td>1</td>\n",
              "      <td>F</td>\n",
              "      <td>Importado</td>\n",
              "      <td>Casa</td>\n",
              "      <td>Leve</td>\n",
              "      <td>380.0</td>\n",
              "      <td>ITALIA</td>\n",
              "      <td>Recuperado</td>\n",
              "      <td>27/2/2020 0:00:00</td>\n",
              "      <td>NaN</td>\n",
              "      <td>6/3/2020 0:00:00</td>\n",
              "      <td>13/3/2020 0:00:00</td>\n",
              "      <td>PCR</td>\n",
              "      <td>6.0</td>\n",
              "      <td>NaN</td>\n",
              "    </tr>\n",
              "    <tr>\n",
              "      <th>1</th>\n",
              "      <td>11/3/2020 0:00:00</td>\n",
              "      <td>8</td>\n",
              "      <td>9/3/2020 0:00:00</td>\n",
              "      <td>11</td>\n",
              "      <td>BOGOTA</td>\n",
              "      <td>11,001</td>\n",
              "      <td>BOGOTA</td>\n",
              "      <td>22</td>\n",
              "      <td>1</td>\n",
              "      <td>F</td>\n",
              "      <td>Importado</td>\n",
              "      <td>Casa</td>\n",
              "      <td>Leve</td>\n",
              "      <td>724.0</td>\n",
              "      <td>ESPAÑA</td>\n",
              "      <td>Recuperado</td>\n",
              "      <td>6/3/2020 0:00:00</td>\n",
              "      <td>NaN</td>\n",
              "      <td>11/3/2020 0:00:00</td>\n",
              "      <td>21/3/2020 0:00:00</td>\n",
              "      <td>PCR</td>\n",
              "      <td>6.0</td>\n",
              "      <td>NaN</td>\n",
              "    </tr>\n",
              "    <tr>\n",
              "      <th>2</th>\n",
              "      <td>11/3/2020 0:00:00</td>\n",
              "      <td>9</td>\n",
              "      <td>8/3/2020 0:00:00</td>\n",
              "      <td>11</td>\n",
              "      <td>BOGOTA</td>\n",
              "      <td>11,001</td>\n",
              "      <td>BOGOTA</td>\n",
              "      <td>28</td>\n",
              "      <td>1</td>\n",
              "      <td>F</td>\n",
              "      <td>Importado</td>\n",
              "      <td>Casa</td>\n",
              "      <td>Leve</td>\n",
              "      <td>724.0</td>\n",
              "      <td>ESPAÑA</td>\n",
              "      <td>Recuperado</td>\n",
              "      <td>7/3/2020 0:00:00</td>\n",
              "      <td>NaN</td>\n",
              "      <td>11/3/2020 0:00:00</td>\n",
              "      <td>23/3/2020 0:00:00</td>\n",
              "      <td>PCR</td>\n",
              "      <td>6.0</td>\n",
              "      <td>NaN</td>\n",
              "    </tr>\n",
              "    <tr>\n",
              "      <th>3</th>\n",
              "      <td>12/3/2020 0:00:00</td>\n",
              "      <td>10</td>\n",
              "      <td>12/3/2020 0:00:00</td>\n",
              "      <td>11</td>\n",
              "      <td>BOGOTA</td>\n",
              "      <td>11,001</td>\n",
              "      <td>BOGOTA</td>\n",
              "      <td>36</td>\n",
              "      <td>1</td>\n",
              "      <td>F</td>\n",
              "      <td>Importado</td>\n",
              "      <td>Casa</td>\n",
              "      <td>Leve</td>\n",
              "      <td>724.0</td>\n",
              "      <td>ESPAÑA</td>\n",
              "      <td>Recuperado</td>\n",
              "      <td>6/3/2020 0:00:00</td>\n",
              "      <td>NaN</td>\n",
              "      <td>12/3/2020 0:00:00</td>\n",
              "      <td>21/3/2020 0:00:00</td>\n",
              "      <td>PCR</td>\n",
              "      <td>6.0</td>\n",
              "      <td>NaN</td>\n",
              "    </tr>\n",
              "    <tr>\n",
              "      <th>4</th>\n",
              "      <td>12/3/2020 0:00:00</td>\n",
              "      <td>11</td>\n",
              "      <td>11/3/2020 0:00:00</td>\n",
              "      <td>11</td>\n",
              "      <td>BOGOTA</td>\n",
              "      <td>11,001</td>\n",
              "      <td>BOGOTA</td>\n",
              "      <td>42</td>\n",
              "      <td>1</td>\n",
              "      <td>F</td>\n",
              "      <td>Importado</td>\n",
              "      <td>Casa</td>\n",
              "      <td>Leve</td>\n",
              "      <td>724.0</td>\n",
              "      <td>ESPAÑA</td>\n",
              "      <td>Recuperado</td>\n",
              "      <td>6/3/2020 0:00:00</td>\n",
              "      <td>NaN</td>\n",
              "      <td>12/3/2020 0:00:00</td>\n",
              "      <td>31/3/2020 0:00:00</td>\n",
              "      <td>PCR</td>\n",
              "      <td>6.0</td>\n",
              "      <td>NaN</td>\n",
              "    </tr>\n",
              "    <tr>\n",
              "      <th>...</th>\n",
              "      <td>...</td>\n",
              "      <td>...</td>\n",
              "      <td>...</td>\n",
              "      <td>...</td>\n",
              "      <td>...</td>\n",
              "      <td>...</td>\n",
              "      <td>...</td>\n",
              "      <td>...</td>\n",
              "      <td>...</td>\n",
              "      <td>...</td>\n",
              "      <td>...</td>\n",
              "      <td>...</td>\n",
              "      <td>...</td>\n",
              "      <td>...</td>\n",
              "      <td>...</td>\n",
              "      <td>...</td>\n",
              "      <td>...</td>\n",
              "      <td>...</td>\n",
              "      <td>...</td>\n",
              "      <td>...</td>\n",
              "      <td>...</td>\n",
              "      <td>...</td>\n",
              "      <td>...</td>\n",
              "    </tr>\n",
              "    <tr>\n",
              "      <th>1461080</th>\n",
              "      <td>24/11/2021 0:00:00</td>\n",
              "      <td>5,055,235</td>\n",
              "      <td>21/11/2021 0:00:00</td>\n",
              "      <td>11</td>\n",
              "      <td>BOGOTA</td>\n",
              "      <td>11,001</td>\n",
              "      <td>BOGOTA</td>\n",
              "      <td>46</td>\n",
              "      <td>1</td>\n",
              "      <td>M</td>\n",
              "      <td>En estudio</td>\n",
              "      <td>Casa</td>\n",
              "      <td>Leve</td>\n",
              "      <td>NaN</td>\n",
              "      <td>NaN</td>\n",
              "      <td>Activo</td>\n",
              "      <td>NaN</td>\n",
              "      <td>NaN</td>\n",
              "      <td>22/11/2021 0:00:00</td>\n",
              "      <td>NaN</td>\n",
              "      <td>NaN</td>\n",
              "      <td>NaN</td>\n",
              "      <td>NaN</td>\n",
              "    </tr>\n",
              "    <tr>\n",
              "      <th>1461081</th>\n",
              "      <td>24/11/2021 0:00:00</td>\n",
              "      <td>5,055,249</td>\n",
              "      <td>22/11/2021 0:00:00</td>\n",
              "      <td>11</td>\n",
              "      <td>BOGOTA</td>\n",
              "      <td>11,001</td>\n",
              "      <td>BOGOTA</td>\n",
              "      <td>60</td>\n",
              "      <td>1</td>\n",
              "      <td>F</td>\n",
              "      <td>En estudio</td>\n",
              "      <td>Casa</td>\n",
              "      <td>Leve</td>\n",
              "      <td>NaN</td>\n",
              "      <td>NaN</td>\n",
              "      <td>Activo</td>\n",
              "      <td>NaN</td>\n",
              "      <td>NaN</td>\n",
              "      <td>22/11/2021 0:00:00</td>\n",
              "      <td>NaN</td>\n",
              "      <td>NaN</td>\n",
              "      <td>NaN</td>\n",
              "      <td>NaN</td>\n",
              "    </tr>\n",
              "    <tr>\n",
              "      <th>1461082</th>\n",
              "      <td>24/11/2021 0:00:00</td>\n",
              "      <td>5,055,275</td>\n",
              "      <td>21/11/2021 0:00:00</td>\n",
              "      <td>11</td>\n",
              "      <td>BOGOTA</td>\n",
              "      <td>11,001</td>\n",
              "      <td>BOGOTA</td>\n",
              "      <td>31</td>\n",
              "      <td>1</td>\n",
              "      <td>F</td>\n",
              "      <td>En estudio</td>\n",
              "      <td>Casa</td>\n",
              "      <td>Leve</td>\n",
              "      <td>NaN</td>\n",
              "      <td>NaN</td>\n",
              "      <td>Activo</td>\n",
              "      <td>NaN</td>\n",
              "      <td>NaN</td>\n",
              "      <td>22/11/2021 0:00:00</td>\n",
              "      <td>NaN</td>\n",
              "      <td>NaN</td>\n",
              "      <td>NaN</td>\n",
              "      <td>NaN</td>\n",
              "    </tr>\n",
              "    <tr>\n",
              "      <th>1461083</th>\n",
              "      <td>24/11/2021 0:00:00</td>\n",
              "      <td>5,055,276</td>\n",
              "      <td>22/11/2021 0:00:00</td>\n",
              "      <td>11</td>\n",
              "      <td>BOGOTA</td>\n",
              "      <td>11,001</td>\n",
              "      <td>BOGOTA</td>\n",
              "      <td>28</td>\n",
              "      <td>1</td>\n",
              "      <td>F</td>\n",
              "      <td>En estudio</td>\n",
              "      <td>Casa</td>\n",
              "      <td>Leve</td>\n",
              "      <td>NaN</td>\n",
              "      <td>NaN</td>\n",
              "      <td>Activo</td>\n",
              "      <td>NaN</td>\n",
              "      <td>NaN</td>\n",
              "      <td>22/11/2021 0:00:00</td>\n",
              "      <td>NaN</td>\n",
              "      <td>NaN</td>\n",
              "      <td>NaN</td>\n",
              "      <td>NaN</td>\n",
              "    </tr>\n",
              "    <tr>\n",
              "      <th>1461085</th>\n",
              "      <td>24/11/2021 0:00:00</td>\n",
              "      <td>5,055,280</td>\n",
              "      <td>19/11/2021 0:00:00</td>\n",
              "      <td>11</td>\n",
              "      <td>BOGOTA</td>\n",
              "      <td>11,001</td>\n",
              "      <td>BOGOTA</td>\n",
              "      <td>54</td>\n",
              "      <td>1</td>\n",
              "      <td>M</td>\n",
              "      <td>En estudio</td>\n",
              "      <td>Hospital</td>\n",
              "      <td>Moderado</td>\n",
              "      <td>NaN</td>\n",
              "      <td>NaN</td>\n",
              "      <td>Activo</td>\n",
              "      <td>18/11/2021 0:00:00</td>\n",
              "      <td>NaN</td>\n",
              "      <td>22/11/2021 0:00:00</td>\n",
              "      <td>NaN</td>\n",
              "      <td>NaN</td>\n",
              "      <td>NaN</td>\n",
              "      <td>NaN</td>\n",
              "    </tr>\n",
              "  </tbody>\n",
              "</table>\n",
              "<p>1461017 rows × 23 columns</p>\n",
              "</div>"
            ],
            "text/plain": [
              "          fecha reporte web  ... Nombre del grupo étnico\n",
              "0          6/3/2020 0:00:00  ...                     NaN\n",
              "1         11/3/2020 0:00:00  ...                     NaN\n",
              "2         11/3/2020 0:00:00  ...                     NaN\n",
              "3         12/3/2020 0:00:00  ...                     NaN\n",
              "4         12/3/2020 0:00:00  ...                     NaN\n",
              "...                     ...  ...                     ...\n",
              "1461080  24/11/2021 0:00:00  ...                     NaN\n",
              "1461081  24/11/2021 0:00:00  ...                     NaN\n",
              "1461082  24/11/2021 0:00:00  ...                     NaN\n",
              "1461083  24/11/2021 0:00:00  ...                     NaN\n",
              "1461085  24/11/2021 0:00:00  ...                     NaN\n",
              "\n",
              "[1461017 rows x 23 columns]"
            ]
          },
          "metadata": {},
          "execution_count": 6
        }
      ]
    },
    {
      "cell_type": "code",
      "metadata": {
        "id": "fUQkXWHm_zAy"
      },
      "source": [
        ""
      ],
      "execution_count": 6,
      "outputs": []
    },
    {
      "cell_type": "code",
      "metadata": {
        "colab": {
          "base_uri": "https://localhost:8080/"
        },
        "id": "BryIr2YXT8PI",
        "outputId": "a8be8666-2247-429d-f70b-ed81e8e662c2"
      },
      "source": [
        "cont.shape"
      ],
      "execution_count": 7,
      "outputs": [
        {
          "output_type": "execute_result",
          "data": {
            "text/plain": [
              "(1461086, 23)"
            ]
          },
          "metadata": {},
          "execution_count": 7
        }
      ]
    },
    {
      "cell_type": "code",
      "metadata": {
        "id": "DKQVIAAaakA-",
        "colab": {
          "base_uri": "https://localhost:8080/"
        },
        "outputId": "8195f618-2ff5-4bd6-889c-9b761164a08d"
      },
      "source": [
        "cont.info()"
      ],
      "execution_count": 8,
      "outputs": [
        {
          "output_type": "stream",
          "name": "stdout",
          "text": [
            "<class 'pandas.core.frame.DataFrame'>\n",
            "RangeIndex: 1461086 entries, 0 to 1461085\n",
            "Data columns (total 23 columns):\n",
            " #   Column                        Non-Null Count    Dtype  \n",
            "---  ------                        --------------    -----  \n",
            " 0   fecha reporte web             1461086 non-null  object \n",
            " 1   ID de caso                    1461086 non-null  object \n",
            " 2   Fecha de notificación         1461086 non-null  object \n",
            " 3   Código DIVIPOLA departamento  1461086 non-null  int64  \n",
            " 4   Nombre departamento           1461086 non-null  object \n",
            " 5   Código DIVIPOLA municipio     1461086 non-null  object \n",
            " 6   Nombre municipio              1461086 non-null  object \n",
            " 7   Edad                          1461086 non-null  int64  \n",
            " 8   Unidad de medida de edad      1461086 non-null  int64  \n",
            " 9   Sexo                          1461086 non-null  object \n",
            " 10  Tipo de contagio              1461086 non-null  object \n",
            " 11  Ubicación del caso            1456279 non-null  object \n",
            " 12  Estado                        1456279 non-null  object \n",
            " 13  Código ISO del país           939 non-null      float64\n",
            " 14  Nombre del país               939 non-null      object \n",
            " 15  Recuperado                    1457320 non-null  object \n",
            " 16  Fecha de inicio de síntomas   994015 non-null   object \n",
            " 17  Fecha de muerte               32527 non-null    object \n",
            " 18  Fecha de diagnóstico          1460862 non-null  object \n",
            " 19  Fecha de recuperación         1426800 non-null  object \n",
            " 20  Tipo de recuperación          1426800 non-null  object \n",
            " 21  Pertenencia étnica            1459298 non-null  float64\n",
            " 22  Nombre del grupo étnico       10348 non-null    object \n",
            "dtypes: float64(2), int64(3), object(18)\n",
            "memory usage: 256.4+ MB\n"
          ]
        }
      ]
    },
    {
      "cell_type": "code",
      "metadata": {
        "colab": {
          "base_uri": "https://localhost:8080/"
        },
        "id": "_H_tsxAdSP6o",
        "outputId": "3ea8f518-4fc3-442f-b09e-cf8c97d12bd8"
      },
      "source": [
        "cont.isna().sum()"
      ],
      "execution_count": 9,
      "outputs": [
        {
          "output_type": "execute_result",
          "data": {
            "text/plain": [
              "fecha reporte web                     0\n",
              "ID de caso                            0\n",
              "Fecha de notificación                 0\n",
              "Código DIVIPOLA departamento          0\n",
              "Nombre departamento                   0\n",
              "Código DIVIPOLA municipio             0\n",
              "Nombre municipio                      0\n",
              "Edad                                  0\n",
              "Unidad de medida de edad              0\n",
              "Sexo                                  0\n",
              "Tipo de contagio                      0\n",
              "Ubicación del caso                 4807\n",
              "Estado                             4807\n",
              "Código ISO del país             1460147\n",
              "Nombre del país                 1460147\n",
              "Recuperado                         3766\n",
              "Fecha de inicio de síntomas      467071\n",
              "Fecha de muerte                 1428559\n",
              "Fecha de diagnóstico                224\n",
              "Fecha de recuperación             34286\n",
              "Tipo de recuperación              34286\n",
              "Pertenencia étnica                 1788\n",
              "Nombre del grupo étnico         1450738\n",
              "dtype: int64"
            ]
          },
          "metadata": {},
          "execution_count": 9
        }
      ]
    },
    {
      "cell_type": "code",
      "metadata": {
        "id": "jXhGKT7dtvbQ",
        "colab": {
          "base_uri": "https://localhost:8080/"
        },
        "outputId": "f42450b4-3ea5-4795-a859-4fc4db9345a2"
      },
      "source": [
        "cont=cont.drop_duplicates()\n",
        "cont.shape"
      ],
      "execution_count": 11,
      "outputs": [
        {
          "output_type": "execute_result",
          "data": {
            "text/plain": [
              "(1461086, 23)"
            ]
          },
          "metadata": {},
          "execution_count": 11
        }
      ]
    },
    {
      "cell_type": "code",
      "metadata": {
        "colab": {
          "base_uri": "https://localhost:8080/"
        },
        "id": "KIEAkpD3TDPW",
        "outputId": "88d38990-376f-41a8-8b0f-5438164d3c0a"
      },
      "source": [
        "cont['Ubicación del caso'].value_counts()"
      ],
      "execution_count": 12,
      "outputs": [
        {
          "output_type": "execute_result",
          "data": {
            "text/plain": [
              "Casa            1427814\n",
              "Fallecido         27720\n",
              "casa                558\n",
              "Hospital             95\n",
              "Hospital UCI         92\n",
              "Name: Ubicación del caso, dtype: int64"
            ]
          },
          "metadata": {},
          "execution_count": 12
        }
      ]
    },
    {
      "cell_type": "code",
      "metadata": {
        "colab": {
          "base_uri": "https://localhost:8080/",
          "height": 423
        },
        "id": "cJM3_0BcV5Ju",
        "outputId": "2f589a3a-4687-411d-e6e4-52d7221546c7"
      },
      "source": [
        "cont[['Código ISO del país']]=cont[['Código ISO del país']].fillna('0').astype('str')\n",
        "cont[['Código ISO del país']]"
      ],
      "execution_count": 13,
      "outputs": [
        {
          "output_type": "execute_result",
          "data": {
            "text/html": [
              "<div>\n",
              "<style scoped>\n",
              "    .dataframe tbody tr th:only-of-type {\n",
              "        vertical-align: middle;\n",
              "    }\n",
              "\n",
              "    .dataframe tbody tr th {\n",
              "        vertical-align: top;\n",
              "    }\n",
              "\n",
              "    .dataframe thead th {\n",
              "        text-align: right;\n",
              "    }\n",
              "</style>\n",
              "<table border=\"1\" class=\"dataframe\">\n",
              "  <thead>\n",
              "    <tr style=\"text-align: right;\">\n",
              "      <th></th>\n",
              "      <th>Código ISO del país</th>\n",
              "    </tr>\n",
              "  </thead>\n",
              "  <tbody>\n",
              "    <tr>\n",
              "      <th>0</th>\n",
              "      <td>380.0</td>\n",
              "    </tr>\n",
              "    <tr>\n",
              "      <th>1</th>\n",
              "      <td>724.0</td>\n",
              "    </tr>\n",
              "    <tr>\n",
              "      <th>2</th>\n",
              "      <td>724.0</td>\n",
              "    </tr>\n",
              "    <tr>\n",
              "      <th>3</th>\n",
              "      <td>724.0</td>\n",
              "    </tr>\n",
              "    <tr>\n",
              "      <th>4</th>\n",
              "      <td>724.0</td>\n",
              "    </tr>\n",
              "    <tr>\n",
              "      <th>...</th>\n",
              "      <td>...</td>\n",
              "    </tr>\n",
              "    <tr>\n",
              "      <th>1461081</th>\n",
              "      <td>0</td>\n",
              "    </tr>\n",
              "    <tr>\n",
              "      <th>1461082</th>\n",
              "      <td>0</td>\n",
              "    </tr>\n",
              "    <tr>\n",
              "      <th>1461083</th>\n",
              "      <td>0</td>\n",
              "    </tr>\n",
              "    <tr>\n",
              "      <th>1461084</th>\n",
              "      <td>0</td>\n",
              "    </tr>\n",
              "    <tr>\n",
              "      <th>1461085</th>\n",
              "      <td>0</td>\n",
              "    </tr>\n",
              "  </tbody>\n",
              "</table>\n",
              "<p>1461086 rows × 1 columns</p>\n",
              "</div>"
            ],
            "text/plain": [
              "        Código ISO del país\n",
              "0                     380.0\n",
              "1                     724.0\n",
              "2                     724.0\n",
              "3                     724.0\n",
              "4                     724.0\n",
              "...                     ...\n",
              "1461081                   0\n",
              "1461082                   0\n",
              "1461083                   0\n",
              "1461084                   0\n",
              "1461085                   0\n",
              "\n",
              "[1461086 rows x 1 columns]"
            ]
          },
          "metadata": {},
          "execution_count": 13
        }
      ]
    },
    {
      "cell_type": "code",
      "metadata": {
        "colab": {
          "base_uri": "https://localhost:8080/",
          "height": 423
        },
        "id": "dNTeNaxdXsg9",
        "outputId": "6c75f22e-6afd-4334-a641-f1b6175bb1c8"
      },
      "source": [
        "cont[['Nombre del país']]=cont[['Nombre del país']].fillna('0').astype('str')\n",
        "cont[['Nombre del país']]"
      ],
      "execution_count": 14,
      "outputs": [
        {
          "output_type": "execute_result",
          "data": {
            "text/html": [
              "<div>\n",
              "<style scoped>\n",
              "    .dataframe tbody tr th:only-of-type {\n",
              "        vertical-align: middle;\n",
              "    }\n",
              "\n",
              "    .dataframe tbody tr th {\n",
              "        vertical-align: top;\n",
              "    }\n",
              "\n",
              "    .dataframe thead th {\n",
              "        text-align: right;\n",
              "    }\n",
              "</style>\n",
              "<table border=\"1\" class=\"dataframe\">\n",
              "  <thead>\n",
              "    <tr style=\"text-align: right;\">\n",
              "      <th></th>\n",
              "      <th>Nombre del país</th>\n",
              "    </tr>\n",
              "  </thead>\n",
              "  <tbody>\n",
              "    <tr>\n",
              "      <th>0</th>\n",
              "      <td>ITALIA</td>\n",
              "    </tr>\n",
              "    <tr>\n",
              "      <th>1</th>\n",
              "      <td>ESPAÑA</td>\n",
              "    </tr>\n",
              "    <tr>\n",
              "      <th>2</th>\n",
              "      <td>ESPAÑA</td>\n",
              "    </tr>\n",
              "    <tr>\n",
              "      <th>3</th>\n",
              "      <td>ESPAÑA</td>\n",
              "    </tr>\n",
              "    <tr>\n",
              "      <th>4</th>\n",
              "      <td>ESPAÑA</td>\n",
              "    </tr>\n",
              "    <tr>\n",
              "      <th>...</th>\n",
              "      <td>...</td>\n",
              "    </tr>\n",
              "    <tr>\n",
              "      <th>1461081</th>\n",
              "      <td>0</td>\n",
              "    </tr>\n",
              "    <tr>\n",
              "      <th>1461082</th>\n",
              "      <td>0</td>\n",
              "    </tr>\n",
              "    <tr>\n",
              "      <th>1461083</th>\n",
              "      <td>0</td>\n",
              "    </tr>\n",
              "    <tr>\n",
              "      <th>1461084</th>\n",
              "      <td>0</td>\n",
              "    </tr>\n",
              "    <tr>\n",
              "      <th>1461085</th>\n",
              "      <td>0</td>\n",
              "    </tr>\n",
              "  </tbody>\n",
              "</table>\n",
              "<p>1461086 rows × 1 columns</p>\n",
              "</div>"
            ],
            "text/plain": [
              "        Nombre del país\n",
              "0                ITALIA\n",
              "1                ESPAÑA\n",
              "2                ESPAÑA\n",
              "3                ESPAÑA\n",
              "4                ESPAÑA\n",
              "...                 ...\n",
              "1461081               0\n",
              "1461082               0\n",
              "1461083               0\n",
              "1461084               0\n",
              "1461085               0\n",
              "\n",
              "[1461086 rows x 1 columns]"
            ]
          },
          "metadata": {},
          "execution_count": 14
        }
      ]
    },
    {
      "cell_type": "code",
      "metadata": {
        "colab": {
          "base_uri": "https://localhost:8080/",
          "height": 423
        },
        "id": "DwA-Wu-UZBfv",
        "outputId": "8e29dbdb-e036-4451-ae89-3ac8b3d80732"
      },
      "source": [
        "cont[['Fecha de inicio de síntomas']]=cont[['Fecha de inicio de síntomas']].fillna('NaN').astype('str')\n",
        "cont[['Fecha de inicio de síntomas']]= cont['Fecha de inicio de síntomas'].str[:-7]\n",
        "cont[['Fecha de inicio de síntomas']]"
      ],
      "execution_count": 15,
      "outputs": [
        {
          "output_type": "execute_result",
          "data": {
            "text/html": [
              "<div>\n",
              "<style scoped>\n",
              "    .dataframe tbody tr th:only-of-type {\n",
              "        vertical-align: middle;\n",
              "    }\n",
              "\n",
              "    .dataframe tbody tr th {\n",
              "        vertical-align: top;\n",
              "    }\n",
              "\n",
              "    .dataframe thead th {\n",
              "        text-align: right;\n",
              "    }\n",
              "</style>\n",
              "<table border=\"1\" class=\"dataframe\">\n",
              "  <thead>\n",
              "    <tr style=\"text-align: right;\">\n",
              "      <th></th>\n",
              "      <th>Fecha de inicio de síntomas</th>\n",
              "    </tr>\n",
              "  </thead>\n",
              "  <tbody>\n",
              "    <tr>\n",
              "      <th>0</th>\n",
              "      <td>27/2/2020</td>\n",
              "    </tr>\n",
              "    <tr>\n",
              "      <th>1</th>\n",
              "      <td>6/3/2020</td>\n",
              "    </tr>\n",
              "    <tr>\n",
              "      <th>2</th>\n",
              "      <td>7/3/2020</td>\n",
              "    </tr>\n",
              "    <tr>\n",
              "      <th>3</th>\n",
              "      <td>6/3/2020</td>\n",
              "    </tr>\n",
              "    <tr>\n",
              "      <th>4</th>\n",
              "      <td>6/3/2020</td>\n",
              "    </tr>\n",
              "    <tr>\n",
              "      <th>...</th>\n",
              "      <td>...</td>\n",
              "    </tr>\n",
              "    <tr>\n",
              "      <th>1461081</th>\n",
              "      <td></td>\n",
              "    </tr>\n",
              "    <tr>\n",
              "      <th>1461082</th>\n",
              "      <td></td>\n",
              "    </tr>\n",
              "    <tr>\n",
              "      <th>1461083</th>\n",
              "      <td></td>\n",
              "    </tr>\n",
              "    <tr>\n",
              "      <th>1461084</th>\n",
              "      <td></td>\n",
              "    </tr>\n",
              "    <tr>\n",
              "      <th>1461085</th>\n",
              "      <td>18/11/2021</td>\n",
              "    </tr>\n",
              "  </tbody>\n",
              "</table>\n",
              "<p>1461086 rows × 1 columns</p>\n",
              "</div>"
            ],
            "text/plain": [
              "        Fecha de inicio de síntomas\n",
              "0                        27/2/2020 \n",
              "1                         6/3/2020 \n",
              "2                         7/3/2020 \n",
              "3                         6/3/2020 \n",
              "4                         6/3/2020 \n",
              "...                             ...\n",
              "1461081                            \n",
              "1461082                            \n",
              "1461083                            \n",
              "1461084                            \n",
              "1461085                 18/11/2021 \n",
              "\n",
              "[1461086 rows x 1 columns]"
            ]
          },
          "metadata": {},
          "execution_count": 15
        }
      ]
    },
    {
      "cell_type": "code",
      "metadata": {
        "colab": {
          "base_uri": "https://localhost:8080/",
          "height": 423
        },
        "id": "FK60EIWAZB7C",
        "outputId": "122d5035-5b45-4eb1-c151-418a1f831f86"
      },
      "source": [
        "cont[['Fecha de muerte']]=cont[['Fecha de muerte']].fillna('0').astype('str')\n",
        "cont[['Fecha de muerte']]"
      ],
      "execution_count": 16,
      "outputs": [
        {
          "output_type": "execute_result",
          "data": {
            "text/html": [
              "<div>\n",
              "<style scoped>\n",
              "    .dataframe tbody tr th:only-of-type {\n",
              "        vertical-align: middle;\n",
              "    }\n",
              "\n",
              "    .dataframe tbody tr th {\n",
              "        vertical-align: top;\n",
              "    }\n",
              "\n",
              "    .dataframe thead th {\n",
              "        text-align: right;\n",
              "    }\n",
              "</style>\n",
              "<table border=\"1\" class=\"dataframe\">\n",
              "  <thead>\n",
              "    <tr style=\"text-align: right;\">\n",
              "      <th></th>\n",
              "      <th>Fecha de muerte</th>\n",
              "    </tr>\n",
              "  </thead>\n",
              "  <tbody>\n",
              "    <tr>\n",
              "      <th>0</th>\n",
              "      <td>0</td>\n",
              "    </tr>\n",
              "    <tr>\n",
              "      <th>1</th>\n",
              "      <td>0</td>\n",
              "    </tr>\n",
              "    <tr>\n",
              "      <th>2</th>\n",
              "      <td>0</td>\n",
              "    </tr>\n",
              "    <tr>\n",
              "      <th>3</th>\n",
              "      <td>0</td>\n",
              "    </tr>\n",
              "    <tr>\n",
              "      <th>4</th>\n",
              "      <td>0</td>\n",
              "    </tr>\n",
              "    <tr>\n",
              "      <th>...</th>\n",
              "      <td>...</td>\n",
              "    </tr>\n",
              "    <tr>\n",
              "      <th>1461081</th>\n",
              "      <td>0</td>\n",
              "    </tr>\n",
              "    <tr>\n",
              "      <th>1461082</th>\n",
              "      <td>0</td>\n",
              "    </tr>\n",
              "    <tr>\n",
              "      <th>1461083</th>\n",
              "      <td>0</td>\n",
              "    </tr>\n",
              "    <tr>\n",
              "      <th>1461084</th>\n",
              "      <td>0</td>\n",
              "    </tr>\n",
              "    <tr>\n",
              "      <th>1461085</th>\n",
              "      <td>0</td>\n",
              "    </tr>\n",
              "  </tbody>\n",
              "</table>\n",
              "<p>1461086 rows × 1 columns</p>\n",
              "</div>"
            ],
            "text/plain": [
              "        Fecha de muerte\n",
              "0                     0\n",
              "1                     0\n",
              "2                     0\n",
              "3                     0\n",
              "4                     0\n",
              "...                 ...\n",
              "1461081               0\n",
              "1461082               0\n",
              "1461083               0\n",
              "1461084               0\n",
              "1461085               0\n",
              "\n",
              "[1461086 rows x 1 columns]"
            ]
          },
          "metadata": {},
          "execution_count": 16
        }
      ]
    },
    {
      "cell_type": "code",
      "metadata": {
        "colab": {
          "base_uri": "https://localhost:8080/",
          "height": 423
        },
        "id": "LGycEzBrZCQU",
        "outputId": "4e968a9b-f332-4b73-a64d-4cc7f0885086"
      },
      "source": [
        "cont[['Nombre del grupo étnico']]=cont[['Nombre del grupo étnico']].fillna('0').astype('str')\n",
        "cont[['Nombre del grupo étnico']]"
      ],
      "execution_count": 17,
      "outputs": [
        {
          "output_type": "execute_result",
          "data": {
            "text/html": [
              "<div>\n",
              "<style scoped>\n",
              "    .dataframe tbody tr th:only-of-type {\n",
              "        vertical-align: middle;\n",
              "    }\n",
              "\n",
              "    .dataframe tbody tr th {\n",
              "        vertical-align: top;\n",
              "    }\n",
              "\n",
              "    .dataframe thead th {\n",
              "        text-align: right;\n",
              "    }\n",
              "</style>\n",
              "<table border=\"1\" class=\"dataframe\">\n",
              "  <thead>\n",
              "    <tr style=\"text-align: right;\">\n",
              "      <th></th>\n",
              "      <th>Nombre del grupo étnico</th>\n",
              "    </tr>\n",
              "  </thead>\n",
              "  <tbody>\n",
              "    <tr>\n",
              "      <th>0</th>\n",
              "      <td>0</td>\n",
              "    </tr>\n",
              "    <tr>\n",
              "      <th>1</th>\n",
              "      <td>0</td>\n",
              "    </tr>\n",
              "    <tr>\n",
              "      <th>2</th>\n",
              "      <td>0</td>\n",
              "    </tr>\n",
              "    <tr>\n",
              "      <th>3</th>\n",
              "      <td>0</td>\n",
              "    </tr>\n",
              "    <tr>\n",
              "      <th>4</th>\n",
              "      <td>0</td>\n",
              "    </tr>\n",
              "    <tr>\n",
              "      <th>...</th>\n",
              "      <td>...</td>\n",
              "    </tr>\n",
              "    <tr>\n",
              "      <th>1461081</th>\n",
              "      <td>0</td>\n",
              "    </tr>\n",
              "    <tr>\n",
              "      <th>1461082</th>\n",
              "      <td>0</td>\n",
              "    </tr>\n",
              "    <tr>\n",
              "      <th>1461083</th>\n",
              "      <td>0</td>\n",
              "    </tr>\n",
              "    <tr>\n",
              "      <th>1461084</th>\n",
              "      <td>0</td>\n",
              "    </tr>\n",
              "    <tr>\n",
              "      <th>1461085</th>\n",
              "      <td>0</td>\n",
              "    </tr>\n",
              "  </tbody>\n",
              "</table>\n",
              "<p>1461086 rows × 1 columns</p>\n",
              "</div>"
            ],
            "text/plain": [
              "        Nombre del grupo étnico\n",
              "0                             0\n",
              "1                             0\n",
              "2                             0\n",
              "3                             0\n",
              "4                             0\n",
              "...                         ...\n",
              "1461081                       0\n",
              "1461082                       0\n",
              "1461083                       0\n",
              "1461084                       0\n",
              "1461085                       0\n",
              "\n",
              "[1461086 rows x 1 columns]"
            ]
          },
          "metadata": {},
          "execution_count": 17
        }
      ]
    },
    {
      "cell_type": "code",
      "metadata": {
        "colab": {
          "base_uri": "https://localhost:8080/",
          "height": 382
        },
        "id": "Nd7-WwouY5HL",
        "outputId": "1d45afc8-b290-4b5c-ef61-64a1700f1c39"
      },
      "source": [
        "cont=cont.dropna()\n",
        "cont.head()"
      ],
      "execution_count": 18,
      "outputs": [
        {
          "output_type": "execute_result",
          "data": {
            "text/html": [
              "<div>\n",
              "<style scoped>\n",
              "    .dataframe tbody tr th:only-of-type {\n",
              "        vertical-align: middle;\n",
              "    }\n",
              "\n",
              "    .dataframe tbody tr th {\n",
              "        vertical-align: top;\n",
              "    }\n",
              "\n",
              "    .dataframe thead th {\n",
              "        text-align: right;\n",
              "    }\n",
              "</style>\n",
              "<table border=\"1\" class=\"dataframe\">\n",
              "  <thead>\n",
              "    <tr style=\"text-align: right;\">\n",
              "      <th></th>\n",
              "      <th>fecha reporte web</th>\n",
              "      <th>ID de caso</th>\n",
              "      <th>Fecha de notificación</th>\n",
              "      <th>Código DIVIPOLA departamento</th>\n",
              "      <th>Nombre departamento</th>\n",
              "      <th>Código DIVIPOLA municipio</th>\n",
              "      <th>Nombre municipio</th>\n",
              "      <th>Edad</th>\n",
              "      <th>Unidad de medida de edad</th>\n",
              "      <th>Sexo</th>\n",
              "      <th>Tipo de contagio</th>\n",
              "      <th>Ubicación del caso</th>\n",
              "      <th>Estado</th>\n",
              "      <th>Código ISO del país</th>\n",
              "      <th>Nombre del país</th>\n",
              "      <th>Recuperado</th>\n",
              "      <th>Fecha de inicio de síntomas</th>\n",
              "      <th>Fecha de muerte</th>\n",
              "      <th>Fecha de diagnóstico</th>\n",
              "      <th>Fecha de recuperación</th>\n",
              "      <th>Tipo de recuperación</th>\n",
              "      <th>Pertenencia étnica</th>\n",
              "      <th>Nombre del grupo étnico</th>\n",
              "    </tr>\n",
              "  </thead>\n",
              "  <tbody>\n",
              "    <tr>\n",
              "      <th>0</th>\n",
              "      <td>6/3/2020 0:00:00</td>\n",
              "      <td>1</td>\n",
              "      <td>2/3/2020 0:00:00</td>\n",
              "      <td>11</td>\n",
              "      <td>BOGOTA</td>\n",
              "      <td>11,001</td>\n",
              "      <td>BOGOTA</td>\n",
              "      <td>19</td>\n",
              "      <td>1</td>\n",
              "      <td>F</td>\n",
              "      <td>Importado</td>\n",
              "      <td>Casa</td>\n",
              "      <td>Leve</td>\n",
              "      <td>380.0</td>\n",
              "      <td>ITALIA</td>\n",
              "      <td>Recuperado</td>\n",
              "      <td>27/2/2020</td>\n",
              "      <td>0</td>\n",
              "      <td>6/3/2020 0:00:00</td>\n",
              "      <td>13/3/2020 0:00:00</td>\n",
              "      <td>PCR</td>\n",
              "      <td>6.0</td>\n",
              "      <td>0</td>\n",
              "    </tr>\n",
              "    <tr>\n",
              "      <th>1</th>\n",
              "      <td>11/3/2020 0:00:00</td>\n",
              "      <td>8</td>\n",
              "      <td>9/3/2020 0:00:00</td>\n",
              "      <td>11</td>\n",
              "      <td>BOGOTA</td>\n",
              "      <td>11,001</td>\n",
              "      <td>BOGOTA</td>\n",
              "      <td>22</td>\n",
              "      <td>1</td>\n",
              "      <td>F</td>\n",
              "      <td>Importado</td>\n",
              "      <td>Casa</td>\n",
              "      <td>Leve</td>\n",
              "      <td>724.0</td>\n",
              "      <td>ESPAÑA</td>\n",
              "      <td>Recuperado</td>\n",
              "      <td>6/3/2020</td>\n",
              "      <td>0</td>\n",
              "      <td>11/3/2020 0:00:00</td>\n",
              "      <td>21/3/2020 0:00:00</td>\n",
              "      <td>PCR</td>\n",
              "      <td>6.0</td>\n",
              "      <td>0</td>\n",
              "    </tr>\n",
              "    <tr>\n",
              "      <th>2</th>\n",
              "      <td>11/3/2020 0:00:00</td>\n",
              "      <td>9</td>\n",
              "      <td>8/3/2020 0:00:00</td>\n",
              "      <td>11</td>\n",
              "      <td>BOGOTA</td>\n",
              "      <td>11,001</td>\n",
              "      <td>BOGOTA</td>\n",
              "      <td>28</td>\n",
              "      <td>1</td>\n",
              "      <td>F</td>\n",
              "      <td>Importado</td>\n",
              "      <td>Casa</td>\n",
              "      <td>Leve</td>\n",
              "      <td>724.0</td>\n",
              "      <td>ESPAÑA</td>\n",
              "      <td>Recuperado</td>\n",
              "      <td>7/3/2020</td>\n",
              "      <td>0</td>\n",
              "      <td>11/3/2020 0:00:00</td>\n",
              "      <td>23/3/2020 0:00:00</td>\n",
              "      <td>PCR</td>\n",
              "      <td>6.0</td>\n",
              "      <td>0</td>\n",
              "    </tr>\n",
              "    <tr>\n",
              "      <th>3</th>\n",
              "      <td>12/3/2020 0:00:00</td>\n",
              "      <td>10</td>\n",
              "      <td>12/3/2020 0:00:00</td>\n",
              "      <td>11</td>\n",
              "      <td>BOGOTA</td>\n",
              "      <td>11,001</td>\n",
              "      <td>BOGOTA</td>\n",
              "      <td>36</td>\n",
              "      <td>1</td>\n",
              "      <td>F</td>\n",
              "      <td>Importado</td>\n",
              "      <td>Casa</td>\n",
              "      <td>Leve</td>\n",
              "      <td>724.0</td>\n",
              "      <td>ESPAÑA</td>\n",
              "      <td>Recuperado</td>\n",
              "      <td>6/3/2020</td>\n",
              "      <td>0</td>\n",
              "      <td>12/3/2020 0:00:00</td>\n",
              "      <td>21/3/2020 0:00:00</td>\n",
              "      <td>PCR</td>\n",
              "      <td>6.0</td>\n",
              "      <td>0</td>\n",
              "    </tr>\n",
              "    <tr>\n",
              "      <th>4</th>\n",
              "      <td>12/3/2020 0:00:00</td>\n",
              "      <td>11</td>\n",
              "      <td>11/3/2020 0:00:00</td>\n",
              "      <td>11</td>\n",
              "      <td>BOGOTA</td>\n",
              "      <td>11,001</td>\n",
              "      <td>BOGOTA</td>\n",
              "      <td>42</td>\n",
              "      <td>1</td>\n",
              "      <td>F</td>\n",
              "      <td>Importado</td>\n",
              "      <td>Casa</td>\n",
              "      <td>Leve</td>\n",
              "      <td>724.0</td>\n",
              "      <td>ESPAÑA</td>\n",
              "      <td>Recuperado</td>\n",
              "      <td>6/3/2020</td>\n",
              "      <td>0</td>\n",
              "      <td>12/3/2020 0:00:00</td>\n",
              "      <td>31/3/2020 0:00:00</td>\n",
              "      <td>PCR</td>\n",
              "      <td>6.0</td>\n",
              "      <td>0</td>\n",
              "    </tr>\n",
              "  </tbody>\n",
              "</table>\n",
              "</div>"
            ],
            "text/plain": [
              "   fecha reporte web ID de caso  ... Pertenencia étnica  Nombre del grupo étnico\n",
              "0   6/3/2020 0:00:00          1  ...                6.0                        0\n",
              "1  11/3/2020 0:00:00          8  ...                6.0                        0\n",
              "2  11/3/2020 0:00:00          9  ...                6.0                        0\n",
              "3  12/3/2020 0:00:00         10  ...                6.0                        0\n",
              "4  12/3/2020 0:00:00         11  ...                6.0                        0\n",
              "\n",
              "[5 rows x 23 columns]"
            ]
          },
          "metadata": {},
          "execution_count": 18
        }
      ]
    },
    {
      "cell_type": "code",
      "metadata": {
        "colab": {
          "base_uri": "https://localhost:8080/",
          "height": 382
        },
        "id": "X9tDR6NtKcIK",
        "outputId": "d480b4ea-e31a-4102-c84e-0e8bdd0cf06f"
      },
      "source": [
        "cont.tail()"
      ],
      "execution_count": 19,
      "outputs": [
        {
          "output_type": "execute_result",
          "data": {
            "text/html": [
              "<div>\n",
              "<style scoped>\n",
              "    .dataframe tbody tr th:only-of-type {\n",
              "        vertical-align: middle;\n",
              "    }\n",
              "\n",
              "    .dataframe tbody tr th {\n",
              "        vertical-align: top;\n",
              "    }\n",
              "\n",
              "    .dataframe thead th {\n",
              "        text-align: right;\n",
              "    }\n",
              "</style>\n",
              "<table border=\"1\" class=\"dataframe\">\n",
              "  <thead>\n",
              "    <tr style=\"text-align: right;\">\n",
              "      <th></th>\n",
              "      <th>fecha reporte web</th>\n",
              "      <th>ID de caso</th>\n",
              "      <th>Fecha de notificación</th>\n",
              "      <th>Código DIVIPOLA departamento</th>\n",
              "      <th>Nombre departamento</th>\n",
              "      <th>Código DIVIPOLA municipio</th>\n",
              "      <th>Nombre municipio</th>\n",
              "      <th>Edad</th>\n",
              "      <th>Unidad de medida de edad</th>\n",
              "      <th>Sexo</th>\n",
              "      <th>Tipo de contagio</th>\n",
              "      <th>Ubicación del caso</th>\n",
              "      <th>Estado</th>\n",
              "      <th>Código ISO del país</th>\n",
              "      <th>Nombre del país</th>\n",
              "      <th>Recuperado</th>\n",
              "      <th>Fecha de inicio de síntomas</th>\n",
              "      <th>Fecha de muerte</th>\n",
              "      <th>Fecha de diagnóstico</th>\n",
              "      <th>Fecha de recuperación</th>\n",
              "      <th>Tipo de recuperación</th>\n",
              "      <th>Pertenencia étnica</th>\n",
              "      <th>Nombre del grupo étnico</th>\n",
              "    </tr>\n",
              "  </thead>\n",
              "  <tbody>\n",
              "    <tr>\n",
              "      <th>1459217</th>\n",
              "      <td>18/11/2021 0:00:00</td>\n",
              "      <td>5,039,419</td>\n",
              "      <td>13/11/2021 0:00:00</td>\n",
              "      <td>11</td>\n",
              "      <td>BOGOTA</td>\n",
              "      <td>11,001</td>\n",
              "      <td>BOGOTA</td>\n",
              "      <td>49</td>\n",
              "      <td>1</td>\n",
              "      <td>M</td>\n",
              "      <td>En estudio</td>\n",
              "      <td>Casa</td>\n",
              "      <td>Leve</td>\n",
              "      <td>0</td>\n",
              "      <td>0</td>\n",
              "      <td>Recuperado</td>\n",
              "      <td>8/11/2021</td>\n",
              "      <td>0</td>\n",
              "      <td>16/11/2021 0:00:00</td>\n",
              "      <td>22/11/2021 0:00:00</td>\n",
              "      <td>Tiempo</td>\n",
              "      <td>6.0</td>\n",
              "      <td>0</td>\n",
              "    </tr>\n",
              "    <tr>\n",
              "      <th>1459228</th>\n",
              "      <td>18/11/2021 0:00:00</td>\n",
              "      <td>5,039,430</td>\n",
              "      <td>15/11/2021 0:00:00</td>\n",
              "      <td>11</td>\n",
              "      <td>BOGOTA</td>\n",
              "      <td>11,001</td>\n",
              "      <td>BOGOTA</td>\n",
              "      <td>69</td>\n",
              "      <td>1</td>\n",
              "      <td>F</td>\n",
              "      <td>En estudio</td>\n",
              "      <td>Casa</td>\n",
              "      <td>Leve</td>\n",
              "      <td>0</td>\n",
              "      <td>0</td>\n",
              "      <td>Recuperado</td>\n",
              "      <td>6/11/2021</td>\n",
              "      <td>0</td>\n",
              "      <td>16/11/2021 0:00:00</td>\n",
              "      <td>20/11/2021 0:00:00</td>\n",
              "      <td>Tiempo</td>\n",
              "      <td>6.0</td>\n",
              "      <td>0</td>\n",
              "    </tr>\n",
              "    <tr>\n",
              "      <th>1459231</th>\n",
              "      <td>18/11/2021 0:00:00</td>\n",
              "      <td>5,039,433</td>\n",
              "      <td>15/11/2021 0:00:00</td>\n",
              "      <td>11</td>\n",
              "      <td>BOGOTA</td>\n",
              "      <td>11,001</td>\n",
              "      <td>BOGOTA</td>\n",
              "      <td>40</td>\n",
              "      <td>1</td>\n",
              "      <td>M</td>\n",
              "      <td>En estudio</td>\n",
              "      <td>Casa</td>\n",
              "      <td>Leve</td>\n",
              "      <td>0</td>\n",
              "      <td>0</td>\n",
              "      <td>Recuperado</td>\n",
              "      <td>9/11/2021</td>\n",
              "      <td>0</td>\n",
              "      <td>16/11/2021 0:00:00</td>\n",
              "      <td>23/11/2021 0:00:00</td>\n",
              "      <td>Tiempo</td>\n",
              "      <td>6.0</td>\n",
              "      <td>0</td>\n",
              "    </tr>\n",
              "    <tr>\n",
              "      <th>1459251</th>\n",
              "      <td>18/11/2021 0:00:00</td>\n",
              "      <td>5,039,453</td>\n",
              "      <td>16/11/2021 0:00:00</td>\n",
              "      <td>11</td>\n",
              "      <td>BOGOTA</td>\n",
              "      <td>11,001</td>\n",
              "      <td>BOGOTA</td>\n",
              "      <td>31</td>\n",
              "      <td>1</td>\n",
              "      <td>F</td>\n",
              "      <td>En estudio</td>\n",
              "      <td>Casa</td>\n",
              "      <td>Leve</td>\n",
              "      <td>0</td>\n",
              "      <td>0</td>\n",
              "      <td>Recuperado</td>\n",
              "      <td></td>\n",
              "      <td>0</td>\n",
              "      <td>16/11/2021 0:00:00</td>\n",
              "      <td>20/11/2021 0:00:00</td>\n",
              "      <td>PCR</td>\n",
              "      <td>6.0</td>\n",
              "      <td>0</td>\n",
              "    </tr>\n",
              "    <tr>\n",
              "      <th>1459274</th>\n",
              "      <td>18/11/2021 0:00:00</td>\n",
              "      <td>5,039,476</td>\n",
              "      <td>13/11/2021 0:00:00</td>\n",
              "      <td>11</td>\n",
              "      <td>BOGOTA</td>\n",
              "      <td>11,001</td>\n",
              "      <td>BOGOTA</td>\n",
              "      <td>7</td>\n",
              "      <td>1</td>\n",
              "      <td>M</td>\n",
              "      <td>En estudio</td>\n",
              "      <td>Casa</td>\n",
              "      <td>Leve</td>\n",
              "      <td>0</td>\n",
              "      <td>0</td>\n",
              "      <td>Recuperado</td>\n",
              "      <td></td>\n",
              "      <td>0</td>\n",
              "      <td>13/11/2021 0:00:00</td>\n",
              "      <td>20/11/2021 0:00:00</td>\n",
              "      <td>PCR</td>\n",
              "      <td>6.0</td>\n",
              "      <td>0</td>\n",
              "    </tr>\n",
              "  </tbody>\n",
              "</table>\n",
              "</div>"
            ],
            "text/plain": [
              "          fecha reporte web  ... Nombre del grupo étnico\n",
              "1459217  18/11/2021 0:00:00  ...                       0\n",
              "1459228  18/11/2021 0:00:00  ...                       0\n",
              "1459231  18/11/2021 0:00:00  ...                       0\n",
              "1459251  18/11/2021 0:00:00  ...                       0\n",
              "1459274  18/11/2021 0:00:00  ...                       0\n",
              "\n",
              "[5 rows x 23 columns]"
            ]
          },
          "metadata": {},
          "execution_count": 19
        }
      ]
    },
    {
      "cell_type": "code",
      "metadata": {
        "id": "hRbyNxjEb0fW",
        "colab": {
          "base_uri": "https://localhost:8080/",
          "height": 386
        },
        "outputId": "edbe1733-bd89-4937-cb2c-fbfc0380c041"
      },
      "source": [
        "sns.displot(cont[[\"Edad\"]])"
      ],
      "execution_count": 20,
      "outputs": [
        {
          "output_type": "execute_result",
          "data": {
            "text/plain": [
              "<seaborn.axisgrid.FacetGrid at 0x7f9b510e9cd0>"
            ]
          },
          "metadata": {},
          "execution_count": 20
        },
        {
          "output_type": "display_data",
          "data": {
            "image/png": "[encoded data removed]",
            "text/plain": [
              "<Figure size 421.125x360 with 1 Axes>"
            ]
          },
          "metadata": {
            "needs_background": "light"
          }
        }
      ]
    },
    {
      "cell_type": "markdown",
      "metadata": {
        "id": "7SET86u_QqV6"
      },
      "source": [
        "La distribucion de la edad es posiblemente normal"
      ]
    },
    {
      "cell_type": "code",
      "metadata": {
        "colab": {
          "base_uri": "https://localhost:8080/"
        },
        "id": "IlUR5Bp5Ar7A",
        "outputId": "5af5ee5f-19c2-448a-8c3c-6c5acbcb7151"
      },
      "source": [
        "cont[\"Edad\"].describe()"
      ],
      "execution_count": 21,
      "outputs": [
        {
          "output_type": "execute_result",
          "data": {
            "text/plain": [
              "count    1.425454e+06\n",
              "mean     3.790501e+01\n",
              "std      1.712822e+01\n",
              "min      1.000000e+00\n",
              "25%      2.600000e+01\n",
              "50%      3.600000e+01\n",
              "75%      5.000000e+01\n",
              "max      1.140000e+02\n",
              "Name: Edad, dtype: float64"
            ]
          },
          "metadata": {},
          "execution_count": 21
        }
      ]
    },
    {
      "cell_type": "markdown",
      "metadata": {
        "id": "Veno_pj7RAl4"
      },
      "source": [
        "La edad media es 38 años aproximadamente"
      ]
    },
    {
      "cell_type": "code",
      "metadata": {
        "colab": {
          "base_uri": "https://localhost:8080/"
        },
        "id": "xs-zFS1aBeN0",
        "outputId": "63e691dc-0a68-48bf-ce41-8c726b6394f5"
      },
      "source": [
        "cont[\"Sexo\"].value_counts()"
      ],
      "execution_count": 22,
      "outputs": [
        {
          "output_type": "execute_result",
          "data": {
            "text/plain": [
              "F    766790\n",
              "M    658654\n",
              "f         5\n",
              "m         5\n",
              "Name: Sexo, dtype: int64"
            ]
          },
          "metadata": {},
          "execution_count": 22
        }
      ]
    },
    {
      "cell_type": "code",
      "metadata": {
        "colab": {
          "base_uri": "https://localhost:8080/",
          "height": 286
        },
        "id": "_yEKpaeVBGIV",
        "outputId": "18107a1c-a2be-44c1-829a-f4fbfc418c60"
      },
      "source": [
        "plt.bar([\"Mujeres\",\"Hombres\"],[766790,658654])"
      ],
      "execution_count": 23,
      "outputs": [
        {
          "output_type": "execute_result",
          "data": {
            "text/plain": [
              "<BarContainer object of 2 artists>"
            ]
          },
          "metadata": {},
          "execution_count": 23
        },
        {
          "output_type": "display_data",
          "data": {
            "image/png": "[encoded data removed]",
            "text/plain": [
              "<Figure size 432x288 with 1 Axes>"
            ]
          },
          "metadata": {
            "needs_background": "light"
          }
        }
      ]
    },
    {
      "cell_type": "markdown",
      "metadata": {
        "id": "0pEW6oYwRHW2"
      },
      "source": [
        "Existen mayor numero de mujeres que les dió coronavirus"
      ]
    },
    {
      "cell_type": "code",
      "metadata": {
        "colab": {
          "base_uri": "https://localhost:8080/"
        },
        "id": "_s7WMbYvCAKb",
        "outputId": "40a9b4a5-a555-4dd6-fa1c-78c5e6ff40d3"
      },
      "source": [
        "cont[\"Tipo de contagio\"].value_counts()"
      ],
      "execution_count": 24,
      "outputs": [
        {
          "output_type": "execute_result",
          "data": {
            "text/plain": [
              "En estudio     689815\n",
              "Relacionado    519050\n",
              "Comunitaria    215663\n",
              "Importado         926\n",
              "Name: Tipo de contagio, dtype: int64"
            ]
          },
          "metadata": {},
          "execution_count": 24
        }
      ]
    },
    {
      "cell_type": "code",
      "metadata": {
        "colab": {
          "base_uri": "https://localhost:8080/",
          "height": 282
        },
        "id": "qxOp1tq0CM_i",
        "outputId": "3c803a0b-1d11-4143-d007-d4a978cc12d8"
      },
      "source": [
        "plt.bar([\"En estudio\",\"Elacionado\",\"Importado\",\"Comunitaria\"],[689815,519050,926,215663])"
      ],
      "execution_count": 25,
      "outputs": [
        {
          "output_type": "execute_result",
          "data": {
            "text/plain": [
              "<BarContainer object of 4 artists>"
            ]
          },
          "metadata": {},
          "execution_count": 25
        },
        {
          "output_type": "display_data",
          "data": {
            "image/png": "[encoded data removed]",
            "text/plain": [
              "<Figure size 432x288 with 1 Axes>"
            ]
          },
          "metadata": {
            "needs_background": "light"
          }
        }
      ]
    },
    {
      "cell_type": "markdown",
      "metadata": {
        "id": "mWnoEFvvRfSS"
      },
      "source": [
        "Hay un numero mayor de casos de coronavirus que aun estan en estudio por su contagio"
      ]
    },
    {
      "cell_type": "code",
      "metadata": {
        "colab": {
          "base_uri": "https://localhost:8080/"
        },
        "id": "0nAGGm5ACwx-",
        "outputId": "36da4d45-340d-45ab-ebc6-88a7f9ba0c09"
      },
      "source": [
        "cont[\"Estado\"].value_counts()"
      ],
      "execution_count": 26,
      "outputs": [
        {
          "output_type": "execute_result",
          "data": {
            "text/plain": [
              "Leve        1424618\n",
              "leve            819\n",
              "Moderado          9\n",
              "Grave             8\n",
              "Name: Estado, dtype: int64"
            ]
          },
          "metadata": {},
          "execution_count": 26
        }
      ]
    },
    {
      "cell_type": "code",
      "metadata": {
        "colab": {
          "base_uri": "https://localhost:8080/"
        },
        "id": "5kATsfNdDMwz",
        "outputId": "4d6dd2bd-1d61-45b8-ef09-306f2dd9850a"
      },
      "source": [
        "cont[\"Ubicación del caso\"].value_counts()"
      ],
      "execution_count": 27,
      "outputs": [
        {
          "output_type": "execute_result",
          "data": {
            "text/plain": [
              "Casa            1424879\n",
              "casa                558\n",
              "Hospital              9\n",
              "Hospital UCI          8\n",
              "Name: Ubicación del caso, dtype: int64"
            ]
          },
          "metadata": {},
          "execution_count": 27
        }
      ]
    },
    {
      "cell_type": "code",
      "metadata": {
        "colab": {
          "base_uri": "https://localhost:8080/",
          "height": 294
        },
        "id": "7-VXjZnLDllE",
        "outputId": "62b5e83b-01bd-47e5-c9a1-24de757d60b0"
      },
      "source": [
        "plt.bar([\"Casa\",\"Hospital\",\"Hospital UCI\"],[1424879+558,9,8])"
      ],
      "execution_count": 28,
      "outputs": [
        {
          "output_type": "execute_result",
          "data": {
            "text/plain": [
              "<BarContainer object of 3 artists>"
            ]
          },
          "metadata": {},
          "execution_count": 28
        },
        {
          "output_type": "display_data",
          "data": {
            "image/png": "[encoded data removed]",
            "text/plain": [
              "<Figure size 432x288 with 1 Axes>"
            ]
          },
          "metadata": {
            "needs_background": "light"
          }
        }
      ]
    },
    {
      "cell_type": "code",
      "metadata": {
        "colab": {
          "base_uri": "https://localhost:8080/"
        },
        "id": "FPB33wjzD_q8",
        "outputId": "4a31a835-5353-4e64-b8ee-f89516436ebe"
      },
      "source": [
        "cont[\"Tipo de recuperación\"].value_counts()\n"
      ],
      "execution_count": 29,
      "outputs": [
        {
          "output_type": "execute_result",
          "data": {
            "text/plain": [
              "Tiempo    1135671\n",
              "PCR        289783\n",
              "Name: Tipo de recuperación, dtype: int64"
            ]
          },
          "metadata": {},
          "execution_count": 29
        }
      ]
    },
    {
      "cell_type": "code",
      "metadata": {
        "colab": {
          "base_uri": "https://localhost:8080/",
          "height": 294
        },
        "id": "fq-Hth-xEF0L",
        "outputId": "fd8b545a-b207-4466-ce00-2859eb60e78a"
      },
      "source": [
        "plt.bar([\"PCR\",\"Tiempo\"],[289783,1135671])"
      ],
      "execution_count": 30,
      "outputs": [
        {
          "output_type": "execute_result",
          "data": {
            "text/plain": [
              "<BarContainer object of 2 artists>"
            ]
          },
          "metadata": {},
          "execution_count": 30
        },
        {
          "output_type": "display_data",
          "data": {
            "image/png": "[encoded data removed]",
            "text/plain": [
              "<Figure size 432x288 with 1 Axes>"
            ]
          },
          "metadata": {
            "needs_background": "light"
          }
        }
      ]
    },
    {
      "cell_type": "code",
      "metadata": {
        "colab": {
          "base_uri": "https://localhost:8080/",
          "height": 373
        },
        "id": "TEtJky4uEST6",
        "outputId": "24c7b486-97f7-4b3c-d698-6ad4f31a7092"
      },
      "source": [
        "cont[['Edad','Sexo']].boxplot(by='Sexo')# no tuve tiempo para cambiarlo"
      ],
      "execution_count": 31,
      "outputs": [
        {
          "output_type": "stream",
          "name": "stderr",
          "text": [
            "/usr/local/lib/python3.7/dist-packages/numpy/core/_asarray.py:83: VisibleDeprecationWarning: Creating an ndarray from ragged nested sequences (which is a list-or-tuple of lists-or-tuples-or ndarrays with different lengths or shapes) is deprecated. If you meant to do this, you must specify 'dtype=object' when creating the ndarray\n",
            "  return array(a, dtype, copy=False, order=order)\n"
          ]
        },
        {
          "output_type": "execute_result",
          "data": {
            "text/plain": [
              "<matplotlib.axes._subplots.AxesSubplot at 0x7f9b444d20d0>"
            ]
          },
          "metadata": {},
          "execution_count": 31
        },
        {
          "output_type": "display_data",
          "data": {
            "image/png": "[encoded data removed]",
            "text/plain": [
              "<Figure size 432x288 with 1 Axes>"
            ]
          },
          "metadata": {
            "needs_background": "light"
          }
        }
      ]
    },
    {
      "cell_type": "code",
      "metadata": {
        "colab": {
          "base_uri": "https://localhost:8080/"
        },
        "id": "KWOZ3kDAGPvS",
        "outputId": "7a7320b7-be7c-4584-87e2-765a027eda8d"
      },
      "source": [
        "cont[\"Recuperado\"].value_counts()"
      ],
      "execution_count": 32,
      "outputs": [
        {
          "output_type": "execute_result",
          "data": {
            "text/plain": [
              "Recuperado    1425454\n",
              "Name: Recuperado, dtype: int64"
            ]
          },
          "metadata": {},
          "execution_count": 32
        }
      ]
    },
    {
      "cell_type": "code",
      "metadata": {
        "colab": {
          "base_uri": "https://localhost:8080/"
        },
        "id": "40uG9UneGhB4",
        "outputId": "b7f015e9-d7c3-4d64-bdc0-810f90b84332"
      },
      "source": [
        "cont.shape"
      ],
      "execution_count": 33,
      "outputs": [
        {
          "output_type": "execute_result",
          "data": {
            "text/plain": [
              "(1425454, 23)"
            ]
          },
          "metadata": {},
          "execution_count": 33
        }
      ]
    },
    {
      "cell_type": "code",
      "metadata": {
        "id": "zMOiQXuKcelk"
      },
      "source": [
        "datos2 = cont2.copy()"
      ],
      "execution_count": 34,
      "outputs": []
    },
    {
      "cell_type": "code",
      "metadata": {
        "colab": {
          "base_uri": "https://localhost:8080/",
          "height": 382
        },
        "id": "7-ijO0-JSoRM",
        "outputId": "d567319f-16ee-4bbe-86ce-7420d75498a2"
      },
      "source": [
        "#SE TOMA LA FECHA DE DIAGNÓSTICO SIN LA HORA\n",
        "datos2['Fecha de diagnóstico']=datos2['Fecha de diagnóstico'].str[:-7]\n",
        "datos2.head()"
      ],
      "execution_count": 36,
      "outputs": [
        {
          "output_type": "execute_result",
          "data": {
            "text/html": [
              "<div>\n",
              "<style scoped>\n",
              "    .dataframe tbody tr th:only-of-type {\n",
              "        vertical-align: middle;\n",
              "    }\n",
              "\n",
              "    .dataframe tbody tr th {\n",
              "        vertical-align: top;\n",
              "    }\n",
              "\n",
              "    .dataframe thead th {\n",
              "        text-align: right;\n",
              "    }\n",
              "</style>\n",
              "<table border=\"1\" class=\"dataframe\">\n",
              "  <thead>\n",
              "    <tr style=\"text-align: right;\">\n",
              "      <th></th>\n",
              "      <th>fecha reporte web</th>\n",
              "      <th>ID de caso</th>\n",
              "      <th>Fecha de notificación</th>\n",
              "      <th>Código DIVIPOLA departamento</th>\n",
              "      <th>Nombre departamento</th>\n",
              "      <th>Código DIVIPOLA municipio</th>\n",
              "      <th>Nombre municipio</th>\n",
              "      <th>Edad</th>\n",
              "      <th>Unidad de medida de edad</th>\n",
              "      <th>Sexo</th>\n",
              "      <th>Tipo de contagio</th>\n",
              "      <th>Ubicación del caso</th>\n",
              "      <th>Estado</th>\n",
              "      <th>Código ISO del país</th>\n",
              "      <th>Nombre del país</th>\n",
              "      <th>Recuperado</th>\n",
              "      <th>Fecha de inicio de síntomas</th>\n",
              "      <th>Fecha de muerte</th>\n",
              "      <th>Fecha de diagnóstico</th>\n",
              "      <th>Fecha de recuperación</th>\n",
              "      <th>Tipo de recuperación</th>\n",
              "      <th>Pertenencia étnica</th>\n",
              "      <th>Nombre del grupo étnico</th>\n",
              "    </tr>\n",
              "  </thead>\n",
              "  <tbody>\n",
              "    <tr>\n",
              "      <th>0</th>\n",
              "      <td>6/3/2020 0:00:00</td>\n",
              "      <td>1</td>\n",
              "      <td>2/3/2020 0:00:00</td>\n",
              "      <td>11</td>\n",
              "      <td>BOGOTA</td>\n",
              "      <td>11,001</td>\n",
              "      <td>BOGOTA</td>\n",
              "      <td>19</td>\n",
              "      <td>1</td>\n",
              "      <td>F</td>\n",
              "      <td>Importado</td>\n",
              "      <td>Casa</td>\n",
              "      <td>Leve</td>\n",
              "      <td>380.0</td>\n",
              "      <td>ITALIA</td>\n",
              "      <td>Recuperado</td>\n",
              "      <td>27/2/2020 0:00:00</td>\n",
              "      <td>NaN</td>\n",
              "      <td>6/3/2020</td>\n",
              "      <td>13/3/2020 0:00:00</td>\n",
              "      <td>PCR</td>\n",
              "      <td>6.0</td>\n",
              "      <td>NaN</td>\n",
              "    </tr>\n",
              "    <tr>\n",
              "      <th>1</th>\n",
              "      <td>11/3/2020 0:00:00</td>\n",
              "      <td>8</td>\n",
              "      <td>9/3/2020 0:00:00</td>\n",
              "      <td>11</td>\n",
              "      <td>BOGOTA</td>\n",
              "      <td>11,001</td>\n",
              "      <td>BOGOTA</td>\n",
              "      <td>22</td>\n",
              "      <td>1</td>\n",
              "      <td>F</td>\n",
              "      <td>Importado</td>\n",
              "      <td>Casa</td>\n",
              "      <td>Leve</td>\n",
              "      <td>724.0</td>\n",
              "      <td>ESPAÑA</td>\n",
              "      <td>Recuperado</td>\n",
              "      <td>6/3/2020 0:00:00</td>\n",
              "      <td>NaN</td>\n",
              "      <td>11/3/2020</td>\n",
              "      <td>21/3/2020 0:00:00</td>\n",
              "      <td>PCR</td>\n",
              "      <td>6.0</td>\n",
              "      <td>NaN</td>\n",
              "    </tr>\n",
              "    <tr>\n",
              "      <th>2</th>\n",
              "      <td>11/3/2020 0:00:00</td>\n",
              "      <td>9</td>\n",
              "      <td>8/3/2020 0:00:00</td>\n",
              "      <td>11</td>\n",
              "      <td>BOGOTA</td>\n",
              "      <td>11,001</td>\n",
              "      <td>BOGOTA</td>\n",
              "      <td>28</td>\n",
              "      <td>1</td>\n",
              "      <td>F</td>\n",
              "      <td>Importado</td>\n",
              "      <td>Casa</td>\n",
              "      <td>Leve</td>\n",
              "      <td>724.0</td>\n",
              "      <td>ESPAÑA</td>\n",
              "      <td>Recuperado</td>\n",
              "      <td>7/3/2020 0:00:00</td>\n",
              "      <td>NaN</td>\n",
              "      <td>11/3/2020</td>\n",
              "      <td>23/3/2020 0:00:00</td>\n",
              "      <td>PCR</td>\n",
              "      <td>6.0</td>\n",
              "      <td>NaN</td>\n",
              "    </tr>\n",
              "    <tr>\n",
              "      <th>3</th>\n",
              "      <td>12/3/2020 0:00:00</td>\n",
              "      <td>10</td>\n",
              "      <td>12/3/2020 0:00:00</td>\n",
              "      <td>11</td>\n",
              "      <td>BOGOTA</td>\n",
              "      <td>11,001</td>\n",
              "      <td>BOGOTA</td>\n",
              "      <td>36</td>\n",
              "      <td>1</td>\n",
              "      <td>F</td>\n",
              "      <td>Importado</td>\n",
              "      <td>Casa</td>\n",
              "      <td>Leve</td>\n",
              "      <td>724.0</td>\n",
              "      <td>ESPAÑA</td>\n",
              "      <td>Recuperado</td>\n",
              "      <td>6/3/2020 0:00:00</td>\n",
              "      <td>NaN</td>\n",
              "      <td>12/3/2020</td>\n",
              "      <td>21/3/2020 0:00:00</td>\n",
              "      <td>PCR</td>\n",
              "      <td>6.0</td>\n",
              "      <td>NaN</td>\n",
              "    </tr>\n",
              "    <tr>\n",
              "      <th>4</th>\n",
              "      <td>12/3/2020 0:00:00</td>\n",
              "      <td>11</td>\n",
              "      <td>11/3/2020 0:00:00</td>\n",
              "      <td>11</td>\n",
              "      <td>BOGOTA</td>\n",
              "      <td>11,001</td>\n",
              "      <td>BOGOTA</td>\n",
              "      <td>42</td>\n",
              "      <td>1</td>\n",
              "      <td>F</td>\n",
              "      <td>Importado</td>\n",
              "      <td>Casa</td>\n",
              "      <td>Leve</td>\n",
              "      <td>724.0</td>\n",
              "      <td>ESPAÑA</td>\n",
              "      <td>Recuperado</td>\n",
              "      <td>6/3/2020 0:00:00</td>\n",
              "      <td>NaN</td>\n",
              "      <td>12/3/2020</td>\n",
              "      <td>31/3/2020 0:00:00</td>\n",
              "      <td>PCR</td>\n",
              "      <td>6.0</td>\n",
              "      <td>NaN</td>\n",
              "    </tr>\n",
              "  </tbody>\n",
              "</table>\n",
              "</div>"
            ],
            "text/plain": [
              "   fecha reporte web ID de caso  ... Pertenencia étnica  Nombre del grupo étnico\n",
              "0   6/3/2020 0:00:00          1  ...                6.0                      NaN\n",
              "1  11/3/2020 0:00:00          8  ...                6.0                      NaN\n",
              "2  11/3/2020 0:00:00          9  ...                6.0                      NaN\n",
              "3  12/3/2020 0:00:00         10  ...                6.0                      NaN\n",
              "4  12/3/2020 0:00:00         11  ...                6.0                      NaN\n",
              "\n",
              "[5 rows x 23 columns]"
            ]
          },
          "metadata": {},
          "execution_count": 36
        }
      ]
    },
    {
      "cell_type": "code",
      "metadata": {
        "colab": {
          "base_uri": "https://localhost:8080/",
          "height": 686
        },
        "id": "FC2_Djgz5KxM",
        "outputId": "0bf3a753-7065-49de-e7ad-6ac3ef6e2a04"
      },
      "source": [
        "datos2.insert(19,'x',np.ones(datos2.shape[0]))\n",
        "datos2"
      ],
      "execution_count": 37,
      "outputs": [
        {
          "output_type": "execute_result",
          "data": {
            "text/html": [
              "<div>\n",
              "<style scoped>\n",
              "    .dataframe tbody tr th:only-of-type {\n",
              "        vertical-align: middle;\n",
              "    }\n",
              "\n",
              "    .dataframe tbody tr th {\n",
              "        vertical-align: top;\n",
              "    }\n",
              "\n",
              "    .dataframe thead th {\n",
              "        text-align: right;\n",
              "    }\n",
              "</style>\n",
              "<table border=\"1\" class=\"dataframe\">\n",
              "  <thead>\n",
              "    <tr style=\"text-align: right;\">\n",
              "      <th></th>\n",
              "      <th>fecha reporte web</th>\n",
              "      <th>ID de caso</th>\n",
              "      <th>Fecha de notificación</th>\n",
              "      <th>Código DIVIPOLA departamento</th>\n",
              "      <th>Nombre departamento</th>\n",
              "      <th>Código DIVIPOLA municipio</th>\n",
              "      <th>Nombre municipio</th>\n",
              "      <th>Edad</th>\n",
              "      <th>Unidad de medida de edad</th>\n",
              "      <th>Sexo</th>\n",
              "      <th>Tipo de contagio</th>\n",
              "      <th>Ubicación del caso</th>\n",
              "      <th>Estado</th>\n",
              "      <th>Código ISO del país</th>\n",
              "      <th>Nombre del país</th>\n",
              "      <th>Recuperado</th>\n",
              "      <th>Fecha de inicio de síntomas</th>\n",
              "      <th>Fecha de muerte</th>\n",
              "      <th>Fecha de diagnóstico</th>\n",
              "      <th>x</th>\n",
              "      <th>Fecha de recuperación</th>\n",
              "      <th>Tipo de recuperación</th>\n",
              "      <th>Pertenencia étnica</th>\n",
              "      <th>Nombre del grupo étnico</th>\n",
              "    </tr>\n",
              "  </thead>\n",
              "  <tbody>\n",
              "    <tr>\n",
              "      <th>0</th>\n",
              "      <td>6/3/2020 0:00:00</td>\n",
              "      <td>1</td>\n",
              "      <td>2/3/2020 0:00:00</td>\n",
              "      <td>11</td>\n",
              "      <td>BOGOTA</td>\n",
              "      <td>11,001</td>\n",
              "      <td>BOGOTA</td>\n",
              "      <td>19</td>\n",
              "      <td>1</td>\n",
              "      <td>F</td>\n",
              "      <td>Importado</td>\n",
              "      <td>Casa</td>\n",
              "      <td>Leve</td>\n",
              "      <td>380.0</td>\n",
              "      <td>ITALIA</td>\n",
              "      <td>Recuperado</td>\n",
              "      <td>27/2/2020 0:00:00</td>\n",
              "      <td>NaN</td>\n",
              "      <td>6/3/2020</td>\n",
              "      <td>1.0</td>\n",
              "      <td>13/3/2020 0:00:00</td>\n",
              "      <td>PCR</td>\n",
              "      <td>6.0</td>\n",
              "      <td>NaN</td>\n",
              "    </tr>\n",
              "    <tr>\n",
              "      <th>1</th>\n",
              "      <td>11/3/2020 0:00:00</td>\n",
              "      <td>8</td>\n",
              "      <td>9/3/2020 0:00:00</td>\n",
              "      <td>11</td>\n",
              "      <td>BOGOTA</td>\n",
              "      <td>11,001</td>\n",
              "      <td>BOGOTA</td>\n",
              "      <td>22</td>\n",
              "      <td>1</td>\n",
              "      <td>F</td>\n",
              "      <td>Importado</td>\n",
              "      <td>Casa</td>\n",
              "      <td>Leve</td>\n",
              "      <td>724.0</td>\n",
              "      <td>ESPAÑA</td>\n",
              "      <td>Recuperado</td>\n",
              "      <td>6/3/2020 0:00:00</td>\n",
              "      <td>NaN</td>\n",
              "      <td>11/3/2020</td>\n",
              "      <td>1.0</td>\n",
              "      <td>21/3/2020 0:00:00</td>\n",
              "      <td>PCR</td>\n",
              "      <td>6.0</td>\n",
              "      <td>NaN</td>\n",
              "    </tr>\n",
              "    <tr>\n",
              "      <th>2</th>\n",
              "      <td>11/3/2020 0:00:00</td>\n",
              "      <td>9</td>\n",
              "      <td>8/3/2020 0:00:00</td>\n",
              "      <td>11</td>\n",
              "      <td>BOGOTA</td>\n",
              "      <td>11,001</td>\n",
              "      <td>BOGOTA</td>\n",
              "      <td>28</td>\n",
              "      <td>1</td>\n",
              "      <td>F</td>\n",
              "      <td>Importado</td>\n",
              "      <td>Casa</td>\n",
              "      <td>Leve</td>\n",
              "      <td>724.0</td>\n",
              "      <td>ESPAÑA</td>\n",
              "      <td>Recuperado</td>\n",
              "      <td>7/3/2020 0:00:00</td>\n",
              "      <td>NaN</td>\n",
              "      <td>11/3/2020</td>\n",
              "      <td>1.0</td>\n",
              "      <td>23/3/2020 0:00:00</td>\n",
              "      <td>PCR</td>\n",
              "      <td>6.0</td>\n",
              "      <td>NaN</td>\n",
              "    </tr>\n",
              "    <tr>\n",
              "      <th>3</th>\n",
              "      <td>12/3/2020 0:00:00</td>\n",
              "      <td>10</td>\n",
              "      <td>12/3/2020 0:00:00</td>\n",
              "      <td>11</td>\n",
              "      <td>BOGOTA</td>\n",
              "      <td>11,001</td>\n",
              "      <td>BOGOTA</td>\n",
              "      <td>36</td>\n",
              "      <td>1</td>\n",
              "      <td>F</td>\n",
              "      <td>Importado</td>\n",
              "      <td>Casa</td>\n",
              "      <td>Leve</td>\n",
              "      <td>724.0</td>\n",
              "      <td>ESPAÑA</td>\n",
              "      <td>Recuperado</td>\n",
              "      <td>6/3/2020 0:00:00</td>\n",
              "      <td>NaN</td>\n",
              "      <td>12/3/2020</td>\n",
              "      <td>1.0</td>\n",
              "      <td>21/3/2020 0:00:00</td>\n",
              "      <td>PCR</td>\n",
              "      <td>6.0</td>\n",
              "      <td>NaN</td>\n",
              "    </tr>\n",
              "    <tr>\n",
              "      <th>4</th>\n",
              "      <td>12/3/2020 0:00:00</td>\n",
              "      <td>11</td>\n",
              "      <td>11/3/2020 0:00:00</td>\n",
              "      <td>11</td>\n",
              "      <td>BOGOTA</td>\n",
              "      <td>11,001</td>\n",
              "      <td>BOGOTA</td>\n",
              "      <td>42</td>\n",
              "      <td>1</td>\n",
              "      <td>F</td>\n",
              "      <td>Importado</td>\n",
              "      <td>Casa</td>\n",
              "      <td>Leve</td>\n",
              "      <td>724.0</td>\n",
              "      <td>ESPAÑA</td>\n",
              "      <td>Recuperado</td>\n",
              "      <td>6/3/2020 0:00:00</td>\n",
              "      <td>NaN</td>\n",
              "      <td>12/3/2020</td>\n",
              "      <td>1.0</td>\n",
              "      <td>31/3/2020 0:00:00</td>\n",
              "      <td>PCR</td>\n",
              "      <td>6.0</td>\n",
              "      <td>NaN</td>\n",
              "    </tr>\n",
              "    <tr>\n",
              "      <th>...</th>\n",
              "      <td>...</td>\n",
              "      <td>...</td>\n",
              "      <td>...</td>\n",
              "      <td>...</td>\n",
              "      <td>...</td>\n",
              "      <td>...</td>\n",
              "      <td>...</td>\n",
              "      <td>...</td>\n",
              "      <td>...</td>\n",
              "      <td>...</td>\n",
              "      <td>...</td>\n",
              "      <td>...</td>\n",
              "      <td>...</td>\n",
              "      <td>...</td>\n",
              "      <td>...</td>\n",
              "      <td>...</td>\n",
              "      <td>...</td>\n",
              "      <td>...</td>\n",
              "      <td>...</td>\n",
              "      <td>...</td>\n",
              "      <td>...</td>\n",
              "      <td>...</td>\n",
              "      <td>...</td>\n",
              "      <td>...</td>\n",
              "    </tr>\n",
              "    <tr>\n",
              "      <th>1461080</th>\n",
              "      <td>24/11/2021 0:00:00</td>\n",
              "      <td>5,055,235</td>\n",
              "      <td>21/11/2021 0:00:00</td>\n",
              "      <td>11</td>\n",
              "      <td>BOGOTA</td>\n",
              "      <td>11,001</td>\n",
              "      <td>BOGOTA</td>\n",
              "      <td>46</td>\n",
              "      <td>1</td>\n",
              "      <td>M</td>\n",
              "      <td>En estudio</td>\n",
              "      <td>Casa</td>\n",
              "      <td>Leve</td>\n",
              "      <td>NaN</td>\n",
              "      <td>NaN</td>\n",
              "      <td>Activo</td>\n",
              "      <td>NaN</td>\n",
              "      <td>NaN</td>\n",
              "      <td>22/11/2021</td>\n",
              "      <td>1.0</td>\n",
              "      <td>NaN</td>\n",
              "      <td>NaN</td>\n",
              "      <td>NaN</td>\n",
              "      <td>NaN</td>\n",
              "    </tr>\n",
              "    <tr>\n",
              "      <th>1461081</th>\n",
              "      <td>24/11/2021 0:00:00</td>\n",
              "      <td>5,055,249</td>\n",
              "      <td>22/11/2021 0:00:00</td>\n",
              "      <td>11</td>\n",
              "      <td>BOGOTA</td>\n",
              "      <td>11,001</td>\n",
              "      <td>BOGOTA</td>\n",
              "      <td>60</td>\n",
              "      <td>1</td>\n",
              "      <td>F</td>\n",
              "      <td>En estudio</td>\n",
              "      <td>Casa</td>\n",
              "      <td>Leve</td>\n",
              "      <td>NaN</td>\n",
              "      <td>NaN</td>\n",
              "      <td>Activo</td>\n",
              "      <td>NaN</td>\n",
              "      <td>NaN</td>\n",
              "      <td>22/11/2021</td>\n",
              "      <td>1.0</td>\n",
              "      <td>NaN</td>\n",
              "      <td>NaN</td>\n",
              "      <td>NaN</td>\n",
              "      <td>NaN</td>\n",
              "    </tr>\n",
              "    <tr>\n",
              "      <th>1461082</th>\n",
              "      <td>24/11/2021 0:00:00</td>\n",
              "      <td>5,055,275</td>\n",
              "      <td>21/11/2021 0:00:00</td>\n",
              "      <td>11</td>\n",
              "      <td>BOGOTA</td>\n",
              "      <td>11,001</td>\n",
              "      <td>BOGOTA</td>\n",
              "      <td>31</td>\n",
              "      <td>1</td>\n",
              "      <td>F</td>\n",
              "      <td>En estudio</td>\n",
              "      <td>Casa</td>\n",
              "      <td>Leve</td>\n",
              "      <td>NaN</td>\n",
              "      <td>NaN</td>\n",
              "      <td>Activo</td>\n",
              "      <td>NaN</td>\n",
              "      <td>NaN</td>\n",
              "      <td>22/11/2021</td>\n",
              "      <td>1.0</td>\n",
              "      <td>NaN</td>\n",
              "      <td>NaN</td>\n",
              "      <td>NaN</td>\n",
              "      <td>NaN</td>\n",
              "    </tr>\n",
              "    <tr>\n",
              "      <th>1461083</th>\n",
              "      <td>24/11/2021 0:00:00</td>\n",
              "      <td>5,055,276</td>\n",
              "      <td>22/11/2021 0:00:00</td>\n",
              "      <td>11</td>\n",
              "      <td>BOGOTA</td>\n",
              "      <td>11,001</td>\n",
              "      <td>BOGOTA</td>\n",
              "      <td>28</td>\n",
              "      <td>1</td>\n",
              "      <td>F</td>\n",
              "      <td>En estudio</td>\n",
              "      <td>Casa</td>\n",
              "      <td>Leve</td>\n",
              "      <td>NaN</td>\n",
              "      <td>NaN</td>\n",
              "      <td>Activo</td>\n",
              "      <td>NaN</td>\n",
              "      <td>NaN</td>\n",
              "      <td>22/11/2021</td>\n",
              "      <td>1.0</td>\n",
              "      <td>NaN</td>\n",
              "      <td>NaN</td>\n",
              "      <td>NaN</td>\n",
              "      <td>NaN</td>\n",
              "    </tr>\n",
              "    <tr>\n",
              "      <th>1461085</th>\n",
              "      <td>24/11/2021 0:00:00</td>\n",
              "      <td>5,055,280</td>\n",
              "      <td>19/11/2021 0:00:00</td>\n",
              "      <td>11</td>\n",
              "      <td>BOGOTA</td>\n",
              "      <td>11,001</td>\n",
              "      <td>BOGOTA</td>\n",
              "      <td>54</td>\n",
              "      <td>1</td>\n",
              "      <td>M</td>\n",
              "      <td>En estudio</td>\n",
              "      <td>Hospital</td>\n",
              "      <td>Moderado</td>\n",
              "      <td>NaN</td>\n",
              "      <td>NaN</td>\n",
              "      <td>Activo</td>\n",
              "      <td>18/11/2021 0:00:00</td>\n",
              "      <td>NaN</td>\n",
              "      <td>22/11/2021</td>\n",
              "      <td>1.0</td>\n",
              "      <td>NaN</td>\n",
              "      <td>NaN</td>\n",
              "      <td>NaN</td>\n",
              "      <td>NaN</td>\n",
              "    </tr>\n",
              "  </tbody>\n",
              "</table>\n",
              "<p>1461017 rows × 24 columns</p>\n",
              "</div>"
            ],
            "text/plain": [
              "          fecha reporte web  ... Nombre del grupo étnico\n",
              "0          6/3/2020 0:00:00  ...                     NaN\n",
              "1         11/3/2020 0:00:00  ...                     NaN\n",
              "2         11/3/2020 0:00:00  ...                     NaN\n",
              "3         12/3/2020 0:00:00  ...                     NaN\n",
              "4         12/3/2020 0:00:00  ...                     NaN\n",
              "...                     ...  ...                     ...\n",
              "1461080  24/11/2021 0:00:00  ...                     NaN\n",
              "1461081  24/11/2021 0:00:00  ...                     NaN\n",
              "1461082  24/11/2021 0:00:00  ...                     NaN\n",
              "1461083  24/11/2021 0:00:00  ...                     NaN\n",
              "1461085  24/11/2021 0:00:00  ...                     NaN\n",
              "\n",
              "[1461017 rows x 24 columns]"
            ]
          },
          "metadata": {},
          "execution_count": 37
        }
      ]
    },
    {
      "cell_type": "code",
      "metadata": {
        "colab": {
          "base_uri": "https://localhost:8080/",
          "height": 423
        },
        "id": "SiZwbWxZqsao",
        "outputId": "a332e85f-30b5-4b40-ec9c-b9791ad941cb"
      },
      "source": [
        "mod = datos2[['Fecha de diagnóstico','x']]\n",
        "mod"
      ],
      "execution_count": 38,
      "outputs": [
        {
          "output_type": "execute_result",
          "data": {
            "text/html": [
              "<div>\n",
              "<style scoped>\n",
              "    .dataframe tbody tr th:only-of-type {\n",
              "        vertical-align: middle;\n",
              "    }\n",
              "\n",
              "    .dataframe tbody tr th {\n",
              "        vertical-align: top;\n",
              "    }\n",
              "\n",
              "    .dataframe thead th {\n",
              "        text-align: right;\n",
              "    }\n",
              "</style>\n",
              "<table border=\"1\" class=\"dataframe\">\n",
              "  <thead>\n",
              "    <tr style=\"text-align: right;\">\n",
              "      <th></th>\n",
              "      <th>Fecha de diagnóstico</th>\n",
              "      <th>x</th>\n",
              "    </tr>\n",
              "  </thead>\n",
              "  <tbody>\n",
              "    <tr>\n",
              "      <th>0</th>\n",
              "      <td>6/3/2020</td>\n",
              "      <td>1.0</td>\n",
              "    </tr>\n",
              "    <tr>\n",
              "      <th>1</th>\n",
              "      <td>11/3/2020</td>\n",
              "      <td>1.0</td>\n",
              "    </tr>\n",
              "    <tr>\n",
              "      <th>2</th>\n",
              "      <td>11/3/2020</td>\n",
              "      <td>1.0</td>\n",
              "    </tr>\n",
              "    <tr>\n",
              "      <th>3</th>\n",
              "      <td>12/3/2020</td>\n",
              "      <td>1.0</td>\n",
              "    </tr>\n",
              "    <tr>\n",
              "      <th>4</th>\n",
              "      <td>12/3/2020</td>\n",
              "      <td>1.0</td>\n",
              "    </tr>\n",
              "    <tr>\n",
              "      <th>...</th>\n",
              "      <td>...</td>\n",
              "      <td>...</td>\n",
              "    </tr>\n",
              "    <tr>\n",
              "      <th>1461080</th>\n",
              "      <td>22/11/2021</td>\n",
              "      <td>1.0</td>\n",
              "    </tr>\n",
              "    <tr>\n",
              "      <th>1461081</th>\n",
              "      <td>22/11/2021</td>\n",
              "      <td>1.0</td>\n",
              "    </tr>\n",
              "    <tr>\n",
              "      <th>1461082</th>\n",
              "      <td>22/11/2021</td>\n",
              "      <td>1.0</td>\n",
              "    </tr>\n",
              "    <tr>\n",
              "      <th>1461083</th>\n",
              "      <td>22/11/2021</td>\n",
              "      <td>1.0</td>\n",
              "    </tr>\n",
              "    <tr>\n",
              "      <th>1461085</th>\n",
              "      <td>22/11/2021</td>\n",
              "      <td>1.0</td>\n",
              "    </tr>\n",
              "  </tbody>\n",
              "</table>\n",
              "<p>1461017 rows × 2 columns</p>\n",
              "</div>"
            ],
            "text/plain": [
              "        Fecha de diagnóstico    x\n",
              "0                  6/3/2020   1.0\n",
              "1                 11/3/2020   1.0\n",
              "2                 11/3/2020   1.0\n",
              "3                 12/3/2020   1.0\n",
              "4                 12/3/2020   1.0\n",
              "...                      ...  ...\n",
              "1461080          22/11/2021   1.0\n",
              "1461081          22/11/2021   1.0\n",
              "1461082          22/11/2021   1.0\n",
              "1461083          22/11/2021   1.0\n",
              "1461085          22/11/2021   1.0\n",
              "\n",
              "[1461017 rows x 2 columns]"
            ]
          },
          "metadata": {},
          "execution_count": 38
        }
      ]
    },
    {
      "cell_type": "code",
      "metadata": {
        "id": "bKigVuFhcJY-",
        "colab": {
          "base_uri": "https://localhost:8080/",
          "height": 579
        },
        "outputId": "20785259-78dd-436f-da28-303d20777ee1"
      },
      "source": [
        "mod['Fecha de diagnóstico'] = pd.to_datetime(mod['Fecha de diagnóstico'],dayfirst = True) #Transformamos en una fecha \n",
        "mod = mod.set_index('Fecha de diagnóstico')\n",
        "mod\n"
      ],
      "execution_count": 39,
      "outputs": [
        {
          "output_type": "stream",
          "name": "stderr",
          "text": [
            "/usr/local/lib/python3.7/dist-packages/ipykernel_launcher.py:1: SettingWithCopyWarning: \n",
            "A value is trying to be set on a copy of a slice from a DataFrame.\n",
            "Try using .loc[row_indexer,col_indexer] = value instead\n",
            "\n",
            "See the caveats in the documentation: https://pandas.pydata.org/pandas-docs/stable/user_guide/indexing.html#returning-a-view-versus-a-copy\n",
            "  \"\"\"Entry point for launching an IPython kernel.\n"
          ]
        },
        {
          "output_type": "execute_result",
          "data": {
            "text/html": [
              "<div>\n",
              "<style scoped>\n",
              "    .dataframe tbody tr th:only-of-type {\n",
              "        vertical-align: middle;\n",
              "    }\n",
              "\n",
              "    .dataframe tbody tr th {\n",
              "        vertical-align: top;\n",
              "    }\n",
              "\n",
              "    .dataframe thead th {\n",
              "        text-align: right;\n",
              "    }\n",
              "</style>\n",
              "<table border=\"1\" class=\"dataframe\">\n",
              "  <thead>\n",
              "    <tr style=\"text-align: right;\">\n",
              "      <th></th>\n",
              "      <th>x</th>\n",
              "    </tr>\n",
              "    <tr>\n",
              "      <th>Fecha de diagnóstico</th>\n",
              "      <th></th>\n",
              "    </tr>\n",
              "  </thead>\n",
              "  <tbody>\n",
              "    <tr>\n",
              "      <th>2020-03-06</th>\n",
              "      <td>1.0</td>\n",
              "    </tr>\n",
              "    <tr>\n",
              "      <th>2020-03-11</th>\n",
              "      <td>1.0</td>\n",
              "    </tr>\n",
              "    <tr>\n",
              "      <th>2020-03-11</th>\n",
              "      <td>1.0</td>\n",
              "    </tr>\n",
              "    <tr>\n",
              "      <th>2020-03-12</th>\n",
              "      <td>1.0</td>\n",
              "    </tr>\n",
              "    <tr>\n",
              "      <th>2020-03-12</th>\n",
              "      <td>1.0</td>\n",
              "    </tr>\n",
              "    <tr>\n",
              "      <th>...</th>\n",
              "      <td>...</td>\n",
              "    </tr>\n",
              "    <tr>\n",
              "      <th>2021-11-22</th>\n",
              "      <td>1.0</td>\n",
              "    </tr>\n",
              "    <tr>\n",
              "      <th>2021-11-22</th>\n",
              "      <td>1.0</td>\n",
              "    </tr>\n",
              "    <tr>\n",
              "      <th>2021-11-22</th>\n",
              "      <td>1.0</td>\n",
              "    </tr>\n",
              "    <tr>\n",
              "      <th>2021-11-22</th>\n",
              "      <td>1.0</td>\n",
              "    </tr>\n",
              "    <tr>\n",
              "      <th>2021-11-22</th>\n",
              "      <td>1.0</td>\n",
              "    </tr>\n",
              "  </tbody>\n",
              "</table>\n",
              "<p>1461017 rows × 1 columns</p>\n",
              "</div>"
            ],
            "text/plain": [
              "                        x\n",
              "Fecha de diagnóstico     \n",
              "2020-03-06            1.0\n",
              "2020-03-11            1.0\n",
              "2020-03-11            1.0\n",
              "2020-03-12            1.0\n",
              "2020-03-12            1.0\n",
              "...                   ...\n",
              "2021-11-22            1.0\n",
              "2021-11-22            1.0\n",
              "2021-11-22            1.0\n",
              "2021-11-22            1.0\n",
              "2021-11-22            1.0\n",
              "\n",
              "[1461017 rows x 1 columns]"
            ]
          },
          "metadata": {},
          "execution_count": 39
        }
      ]
    },
    {
      "cell_type": "code",
      "metadata": {
        "id": "bMiFsZj8l6Tp"
      },
      "source": [
        "mod = mod.rename(columns={'x': 'y'})"
      ],
      "execution_count": 40,
      "outputs": []
    },
    {
      "cell_type": "code",
      "metadata": {
        "colab": {
          "base_uri": "https://localhost:8080/",
          "height": 455
        },
        "id": "xIdMSehTh4wM",
        "outputId": "674d6cef-7b52-4b45-d662-95ccd43bdbb6"
      },
      "source": [
        "mod = mod.resample('D').sum()\n",
        "mod"
      ],
      "execution_count": 41,
      "outputs": [
        {
          "output_type": "execute_result",
          "data": {
            "text/html": [
              "<div>\n",
              "<style scoped>\n",
              "    .dataframe tbody tr th:only-of-type {\n",
              "        vertical-align: middle;\n",
              "    }\n",
              "\n",
              "    .dataframe tbody tr th {\n",
              "        vertical-align: top;\n",
              "    }\n",
              "\n",
              "    .dataframe thead th {\n",
              "        text-align: right;\n",
              "    }\n",
              "</style>\n",
              "<table border=\"1\" class=\"dataframe\">\n",
              "  <thead>\n",
              "    <tr style=\"text-align: right;\">\n",
              "      <th></th>\n",
              "      <th>y</th>\n",
              "    </tr>\n",
              "    <tr>\n",
              "      <th>Fecha de diagnóstico</th>\n",
              "      <th></th>\n",
              "    </tr>\n",
              "  </thead>\n",
              "  <tbody>\n",
              "    <tr>\n",
              "      <th>2020-03-06</th>\n",
              "      <td>1.0</td>\n",
              "    </tr>\n",
              "    <tr>\n",
              "      <th>2020-03-07</th>\n",
              "      <td>0.0</td>\n",
              "    </tr>\n",
              "    <tr>\n",
              "      <th>2020-03-08</th>\n",
              "      <td>0.0</td>\n",
              "    </tr>\n",
              "    <tr>\n",
              "      <th>2020-03-09</th>\n",
              "      <td>0.0</td>\n",
              "    </tr>\n",
              "    <tr>\n",
              "      <th>2020-03-10</th>\n",
              "      <td>0.0</td>\n",
              "    </tr>\n",
              "    <tr>\n",
              "      <th>...</th>\n",
              "      <td>...</td>\n",
              "    </tr>\n",
              "    <tr>\n",
              "      <th>2021-11-18</th>\n",
              "      <td>374.0</td>\n",
              "    </tr>\n",
              "    <tr>\n",
              "      <th>2021-11-19</th>\n",
              "      <td>330.0</td>\n",
              "    </tr>\n",
              "    <tr>\n",
              "      <th>2021-11-20</th>\n",
              "      <td>274.0</td>\n",
              "    </tr>\n",
              "    <tr>\n",
              "      <th>2021-11-21</th>\n",
              "      <td>171.0</td>\n",
              "    </tr>\n",
              "    <tr>\n",
              "      <th>2021-11-22</th>\n",
              "      <td>230.0</td>\n",
              "    </tr>\n",
              "  </tbody>\n",
              "</table>\n",
              "<p>627 rows × 1 columns</p>\n",
              "</div>"
            ],
            "text/plain": [
              "                          y\n",
              "Fecha de diagnóstico       \n",
              "2020-03-06              1.0\n",
              "2020-03-07              0.0\n",
              "2020-03-08              0.0\n",
              "2020-03-09              0.0\n",
              "2020-03-10              0.0\n",
              "...                     ...\n",
              "2021-11-18            374.0\n",
              "2021-11-19            330.0\n",
              "2021-11-20            274.0\n",
              "2021-11-21            171.0\n",
              "2021-11-22            230.0\n",
              "\n",
              "[627 rows x 1 columns]"
            ]
          },
          "metadata": {},
          "execution_count": 41
        }
      ]
    },
    {
      "cell_type": "code",
      "metadata": {
        "colab": {
          "base_uri": "https://localhost:8080/",
          "height": 308
        },
        "id": "JHGKXakatVxI",
        "outputId": "1dc0535e-36fb-4b69-8ec3-c710b33ed69a"
      },
      "source": [
        "mod.plot()"
      ],
      "execution_count": 42,
      "outputs": [
        {
          "output_type": "execute_result",
          "data": {
            "text/plain": [
              "<matplotlib.axes._subplots.AxesSubplot at 0x7f9b43e698d0>"
            ]
          },
          "metadata": {},
          "execution_count": 42
        },
        {
          "output_type": "display_data",
          "data": {
            "image/png": "[encoded data removed]",
            "text/plain": [
              "<Figure size 432x288 with 1 Axes>"
            ]
          },
          "metadata": {
            "needs_background": "light"
          }
        }
      ]
    },
    {
      "cell_type": "code",
      "metadata": {
        "id": "4vdLyiAopTjk"
      },
      "source": [
        "conta=np.array(mod['y'].values)\n",
        "generator=TimeseriesGenerator(conta,conta,length=8,batch_size=365)"
      ],
      "execution_count": 93,
      "outputs": []
    },
    {
      "cell_type": "code",
      "metadata": {
        "id": "M3L2KIBsqQCx"
      },
      "source": [
        "model=tf.keras.models.Sequential()\n",
        "model.add(tf.keras.Input(shape=(8,)))\n",
        "model.add(tf.keras.layers.Dense(4,activation='linear'))\n",
        "model.add(tf.keras.layers.Dense(2,activation='linear'))\n",
        "model.add(tf.keras.layers.Dense(1,activation='linear'))"
      ],
      "execution_count": 114,
      "outputs": []
    },
    {
      "cell_type": "code",
      "metadata": {
        "colab": {
          "base_uri": "https://localhost:8080/",
          "height": 422
        },
        "id": "tjcCCEFqq1LF",
        "outputId": "52f24474-1c8d-49b0-ac81-443ccd5f46f7"
      },
      "source": [
        "tf.keras.utils.plot_model(model, show_shapes=True)"
      ],
      "execution_count": 115,
      "outputs": [
        {
          "output_type": "execute_result",
          "data": {
            "image/png": "[encoded data removed]",
            "text/plain": [
              "<IPython.core.display.Image object>"
            ]
          },
          "metadata": {},
          "execution_count": 115
        }
      ]
    },
    {
      "cell_type": "code",
      "metadata": {
        "id": "Ze57z4uorMmR"
      },
      "source": [
        "model.compile(loss='mse',optimizer='adam')"
      ],
      "execution_count": 116,
      "outputs": []
    },
    {
      "cell_type": "code",
      "metadata": {
        "colab": {
          "base_uri": "https://localhost:8080/"
        },
        "id": "xhDKHO7mrSzY",
        "outputId": "d1127880-169a-4e8e-a9ac-4b4304e339a6"
      },
      "source": [
        "model.fit_generator(generator,epochs=100)"
      ],
      "execution_count": 128,
      "outputs": [
        {
          "output_type": "stream",
          "name": "stdout",
          "text": [
            "Epoch 1/100\n",
            "2/2 [==============================] - 0s 10ms/step - loss: 1004936.6875\n",
            "Epoch 2/100\n",
            "2/2 [==============================] - 0s 8ms/step - loss: 998511.1250\n",
            "Epoch 3/100\n",
            "2/2 [==============================] - 0s 7ms/step - loss: 990625.1875\n",
            "Epoch 4/100\n",
            "1/2 [==============>...............] - ETA: 0s - loss: 716272.0000"
          ]
        },
        {
          "output_type": "stream",
          "name": "stderr",
          "text": [
            "/usr/local/lib/python3.7/dist-packages/ipykernel_launcher.py:1: UserWarning: `Model.fit_generator` is deprecated and will be removed in a future version. Please use `Model.fit`, which supports generators.\n",
            "  \"\"\"Entry point for launching an IPython kernel.\n"
          ]
        },
        {
          "output_type": "stream",
          "name": "stdout",
          "text": [
            "\b\b\b\b\b\b\b\b\b\b\b\b\b\b\b\b\b\b\b\b\b\b\b\b\b\b\b\b\b\b\b\b\b\b\b\b\b\b\b\b\b\b\b\b\b\b\b\b\b\b\b\b\b\b\b\b\b\b\b\b\b\b\b\b\b\b\r2/2 [==============================] - 0s 8ms/step - loss: 984369.4375\n",
            "Epoch 5/100\n",
            "2/2 [==============================] - 0s 9ms/step - loss: 979472.4375\n",
            "Epoch 6/100\n",
            "2/2 [==============================] - 0s 9ms/step - loss: 974551.0625\n",
            "Epoch 7/100\n",
            "2/2 [==============================] - 0s 11ms/step - loss: 972909.1875\n",
            "Epoch 8/100\n",
            "2/2 [==============================] - 0s 10ms/step - loss: 969988.9375\n",
            "Epoch 9/100\n",
            "2/2 [==============================] - 0s 8ms/step - loss: 968576.6250\n",
            "Epoch 10/100\n",
            "2/2 [==============================] - 0s 9ms/step - loss: 968024.8125\n",
            "Epoch 11/100\n",
            "2/2 [==============================] - 0s 8ms/step - loss: 966808.0625\n",
            "Epoch 12/100\n",
            "2/2 [==============================] - 0s 7ms/step - loss: 966577.8125\n",
            "Epoch 13/100\n",
            "2/2 [==============================] - 0s 8ms/step - loss: 966148.7500\n",
            "Epoch 14/100\n",
            "2/2 [==============================] - 0s 8ms/step - loss: 965689.5000\n",
            "Epoch 15/100\n",
            "2/2 [==============================] - 0s 9ms/step - loss: 965600.5625\n",
            "Epoch 16/100\n",
            "2/2 [==============================] - 0s 11ms/step - loss: 965416.9375\n",
            "Epoch 17/100\n",
            "2/2 [==============================] - 0s 7ms/step - loss: 965255.9375\n",
            "Epoch 18/100\n",
            "2/2 [==============================] - 0s 8ms/step - loss: 965092.3750\n",
            "Epoch 19/100\n",
            "2/2 [==============================] - 0s 9ms/step - loss: 964934.0000\n",
            "Epoch 20/100\n",
            "2/2 [==============================] - 0s 17ms/step - loss: 964763.8125\n",
            "Epoch 21/100\n",
            "2/2 [==============================] - 0s 8ms/step - loss: 964579.6875\n",
            "Epoch 22/100\n",
            "2/2 [==============================] - 0s 10ms/step - loss: 964381.3750\n",
            "Epoch 23/100\n",
            "2/2 [==============================] - 0s 10ms/step - loss: 964111.6250\n",
            "Epoch 24/100\n",
            "2/2 [==============================] - 0s 14ms/step - loss: 963899.5625\n",
            "Epoch 25/100\n",
            "2/2 [==============================] - 0s 5ms/step - loss: 963675.0625\n",
            "Epoch 26/100\n",
            "2/2 [==============================] - 0s 7ms/step - loss: 963440.5000\n",
            "Epoch 27/100\n",
            "2/2 [==============================] - 0s 8ms/step - loss: 963198.1250\n",
            "Epoch 28/100\n",
            "2/2 [==============================] - 0s 12ms/step - loss: 962950.0000\n",
            "Epoch 29/100\n",
            "2/2 [==============================] - 0s 9ms/step - loss: 962698.1250\n",
            "Epoch 30/100\n",
            "2/2 [==============================] - 0s 9ms/step - loss: 962444.0000\n",
            "Epoch 31/100\n",
            "2/2 [==============================] - 0s 7ms/step - loss: 962292.0000\n",
            "Epoch 32/100\n",
            "2/2 [==============================] - 0s 9ms/step - loss: 961915.8750\n",
            "Epoch 33/100\n",
            "2/2 [==============================] - 0s 9ms/step - loss: 961767.9375\n",
            "Epoch 34/100\n",
            "2/2 [==============================] - 0s 8ms/step - loss: 961497.5625\n",
            "Epoch 35/100\n",
            "2/2 [==============================] - 0s 8ms/step - loss: 961232.2500\n",
            "Epoch 36/100\n",
            "2/2 [==============================] - 0s 8ms/step - loss: 960877.3125\n",
            "Epoch 37/100\n",
            "2/2 [==============================] - 0s 8ms/step - loss: 960733.5625\n",
            "Epoch 38/100\n",
            "2/2 [==============================] - 0s 11ms/step - loss: 960383.3750\n",
            "Epoch 39/100\n",
            "2/2 [==============================] - 0s 9ms/step - loss: 960146.9375\n",
            "Epoch 40/100\n",
            "2/2 [==============================] - 0s 9ms/step - loss: 960001.7500\n",
            "Epoch 41/100\n",
            "2/2 [==============================] - 0s 7ms/step - loss: 959655.0000\n",
            "Epoch 42/100\n",
            "2/2 [==============================] - 0s 9ms/step - loss: 959418.7500\n",
            "Epoch 43/100\n",
            "2/2 [==============================] - 0s 7ms/step - loss: 959181.4375\n",
            "Epoch 44/100\n",
            "2/2 [==============================] - 0s 9ms/step - loss: 958942.6250\n",
            "Epoch 45/100\n",
            "2/2 [==============================] - 0s 8ms/step - loss: 958702.8125\n",
            "Epoch 46/100\n",
            "2/2 [==============================] - 0s 9ms/step - loss: 958551.2500\n",
            "Epoch 47/100\n",
            "2/2 [==============================] - 0s 8ms/step - loss: 958289.8750\n",
            "Epoch 48/100\n",
            "2/2 [==============================] - 0s 9ms/step - loss: 957950.6250\n",
            "Epoch 49/100\n",
            "2/2 [==============================] - 0s 7ms/step - loss: 957795.1250\n",
            "Epoch 50/100\n",
            "2/2 [==============================] - 0s 7ms/step - loss: 957537.3125\n",
            "Epoch 51/100\n",
            "2/2 [==============================] - 0s 13ms/step - loss: 957281.6250\n",
            "Epoch 52/100\n",
            "2/2 [==============================] - 0s 16ms/step - loss: 957027.4375\n",
            "Epoch 53/100\n",
            "2/2 [==============================] - 0s 10ms/step - loss: 956703.9375\n",
            "Epoch 54/100\n",
            "2/2 [==============================] - 0s 10ms/step - loss: 956542.1250\n",
            "Epoch 55/100\n",
            "2/2 [==============================] - 0s 6ms/step - loss: 956287.0625\n",
            "Epoch 56/100\n",
            "2/2 [==============================] - 0s 9ms/step - loss: 955963.7500\n",
            "Epoch 57/100\n",
            "2/2 [==============================] - 0s 9ms/step - loss: 955727.5000\n",
            "Epoch 58/100\n",
            "2/2 [==============================] - 0s 8ms/step - loss: 955563.1875\n",
            "Epoch 59/100\n",
            "2/2 [==============================] - 0s 12ms/step - loss: 955231.1250\n",
            "Epoch 60/100\n",
            "2/2 [==============================] - 0s 8ms/step - loss: 955066.4375\n",
            "Epoch 61/100\n",
            "2/2 [==============================] - 0s 8ms/step - loss: 954805.7500\n",
            "Epoch 62/100\n",
            "2/2 [==============================] - 0s 9ms/step - loss: 954474.5000\n",
            "Epoch 63/100\n",
            "2/2 [==============================] - 0s 7ms/step - loss: 954233.6875\n",
            "Epoch 64/100\n",
            "2/2 [==============================] - 0s 7ms/step - loss: 954068.1875\n",
            "Epoch 65/100\n",
            "2/2 [==============================] - 0s 10ms/step - loss: 953728.4375\n",
            "Epoch 66/100\n",
            "2/2 [==============================] - 0s 9ms/step - loss: 953562.6875\n",
            "Epoch 67/100\n",
            "2/2 [==============================] - 0s 9ms/step - loss: 953297.6875\n",
            "Epoch 68/100\n",
            "2/2 [==============================] - 0s 7ms/step - loss: 952959.8125\n",
            "Epoch 69/100\n",
            "2/2 [==============================] - 0s 10ms/step - loss: 952715.5625\n",
            "Epoch 70/100\n",
            "2/2 [==============================] - 0s 10ms/step - loss: 952549.3125\n",
            "Epoch 71/100\n",
            "2/2 [==============================] - 0s 9ms/step - loss: 952281.5625\n",
            "Epoch 72/100\n",
            "2/2 [==============================] - 0s 8ms/step - loss: 952015.6875\n",
            "Epoch 73/100\n",
            "2/2 [==============================] - 0s 10ms/step - loss: 951751.4375\n",
            "Epoch 74/100\n",
            "2/2 [==============================] - 0s 9ms/step - loss: 951415.1875\n",
            "Epoch 75/100\n",
            "2/2 [==============================] - 0s 10ms/step - loss: 951247.1875\n",
            "Epoch 76/100\n",
            "2/2 [==============================] - 0s 10ms/step - loss: 950906.9375\n",
            "Epoch 77/100\n",
            "2/2 [==============================] - 0s 10ms/step - loss: 950660.4375\n",
            "Epoch 78/100\n",
            "2/2 [==============================] - 0s 11ms/step - loss: 950411.5625\n",
            "Epoch 79/100\n",
            "2/2 [==============================] - 0s 8ms/step - loss: 950243.4375\n",
            "Epoch 80/100\n",
            "2/2 [==============================] - 0s 9ms/step - loss: 949970.8125\n",
            "Epoch 81/100\n",
            "2/2 [==============================] - 0s 9ms/step - loss: 949621.7500\n",
            "Epoch 82/100\n",
            "2/2 [==============================] - 0s 7ms/step - loss: 949371.7500\n",
            "Epoch 83/100\n",
            "2/2 [==============================] - 0s 9ms/step - loss: 949119.8125\n",
            "Epoch 84/100\n",
            "2/2 [==============================] - 0s 10ms/step - loss: 948865.4375\n",
            "Epoch 85/100\n",
            "2/2 [==============================] - 0s 9ms/step - loss: 948697.2500\n",
            "Epoch 86/100\n",
            "2/2 [==============================] - 0s 10ms/step - loss: 948335.2500\n",
            "Epoch 87/100\n",
            "2/2 [==============================] - 0s 10ms/step - loss: 948080.3125\n",
            "Epoch 88/100\n",
            "2/2 [==============================] - 0s 7ms/step - loss: 947911.9375\n",
            "Epoch 89/100\n",
            "2/2 [==============================] - 0s 8ms/step - loss: 947548.8750\n",
            "Epoch 90/100\n",
            "2/2 [==============================] - 0s 8ms/step - loss: 947293.4375\n",
            "Epoch 91/100\n",
            "2/2 [==============================] - 0s 12ms/step - loss: 947124.5000\n",
            "Epoch 92/100\n",
            "2/2 [==============================] - 0s 9ms/step - loss: 946845.3750\n",
            "Epoch 93/100\n",
            "2/2 [==============================] - 0s 9ms/step - loss: 946569.5000\n",
            "Epoch 94/100\n",
            "2/2 [==============================] - 0s 12ms/step - loss: 946217.2500\n",
            "Epoch 95/100\n",
            "2/2 [==============================] - 0s 8ms/step - loss: 946046.2500\n",
            "Epoch 96/100\n",
            "2/2 [==============================] - 0s 10ms/step - loss: 945772.1250\n",
            "Epoch 97/100\n",
            "2/2 [==============================] - 0s 11ms/step - loss: 945423.6875\n",
            "Epoch 98/100\n",
            "2/2 [==============================] - 0s 10ms/step - loss: 945172.1875\n",
            "Epoch 99/100\n",
            "2/2 [==============================] - 0s 10ms/step - loss: 944918.3125\n",
            "Epoch 100/100\n",
            "2/2 [==============================] - 0s 6ms/step - loss: 944662.3125\n"
          ]
        },
        {
          "output_type": "execute_result",
          "data": {
            "text/plain": [
              "<keras.callbacks.History at 0x7f9ab7fe7890>"
            ]
          },
          "metadata": {},
          "execution_count": 128
        }
      ]
    },
    {
      "cell_type": "code",
      "metadata": {
        "colab": {
          "base_uri": "https://localhost:8080/"
        },
        "id": "7LQQdjaxrlhX",
        "outputId": "869b0928-42e2-4acd-cf05-692e8ec2131b"
      },
      "source": [
        "print(model.summary())"
      ],
      "execution_count": 129,
      "outputs": [
        {
          "output_type": "stream",
          "name": "stdout",
          "text": [
            "Model: \"sequential_9\"\n",
            "_________________________________________________________________\n",
            " Layer (type)                Output Shape              Param #   \n",
            "=================================================================\n",
            " dense_16 (Dense)            (None, 4)                 36        \n",
            "                                                                 \n",
            " dense_17 (Dense)            (None, 2)                 10        \n",
            "                                                                 \n",
            " dense_18 (Dense)            (None, 1)                 3         \n",
            "                                                                 \n",
            "=================================================================\n",
            "Total params: 49\n",
            "Trainable params: 49\n",
            "Non-trainable params: 0\n",
            "_________________________________________________________________\n",
            "None\n"
          ]
        }
      ]
    },
    {
      "cell_type": "code",
      "metadata": {
        "colab": {
          "base_uri": "https://localhost:8080/"
        },
        "id": "WZaIvzO_rrTo",
        "outputId": "8b8c1b82-a35f-4c97-f3ff-383a83c8c32c"
      },
      "source": [
        "y_pred=model.predict_generator(generator)"
      ],
      "execution_count": 130,
      "outputs": [
        {
          "output_type": "stream",
          "name": "stderr",
          "text": [
            "/usr/local/lib/python3.7/dist-packages/ipykernel_launcher.py:1: UserWarning: `Model.predict_generator` is deprecated and will be removed in a future version. Please use `Model.predict`, which supports generators.\n",
            "  \"\"\"Entry point for launching an IPython kernel.\n"
          ]
        }
      ]
    },
    {
      "cell_type": "code",
      "metadata": {
        "colab": {
          "base_uri": "https://localhost:8080/",
          "height": 378
        },
        "id": "cbvdpOqNryyV",
        "outputId": "33a6c00d-d3fe-4e53-df48-7730fbfeead5"
      },
      "source": [
        "plt.figure(figsize=(14,8))\n",
        "\n",
        "plt.plot(conta[8:])\n",
        "\n",
        "plt.plot(y_pred)\n",
        "plt.show()"
      ],
      "execution_count": 133,
      "outputs": [
        {
          "output_type": "display_data",
          "data": {
            "image/png": "[encoded data removed]",
            "text/plain": [
              "<Figure size 1008x576 with 1 Axes>"
            ]
          },
          "metadata": {
            "needs_background": "light"
          }
        }
      ]
    },
    {
      "cell_type": "code",
      "metadata": {
        "id": "KQnzavX2hQGt"
      },
      "source": [
        ""
      ],
      "execution_count": null,
      "outputs": []
    }
  ]
}