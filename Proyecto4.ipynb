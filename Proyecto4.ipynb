{
  "nbformat": 4,
  "nbformat_minor": 0,
  "metadata": {
    "colab": {
      "name": "Proyecto4.ipynb",
      "provenance": [],
      "collapsed_sections": []
    },
    "kernelspec": {
      "display_name": "Python 3",
      "name": "python3"
    },
    "language_info": {
      "name": "python"
    }
  },
  "cells": [
    {
      "cell_type": "markdown",
      "metadata": {
        "id": "xSdwJenIGsiZ"
      },
      "source": [
        "# Proyecto 4\n",
        "##Carlos Fernando Gonzalez Sarmiento\n",
        "##Tatiana Chavez Perez\n",
        "##Harrison Smith Suarez\n",
        "##Harold Rojas"
      ]
    },
    {
      "cell_type": "code",
      "metadata": {
        "id": "tDWY18hkfR2K"
      },
      "source": [
        "import numpy as np\n",
        "import matplotlib.pyplot as plt\n",
        "import pandas as pd\n"
      ],
      "execution_count": null,
      "outputs": []
    },
    {
      "cell_type": "code",
      "metadata": {
        "id": "CUeR7E9-iRz-"
      },
      "source": [
        "class Regresion: #La matriz X debe estar planteada de tal manera que se construyan las columnas dentro de los corchetes, si ya lo tiene por filas solo transponga X\n",
        "  def __init__(self,fit,predict):\n",
        "    self.betas = X and Y\n",
        "    self.predict = X and Y\n",
        "    \n",
        "  def fit(X,Y): #Primero va la variable exlicativa y luego la respuesta\n",
        "\n",
        "    for i in range(X.shape[0]):\n",
        "      for j in range(X.shape[1]):\n",
        "        try:\n",
        "          float(X[i,j])\n",
        "          break\n",
        "        except ValueError:\n",
        "          return print(f'El dato de la matriz X en la posicion: {i,j}, no es un numero')\n",
        "\n",
        "    for i in range(Y.shape[0]):\n",
        "      try:\n",
        "        float(Y[i])\n",
        "        break\n",
        "      except ValueError:\n",
        "         return print(f'El dato del vector Y en la posicion: {i}, no es un numero')\n",
        "\n",
        "\n",
        "    o=str(input('¿Desea integrar tambien el intercepto?, si o no: '))\n",
        "    if o=='si':\n",
        "      def op1(X, Y):\n",
        "        X = np.insert(X, 0, np.array((np.ones(len(X[0])))), 0).T # Llenamos una columna con 1's como en nuestro modelo\n",
        "        return np.linalg.inv(X.T @ X) @ X.T @ Y  # Devolvemos los datos en un arreglo\n",
        "      b = op1(X, Y) # Parametros estiamdos \n",
        "      print(f\"Parámetros a estimar, b = {len(b)}\")\n",
        "      for i in range(len(b)):\n",
        "        print(f'B_{i} = {round(b[i],5)}')\n",
        "    elif o=='no':\n",
        "      def op2(X, Y):\n",
        "        X=X.T\n",
        "        return np.linalg.inv(X.T @ X) @ X.T @ Y  # Devolvemos los datos en un arreglo\n",
        "      b = op2(X, Y) # Parametros estiamdos \n",
        "     \n",
        "      print(f\"Parámetros a estimar, b = {len(b)}\")\n",
        "      for i in range(len(b)):\n",
        "        print(f'B_{i+1} = {round(b[i],5)}')\n",
        "    else:\n",
        "      print('se debe escribir (si) o (no)')\n",
        "\n",
        "\n",
        "  def predict(X,Y): #Primero va la variable exlicativa y luego la respuesta\n",
        "\n",
        "    for i in range(X.shape[0]):\n",
        "      for j in range(X.shape[1]):\n",
        "        try:\n",
        "          float(X[i,j])\n",
        "          break\n",
        "        except ValueError:\n",
        "          return print(f'El dato de la matriz X en la posicion: {i,j}, no es un numero')\n",
        "\n",
        "    for i in range(Y.shape[0]):\n",
        "      try:\n",
        "        float(Y[i])\n",
        "        break\n",
        "      except ValueError:\n",
        "         return print(f'El dato del vector Y en la posicion: {i}, no es un numero')\n",
        "\n",
        "\n",
        "    o=str(input('¿Desea integrar tambien el intercepto?, si o no: '))\n",
        "    if o=='si':\n",
        "      def op(X, Y):\n",
        "        X = np.insert(X, 0, np.array((np.ones(len(X[0])))), 0).T # Llenamos una fila con 1's como en nuestro modelo\n",
        "        return np.linalg.inv(X.T @ X) @ X.T @ Y  # Devolvemos los datos en un arreglo\n",
        "      b = list(op(X, Y))\n",
        "      n = len(b)\n",
        "      lista_x = [1]\n",
        "      i=1\n",
        "      v=0\n",
        "      while i < n:\n",
        "        valor = int(input(f'Escriba el valor X_{i}: ' ))\n",
        "        lista_x.append(valor)           # Pedimos y guardamos los valores de Xs\n",
        "        i+=1  \n",
        "      i=0\n",
        "      while i < len(lista_x):\n",
        "        if v==0:\n",
        "          Y=b[i]\n",
        "          v=1\n",
        "        else:\n",
        "          Y=Y+b[i]*lista_x[i]\n",
        "        i+=1\n",
        "      print(f'Se estima que cuando x tome los valores anteriores, la variable respuesta será: {Y}')\n",
        "    elif o=='no':\n",
        "      def op(X, Y):\n",
        "        X =X.T # Llenamos una fila con 1's como en nuestro modelo\n",
        "        return np.linalg.inv(X.T @ X) @ X.T @ Y  # Devolvemos los datos en un arreglo\n",
        "\n",
        "      b = list(op(X, Y))\n",
        "      n = len(b)\n",
        "      lista_x =[]\n",
        "      i=1\n",
        "      v=0\n",
        "      while i <= n:\n",
        "        valor = int(input(f'Escriba el valor X_{i}: ' ))\n",
        "        lista_x.append(valor)           # Pedimos y guardamos los valores de Xs\n",
        "        i+=1  \n",
        "      i=0\n",
        "      Y=0\n",
        "      while i < len(lista_x):\n",
        "      \n",
        "          Y=Y+b[i]*lista_x[i]\n",
        "          i+=1\n",
        "      print(f'Se estima que cuando x tome los valores anteriores, la variable respuesta será: {Y}')\n",
        "    else:\n",
        "      print('se debe escribir (si) o (no)')\n",
        "\n",
        "\n",
        "\n",
        "  "
      ],
      "execution_count": null,
      "outputs": []
    },
    {
      "cell_type": "code",
      "metadata": {
        "id": "FFT1WzXNggHw"
      },
      "source": [
        "X = np.array([[90, 105, 85, 92, 130, 80, 100], \n",
        "                  [21, 26, 14, 10, 12, 10, 15]]) #Ej X dentro de corchetes son las columnas\n",
        "Y = np.array([198, 219, 167, 167, 250, 150, 218])"
      ],
      "execution_count": null,
      "outputs": []
    },
    {
      "cell_type": "code",
      "metadata": {
        "colab": {
          "base_uri": "https://localhost:8080/"
        },
        "id": "Y3R-sfVpFEga",
        "outputId": "7d91fad9-678d-4513-a33f-cdcaa30fca67"
      },
      "source": [
        "Regresion.fit(X,Y)"
      ],
      "execution_count": null,
      "outputs": [
        {
          "output_type": "stream",
          "name": "stdout",
          "text": [
            "¿Desea integrar tambien el intercepto?, si o no: no\n",
            "Parámetros a estimar, b = 2\n",
            "B_1 = 1.75527\n",
            "B_2 = 1.61622\n"
          ]
        }
      ]
    },
    {
      "cell_type": "code",
      "metadata": {
        "colab": {
          "base_uri": "https://localhost:8080/"
        },
        "id": "W2Nn-4dwFLl-",
        "outputId": "fec05498-66e1-4045-ca09-b3b327105750"
      },
      "source": [
        "Regresion.predict(X,Y)"
      ],
      "execution_count": null,
      "outputs": [
        {
          "output_type": "stream",
          "name": "stdout",
          "text": [
            "¿Desea integrar tambien el intercepto?, si o no: si\n",
            "Escriba el valor X_1: 2\n",
            "Escriba el valor X_2: 3\n",
            "Se estima que cuando x tome los valores anteriores, la variable respuesta será: -7.974632283140085\n"
          ]
        }
      ]
    },
    {
      "cell_type": "code",
      "metadata": {
        "id": "Vw7C1gHikDuv"
      },
      "source": [
        "X = np.array([[90,21],[105, 26],[85, 14],[92,10 ],[130,12], [80, 10],[100,15]]) #Ej X dentro de corchetes son las filas\n",
        "V=X.T # se traspone para que no marque error la inversa \n",
        "Y = np.array([198, 219, 167, 167, 250, 150, 218])\n"
      ],
      "execution_count": null,
      "outputs": []
    },
    {
      "cell_type": "code",
      "metadata": {
        "colab": {
          "base_uri": "https://localhost:8080/"
        },
        "id": "tcG3sUIqoWaq",
        "outputId": "48c3491d-e246-4264-c926-b1aacd837312"
      },
      "source": [
        "Regresion.fit(V,Y)"
      ],
      "execution_count": null,
      "outputs": [
        {
          "output_type": "stream",
          "name": "stdout",
          "text": [
            "¿Desea integrar tambien el intercepto?, si o no: no\n",
            "Parámetros a estimar, b = 2\n",
            "B_1 = 1.75527\n",
            "B_2 = 1.61622\n"
          ]
        }
      ]
    },
    {
      "cell_type": "code",
      "metadata": {
        "colab": {
          "base_uri": "https://localhost:8080/"
        },
        "id": "9nGUPCK5mocp",
        "outputId": "2a3eb243-865c-4595-e428-026a6dcd693f"
      },
      "source": [
        "Regresion.predict(V,Y)\n"
      ],
      "execution_count": null,
      "outputs": [
        {
          "output_type": "stream",
          "name": "stdout",
          "text": [
            "¿Desea integrar tambien el intercepto?, si o no: si\n",
            "Escriba el valor X_1: 2\n",
            "Escriba el valor X_2: 3\n",
            "Se estima que cuando x tome los valores anteriores, la variable respuesta será: -7.974632283140085\n"
          ]
        }
      ]
    }
  ]
}