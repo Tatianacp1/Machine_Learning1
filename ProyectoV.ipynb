{
  "nbformat": 4,
  "nbformat_minor": 0,
  "metadata": {
    "colab": {
      "name": "ProyectoV.ipynb",
      "provenance": [],
      "collapsed_sections": []
    },
    "kernelspec": {
      "name": "python3",
      "display_name": "Python 3"
    },
    "language_info": {
      "name": "python"
    }
  },
  "cells": [
    {
      "cell_type": "markdown",
      "metadata": {
        "id": "k0jh2ZKk7hG3"
      },
      "source": [
        "#**Proyecto V**\n",
        "### Harrison Smith Suarez Neuta\n",
        "### Tatiana Chavez Perez\n",
        "### Carlos Fernando Gonzalez Sarmiento\n",
        "### Harold Arturo Rojas Camacho "
      ]
    },
    {
      "cell_type": "markdown",
      "metadata": {
        "id": "AW31Nrkp5R9a"
      },
      "source": [
        "### Librerias necesarias para el proceso."
      ]
    },
    {
      "cell_type": "code",
      "metadata": {
        "id": "hp2SHOFp7fJx"
      },
      "source": [
        "import pandas as pd\n",
        "import numpy as np\n",
        "import openpyxl as opx\n",
        "import matplotlib.pyplot as plt"
      ],
      "execution_count": null,
      "outputs": []
    },
    {
      "cell_type": "markdown",
      "metadata": {
        "id": "hC0_fjhl54jn"
      },
      "source": [
        "##### Link donde se obtuvieron las bases de datos de la GEIH, http://microdatos.dane.gov.co/index.php/catalog/707/get_microdata"
      ]
    },
    {
      "cell_type": "markdown",
      "metadata": {
        "id": "YHX4GKl65XHn"
      },
      "source": [
        "### Lectura de bases, por drive o cargandolas directamente del escritorio."
      ]
    },
    {
      "cell_type": "code",
      "metadata": {
        "id": "XfaAxxYYG3fT",
        "colab": {
          "base_uri": "https://localhost:8080/"
        },
        "outputId": "1e09379d-0fe4-419c-8083-f0d75faf85b1"
      },
      "source": [
        "#from google.colab import drive #Para que permita abrir Drive \n",
        "#drive.mount('/content/drive')"
      ],
      "execution_count": null,
      "outputs": [
        {
          "output_type": "stream",
          "name": "stdout",
          "text": [
            "Mounted at /content/drive\n"
          ]
        }
      ]
    },
    {
      "cell_type": "code",
      "metadata": {
        "id": "C6Czq-0tXrdb"
      },
      "source": [
        "#T1 = pd.read_csv('/content/drive/MyDrive/Amazonía/Caracteristicas generales (Personas).csv',sep=\";\")\n",
        "#T2 = pd.read_csv('/content/drive/MyDrive/Amazonía/Desocupados.csv',sep=\";\")\n",
        "#T3 = pd.read_csv('/content/drive/MyDrive/Amazonía/Fuerza de trabajo.csv',sep=\";\")\n",
        "#T4 = pd.read_csv('/content/drive/MyDrive/Amazonía/Inactivos.csv',sep=\";\")\n",
        "#T5 = pd.read_csv('/content/drive/MyDrive/Amazonía/Ocupados.csv',sep=\";\")\n",
        "\n",
        "T1 = pd.read_excel('/Caracteristicas generales (Personas).xlsx')\n",
        "T2 = pd.read_excel('/Desocupados.xlsx')\n",
        "T3 = pd.read_excel('/Fuerza de trabajo.xlsx')\n",
        "T4 = pd.read_excel('/Inactivos.xlsx')\n",
        "T5 = pd.read_excel('/Ocupados.xlsx')"
      ],
      "execution_count": null,
      "outputs": []
    },
    {
      "cell_type": "code",
      "metadata": {
        "colab": {
          "base_uri": "https://localhost:8080/"
        },
        "id": "Ck6QO2Hivfce",
        "outputId": "ce5fd558-1934-4d4d-ba14-4e92bd7f45da"
      },
      "source": [
        "#from google.colab import drive\n",
        "#drive.mount('/content/drive')"
      ],
      "execution_count": null,
      "outputs": [
        {
          "output_type": "stream",
          "name": "stdout",
          "text": [
            "Drive already mounted at /content/drive; to attempt to forcibly remount, call drive.mount(\"/content/drive\", force_remount=True).\n"
          ]
        }
      ]
    },
    {
      "cell_type": "markdown",
      "metadata": {
        "id": "7KXPpTHk5E_z"
      },
      "source": [
        "### Union de bases de datos por el indice \"Directorio\".\n"
      ]
    },
    {
      "cell_type": "code",
      "metadata": {
        "id": "hN3lmNUghkW4"
      },
      "source": [
        "T1 = T1[['DIRECTORIO','DPTO','AREA','P6020','P6040']]\n",
        "T2 = T2[['DIRECTORIO','DSI']]\n",
        "T3 = T3[['DIRECTORIO','FT','P6240','P6250','P6260','P6270','P6280','P6290','P6300','P6320','P6330','P6340','P6350','P6351']]\n",
        "T4 = T4[['DIRECTORIO','INI']]\n",
        "T5 = T5[['DIRECTORIO','P6500','P6750','P6760','P6800','P6850','P6830','OCI','P6430','RAMA2D_R4']]"
      ],
      "execution_count": null,
      "outputs": []
    },
    {
      "cell_type": "code",
      "metadata": {
        "id": "_adkL3mw_i6V"
      },
      "source": [
        "DF1 = pd.merge(T1, T2, on='DIRECTORIO') "
      ],
      "execution_count": null,
      "outputs": []
    },
    {
      "cell_type": "code",
      "metadata": {
        "id": "nKJEiyweqTFx"
      },
      "source": [
        "DF2 = pd.merge(DF1,T3, on=\"DIRECTORIO\")"
      ],
      "execution_count": null,
      "outputs": []
    },
    {
      "cell_type": "code",
      "metadata": {
        "id": "Ka0sAewXqekn"
      },
      "source": [
        "DF3 = pd.merge(DF2,T4, on=\"DIRECTORIO\")"
      ],
      "execution_count": null,
      "outputs": []
    },
    {
      "cell_type": "code",
      "metadata": {
        "id": "lNlGVZRrqpKR"
      },
      "source": [
        "DATOS = pd.merge(DF3,T5, on=\"DIRECTORIO\")\n",
        "DATOS"
      ],
      "execution_count": null,
      "outputs": []
    },
    {
      "cell_type": "code",
      "metadata": {
        "id": "gLOnFfBIIhKf"
      },
      "source": [
        "DATOS = DATOS.replace(' ', np.NaN) # Reemplzamos los valores faltantes por NaN"
      ],
      "execution_count": null,
      "outputs": []
    },
    {
      "cell_type": "code",
      "metadata": {
        "id": "NpCXDrqu8sBv"
      },
      "source": [
        "DATOS"
      ],
      "execution_count": null,
      "outputs": []
    },
    {
      "cell_type": "code",
      "metadata": {
        "colab": {
          "base_uri": "https://localhost:8080/"
        },
        "id": "VEF2tNrT0reZ",
        "outputId": "856fc2b0-5e06-4bc7-9696-c8ef79e1281e"
      },
      "source": [
        "DATOS.shape # Dimensiones de nuestra base de datos"
      ],
      "execution_count": null,
      "outputs": [
        {
          "output_type": "execute_result",
          "data": {
            "text/plain": [
              "(268433, 29)"
            ]
          },
          "metadata": {},
          "execution_count": 18
        }
      ]
    },
    {
      "cell_type": "code",
      "metadata": {
        "id": "yn-kXLMfJZS1"
      },
      "source": [
        "DATOS.isna().sum() # Cuenta de NaN por cada columna o variable"
      ],
      "execution_count": null,
      "outputs": []
    },
    {
      "cell_type": "code",
      "metadata": {
        "id": "yxiuUZLQpjxe",
        "colab": {
          "base_uri": "https://localhost:8080/"
        },
        "outputId": "87f8ba62-9534-44cb-d0c7-5392a361b163"
      },
      "source": [
        "DATOS['P6040'].mean() #La edad promedio de la población encuestada para la encuesta de GEIH - Nuevos Departamentos de la Amazonia y Orinoquía 2020"
      ],
      "execution_count": null,
      "outputs": [
        {
          "output_type": "execute_result",
          "data": {
            "text/plain": [
              "26.25290482168735"
            ]
          },
          "metadata": {},
          "execution_count": 21
        }
      ]
    },
    {
      "cell_type": "code",
      "metadata": {
        "id": "OjJXXGLey1ah"
      },
      "source": [
        "y = DATOS['P6020'] "
      ],
      "execution_count": null,
      "outputs": []
    },
    {
      "cell_type": "code",
      "metadata": {
        "colab": {
          "base_uri": "https://localhost:8080/"
        },
        "id": "DPxsOAV6YWBE",
        "outputId": "e7d9b7fb-08a3-47f8-ab74-620f2f3ead76"
      },
      "source": [
        "(y==2).sum() # Total de Mujeres en la encuesta"
      ],
      "execution_count": null,
      "outputs": [
        {
          "output_type": "execute_result",
          "data": {
            "text/plain": [
              "136675"
            ]
          },
          "metadata": {},
          "execution_count": 27
        }
      ]
    },
    {
      "cell_type": "code",
      "metadata": {
        "colab": {
          "base_uri": "https://localhost:8080/"
        },
        "id": "U2J5ygDt0kgF",
        "outputId": "c408c686-373f-41b0-cce2-a47ef8ab9037"
      },
      "source": [
        "(y==1).sum() # Total de Hombres en la encuesta"
      ],
      "execution_count": null,
      "outputs": [
        {
          "output_type": "execute_result",
          "data": {
            "text/plain": [
              "131758"
            ]
          },
          "metadata": {},
          "execution_count": 28
        }
      ]
    },
    {
      "cell_type": "code",
      "metadata": {
        "colab": {
          "base_uri": "https://localhost:8080/"
        },
        "id": "fRQRCuC8DNk6",
        "outputId": "824f755d-cb46-4cd6-d067-303e59d89ff2"
      },
      "source": [
        "(y==2).sum()/y.count() # Proporcion de Mujeres en la muestra"
      ],
      "execution_count": null,
      "outputs": [
        {
          "output_type": "execute_result",
          "data": {
            "text/plain": [
              "0.5091587099946728"
            ]
          },
          "metadata": {},
          "execution_count": 30
        }
      ]
    },
    {
      "cell_type": "code",
      "metadata": {
        "colab": {
          "base_uri": "https://localhost:8080/"
        },
        "id": "vv6BSxJBDT7q",
        "outputId": "b3402fef-ef8a-4312-e7e9-83f235ae2eeb"
      },
      "source": [
        "((y==1).sum()/y.count()) # Proporcion de Masculinidad"
      ],
      "execution_count": null,
      "outputs": [
        {
          "output_type": "execute_result",
          "data": {
            "text/plain": [
              "0.4908412900053272"
            ]
          },
          "metadata": {},
          "execution_count": 31
        }
      ]
    },
    {
      "cell_type": "code",
      "metadata": {
        "id": "Tfer1cat1PO0"
      },
      "source": [
        "((y==2).sum()/y.count() - ((y==1).sum()/y.count()))*100 #Diferencia porcentual \n",
        "plt.hist(y,bins=2, color='#F2AB6D', rwidth=0.85)"
      ],
      "execution_count": null,
      "outputs": []
    },
    {
      "cell_type": "code",
      "metadata": {
        "id": "4gJFSKkfMQQX"
      },
      "source": [
        "VA = [91,86,94,97,95] # CODIGOS DEPARTAMENTOS DE LA REGION AMAZONAS\n",
        "amz = DATOS[DATOS.DPTO.isin(VA)] # Datos de la region Amazonas"
      ],
      "execution_count": null,
      "outputs": []
    },
    {
      "cell_type": "code",
      "metadata": {
        "id": "yVGzw1N7H-3M"
      },
      "source": [
        "VO = [81,85,99] # CODIGOS DEPARTAMENTOS DE LA REGION ORINOQUIA\n",
        "orq = DATOS[DATOS.DPTO.isin(VO)] # Datos de la region Orinoquia\n"
      ],
      "execution_count": null,
      "outputs": []
    },
    {
      "cell_type": "code",
      "metadata": {
        "id": "KzoWO1IVXwSE"
      },
      "source": [
        "amz['P6240'] = str(amz['P6240'])"
      ],
      "execution_count": null,
      "outputs": []
    },
    {
      "cell_type": "code",
      "metadata": {
        "colab": {
          "base_uri": "https://localhost:8080/"
        },
        "id": "DNkJ7e_8LF4F",
        "outputId": "77545019-51be-4b1f-f48b-9760cd33006f"
      },
      "source": [
        "amz[amz['P6800'].notna()] # No tomamos los NaN's para el calculo en la variable \n",
        "amz['P6800'].mean() # El promedio de horas de trabajo semanales por persona en la region Amazonas segun la encuesta de GEIH"
      ],
      "execution_count": null,
      "outputs": [
        {
          "output_type": "execute_result",
          "data": {
            "text/plain": [
              "43.81394579728812"
            ]
          },
          "metadata": {},
          "execution_count": 72
        }
      ]
    },
    {
      "cell_type": "code",
      "metadata": {
        "colab": {
          "base_uri": "https://localhost:8080/"
        },
        "id": "I8HlpL-hPgLI",
        "outputId": "005b59d7-5df3-4ddc-dba7-d251065d5ff0"
      },
      "source": [
        "orq[orq['P6800'].notna()] # No tomamos los NaN's para el calculo en la variable \n",
        "orq['P6800'].mean() # El promedio de horas de trabajo semanales por persona en la region Orinoquia segun la encuesta de GEIH"
      ],
      "execution_count": null,
      "outputs": [
        {
          "output_type": "execute_result",
          "data": {
            "text/plain": [
              "48.336081963903055"
            ]
          },
          "metadata": {},
          "execution_count": 73
        }
      ]
    },
    {
      "cell_type": "code",
      "metadata": {
        "id": "5r2TY5Njo8og",
        "colab": {
          "base_uri": "https://localhost:8080/"
        },
        "outputId": "a0e76ada-1e12-4b07-f8ea-3117edd5a070"
      },
      "source": [
        "amz.loc[:, ['DPTO','P6800','P6430']].max() # Selección de variables para seleccionar en cual departamento en la region del Amazonas tiene el mayor numero de horas de trabajo por persona \n",
        "# y podemos ver que en el departamento de Vaupes hay una persona que trabaja 130 horas por semana como jornalero o peon."
      ],
      "execution_count": null,
      "outputs": [
        {
          "output_type": "execute_result",
          "data": {
            "text/plain": [
              "DPTO      97\n",
              "P6800    130\n",
              "P6430      8\n",
              "dtype: int64"
            ]
          },
          "metadata": {},
          "execution_count": 78
        }
      ]
    },
    {
      "cell_type": "code",
      "metadata": {
        "colab": {
          "base_uri": "https://localhost:8080/"
        },
        "id": "FpLwrWOdSPA3",
        "outputId": "bbf2bda0-4f49-4a6c-83d0-26c31471a35f"
      },
      "source": [
        "orq.loc[:, ['DPTO','P6800','P6430']].max() # Selección de variables para seleccionar en cual departamento en la region de Orinoquia tiene el mayor numero de horas de trabajo por persona \n",
        "# y podemos ver que al igual que en la region del Amazonas en el departamento de Vichada hay una persona que trabaja 130 horas por semana como jornalero o peon."
      ],
      "execution_count": null,
      "outputs": [
        {
          "output_type": "execute_result",
          "data": {
            "text/plain": [
              "DPTO      99\n",
              "P6800    130\n",
              "P6430      8\n",
              "dtype: int64"
            ]
          },
          "metadata": {},
          "execution_count": 79
        }
      ]
    },
    {
      "cell_type": "code",
      "metadata": {
        "colab": {
          "base_uri": "https://localhost:8080/"
        },
        "id": "K963WgRRbB9l",
        "outputId": "7c8ef723-30a3-4467-bf8c-8168f5d4e9c6"
      },
      "source": [
        "PET_amz = amz['FT'].sum() + amz['DSI'].sum()\n",
        "PET_amz #Poblacion en edad de trabajar de la region Amazonas, PEA + PEI"
      ],
      "execution_count": null,
      "outputs": [
        {
          "output_type": "execute_result",
          "data": {
            "text/plain": [
              "229804"
            ]
          },
          "metadata": {},
          "execution_count": 109
        }
      ]
    },
    {
      "cell_type": "code",
      "metadata": {
        "colab": {
          "base_uri": "https://localhost:8080/"
        },
        "id": "okgM_xOHbhSY",
        "outputId": "07e413ef-2ae3-4a55-bd03-5d6aa7a306dc"
      },
      "source": [
        "PET_orq = orq['FT'].sum() + orq['DSI'].sum()\n",
        "PET_orq #Poblacion en edad de trabajar de la region Amazonas, PEA + PEI"
      ],
      "execution_count": null,
      "outputs": [
        {
          "output_type": "execute_result",
          "data": {
            "text/plain": [
              "307062"
            ]
          },
          "metadata": {},
          "execution_count": 110
        }
      ]
    },
    {
      "cell_type": "code",
      "metadata": {
        "colab": {
          "base_uri": "https://localhost:8080/"
        },
        "id": "TDVHmewvcDhd",
        "outputId": "d4da234f-85f1-4a72-f3a1-74b2e29f9bc1"
      },
      "source": [
        "TO_amz = amz['OCI'].sum()/PET_amz\n",
        "TO_amz*100 # Tasa de Ocupados en la region del amazonas"
      ],
      "execution_count": null,
      "outputs": [
        {
          "output_type": "execute_result",
          "data": {
            "text/plain": [
              "50.0"
            ]
          },
          "metadata": {},
          "execution_count": 113
        }
      ]
    },
    {
      "cell_type": "code",
      "metadata": {
        "colab": {
          "base_uri": "https://localhost:8080/"
        },
        "id": "HxTYLDMccde3",
        "outputId": "7b6db740-47b0-40b3-a1bc-a581ae6a6d2e"
      },
      "source": [
        "TO_orq = orq['OCI'].sum()/PET_orq\n",
        "TO_orq*100 # Tasa de Ocupados en la region del amazonas"
      ],
      "execution_count": null,
      "outputs": [
        {
          "output_type": "execute_result",
          "data": {
            "text/plain": [
              "50.0"
            ]
          },
          "metadata": {},
          "execution_count": 114
        }
      ]
    },
    {
      "cell_type": "code",
      "metadata": {
        "colab": {
          "base_uri": "https://localhost:8080/"
        },
        "id": "9kQvrX1cc0gq",
        "outputId": "546cd1f2-1603-4cf3-9f9c-2816d6153615"
      },
      "source": [
        "TD_amz = amz['DSI'].sum()/amz['FT'].sum()\n",
        "TD_amz"
      ],
      "execution_count": null,
      "outputs": [
        {
          "output_type": "execute_result",
          "data": {
            "text/plain": [
              "1.0"
            ]
          },
          "metadata": {},
          "execution_count": 116
        }
      ]
    }
  ]
}