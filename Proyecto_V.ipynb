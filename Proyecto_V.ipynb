{
  "nbformat": 4,
  "nbformat_minor": 0,
  "metadata": {
    "colab": {
      "name": "Proyecto V.ipynb",
      "provenance": [],
      "collapsed_sections": []
    },
    "kernelspec": {
      "name": "python3",
      "display_name": "Python 3"
    },
    "language_info": {
      "name": "python"
    }
  },
  "cells": [
    {
      "cell_type": "markdown",
      "metadata": {
        "id": "k0jh2ZKk7hG3"
      },
      "source": [
        "#**Proyecto V**\n",
        "### Harrison Smith Suarez Neuta\n",
        "### Tatiana Chavez Perez\n",
        "### Carlos Fernando Gonzalez Sarmiento\n",
        "### Harold Arturo Rojas Camacho "
      ]
    },
    {
      "cell_type": "markdown",
      "metadata": {
        "id": "AW31Nrkp5R9a"
      },
      "source": [
        "### Librerias necesarias para el proceso."
      ]
    },
    {
      "cell_type": "code",
      "metadata": {
        "id": "hp2SHOFp7fJx"
      },
      "source": [
        "import pandas as pd\n",
        "import numpy as np\n",
        "import openpyxl as opx\n",
        "import matplotlib.pyplot as plt"
      ],
      "execution_count": null,
      "outputs": []
    },
    {
      "cell_type": "markdown",
      "metadata": {
        "id": "hC0_fjhl54jn"
      },
      "source": [
        "##### Link donde se obtuvieron las bases de datos de la GEIH, http://microdatos.dane.gov.co/index.php/catalog/707/get_microdata"
      ]
    },
    {
      "cell_type": "markdown",
      "metadata": {
        "id": "YHX4GKl65XHn"
      },
      "source": [
        "### Lectura de bases, por drive o cargandolas directamente del escritorio."
      ]
    },
    {
      "cell_type": "code",
      "metadata": {
        "id": "XfaAxxYYG3fT",
        "colab": {
          "base_uri": "https://localhost:8080/"
        },
        "outputId": "74cae8f1-b0a3-48e5-eb8b-1a9e409c5cd8"
      },
      "source": [
        "from google.colab import drive #Para que permita abrir Drive \n",
        "drive.mount('/content/drive')"
      ],
      "execution_count": null,
      "outputs": [
        {
          "output_type": "stream",
          "name": "stdout",
          "text": [
            "Mounted at /content/drive\n"
          ]
        }
      ]
    },
    {
      "cell_type": "code",
      "metadata": {
        "id": "C6Czq-0tXrdb"
      },
      "source": [
        "T1 = pd.read_csv('/content/drive/MyDrive/Tablas/Caracteristicas generales (Personas).csv',sep=\";\")\n",
        "T2 = pd.read_csv('/content/drive/MyDrive/Tablas/Desocupados.csv',sep=\";\")\n",
        "T3 = pd.read_csv('/content/drive/MyDrive/Tablas/Fuerza de trabajo.csv',sep=\";\")\n",
        "T4 = pd.read_csv('/content/drive/MyDrive/Tablas/Inactivos.csv',sep=\";\")\n",
        "T5 = pd.read_csv('/content/drive/MyDrive/Tablas/Ocupados.csv',sep=\";\")"
      ],
      "execution_count": null,
      "outputs": []
    },
    {
      "cell_type": "markdown",
      "metadata": {
        "id": "7KXPpTHk5E_z"
      },
      "source": [
        "### Union de bases de datos por el indice \"Directorio\".\n"
      ]
    },
    {
      "cell_type": "code",
      "metadata": {
        "id": "hN3lmNUghkW4"
      },
      "source": [
        "T1 = T1[['DIRECTORIO','DPTO','AREA','P6020','P6040']]\n",
        "T2 = T2[['DIRECTORIO','DSI']]\n",
        "T3 = T3[['DIRECTORIO','FT','P6240','P6250','P6260','P6270','P6280','P6290','P6300','P6320','P6330','P6340','P6350','P6351']]\n",
        "T4 = T4[['DIRECTORIO','INI']]\n",
        "T5 = T5[['DIRECTORIO','P6500','P6750','P6760','P6800','P6850','P6830','OCI','P6430','RAMA2D_R4']]"
      ],
      "execution_count": null,
      "outputs": []
    },
    {
      "cell_type": "code",
      "metadata": {
        "id": "_adkL3mw_i6V"
      },
      "source": [
        "DF1 = pd.merge(T1, T2, on='DIRECTORIO') "
      ],
      "execution_count": null,
      "outputs": []
    },
    {
      "cell_type": "code",
      "metadata": {
        "id": "nKJEiyweqTFx"
      },
      "source": [
        "DF2 = pd.merge(DF1,T3, on=\"DIRECTORIO\")"
      ],
      "execution_count": null,
      "outputs": []
    },
    {
      "cell_type": "code",
      "metadata": {
        "id": "Ka0sAewXqekn"
      },
      "source": [
        "DF3 = pd.merge(DF2,T4, on=\"DIRECTORIO\")"
      ],
      "execution_count": null,
      "outputs": []
    },
    {
      "cell_type": "code",
      "metadata": {
        "id": "lNlGVZRrqpKR",
        "colab": {
          "base_uri": "https://localhost:8080/",
          "height": 442
        },
        "outputId": "59a7c89e-8e23-4b6e-97d4-3ac4fb9b7b2e"
      },
      "source": [
        "DATOS = pd.merge(DF3,T5, on=\"DIRECTORIO\")\n",
        "DATOS"
      ],
      "execution_count": null,
      "outputs": [
        {
          "output_type": "execute_result",
          "data": {
            "text/html": [
              "<div>\n",
              "<style scoped>\n",
              "    .dataframe tbody tr th:only-of-type {\n",
              "        vertical-align: middle;\n",
              "    }\n",
              "\n",
              "    .dataframe tbody tr th {\n",
              "        vertical-align: top;\n",
              "    }\n",
              "\n",
              "    .dataframe thead th {\n",
              "        text-align: right;\n",
              "    }\n",
              "</style>\n",
              "<table border=\"1\" class=\"dataframe\">\n",
              "  <thead>\n",
              "    <tr style=\"text-align: right;\">\n",
              "      <th></th>\n",
              "      <th>DIRECTORIO</th>\n",
              "      <th>DPTO</th>\n",
              "      <th>AREA</th>\n",
              "      <th>P6020</th>\n",
              "      <th>P6040</th>\n",
              "      <th>DSI</th>\n",
              "      <th>FT</th>\n",
              "      <th>P6240</th>\n",
              "      <th>P6250</th>\n",
              "      <th>P6260</th>\n",
              "      <th>P6270</th>\n",
              "      <th>P6280</th>\n",
              "      <th>P6290</th>\n",
              "      <th>P6300</th>\n",
              "      <th>P6320</th>\n",
              "      <th>P6330</th>\n",
              "      <th>P6340</th>\n",
              "      <th>P6350</th>\n",
              "      <th>P6351</th>\n",
              "      <th>INI</th>\n",
              "      <th>P6500</th>\n",
              "      <th>P6750</th>\n",
              "      <th>P6760</th>\n",
              "      <th>P6800</th>\n",
              "      <th>P6850</th>\n",
              "      <th>P6830</th>\n",
              "      <th>OCI</th>\n",
              "      <th>P6430</th>\n",
              "      <th>RAMA2D_R4</th>\n",
              "    </tr>\n",
              "  </thead>\n",
              "  <tbody>\n",
              "    <tr>\n",
              "      <th>0</th>\n",
              "      <td>2271</td>\n",
              "      <td>97</td>\n",
              "      <td>97</td>\n",
              "      <td>1</td>\n",
              "      <td>57</td>\n",
              "      <td>1</td>\n",
              "      <td>1</td>\n",
              "      <td>4</td>\n",
              "      <td>2</td>\n",
              "      <td>1</td>\n",
              "      <td></td>\n",
              "      <td></td>\n",
              "      <td></td>\n",
              "      <td></td>\n",
              "      <td></td>\n",
              "      <td></td>\n",
              "      <td></td>\n",
              "      <td></td>\n",
              "      <td></td>\n",
              "      <td>1</td>\n",
              "      <td>4000000</td>\n",
              "      <td></td>\n",
              "      <td></td>\n",
              "      <td>40</td>\n",
              "      <td>0</td>\n",
              "      <td>5</td>\n",
              "      <td>1</td>\n",
              "      <td>2</td>\n",
              "      <td>85</td>\n",
              "    </tr>\n",
              "    <tr>\n",
              "      <th>1</th>\n",
              "      <td>2271</td>\n",
              "      <td>97</td>\n",
              "      <td>97</td>\n",
              "      <td>1</td>\n",
              "      <td>57</td>\n",
              "      <td>1</td>\n",
              "      <td>1</td>\n",
              "      <td>4</td>\n",
              "      <td>2</td>\n",
              "      <td>2</td>\n",
              "      <td>2</td>\n",
              "      <td>1</td>\n",
              "      <td>2</td>\n",
              "      <td></td>\n",
              "      <td></td>\n",
              "      <td></td>\n",
              "      <td></td>\n",
              "      <td></td>\n",
              "      <td>1</td>\n",
              "      <td>1</td>\n",
              "      <td>4000000</td>\n",
              "      <td></td>\n",
              "      <td></td>\n",
              "      <td>40</td>\n",
              "      <td>0</td>\n",
              "      <td>5</td>\n",
              "      <td>1</td>\n",
              "      <td>2</td>\n",
              "      <td>85</td>\n",
              "    </tr>\n",
              "    <tr>\n",
              "      <th>2</th>\n",
              "      <td>2271</td>\n",
              "      <td>97</td>\n",
              "      <td>97</td>\n",
              "      <td>1</td>\n",
              "      <td>57</td>\n",
              "      <td>1</td>\n",
              "      <td>1</td>\n",
              "      <td>4</td>\n",
              "      <td>2</td>\n",
              "      <td>2</td>\n",
              "      <td>2</td>\n",
              "      <td>2</td>\n",
              "      <td></td>\n",
              "      <td>2</td>\n",
              "      <td></td>\n",
              "      <td></td>\n",
              "      <td></td>\n",
              "      <td></td>\n",
              "      <td></td>\n",
              "      <td>1</td>\n",
              "      <td>4000000</td>\n",
              "      <td></td>\n",
              "      <td></td>\n",
              "      <td>40</td>\n",
              "      <td>0</td>\n",
              "      <td>5</td>\n",
              "      <td>1</td>\n",
              "      <td>2</td>\n",
              "      <td>85</td>\n",
              "    </tr>\n",
              "    <tr>\n",
              "      <th>3</th>\n",
              "      <td>2271</td>\n",
              "      <td>97</td>\n",
              "      <td>97</td>\n",
              "      <td>2</td>\n",
              "      <td>40</td>\n",
              "      <td>1</td>\n",
              "      <td>1</td>\n",
              "      <td>4</td>\n",
              "      <td>2</td>\n",
              "      <td>1</td>\n",
              "      <td></td>\n",
              "      <td></td>\n",
              "      <td></td>\n",
              "      <td></td>\n",
              "      <td></td>\n",
              "      <td></td>\n",
              "      <td></td>\n",
              "      <td></td>\n",
              "      <td></td>\n",
              "      <td>1</td>\n",
              "      <td>4000000</td>\n",
              "      <td></td>\n",
              "      <td></td>\n",
              "      <td>40</td>\n",
              "      <td>0</td>\n",
              "      <td>5</td>\n",
              "      <td>1</td>\n",
              "      <td>2</td>\n",
              "      <td>85</td>\n",
              "    </tr>\n",
              "    <tr>\n",
              "      <th>4</th>\n",
              "      <td>2271</td>\n",
              "      <td>97</td>\n",
              "      <td>97</td>\n",
              "      <td>2</td>\n",
              "      <td>40</td>\n",
              "      <td>1</td>\n",
              "      <td>1</td>\n",
              "      <td>4</td>\n",
              "      <td>2</td>\n",
              "      <td>2</td>\n",
              "      <td>2</td>\n",
              "      <td>1</td>\n",
              "      <td>2</td>\n",
              "      <td></td>\n",
              "      <td></td>\n",
              "      <td></td>\n",
              "      <td></td>\n",
              "      <td></td>\n",
              "      <td>1</td>\n",
              "      <td>1</td>\n",
              "      <td>4000000</td>\n",
              "      <td></td>\n",
              "      <td></td>\n",
              "      <td>40</td>\n",
              "      <td>0</td>\n",
              "      <td>5</td>\n",
              "      <td>1</td>\n",
              "      <td>2</td>\n",
              "      <td>85</td>\n",
              "    </tr>\n",
              "    <tr>\n",
              "      <th>...</th>\n",
              "      <td>...</td>\n",
              "      <td>...</td>\n",
              "      <td>...</td>\n",
              "      <td>...</td>\n",
              "      <td>...</td>\n",
              "      <td>...</td>\n",
              "      <td>...</td>\n",
              "      <td>...</td>\n",
              "      <td>...</td>\n",
              "      <td>...</td>\n",
              "      <td>...</td>\n",
              "      <td>...</td>\n",
              "      <td>...</td>\n",
              "      <td>...</td>\n",
              "      <td>...</td>\n",
              "      <td>...</td>\n",
              "      <td>...</td>\n",
              "      <td>...</td>\n",
              "      <td>...</td>\n",
              "      <td>...</td>\n",
              "      <td>...</td>\n",
              "      <td>...</td>\n",
              "      <td>...</td>\n",
              "      <td>...</td>\n",
              "      <td>...</td>\n",
              "      <td>...</td>\n",
              "      <td>...</td>\n",
              "      <td>...</td>\n",
              "      <td>...</td>\n",
              "    </tr>\n",
              "    <tr>\n",
              "      <th>268428</th>\n",
              "      <td>5328143</td>\n",
              "      <td>86</td>\n",
              "      <td>86</td>\n",
              "      <td>1</td>\n",
              "      <td>18</td>\n",
              "      <td>1</td>\n",
              "      <td>1</td>\n",
              "      <td>1</td>\n",
              "      <td></td>\n",
              "      <td></td>\n",
              "      <td></td>\n",
              "      <td></td>\n",
              "      <td></td>\n",
              "      <td></td>\n",
              "      <td></td>\n",
              "      <td></td>\n",
              "      <td></td>\n",
              "      <td></td>\n",
              "      <td></td>\n",
              "      <td>1</td>\n",
              "      <td></td>\n",
              "      <td>98</td>\n",
              "      <td>1</td>\n",
              "      <td>40</td>\n",
              "      <td>40</td>\n",
              "      <td></td>\n",
              "      <td>1</td>\n",
              "      <td>4</td>\n",
              "      <td>95</td>\n",
              "    </tr>\n",
              "    <tr>\n",
              "      <th>268429</th>\n",
              "      <td>5328143</td>\n",
              "      <td>86</td>\n",
              "      <td>86</td>\n",
              "      <td>1</td>\n",
              "      <td>18</td>\n",
              "      <td>1</td>\n",
              "      <td>1</td>\n",
              "      <td>4</td>\n",
              "      <td>2</td>\n",
              "      <td>2</td>\n",
              "      <td>2</td>\n",
              "      <td>2</td>\n",
              "      <td></td>\n",
              "      <td>2</td>\n",
              "      <td></td>\n",
              "      <td></td>\n",
              "      <td></td>\n",
              "      <td></td>\n",
              "      <td></td>\n",
              "      <td>1</td>\n",
              "      <td></td>\n",
              "      <td>98</td>\n",
              "      <td>1</td>\n",
              "      <td>40</td>\n",
              "      <td>40</td>\n",
              "      <td></td>\n",
              "      <td>1</td>\n",
              "      <td>4</td>\n",
              "      <td>56</td>\n",
              "    </tr>\n",
              "    <tr>\n",
              "      <th>268430</th>\n",
              "      <td>5328143</td>\n",
              "      <td>86</td>\n",
              "      <td>86</td>\n",
              "      <td>1</td>\n",
              "      <td>18</td>\n",
              "      <td>1</td>\n",
              "      <td>1</td>\n",
              "      <td>4</td>\n",
              "      <td>2</td>\n",
              "      <td>2</td>\n",
              "      <td>2</td>\n",
              "      <td>2</td>\n",
              "      <td></td>\n",
              "      <td>2</td>\n",
              "      <td></td>\n",
              "      <td></td>\n",
              "      <td></td>\n",
              "      <td></td>\n",
              "      <td></td>\n",
              "      <td>1</td>\n",
              "      <td></td>\n",
              "      <td>98</td>\n",
              "      <td>1</td>\n",
              "      <td>40</td>\n",
              "      <td>40</td>\n",
              "      <td></td>\n",
              "      <td>1</td>\n",
              "      <td>4</td>\n",
              "      <td>95</td>\n",
              "    </tr>\n",
              "    <tr>\n",
              "      <th>268431</th>\n",
              "      <td>5328143</td>\n",
              "      <td>86</td>\n",
              "      <td>86</td>\n",
              "      <td>1</td>\n",
              "      <td>18</td>\n",
              "      <td>1</td>\n",
              "      <td>1</td>\n",
              "      <td>1</td>\n",
              "      <td></td>\n",
              "      <td></td>\n",
              "      <td></td>\n",
              "      <td></td>\n",
              "      <td></td>\n",
              "      <td></td>\n",
              "      <td></td>\n",
              "      <td></td>\n",
              "      <td></td>\n",
              "      <td></td>\n",
              "      <td></td>\n",
              "      <td>1</td>\n",
              "      <td></td>\n",
              "      <td>98</td>\n",
              "      <td>1</td>\n",
              "      <td>40</td>\n",
              "      <td>40</td>\n",
              "      <td></td>\n",
              "      <td>1</td>\n",
              "      <td>4</td>\n",
              "      <td>56</td>\n",
              "    </tr>\n",
              "    <tr>\n",
              "      <th>268432</th>\n",
              "      <td>5328143</td>\n",
              "      <td>86</td>\n",
              "      <td>86</td>\n",
              "      <td>1</td>\n",
              "      <td>18</td>\n",
              "      <td>1</td>\n",
              "      <td>1</td>\n",
              "      <td>1</td>\n",
              "      <td></td>\n",
              "      <td></td>\n",
              "      <td></td>\n",
              "      <td></td>\n",
              "      <td></td>\n",
              "      <td></td>\n",
              "      <td></td>\n",
              "      <td></td>\n",
              "      <td></td>\n",
              "      <td></td>\n",
              "      <td></td>\n",
              "      <td>1</td>\n",
              "      <td></td>\n",
              "      <td>98</td>\n",
              "      <td>1</td>\n",
              "      <td>40</td>\n",
              "      <td>40</td>\n",
              "      <td></td>\n",
              "      <td>1</td>\n",
              "      <td>4</td>\n",
              "      <td>95</td>\n",
              "    </tr>\n",
              "  </tbody>\n",
              "</table>\n",
              "<p>268433 rows × 29 columns</p>\n",
              "</div>"
            ],
            "text/plain": [
              "        DIRECTORIO  DPTO  AREA  P6020  ...  P6830  OCI  P6430  RAMA2D_R4\n",
              "0             2271    97    97      1  ...      5    1      2         85\n",
              "1             2271    97    97      1  ...      5    1      2         85\n",
              "2             2271    97    97      1  ...      5    1      2         85\n",
              "3             2271    97    97      2  ...      5    1      2         85\n",
              "4             2271    97    97      2  ...      5    1      2         85\n",
              "...            ...   ...   ...    ...  ...    ...  ...    ...        ...\n",
              "268428     5328143    86    86      1  ...           1      4         95\n",
              "268429     5328143    86    86      1  ...           1      4         56\n",
              "268430     5328143    86    86      1  ...           1      4         95\n",
              "268431     5328143    86    86      1  ...           1      4         56\n",
              "268432     5328143    86    86      1  ...           1      4         95\n",
              "\n",
              "[268433 rows x 29 columns]"
            ]
          },
          "metadata": {},
          "execution_count": 10
        }
      ]
    },
    {
      "cell_type": "code",
      "metadata": {
        "id": "gLOnFfBIIhKf"
      },
      "source": [
        "DATOS = DATOS.replace(' ', np.NaN) # Reemplzamos los valores faltantes por NaN"
      ],
      "execution_count": null,
      "outputs": []
    },
    {
      "cell_type": "code",
      "metadata": {
        "id": "NpCXDrqu8sBv",
        "colab": {
          "base_uri": "https://localhost:8080/",
          "height": 442
        },
        "outputId": "61551085-a82a-409b-8b36-ed676f63b521"
      },
      "source": [
        "DATOS"
      ],
      "execution_count": null,
      "outputs": [
        {
          "output_type": "execute_result",
          "data": {
            "text/html": [
              "<div>\n",
              "<style scoped>\n",
              "    .dataframe tbody tr th:only-of-type {\n",
              "        vertical-align: middle;\n",
              "    }\n",
              "\n",
              "    .dataframe tbody tr th {\n",
              "        vertical-align: top;\n",
              "    }\n",
              "\n",
              "    .dataframe thead th {\n",
              "        text-align: right;\n",
              "    }\n",
              "</style>\n",
              "<table border=\"1\" class=\"dataframe\">\n",
              "  <thead>\n",
              "    <tr style=\"text-align: right;\">\n",
              "      <th></th>\n",
              "      <th>DIRECTORIO</th>\n",
              "      <th>DPTO</th>\n",
              "      <th>AREA</th>\n",
              "      <th>P6020</th>\n",
              "      <th>P6040</th>\n",
              "      <th>DSI</th>\n",
              "      <th>FT</th>\n",
              "      <th>P6240</th>\n",
              "      <th>P6250</th>\n",
              "      <th>P6260</th>\n",
              "      <th>P6270</th>\n",
              "      <th>P6280</th>\n",
              "      <th>P6290</th>\n",
              "      <th>P6300</th>\n",
              "      <th>P6320</th>\n",
              "      <th>P6330</th>\n",
              "      <th>P6340</th>\n",
              "      <th>P6350</th>\n",
              "      <th>P6351</th>\n",
              "      <th>INI</th>\n",
              "      <th>P6500</th>\n",
              "      <th>P6750</th>\n",
              "      <th>P6760</th>\n",
              "      <th>P6800</th>\n",
              "      <th>P6850</th>\n",
              "      <th>P6830</th>\n",
              "      <th>OCI</th>\n",
              "      <th>P6430</th>\n",
              "      <th>RAMA2D_R4</th>\n",
              "    </tr>\n",
              "  </thead>\n",
              "  <tbody>\n",
              "    <tr>\n",
              "      <th>0</th>\n",
              "      <td>2271</td>\n",
              "      <td>97</td>\n",
              "      <td>97</td>\n",
              "      <td>1</td>\n",
              "      <td>57</td>\n",
              "      <td>1</td>\n",
              "      <td>1</td>\n",
              "      <td>4</td>\n",
              "      <td>2</td>\n",
              "      <td>1</td>\n",
              "      <td>NaN</td>\n",
              "      <td>NaN</td>\n",
              "      <td>NaN</td>\n",
              "      <td>NaN</td>\n",
              "      <td>NaN</td>\n",
              "      <td>NaN</td>\n",
              "      <td>NaN</td>\n",
              "      <td>NaN</td>\n",
              "      <td>NaN</td>\n",
              "      <td>1</td>\n",
              "      <td>4000000</td>\n",
              "      <td>NaN</td>\n",
              "      <td>NaN</td>\n",
              "      <td>40</td>\n",
              "      <td>0</td>\n",
              "      <td>5</td>\n",
              "      <td>1</td>\n",
              "      <td>2</td>\n",
              "      <td>85</td>\n",
              "    </tr>\n",
              "    <tr>\n",
              "      <th>1</th>\n",
              "      <td>2271</td>\n",
              "      <td>97</td>\n",
              "      <td>97</td>\n",
              "      <td>1</td>\n",
              "      <td>57</td>\n",
              "      <td>1</td>\n",
              "      <td>1</td>\n",
              "      <td>4</td>\n",
              "      <td>2</td>\n",
              "      <td>2</td>\n",
              "      <td>2</td>\n",
              "      <td>1</td>\n",
              "      <td>2</td>\n",
              "      <td>NaN</td>\n",
              "      <td>NaN</td>\n",
              "      <td>NaN</td>\n",
              "      <td>NaN</td>\n",
              "      <td>NaN</td>\n",
              "      <td>1</td>\n",
              "      <td>1</td>\n",
              "      <td>4000000</td>\n",
              "      <td>NaN</td>\n",
              "      <td>NaN</td>\n",
              "      <td>40</td>\n",
              "      <td>0</td>\n",
              "      <td>5</td>\n",
              "      <td>1</td>\n",
              "      <td>2</td>\n",
              "      <td>85</td>\n",
              "    </tr>\n",
              "    <tr>\n",
              "      <th>2</th>\n",
              "      <td>2271</td>\n",
              "      <td>97</td>\n",
              "      <td>97</td>\n",
              "      <td>1</td>\n",
              "      <td>57</td>\n",
              "      <td>1</td>\n",
              "      <td>1</td>\n",
              "      <td>4</td>\n",
              "      <td>2</td>\n",
              "      <td>2</td>\n",
              "      <td>2</td>\n",
              "      <td>2</td>\n",
              "      <td>NaN</td>\n",
              "      <td>2</td>\n",
              "      <td>NaN</td>\n",
              "      <td>NaN</td>\n",
              "      <td>NaN</td>\n",
              "      <td>NaN</td>\n",
              "      <td>NaN</td>\n",
              "      <td>1</td>\n",
              "      <td>4000000</td>\n",
              "      <td>NaN</td>\n",
              "      <td>NaN</td>\n",
              "      <td>40</td>\n",
              "      <td>0</td>\n",
              "      <td>5</td>\n",
              "      <td>1</td>\n",
              "      <td>2</td>\n",
              "      <td>85</td>\n",
              "    </tr>\n",
              "    <tr>\n",
              "      <th>3</th>\n",
              "      <td>2271</td>\n",
              "      <td>97</td>\n",
              "      <td>97</td>\n",
              "      <td>2</td>\n",
              "      <td>40</td>\n",
              "      <td>1</td>\n",
              "      <td>1</td>\n",
              "      <td>4</td>\n",
              "      <td>2</td>\n",
              "      <td>1</td>\n",
              "      <td>NaN</td>\n",
              "      <td>NaN</td>\n",
              "      <td>NaN</td>\n",
              "      <td>NaN</td>\n",
              "      <td>NaN</td>\n",
              "      <td>NaN</td>\n",
              "      <td>NaN</td>\n",
              "      <td>NaN</td>\n",
              "      <td>NaN</td>\n",
              "      <td>1</td>\n",
              "      <td>4000000</td>\n",
              "      <td>NaN</td>\n",
              "      <td>NaN</td>\n",
              "      <td>40</td>\n",
              "      <td>0</td>\n",
              "      <td>5</td>\n",
              "      <td>1</td>\n",
              "      <td>2</td>\n",
              "      <td>85</td>\n",
              "    </tr>\n",
              "    <tr>\n",
              "      <th>4</th>\n",
              "      <td>2271</td>\n",
              "      <td>97</td>\n",
              "      <td>97</td>\n",
              "      <td>2</td>\n",
              "      <td>40</td>\n",
              "      <td>1</td>\n",
              "      <td>1</td>\n",
              "      <td>4</td>\n",
              "      <td>2</td>\n",
              "      <td>2</td>\n",
              "      <td>2</td>\n",
              "      <td>1</td>\n",
              "      <td>2</td>\n",
              "      <td>NaN</td>\n",
              "      <td>NaN</td>\n",
              "      <td>NaN</td>\n",
              "      <td>NaN</td>\n",
              "      <td>NaN</td>\n",
              "      <td>1</td>\n",
              "      <td>1</td>\n",
              "      <td>4000000</td>\n",
              "      <td>NaN</td>\n",
              "      <td>NaN</td>\n",
              "      <td>40</td>\n",
              "      <td>0</td>\n",
              "      <td>5</td>\n",
              "      <td>1</td>\n",
              "      <td>2</td>\n",
              "      <td>85</td>\n",
              "    </tr>\n",
              "    <tr>\n",
              "      <th>...</th>\n",
              "      <td>...</td>\n",
              "      <td>...</td>\n",
              "      <td>...</td>\n",
              "      <td>...</td>\n",
              "      <td>...</td>\n",
              "      <td>...</td>\n",
              "      <td>...</td>\n",
              "      <td>...</td>\n",
              "      <td>...</td>\n",
              "      <td>...</td>\n",
              "      <td>...</td>\n",
              "      <td>...</td>\n",
              "      <td>...</td>\n",
              "      <td>...</td>\n",
              "      <td>...</td>\n",
              "      <td>...</td>\n",
              "      <td>...</td>\n",
              "      <td>...</td>\n",
              "      <td>...</td>\n",
              "      <td>...</td>\n",
              "      <td>...</td>\n",
              "      <td>...</td>\n",
              "      <td>...</td>\n",
              "      <td>...</td>\n",
              "      <td>...</td>\n",
              "      <td>...</td>\n",
              "      <td>...</td>\n",
              "      <td>...</td>\n",
              "      <td>...</td>\n",
              "    </tr>\n",
              "    <tr>\n",
              "      <th>268428</th>\n",
              "      <td>5328143</td>\n",
              "      <td>86</td>\n",
              "      <td>86</td>\n",
              "      <td>1</td>\n",
              "      <td>18</td>\n",
              "      <td>1</td>\n",
              "      <td>1</td>\n",
              "      <td>1</td>\n",
              "      <td>NaN</td>\n",
              "      <td>NaN</td>\n",
              "      <td>NaN</td>\n",
              "      <td>NaN</td>\n",
              "      <td>NaN</td>\n",
              "      <td>NaN</td>\n",
              "      <td>NaN</td>\n",
              "      <td>NaN</td>\n",
              "      <td>NaN</td>\n",
              "      <td>NaN</td>\n",
              "      <td>NaN</td>\n",
              "      <td>1</td>\n",
              "      <td>NaN</td>\n",
              "      <td>98</td>\n",
              "      <td>1</td>\n",
              "      <td>40</td>\n",
              "      <td>40</td>\n",
              "      <td>NaN</td>\n",
              "      <td>1</td>\n",
              "      <td>4</td>\n",
              "      <td>95</td>\n",
              "    </tr>\n",
              "    <tr>\n",
              "      <th>268429</th>\n",
              "      <td>5328143</td>\n",
              "      <td>86</td>\n",
              "      <td>86</td>\n",
              "      <td>1</td>\n",
              "      <td>18</td>\n",
              "      <td>1</td>\n",
              "      <td>1</td>\n",
              "      <td>4</td>\n",
              "      <td>2</td>\n",
              "      <td>2</td>\n",
              "      <td>2</td>\n",
              "      <td>2</td>\n",
              "      <td>NaN</td>\n",
              "      <td>2</td>\n",
              "      <td>NaN</td>\n",
              "      <td>NaN</td>\n",
              "      <td>NaN</td>\n",
              "      <td>NaN</td>\n",
              "      <td>NaN</td>\n",
              "      <td>1</td>\n",
              "      <td>NaN</td>\n",
              "      <td>98</td>\n",
              "      <td>1</td>\n",
              "      <td>40</td>\n",
              "      <td>40</td>\n",
              "      <td>NaN</td>\n",
              "      <td>1</td>\n",
              "      <td>4</td>\n",
              "      <td>56</td>\n",
              "    </tr>\n",
              "    <tr>\n",
              "      <th>268430</th>\n",
              "      <td>5328143</td>\n",
              "      <td>86</td>\n",
              "      <td>86</td>\n",
              "      <td>1</td>\n",
              "      <td>18</td>\n",
              "      <td>1</td>\n",
              "      <td>1</td>\n",
              "      <td>4</td>\n",
              "      <td>2</td>\n",
              "      <td>2</td>\n",
              "      <td>2</td>\n",
              "      <td>2</td>\n",
              "      <td>NaN</td>\n",
              "      <td>2</td>\n",
              "      <td>NaN</td>\n",
              "      <td>NaN</td>\n",
              "      <td>NaN</td>\n",
              "      <td>NaN</td>\n",
              "      <td>NaN</td>\n",
              "      <td>1</td>\n",
              "      <td>NaN</td>\n",
              "      <td>98</td>\n",
              "      <td>1</td>\n",
              "      <td>40</td>\n",
              "      <td>40</td>\n",
              "      <td>NaN</td>\n",
              "      <td>1</td>\n",
              "      <td>4</td>\n",
              "      <td>95</td>\n",
              "    </tr>\n",
              "    <tr>\n",
              "      <th>268431</th>\n",
              "      <td>5328143</td>\n",
              "      <td>86</td>\n",
              "      <td>86</td>\n",
              "      <td>1</td>\n",
              "      <td>18</td>\n",
              "      <td>1</td>\n",
              "      <td>1</td>\n",
              "      <td>1</td>\n",
              "      <td>NaN</td>\n",
              "      <td>NaN</td>\n",
              "      <td>NaN</td>\n",
              "      <td>NaN</td>\n",
              "      <td>NaN</td>\n",
              "      <td>NaN</td>\n",
              "      <td>NaN</td>\n",
              "      <td>NaN</td>\n",
              "      <td>NaN</td>\n",
              "      <td>NaN</td>\n",
              "      <td>NaN</td>\n",
              "      <td>1</td>\n",
              "      <td>NaN</td>\n",
              "      <td>98</td>\n",
              "      <td>1</td>\n",
              "      <td>40</td>\n",
              "      <td>40</td>\n",
              "      <td>NaN</td>\n",
              "      <td>1</td>\n",
              "      <td>4</td>\n",
              "      <td>56</td>\n",
              "    </tr>\n",
              "    <tr>\n",
              "      <th>268432</th>\n",
              "      <td>5328143</td>\n",
              "      <td>86</td>\n",
              "      <td>86</td>\n",
              "      <td>1</td>\n",
              "      <td>18</td>\n",
              "      <td>1</td>\n",
              "      <td>1</td>\n",
              "      <td>1</td>\n",
              "      <td>NaN</td>\n",
              "      <td>NaN</td>\n",
              "      <td>NaN</td>\n",
              "      <td>NaN</td>\n",
              "      <td>NaN</td>\n",
              "      <td>NaN</td>\n",
              "      <td>NaN</td>\n",
              "      <td>NaN</td>\n",
              "      <td>NaN</td>\n",
              "      <td>NaN</td>\n",
              "      <td>NaN</td>\n",
              "      <td>1</td>\n",
              "      <td>NaN</td>\n",
              "      <td>98</td>\n",
              "      <td>1</td>\n",
              "      <td>40</td>\n",
              "      <td>40</td>\n",
              "      <td>NaN</td>\n",
              "      <td>1</td>\n",
              "      <td>4</td>\n",
              "      <td>95</td>\n",
              "    </tr>\n",
              "  </tbody>\n",
              "</table>\n",
              "<p>268433 rows × 29 columns</p>\n",
              "</div>"
            ],
            "text/plain": [
              "        DIRECTORIO  DPTO  AREA  P6020  ...  P6830  OCI  P6430  RAMA2D_R4\n",
              "0             2271    97    97      1  ...      5    1      2         85\n",
              "1             2271    97    97      1  ...      5    1      2         85\n",
              "2             2271    97    97      1  ...      5    1      2         85\n",
              "3             2271    97    97      2  ...      5    1      2         85\n",
              "4             2271    97    97      2  ...      5    1      2         85\n",
              "...            ...   ...   ...    ...  ...    ...  ...    ...        ...\n",
              "268428     5328143    86    86      1  ...    NaN    1      4         95\n",
              "268429     5328143    86    86      1  ...    NaN    1      4         56\n",
              "268430     5328143    86    86      1  ...    NaN    1      4         95\n",
              "268431     5328143    86    86      1  ...    NaN    1      4         56\n",
              "268432     5328143    86    86      1  ...    NaN    1      4         95\n",
              "\n",
              "[268433 rows x 29 columns]"
            ]
          },
          "metadata": {},
          "execution_count": 12
        }
      ]
    },
    {
      "cell_type": "code",
      "metadata": {
        "colab": {
          "base_uri": "https://localhost:8080/"
        },
        "id": "VEF2tNrT0reZ",
        "outputId": "5115bab7-5a14-45f7-8a5e-b5b3832989de"
      },
      "source": [
        "DATOS.shape # Dimensiones de nuestra base de datos"
      ],
      "execution_count": null,
      "outputs": [
        {
          "output_type": "execute_result",
          "data": {
            "text/plain": [
              "(268433, 29)"
            ]
          },
          "metadata": {},
          "execution_count": 13
        }
      ]
    },
    {
      "cell_type": "code",
      "metadata": {
        "id": "yn-kXLMfJZS1",
        "colab": {
          "base_uri": "https://localhost:8080/"
        },
        "outputId": "119362e4-d0cb-4a39-f2ff-c13d0bb5a504"
      },
      "source": [
        "DATOS.isna().sum() # Cuenta de NaN por cada columna o variable"
      ],
      "execution_count": null,
      "outputs": [
        {
          "output_type": "execute_result",
          "data": {
            "text/plain": [
              "DIRECTORIO         0\n",
              "DPTO               0\n",
              "AREA               0\n",
              "P6020              0\n",
              "P6040              0\n",
              "DSI                0\n",
              "FT                 0\n",
              "P6240              0\n",
              "P6250          73823\n",
              "P6260          83489\n",
              "P6270          87015\n",
              "P6280          87313\n",
              "P6290         202788\n",
              "P6300         152958\n",
              "P6320         259308\n",
              "P6330         263502\n",
              "P6340         264239\n",
              "P6350         263754\n",
              "P6351         197681\n",
              "INI                0\n",
              "P6500         128949\n",
              "P6750         140614\n",
              "P6760         140614\n",
              "P6800              0\n",
              "P6850              0\n",
              "P6830         242033\n",
              "OCI                0\n",
              "P6430              0\n",
              "RAMA2D_R4          0\n",
              "dtype: int64"
            ]
          },
          "metadata": {},
          "execution_count": 15
        }
      ]
    },
    {
      "cell_type": "code",
      "metadata": {
        "id": "yxiuUZLQpjxe",
        "colab": {
          "base_uri": "https://localhost:8080/"
        },
        "outputId": "0dd12649-35ce-43da-d2a3-22a75dc1541f"
      },
      "source": [
        "DATOS['P6040'].mean() #La edad promedio de la población encuestada para la encuesta de GEIH - Nuevos Departamentos de la Amazonia y Orinoquía 2020"
      ],
      "execution_count": null,
      "outputs": [
        {
          "output_type": "execute_result",
          "data": {
            "text/plain": [
              "26.25290482168735"
            ]
          },
          "metadata": {},
          "execution_count": 16
        }
      ]
    },
    {
      "cell_type": "code",
      "metadata": {
        "id": "OjJXXGLey1ah"
      },
      "source": [
        "y = DATOS['P6020'] "
      ],
      "execution_count": null,
      "outputs": []
    },
    {
      "cell_type": "code",
      "metadata": {
        "colab": {
          "base_uri": "https://localhost:8080/"
        },
        "id": "DPxsOAV6YWBE",
        "outputId": "b84c4b1f-57dd-469a-a304-356c0d28bfb2"
      },
      "source": [
        "(y==2).sum() # Total de Mujeres en la encuesta"
      ],
      "execution_count": null,
      "outputs": [
        {
          "output_type": "execute_result",
          "data": {
            "text/plain": [
              "136675"
            ]
          },
          "metadata": {},
          "execution_count": 18
        }
      ]
    },
    {
      "cell_type": "code",
      "metadata": {
        "colab": {
          "base_uri": "https://localhost:8080/"
        },
        "id": "U2J5ygDt0kgF",
        "outputId": "1e336bc3-ce8f-461e-b026-fc137e0fea04"
      },
      "source": [
        "(y==1).sum() # Total de Hombres en la encuesta"
      ],
      "execution_count": null,
      "outputs": [
        {
          "output_type": "execute_result",
          "data": {
            "text/plain": [
              "131758"
            ]
          },
          "metadata": {},
          "execution_count": 19
        }
      ]
    },
    {
      "cell_type": "code",
      "metadata": {
        "colab": {
          "base_uri": "https://localhost:8080/"
        },
        "id": "fRQRCuC8DNk6",
        "outputId": "e762a4b7-0d10-41e4-d127-941c1c54fc74"
      },
      "source": [
        "(y==2).sum()/y.count() # Proporcion de Mujeres en la muestra"
      ],
      "execution_count": null,
      "outputs": [
        {
          "output_type": "execute_result",
          "data": {
            "text/plain": [
              "0.5091587099946728"
            ]
          },
          "metadata": {},
          "execution_count": 20
        }
      ]
    },
    {
      "cell_type": "code",
      "metadata": {
        "colab": {
          "base_uri": "https://localhost:8080/"
        },
        "id": "vv6BSxJBDT7q",
        "outputId": "6535814c-4827-438c-9b29-5692070a2b5b"
      },
      "source": [
        "((y==1).sum()/y.count()) # Proporcion de Masculinidad"
      ],
      "execution_count": null,
      "outputs": [
        {
          "output_type": "execute_result",
          "data": {
            "text/plain": [
              "0.4908412900053272"
            ]
          },
          "metadata": {},
          "execution_count": 21
        }
      ]
    },
    {
      "cell_type": "code",
      "metadata": {
        "id": "Tfer1cat1PO0",
        "colab": {
          "base_uri": "https://localhost:8080/",
          "height": 313
        },
        "outputId": "84c01080-890d-4e78-9b40-a6af32020fa9"
      },
      "source": [
        "((y==2).sum()/y.count() - ((y==1).sum()/y.count()))*100 #Diferencia porcentual\n",
        "label = ['Mujeres','Hombres'] \n",
        "plt.hist(y,bins=2, color='tab:purple', rwidth=0.85,label=label)\n",
        "plt.title(\"Número de personas de acuerdo al sexo\")\n",
        "plt.ylabel(\"Cantidad\")\n",
        "plt.xlabel(\"Mujeres                      Hombres\")"
      ],
      "execution_count": null,
      "outputs": [
        {
          "output_type": "execute_result",
          "data": {
            "text/plain": [
              "Text(0.5, 0, 'Mujeres                      Hombres')"
            ]
          },
          "metadata": {},
          "execution_count": 22
        },
        {
          "output_type": "display_data",
          "data": {
            "image/png": "[encoded data removed]",
            "text/plain": [
              "<Figure size 432x288 with 1 Axes>"
            ]
          },
          "metadata": {
            "needs_background": "light"
          }
        }
      ]
    },
    {
      "cell_type": "markdown",
      "metadata": {
        "id": "4qAarKKyM6F4"
      },
      "source": [
        "COMPARACIÓN DE REGIONES"
      ]
    },
    {
      "cell_type": "code",
      "metadata": {
        "id": "4gJFSKkfMQQX"
      },
      "source": [
        "VA = [91,86,94,97,95] # CODIGOS DEPARTAMENTOS DE LA REGION AMAZONAS\n",
        "amz = DATOS[DATOS.DPTO.isin(VA)] # Datos de la region Amazonas"
      ],
      "execution_count": null,
      "outputs": []
    },
    {
      "cell_type": "code",
      "metadata": {
        "id": "yVGzw1N7H-3M"
      },
      "source": [
        "VO = [81,85,99] # CODIGOS DEPARTAMENTOS DE LA REGION ORINOQUIA\n",
        "orq = DATOS[DATOS.DPTO.isin(VO)] # Datos de la region Orinoquia\n"
      ],
      "execution_count": null,
      "outputs": []
    },
    {
      "cell_type": "code",
      "metadata": {
        "id": "KzoWO1IVXwSE",
        "colab": {
          "base_uri": "https://localhost:8080/"
        },
        "outputId": "2a500646-3a63-4b6e-d57b-f99deff5f76b"
      },
      "source": [
        "amz['P6240'] = str(amz['P6240'])"
      ],
      "execution_count": null,
      "outputs": [
        {
          "output_type": "stream",
          "name": "stderr",
          "text": [
            "/usr/local/lib/python3.7/dist-packages/ipykernel_launcher.py:1: SettingWithCopyWarning: \n",
            "A value is trying to be set on a copy of a slice from a DataFrame.\n",
            "Try using .loc[row_indexer,col_indexer] = value instead\n",
            "\n",
            "See the caveats in the documentation: https://pandas.pydata.org/pandas-docs/stable/user_guide/indexing.html#returning-a-view-versus-a-copy\n",
            "  \"\"\"Entry point for launching an IPython kernel.\n"
          ]
        }
      ]
    },
    {
      "cell_type": "code",
      "metadata": {
        "colab": {
          "base_uri": "https://localhost:8080/"
        },
        "id": "DNkJ7e_8LF4F",
        "outputId": "fa21d419-1afa-442a-ff57-aa227ac71e48"
      },
      "source": [
        "amz[amz['P6800'].notna()] # No tomamos los NaN's para el calculo en la variable \n",
        "amz['P6800'].mean() # El promedio de horas de trabajo semanales por persona en la region Amazonas segun la encuesta de GEIH"
      ],
      "execution_count": null,
      "outputs": [
        {
          "output_type": "execute_result",
          "data": {
            "text/plain": [
              "43.81394579728812"
            ]
          },
          "metadata": {},
          "execution_count": 26
        }
      ]
    },
    {
      "cell_type": "code",
      "metadata": {
        "colab": {
          "base_uri": "https://localhost:8080/"
        },
        "id": "I8HlpL-hPgLI",
        "outputId": "7e96e34c-bccd-4f42-c66f-6a761851a836"
      },
      "source": [
        "orq[orq['P6800'].notna()] # No tomamos los NaN's para el calculo en la variable \n",
        "orq['P6800'].mean() # El promedio de horas de trabajo semanales por persona en la region Orinoquia segun la encuesta de GEIH"
      ],
      "execution_count": null,
      "outputs": [
        {
          "output_type": "execute_result",
          "data": {
            "text/plain": [
              "48.336081963903055"
            ]
          },
          "metadata": {},
          "execution_count": 27
        }
      ]
    },
    {
      "cell_type": "code",
      "metadata": {
        "id": "5r2TY5Njo8og",
        "colab": {
          "base_uri": "https://localhost:8080/"
        },
        "outputId": "19d4218b-34c1-4571-fa92-615024dee606"
      },
      "source": [
        "amz.loc[:, ['DPTO','P6800','P6430']].max() # Selección de variables para seleccionar en cual departamento en la region del Amazonas tiene el mayor numero de horas de trabajo por persona \n",
        "# y podemos ver que en el departamento de Vaupes hay una persona que trabaja 130 horas por semana como jornalero o peon."
      ],
      "execution_count": null,
      "outputs": [
        {
          "output_type": "execute_result",
          "data": {
            "text/plain": [
              "DPTO      97\n",
              "P6800    130\n",
              "P6430      8\n",
              "dtype: int64"
            ]
          },
          "metadata": {},
          "execution_count": 28
        }
      ]
    },
    {
      "cell_type": "code",
      "metadata": {
        "colab": {
          "base_uri": "https://localhost:8080/"
        },
        "id": "FpLwrWOdSPA3",
        "outputId": "4069823f-8f2f-46e1-9843-768d2b71c216"
      },
      "source": [
        "orq.loc[:, ['DPTO','P6800','P6430']].max() # Selección de variables para seleccionar en cual departamento en la region de Orinoquia tiene el mayor numero de horas de trabajo por persona \n",
        "# y podemos ver que al igual que en la region del Amazonas en el departamento de Vichada hay una persona que trabaja 130 horas por semana como jornalero o peon."
      ],
      "execution_count": null,
      "outputs": [
        {
          "output_type": "execute_result",
          "data": {
            "text/plain": [
              "DPTO      99\n",
              "P6800    130\n",
              "P6430      8\n",
              "dtype: int64"
            ]
          },
          "metadata": {},
          "execution_count": 31
        }
      ]
    },
    {
      "cell_type": "code",
      "metadata": {
        "colab": {
          "base_uri": "https://localhost:8080/"
        },
        "id": "K963WgRRbB9l",
        "outputId": "afab25e0-2fae-4d28-c162-83ad15b599cf"
      },
      "source": [
        "PET_amz = amz['FT'].sum() + amz['DSI'].sum() \n",
        "PET_amz #Poblacion en edad de trabajar de la region Amazonas, PEA + PEI"
      ],
      "execution_count": null,
      "outputs": [
        {
          "output_type": "execute_result",
          "data": {
            "text/plain": [
              "229804"
            ]
          },
          "metadata": {},
          "execution_count": 30
        }
      ]
    },
    {
      "cell_type": "code",
      "metadata": {
        "colab": {
          "base_uri": "https://localhost:8080/"
        },
        "id": "okgM_xOHbhSY",
        "outputId": "c4185e0f-b675-4821-8f65-0da81507652d"
      },
      "source": [
        "PET_orq = orq['FT'].sum() + orq['DSI'].sum()\n",
        "PET_orq #Poblacion en edad de trabajar de la region Amazonas, PEA + PEI"
      ],
      "execution_count": null,
      "outputs": [
        {
          "output_type": "execute_result",
          "data": {
            "text/plain": [
              "307062"
            ]
          },
          "metadata": {},
          "execution_count": 29
        }
      ]
    },
    {
      "cell_type": "code",
      "metadata": {
        "colab": {
          "base_uri": "https://localhost:8080/",
          "height": 299
        },
        "id": "RDDfZP33cHvS",
        "outputId": "8f35ce0a-6b43-41b3-eac0-ab98a3deffb7"
      },
      "source": [
        "PET_orq-PET_amz #Diferencia de personas en edad de trabajar \n",
        "s = [\"Amazonía\",\"Orinoquia\"]\n",
        "m = [PET_amz,PET_orq]\n",
        "plt.bar(s,m,color='tab:green',width=0.45)\n",
        "plt.title(\"Personas en edad de trabajar respecto a cada región\")\n",
        "plt.ylabel(\"Frecuencia\")\n"
      ],
      "execution_count": null,
      "outputs": [
        {
          "output_type": "execute_result",
          "data": {
            "text/plain": [
              "Text(0, 0.5, 'Frecuencia')"
            ]
          },
          "metadata": {},
          "execution_count": 32
        },
        {
          "output_type": "display_data",
          "data": {
            "image/png": "[encoded data removed]",
            "text/plain": [
              "<Figure size 432x288 with 1 Axes>"
            ]
          },
          "metadata": {
            "needs_background": "light"
          }
        }
      ]
    },
    {
      "cell_type": "code",
      "metadata": {
        "colab": {
          "base_uri": "https://localhost:8080/"
        },
        "id": "p7MKkeqUwSvb",
        "outputId": "05bcfc64-a3cf-4fb7-be6a-a1456b5e6ed8"
      },
      "source": [
        "((amz['P6240']==1)==True).sum() #Número de personas del departamento del Amazonas que trabajaron la mayor parte del tiempo la semana pasada\n"
      ],
      "execution_count": null,
      "outputs": [
        {
          "output_type": "execute_result",
          "data": {
            "text/plain": [
              "0"
            ]
          },
          "metadata": {},
          "execution_count": 33
        }
      ]
    },
    {
      "cell_type": "code",
      "metadata": {
        "colab": {
          "base_uri": "https://localhost:8080/"
        },
        "id": "D_Zt0B9uzdIe",
        "outputId": "9a8dc072-0751-42a0-b3a1-c123d528c6af"
      },
      "source": [
        "((orq['P6240']==1)==True).sum() #Número de personas del departamento de la Orinoquia que trabajaron la mayor parte del tiempo la semana pasada\n"
      ],
      "execution_count": null,
      "outputs": [
        {
          "output_type": "execute_result",
          "data": {
            "text/plain": [
              "37738"
            ]
          },
          "metadata": {},
          "execution_count": 34
        }
      ]
    },
    {
      "cell_type": "code",
      "metadata": {
        "colab": {
          "base_uri": "https://localhost:8080/",
          "height": 266
        },
        "id": "YCSX2-eP17Ad",
        "outputId": "97c0b048-ac69-4d04-bde5-6902438edac9"
      },
      "source": [
        "VA = [91,86,94,97,95] \n",
        "amz = DATOS[DATOS.DPTO.isin(VA)]\n",
        "colores = ['cyan','green','coral','yellow','silver', 'grey']\n",
        "act = [\"Trabajando\",\"Buscando trabajo\",\"Estudiando\",\"Oficios del hogar\",\"Incapacitado permanente para trabajar\",\"Otra actividad\"]\n",
        "serie = amz['P6240'].value_counts()\n",
        "serie.plot.pie(autopct = '%1.1f%%',labels=act,colors=colores) \n",
        "#Proporcion de las personas de las actividades que la mayor parte del tiempo la semana pasada.\n",
        "#1 Trabajando\n",
        "#2 Buscando trabajo\n",
        "#3 Estudiando\n",
        "#4 Oficios del hogar\n",
        "#5 Incapacitado permanente para trabajar\n",
        "#6 Otra actividad\n"
      ],
      "execution_count": null,
      "outputs": [
        {
          "output_type": "execute_result",
          "data": {
            "text/plain": [
              "<matplotlib.axes._subplots.AxesSubplot at 0x7ffac8a7cb90>"
            ]
          },
          "metadata": {},
          "execution_count": 35
        },
        {
          "output_type": "display_data",
          "data": {
            "image/png": "[encoded data removed]",
            "text/plain": [
              "<Figure size 432x288 with 1 Axes>"
            ]
          },
          "metadata": {}
        }
      ]
    },
    {
      "cell_type": "code",
      "metadata": {
        "colab": {
          "base_uri": "https://localhost:8080/",
          "height": 266
        },
        "id": "7qSbM0KCqHdV",
        "outputId": "4a081154-bfdf-4eeb-f801-8eff2641b312"
      },
      "source": [
        "VO = [81,85,99] \n",
        "orq = DATOS[DATOS.DPTO.isin(VO)] \n",
        "act = [\"Trabajando\",\"Buscando trabajo\",\"Estudiando\",\"Oficios del hogar\",\"Incapacitado permanente para trabajar\",\"Otra actividad\"]\n",
        "serie1 = orq['P6240'].value_counts()\n",
        "colores = ['cyan','green','coral','yellow','silver', 'grey']\n",
        "serie1.plot.pie(autopct = '%1.1f%%',labels=act,colors= colores)#Proporcion de las personas de las actividades que la mayor parte del tiempo la semana pasada.\n",
        "#Se puede evidenciar que en ambos departamentos la actividad más realizada en la semana pasada desde la encuesta es el trabajo "
      ],
      "execution_count": null,
      "outputs": [
        {
          "output_type": "execute_result",
          "data": {
            "text/plain": [
              "<matplotlib.axes._subplots.AxesSubplot at 0x7ffac9027b10>"
            ]
          },
          "metadata": {},
          "execution_count": 36
        },
        {
          "output_type": "display_data",
          "data": {
            "image/png": "[encoded data removed]",
            "text/plain": [
              "<Figure size 432x288 with 1 Axes>"
            ]
          },
          "metadata": {}
        }
      ]
    },
    {
      "cell_type": "code",
      "metadata": {
        "colab": {
          "base_uri": "https://localhost:8080/",
          "height": 300
        },
        "id": "4War_-U6o7Kj",
        "outputId": "bf2fd9a0-d7b3-45b2-c6d6-232b4c508643"
      },
      "source": [
        "# Pregunta P6250: Además de lo anterior, ¿... Realizó la semana pasada alguna actividad paga por una hora o más?\n",
        "#Respuesta Sí\n",
        "x = ['Amazonia','Orinoquía'] \n",
        "c = [(amz['P6250']=='1').sum(),(orq['P6250']=='1').sum()]\n",
        "plt.bar(x,c, color='tab:purple')\n",
        "plt.title(\"P6250:Además de lo anterior si realizó la semana pasada alguna actividad paga por una hora o más\") #Se tiene encuenta para la pregunta la respuesta sí\n",
        "plt.ylabel(\"Frecuencia\")\n",
        "#La región de la Orinoquía presenta mayor cantidad de personas que si realizaron la semana pasada alguna actividad paga por una hora o más"
      ],
      "execution_count": null,
      "outputs": [
        {
          "output_type": "execute_result",
          "data": {
            "text/plain": [
              "Text(0, 0.5, 'Frecuencia')"
            ]
          },
          "metadata": {},
          "execution_count": 37
        },
        {
          "output_type": "display_data",
          "data": {
            "image/png": "[encoded data removed]",
            "text/plain": [
              "<Figure size 432x288 with 1 Axes>"
            ]
          },
          "metadata": {
            "needs_background": "light"
          }
        }
      ]
    },
    {
      "cell_type": "code",
      "metadata": {
        "colab": {
          "base_uri": "https://localhost:8080/",
          "height": 300
        },
        "id": "y5S2KWc5ukSm",
        "outputId": "aa871e28-48a1-4645-e66c-0779733beed9"
      },
      "source": [
        "# Pregunta P6250: Además de lo anterior, ¿... Realizó la semana pasada alguna actividad paga por una hora o más?\n",
        "#Respuesta No \n",
        "x = ['Amazonia','Orinoquía'] \n",
        "c = [(amz['P6250']=='2').sum(),(orq['P6250']=='2').sum()]\n",
        "plt.bar(x,c, color='tab:red')\n",
        "plt.title(\"P6250:Además de lo anterior no realizó la semana pasada alguna actividad paga por una hora o más\") #Se tiene encuenta para la pregunta la respuesta sí\n",
        "plt.ylabel(\"Frecuencia\")\n",
        "#La región de la Orinoquía presenta mayor cantidad de personas que no realizaron la semana pasada alguna actividad paga por una hora o más superando una cantidad de 100.000 personas"
      ],
      "execution_count": null,
      "outputs": [
        {
          "output_type": "execute_result",
          "data": {
            "text/plain": [
              "Text(0, 0.5, 'Frecuencia')"
            ]
          },
          "metadata": {},
          "execution_count": 38
        },
        {
          "output_type": "display_data",
          "data": {
            "image/png": "[encoded data removed]",
            "text/plain": [
              "<Figure size 432x288 with 1 Axes>"
            ]
          },
          "metadata": {
            "needs_background": "light"
          }
        }
      ]
    },
    {
      "cell_type": "code",
      "metadata": {
        "colab": {
          "base_uri": "https://localhost:8080/",
          "height": 375
        },
        "id": "N98fJkjwwi65",
        "outputId": "7fd93c0f-6a50-4c24-faf9-77eb7ff81925"
      },
      "source": [
        "VA = [91,86,94,97,95] \n",
        "amz = DATOS[DATOS.DPTO.isin(VA)]\n",
        "serie3 = amz['P6290'].value_counts()\n",
        "colores = ['red','green','coral','yellow','silver', 'grey']\n",
        "act = [\"1\",\"2\",\"3\",\"4\",\"5\",\"6\",\"7\",\"8\"]\n",
        "serie3.plot.pie(autopct = '%1.1f%%',labels=act,colors=colores,figsize=(6,6)) \n",
        "#¿Qué hizo ... principalmente en las ÚLTIMAS CUATRO SEMANAS para conseguir un trabajo o instalar un negocio?\n",
        "#1.. Pidió ayuda a familiares, amigos, colegas\n",
        "#2. Visitó, llevó o envió hojas de vida a empresas o empleadores\n",
        "#3. Visitó, llevó o envió hojas de vida a bolsas de empleo o intermediarios\n",
        "#4. Puso o consulto avisos clasificados\n",
        "#5. Se presentó a convocatorias\n",
        "#6. Hizo preparativos para iniciar un negocio\n",
        "#7. Otro medio\n",
        "#8. No sabe, no informa\n",
        "\n"
      ],
      "execution_count": null,
      "outputs": [
        {
          "output_type": "execute_result",
          "data": {
            "text/plain": [
              "<matplotlib.axes._subplots.AxesSubplot at 0x7ffac8583810>"
            ]
          },
          "metadata": {},
          "execution_count": 48
        },
        {
          "output_type": "display_data",
          "data": {
            "image/png": "[encoded data removed]",
            "text/plain": [
              "<Figure size 432x432 with 1 Axes>"
            ]
          },
          "metadata": {}
        }
      ]
    },
    {
      "cell_type": "code",
      "metadata": {
        "colab": {
          "base_uri": "https://localhost:8080/",
          "height": 375
        },
        "id": "4V1XoWOw0KcH",
        "outputId": "c786e6ff-21df-42f3-d67e-f90d0bbc1dff"
      },
      "source": [
        "VO = [81,85,99] \n",
        "orq = DATOS[DATOS.DPTO.isin(VO)] \n",
        "serie4 = orq['P6290'].value_counts()\n",
        "colores = ['red','green','coral','yellow','silver', 'grey']\n",
        "act = [\"1\",\"2\",\"3\",\"4\",\"5\",\"6\",\"7\",\"8\"]\n",
        "serie4.plot.pie(autopct = '%1.1f%%',labels=act,colors=colores,figsize=(6,6)) \n",
        "#¿Qué hizo ... principalmente en las ÚLTIMAS CUATRO SEMANAS para conseguir un trabajo o instalar un negocio?\n",
        "#1.. Pidió ayuda a familiares, amigos, colegas\n",
        "#2. Visitó, llevó o envió hojas de vida a empresas o empleadores\n",
        "#3. Visitó, llevó o envió hojas de vida a bolsas de empleo o intermediarios\n",
        "#4. Puso o consulto avisos clasificados\n",
        "#5. Se presentó a convocatorias\n",
        "#6. Hizo preparativos para iniciar un negocio\n",
        "#7. Otro medio\n",
        "#8. No sabe, no informa\n",
        "\n"
      ],
      "execution_count": null,
      "outputs": [
        {
          "output_type": "execute_result",
          "data": {
            "text/plain": [
              "<matplotlib.axes._subplots.AxesSubplot at 0x7ffac861e510>"
            ]
          },
          "metadata": {},
          "execution_count": 47
        },
        {
          "output_type": "display_data",
          "data": {
            "image/png": "[encoded data removed]",
            "text/plain": [
              "<Figure size 432x432 with 1 Axes>"
            ]
          },
          "metadata": {}
        }
      ]
    },
    {
      "cell_type": "markdown",
      "metadata": {
        "id": "xq8wVfTW0Znb"
      },
      "source": [
        "\n",
        "En ambos departamentos principalmente en las ÚLTIMAS CUATRO SEMANAS desde la encuesta para conseguir un trabajo o instalar un negocio recurrieron a pedir ayuda a familiares, amigos, colegas y como segunda opción visitaron, llevaron o enviaron hojas de vida a empresas o empleadores.\n",
        "\n"
      ]
    },
    {
      "cell_type": "code",
      "metadata": {
        "colab": {
          "base_uri": "https://localhost:8080/"
        },
        "id": "AAQdPLtl2Fag",
        "outputId": "dd63e655-9b86-40d3-81db-c205efc30492"
      },
      "source": [
        "# ¿Cuántos meses hace que dejó de buscar trabajo por última vez?\n",
        "amz['P6350'].value_counts(), orq['P6350'].value_counts()"
      ],
      "execution_count": null,
      "outputs": [
        {
          "output_type": "execute_result",
          "data": {
            "text/plain": [
              "(1     761\n",
              " 12    694\n",
              " 2     273\n",
              " 8     198\n",
              " 3     102\n",
              " 4      84\n",
              " 6      63\n",
              " 7      20\n",
              " 9      10\n",
              " Name: P6350, dtype: int64, 3     2102\n",
              " 6      142\n",
              " 2      135\n",
              " 10      24\n",
              " 5       20\n",
              " 8       16\n",
              " 12      12\n",
              " 4        8\n",
              " 1        8\n",
              " 7        4\n",
              " 9        3\n",
              " Name: P6350, dtype: int64)"
            ]
          },
          "metadata": {},
          "execution_count": 42
        }
      ]
    },
    {
      "cell_type": "markdown",
      "metadata": {
        "id": "2mL2D5Zw3cct"
      },
      "source": [
        "Respecto a los datos anteriores se pueden comparar la pregunta P6350: ¿Cuántos meses hace que…dejó de buscar trabajo por última vez?. Dado que es una pregunta abierta se puede evidenciar que para la región del Amazonas el mes que más se repitio fue de un mes que dejaron de buscar trabajo y para Región de la Orinoquía fue de 6 meses."
      ]
    }
  ]
}