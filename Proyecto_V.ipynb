{
  "nbformat": 4,
  "nbformat_minor": 0,
  "metadata": {
    "colab": {
      "name": "Proyecto V",
      "provenance": [],
      "collapsed_sections": [],
      "include_colab_link": true
    },
    "kernelspec": {
      "name": "python3",
      "display_name": "Python 3"
    },
    "language_info": {
      "name": "python"
    }
  },
  "cells": [
    {
      "cell_type": "markdown",
      "metadata": {
        "id": "view-in-github",
        "colab_type": "text"
      },
      "source": [
        "<a href=\"https://colab.research.google.com/github/Tatianacp1/Machine_Learning1/blob/main/Proyecto_V.ipynb\" target=\"_parent\"><img src=\"https://colab.research.google.com/assets/colab-badge.svg\" alt=\"Open In Colab\"/></a>"
      ]
    },
    {
      "cell_type": "markdown",
      "metadata": {
        "id": "k0jh2ZKk7hG3"
      },
      "source": [
        "#**Proyecto V**\n",
        "### Harrison Smith Suarez Neuta\n",
        "### Tatiana Chavez Perez\n",
        "### Carlos Fernando Gonzalez Sarmiento\n",
        "### Harold Arturo Rojas Camacho "
      ]
    },
    {
      "cell_type": "markdown",
      "metadata": {
        "id": "AW31Nrkp5R9a"
      },
      "source": [
        "### Librerias necesarias para el proceso."
      ]
    },
    {
      "cell_type": "code",
      "metadata": {
        "id": "hp2SHOFp7fJx"
      },
      "source": [
        "import pandas as pd\n",
        "import numpy as np\n",
        "import openpyxl as opx\n",
        "import matplotlib.pyplot as plt"
      ],
      "execution_count": 2,
      "outputs": []
    },
    {
      "cell_type": "markdown",
      "metadata": {
        "id": "hC0_fjhl54jn"
      },
      "source": [
        "##### Link donde se obtuvieron las bases de datos de la GEIH, http://microdatos.dane.gov.co/index.php/catalog/707/get_microdata"
      ]
    },
    {
      "cell_type": "markdown",
      "metadata": {
        "id": "YHX4GKl65XHn"
      },
      "source": [
        "### Lectura de bases, por drive o cargandolas directamente del escritorio."
      ]
    },
    {
      "cell_type": "code",
      "metadata": {
        "id": "XfaAxxYYG3fT",
        "colab": {
          "base_uri": "https://localhost:8080/"
        },
        "outputId": "586ac48d-40be-4799-c903-ba438b6bb9eb"
      },
      "source": [
        "from google.colab import drive #Para que permita abrir Drive \n",
        "drive.mount('/content/drive')"
      ],
      "execution_count": 3,
      "outputs": [
        {
          "output_type": "stream",
          "name": "stdout",
          "text": [
            "Drive already mounted at /content/drive; to attempt to forcibly remount, call drive.mount(\"/content/drive\", force_remount=True).\n"
          ]
        }
      ]
    },
    {
      "cell_type": "code",
      "metadata": {
        "id": "C6Czq-0tXrdb"
      },
      "source": [
        "T1 = pd.read_csv('/content/drive/MyDrive/Tablas/Caracteristicas generales (Personas).csv',sep=\";\")\n",
        "T2 = pd.read_csv('/content/drive/MyDrive/Tablas/Desocupados.csv',sep=\";\")\n",
        "T3 = pd.read_csv('/content/drive/MyDrive/Tablas/Fuerza de trabajo.csv',sep=\";\")\n",
        "T4 = pd.read_csv('/content/drive/MyDrive/Tablas/Inactivos.csv',sep=\";\")\n",
        "T5 = pd.read_csv('/content/drive/MyDrive/Tablas/Ocupados.csv',sep=\";\")\n",
        "\n",
        "\n"
      ],
      "execution_count": 4,
      "outputs": []
    },
    {
      "cell_type": "markdown",
      "metadata": {
        "id": "7KXPpTHk5E_z"
      },
      "source": [
        "### Union de bases de datos por el indice del \"DIRECTORIO, SECUENCIA_P, ORDEN, HOGAR\".\n"
      ]
    },
    {
      "cell_type": "markdown",
      "metadata": {
        "id": "7Czy_3InOUvJ"
      },
      "source": [
        "Partiendo de las siguientes variables junto el índice tomado"
      ]
    },
    {
      "cell_type": "code",
      "metadata": {
        "id": "hN3lmNUghkW4"
      },
      "source": [
        "T1 = T1[['DIRECTORIO','SECUENCIA_P','ORDEN','HOGAR','DPTO','AREA','P6020','P6040']]\n",
        "T2 = T2[['DIRECTORIO','SECUENCIA_P','ORDEN','HOGAR','DSI']]\n",
        "T3 = T3[['DIRECTORIO','SECUENCIA_P','ORDEN','HOGAR','FT','P6240','P6250','P6260','P6270','P6280','P6290','P6300','P6320','P6330','P6340','P6350','P6351']]\n",
        "T4 = T4[['DIRECTORIO','SECUENCIA_P','ORDEN','HOGAR','INI']]\n",
        "T5 = T5[['DIRECTORIO','SECUENCIA_P','ORDEN','HOGAR','P6500','P6750','P6760','P6800','P6850','P6830','OCI','P6430','RAMA2D_R4']]"
      ],
      "execution_count": 171,
      "outputs": []
    },
    {
      "cell_type": "code",
      "metadata": {
        "id": "_adkL3mw_i6V"
      },
      "source": [
        "DF1 = pd.merge(T1, T2, on=['DIRECTORIO','SECUENCIA_P','ORDEN','HOGAR'],how='outer') "
      ],
      "execution_count": 85,
      "outputs": []
    },
    {
      "cell_type": "code",
      "metadata": {
        "id": "nKJEiyweqTFx"
      },
      "source": [
        "DF2 = pd.merge(DF1,T3, on=['DIRECTORIO','SECUENCIA_P','ORDEN','HOGAR'],how='outer')"
      ],
      "execution_count": 86,
      "outputs": []
    },
    {
      "cell_type": "code",
      "metadata": {
        "id": "Ka0sAewXqekn"
      },
      "source": [
        "DF3 = pd.merge(DF2,T4, on=['DIRECTORIO','SECUENCIA_P','ORDEN','HOGAR'],how='outer')"
      ],
      "execution_count": 87,
      "outputs": []
    },
    {
      "cell_type": "code",
      "metadata": {
        "id": "lNlGVZRrqpKR",
        "colab": {
          "base_uri": "https://localhost:8080/",
          "height": 442
        },
        "outputId": "72b4e0eb-52d3-4c48-9cd4-77d6978afaff"
      },
      "source": [
        "DATOS = pd.merge(DF3,T5, on=['DIRECTORIO','SECUENCIA_P','ORDEN','HOGAR'],how='outer')\n",
        "DATOS"
      ],
      "execution_count": 89,
      "outputs": [
        {
          "output_type": "execute_result",
          "data": {
            "text/html": [
              "<div>\n",
              "<style scoped>\n",
              "    .dataframe tbody tr th:only-of-type {\n",
              "        vertical-align: middle;\n",
              "    }\n",
              "\n",
              "    .dataframe tbody tr th {\n",
              "        vertical-align: top;\n",
              "    }\n",
              "\n",
              "    .dataframe thead th {\n",
              "        text-align: right;\n",
              "    }\n",
              "</style>\n",
              "<table border=\"1\" class=\"dataframe\">\n",
              "  <thead>\n",
              "    <tr style=\"text-align: right;\">\n",
              "      <th></th>\n",
              "      <th>DIRECTORIO</th>\n",
              "      <th>SECUENCIA_P</th>\n",
              "      <th>ORDEN</th>\n",
              "      <th>HOGAR</th>\n",
              "      <th>DPTO</th>\n",
              "      <th>AREA</th>\n",
              "      <th>P6020</th>\n",
              "      <th>P6040</th>\n",
              "      <th>DSI</th>\n",
              "      <th>FT</th>\n",
              "      <th>P6240</th>\n",
              "      <th>P6250</th>\n",
              "      <th>P6260</th>\n",
              "      <th>P6270</th>\n",
              "      <th>P6280</th>\n",
              "      <th>P6290</th>\n",
              "      <th>P6300</th>\n",
              "      <th>P6320</th>\n",
              "      <th>P6330</th>\n",
              "      <th>P6340</th>\n",
              "      <th>P6350</th>\n",
              "      <th>P6351</th>\n",
              "      <th>INI</th>\n",
              "      <th>P6500</th>\n",
              "      <th>P6750</th>\n",
              "      <th>P6760</th>\n",
              "      <th>P6800</th>\n",
              "      <th>P6850</th>\n",
              "      <th>P6830</th>\n",
              "      <th>OCI</th>\n",
              "      <th>P6430</th>\n",
              "      <th>RAMA2D_R4</th>\n",
              "    </tr>\n",
              "  </thead>\n",
              "  <tbody>\n",
              "    <tr>\n",
              "      <th>0</th>\n",
              "      <td>2187</td>\n",
              "      <td>1</td>\n",
              "      <td>1</td>\n",
              "      <td>1</td>\n",
              "      <td>97</td>\n",
              "      <td>97</td>\n",
              "      <td>2</td>\n",
              "      <td>0</td>\n",
              "      <td>NaN</td>\n",
              "      <td>NaN</td>\n",
              "      <td>NaN</td>\n",
              "      <td>NaN</td>\n",
              "      <td>NaN</td>\n",
              "      <td>NaN</td>\n",
              "      <td>NaN</td>\n",
              "      <td>NaN</td>\n",
              "      <td>NaN</td>\n",
              "      <td>NaN</td>\n",
              "      <td>NaN</td>\n",
              "      <td>NaN</td>\n",
              "      <td>NaN</td>\n",
              "      <td>NaN</td>\n",
              "      <td>NaN</td>\n",
              "      <td>NaN</td>\n",
              "      <td>NaN</td>\n",
              "      <td>NaN</td>\n",
              "      <td>NaN</td>\n",
              "      <td>NaN</td>\n",
              "      <td>NaN</td>\n",
              "      <td>NaN</td>\n",
              "      <td>NaN</td>\n",
              "      <td>NaN</td>\n",
              "    </tr>\n",
              "    <tr>\n",
              "      <th>1</th>\n",
              "      <td>2187</td>\n",
              "      <td>1</td>\n",
              "      <td>2</td>\n",
              "      <td>1</td>\n",
              "      <td>97</td>\n",
              "      <td>97</td>\n",
              "      <td>2</td>\n",
              "      <td>0</td>\n",
              "      <td>NaN</td>\n",
              "      <td>NaN</td>\n",
              "      <td>NaN</td>\n",
              "      <td>NaN</td>\n",
              "      <td>NaN</td>\n",
              "      <td>NaN</td>\n",
              "      <td>NaN</td>\n",
              "      <td>NaN</td>\n",
              "      <td>NaN</td>\n",
              "      <td>NaN</td>\n",
              "      <td>NaN</td>\n",
              "      <td>NaN</td>\n",
              "      <td>NaN</td>\n",
              "      <td>NaN</td>\n",
              "      <td>NaN</td>\n",
              "      <td>NaN</td>\n",
              "      <td>NaN</td>\n",
              "      <td>NaN</td>\n",
              "      <td>NaN</td>\n",
              "      <td>NaN</td>\n",
              "      <td>NaN</td>\n",
              "      <td>NaN</td>\n",
              "      <td>NaN</td>\n",
              "      <td>NaN</td>\n",
              "    </tr>\n",
              "    <tr>\n",
              "      <th>2</th>\n",
              "      <td>2187</td>\n",
              "      <td>1</td>\n",
              "      <td>3</td>\n",
              "      <td>1</td>\n",
              "      <td>97</td>\n",
              "      <td>97</td>\n",
              "      <td>2</td>\n",
              "      <td>47</td>\n",
              "      <td>NaN</td>\n",
              "      <td>1.0</td>\n",
              "      <td>4.0</td>\n",
              "      <td>2</td>\n",
              "      <td>2</td>\n",
              "      <td>2</td>\n",
              "      <td>2</td>\n",
              "      <td></td>\n",
              "      <td>1</td>\n",
              "      <td>1</td>\n",
              "      <td>2</td>\n",
              "      <td></td>\n",
              "      <td></td>\n",
              "      <td></td>\n",
              "      <td>1.0</td>\n",
              "      <td>NaN</td>\n",
              "      <td>NaN</td>\n",
              "      <td>NaN</td>\n",
              "      <td>NaN</td>\n",
              "      <td>NaN</td>\n",
              "      <td>NaN</td>\n",
              "      <td>NaN</td>\n",
              "      <td>NaN</td>\n",
              "      <td>NaN</td>\n",
              "    </tr>\n",
              "    <tr>\n",
              "      <th>3</th>\n",
              "      <td>2187</td>\n",
              "      <td>1</td>\n",
              "      <td>4</td>\n",
              "      <td>1</td>\n",
              "      <td>97</td>\n",
              "      <td>97</td>\n",
              "      <td>1</td>\n",
              "      <td>5</td>\n",
              "      <td>NaN</td>\n",
              "      <td>NaN</td>\n",
              "      <td>NaN</td>\n",
              "      <td>NaN</td>\n",
              "      <td>NaN</td>\n",
              "      <td>NaN</td>\n",
              "      <td>NaN</td>\n",
              "      <td>NaN</td>\n",
              "      <td>NaN</td>\n",
              "      <td>NaN</td>\n",
              "      <td>NaN</td>\n",
              "      <td>NaN</td>\n",
              "      <td>NaN</td>\n",
              "      <td>NaN</td>\n",
              "      <td>NaN</td>\n",
              "      <td>NaN</td>\n",
              "      <td>NaN</td>\n",
              "      <td>NaN</td>\n",
              "      <td>NaN</td>\n",
              "      <td>NaN</td>\n",
              "      <td>NaN</td>\n",
              "      <td>NaN</td>\n",
              "      <td>NaN</td>\n",
              "      <td>NaN</td>\n",
              "    </tr>\n",
              "    <tr>\n",
              "      <th>4</th>\n",
              "      <td>2187</td>\n",
              "      <td>1</td>\n",
              "      <td>5</td>\n",
              "      <td>1</td>\n",
              "      <td>97</td>\n",
              "      <td>97</td>\n",
              "      <td>1</td>\n",
              "      <td>16</td>\n",
              "      <td>NaN</td>\n",
              "      <td>1.0</td>\n",
              "      <td>4.0</td>\n",
              "      <td>2</td>\n",
              "      <td>2</td>\n",
              "      <td>2</td>\n",
              "      <td>2</td>\n",
              "      <td></td>\n",
              "      <td>2</td>\n",
              "      <td></td>\n",
              "      <td></td>\n",
              "      <td></td>\n",
              "      <td></td>\n",
              "      <td></td>\n",
              "      <td>1.0</td>\n",
              "      <td>NaN</td>\n",
              "      <td>NaN</td>\n",
              "      <td>NaN</td>\n",
              "      <td>NaN</td>\n",
              "      <td>NaN</td>\n",
              "      <td>NaN</td>\n",
              "      <td>NaN</td>\n",
              "      <td>NaN</td>\n",
              "      <td>NaN</td>\n",
              "    </tr>\n",
              "    <tr>\n",
              "      <th>...</th>\n",
              "      <td>...</td>\n",
              "      <td>...</td>\n",
              "      <td>...</td>\n",
              "      <td>...</td>\n",
              "      <td>...</td>\n",
              "      <td>...</td>\n",
              "      <td>...</td>\n",
              "      <td>...</td>\n",
              "      <td>...</td>\n",
              "      <td>...</td>\n",
              "      <td>...</td>\n",
              "      <td>...</td>\n",
              "      <td>...</td>\n",
              "      <td>...</td>\n",
              "      <td>...</td>\n",
              "      <td>...</td>\n",
              "      <td>...</td>\n",
              "      <td>...</td>\n",
              "      <td>...</td>\n",
              "      <td>...</td>\n",
              "      <td>...</td>\n",
              "      <td>...</td>\n",
              "      <td>...</td>\n",
              "      <td>...</td>\n",
              "      <td>...</td>\n",
              "      <td>...</td>\n",
              "      <td>...</td>\n",
              "      <td>...</td>\n",
              "      <td>...</td>\n",
              "      <td>...</td>\n",
              "      <td>...</td>\n",
              "      <td>...</td>\n",
              "    </tr>\n",
              "    <tr>\n",
              "      <th>44593</th>\n",
              "      <td>5328146</td>\n",
              "      <td>1</td>\n",
              "      <td>2</td>\n",
              "      <td>1</td>\n",
              "      <td>86</td>\n",
              "      <td>86</td>\n",
              "      <td>2</td>\n",
              "      <td>55</td>\n",
              "      <td>NaN</td>\n",
              "      <td>1.0</td>\n",
              "      <td>4.0</td>\n",
              "      <td>2</td>\n",
              "      <td>2</td>\n",
              "      <td>2</td>\n",
              "      <td>2</td>\n",
              "      <td></td>\n",
              "      <td>2</td>\n",
              "      <td></td>\n",
              "      <td></td>\n",
              "      <td></td>\n",
              "      <td></td>\n",
              "      <td></td>\n",
              "      <td>1.0</td>\n",
              "      <td>NaN</td>\n",
              "      <td>NaN</td>\n",
              "      <td>NaN</td>\n",
              "      <td>NaN</td>\n",
              "      <td>NaN</td>\n",
              "      <td>NaN</td>\n",
              "      <td>NaN</td>\n",
              "      <td>NaN</td>\n",
              "      <td>NaN</td>\n",
              "    </tr>\n",
              "    <tr>\n",
              "      <th>44594</th>\n",
              "      <td>5328146</td>\n",
              "      <td>1</td>\n",
              "      <td>3</td>\n",
              "      <td>1</td>\n",
              "      <td>86</td>\n",
              "      <td>86</td>\n",
              "      <td>1</td>\n",
              "      <td>3</td>\n",
              "      <td>NaN</td>\n",
              "      <td>NaN</td>\n",
              "      <td>NaN</td>\n",
              "      <td>NaN</td>\n",
              "      <td>NaN</td>\n",
              "      <td>NaN</td>\n",
              "      <td>NaN</td>\n",
              "      <td>NaN</td>\n",
              "      <td>NaN</td>\n",
              "      <td>NaN</td>\n",
              "      <td>NaN</td>\n",
              "      <td>NaN</td>\n",
              "      <td>NaN</td>\n",
              "      <td>NaN</td>\n",
              "      <td>NaN</td>\n",
              "      <td>NaN</td>\n",
              "      <td>NaN</td>\n",
              "      <td>NaN</td>\n",
              "      <td>NaN</td>\n",
              "      <td>NaN</td>\n",
              "      <td>NaN</td>\n",
              "      <td>NaN</td>\n",
              "      <td>NaN</td>\n",
              "      <td>NaN</td>\n",
              "    </tr>\n",
              "    <tr>\n",
              "      <th>44595</th>\n",
              "      <td>5328225</td>\n",
              "      <td>1</td>\n",
              "      <td>1</td>\n",
              "      <td>1</td>\n",
              "      <td>86</td>\n",
              "      <td>86</td>\n",
              "      <td>2</td>\n",
              "      <td>41</td>\n",
              "      <td>1.0</td>\n",
              "      <td>1.0</td>\n",
              "      <td>2.0</td>\n",
              "      <td>2</td>\n",
              "      <td>2</td>\n",
              "      <td>2</td>\n",
              "      <td>1</td>\n",
              "      <td>1</td>\n",
              "      <td></td>\n",
              "      <td></td>\n",
              "      <td></td>\n",
              "      <td></td>\n",
              "      <td></td>\n",
              "      <td>1</td>\n",
              "      <td>NaN</td>\n",
              "      <td>NaN</td>\n",
              "      <td>NaN</td>\n",
              "      <td>NaN</td>\n",
              "      <td>NaN</td>\n",
              "      <td>NaN</td>\n",
              "      <td>NaN</td>\n",
              "      <td>NaN</td>\n",
              "      <td>NaN</td>\n",
              "      <td>NaN</td>\n",
              "    </tr>\n",
              "    <tr>\n",
              "      <th>44596</th>\n",
              "      <td>5328225</td>\n",
              "      <td>1</td>\n",
              "      <td>2</td>\n",
              "      <td>1</td>\n",
              "      <td>86</td>\n",
              "      <td>86</td>\n",
              "      <td>2</td>\n",
              "      <td>16</td>\n",
              "      <td>NaN</td>\n",
              "      <td>1.0</td>\n",
              "      <td>1.0</td>\n",
              "      <td></td>\n",
              "      <td></td>\n",
              "      <td></td>\n",
              "      <td></td>\n",
              "      <td></td>\n",
              "      <td></td>\n",
              "      <td></td>\n",
              "      <td></td>\n",
              "      <td></td>\n",
              "      <td></td>\n",
              "      <td></td>\n",
              "      <td>NaN</td>\n",
              "      <td>400000</td>\n",
              "      <td></td>\n",
              "      <td></td>\n",
              "      <td>24.0</td>\n",
              "      <td>24.0</td>\n",
              "      <td></td>\n",
              "      <td>1.0</td>\n",
              "      <td>1.0</td>\n",
              "      <td>47.0</td>\n",
              "    </tr>\n",
              "    <tr>\n",
              "      <th>44597</th>\n",
              "      <td>5328225</td>\n",
              "      <td>1</td>\n",
              "      <td>3</td>\n",
              "      <td>1</td>\n",
              "      <td>86</td>\n",
              "      <td>86</td>\n",
              "      <td>1</td>\n",
              "      <td>0</td>\n",
              "      <td>NaN</td>\n",
              "      <td>NaN</td>\n",
              "      <td>NaN</td>\n",
              "      <td>NaN</td>\n",
              "      <td>NaN</td>\n",
              "      <td>NaN</td>\n",
              "      <td>NaN</td>\n",
              "      <td>NaN</td>\n",
              "      <td>NaN</td>\n",
              "      <td>NaN</td>\n",
              "      <td>NaN</td>\n",
              "      <td>NaN</td>\n",
              "      <td>NaN</td>\n",
              "      <td>NaN</td>\n",
              "      <td>NaN</td>\n",
              "      <td>NaN</td>\n",
              "      <td>NaN</td>\n",
              "      <td>NaN</td>\n",
              "      <td>NaN</td>\n",
              "      <td>NaN</td>\n",
              "      <td>NaN</td>\n",
              "      <td>NaN</td>\n",
              "      <td>NaN</td>\n",
              "      <td>NaN</td>\n",
              "    </tr>\n",
              "  </tbody>\n",
              "</table>\n",
              "<p>44598 rows × 32 columns</p>\n",
              "</div>"
            ],
            "text/plain": [
              "       DIRECTORIO  SECUENCIA_P  ORDEN  HOGAR  ...  P6830  OCI  P6430  RAMA2D_R4\n",
              "0            2187            1      1      1  ...    NaN  NaN    NaN        NaN\n",
              "1            2187            1      2      1  ...    NaN  NaN    NaN        NaN\n",
              "2            2187            1      3      1  ...    NaN  NaN    NaN        NaN\n",
              "3            2187            1      4      1  ...    NaN  NaN    NaN        NaN\n",
              "4            2187            1      5      1  ...    NaN  NaN    NaN        NaN\n",
              "...           ...          ...    ...    ...  ...    ...  ...    ...        ...\n",
              "44593     5328146            1      2      1  ...    NaN  NaN    NaN        NaN\n",
              "44594     5328146            1      3      1  ...    NaN  NaN    NaN        NaN\n",
              "44595     5328225            1      1      1  ...    NaN  NaN    NaN        NaN\n",
              "44596     5328225            1      2      1  ...         1.0    1.0       47.0\n",
              "44597     5328225            1      3      1  ...    NaN  NaN    NaN        NaN\n",
              "\n",
              "[44598 rows x 32 columns]"
            ]
          },
          "metadata": {},
          "execution_count": 89
        }
      ]
    },
    {
      "cell_type": "code",
      "metadata": {
        "id": "gLOnFfBIIhKf"
      },
      "source": [
        "DATOS = DATOS.replace(' ', np.NaN) # Reemplzamos los valores faltantes por NaN"
      ],
      "execution_count": 90,
      "outputs": []
    },
    {
      "cell_type": "code",
      "metadata": {
        "id": "NpCXDrqu8sBv",
        "colab": {
          "base_uri": "https://localhost:8080/",
          "height": 442
        },
        "outputId": "25e498ce-8b37-4dd1-d145-b57e2e2980e9"
      },
      "source": [
        "DATOS"
      ],
      "execution_count": 91,
      "outputs": [
        {
          "output_type": "execute_result",
          "data": {
            "text/html": [
              "<div>\n",
              "<style scoped>\n",
              "    .dataframe tbody tr th:only-of-type {\n",
              "        vertical-align: middle;\n",
              "    }\n",
              "\n",
              "    .dataframe tbody tr th {\n",
              "        vertical-align: top;\n",
              "    }\n",
              "\n",
              "    .dataframe thead th {\n",
              "        text-align: right;\n",
              "    }\n",
              "</style>\n",
              "<table border=\"1\" class=\"dataframe\">\n",
              "  <thead>\n",
              "    <tr style=\"text-align: right;\">\n",
              "      <th></th>\n",
              "      <th>DIRECTORIO</th>\n",
              "      <th>SECUENCIA_P</th>\n",
              "      <th>ORDEN</th>\n",
              "      <th>HOGAR</th>\n",
              "      <th>DPTO</th>\n",
              "      <th>AREA</th>\n",
              "      <th>P6020</th>\n",
              "      <th>P6040</th>\n",
              "      <th>DSI</th>\n",
              "      <th>FT</th>\n",
              "      <th>P6240</th>\n",
              "      <th>P6250</th>\n",
              "      <th>P6260</th>\n",
              "      <th>P6270</th>\n",
              "      <th>P6280</th>\n",
              "      <th>P6290</th>\n",
              "      <th>P6300</th>\n",
              "      <th>P6320</th>\n",
              "      <th>P6330</th>\n",
              "      <th>P6340</th>\n",
              "      <th>P6350</th>\n",
              "      <th>P6351</th>\n",
              "      <th>INI</th>\n",
              "      <th>P6500</th>\n",
              "      <th>P6750</th>\n",
              "      <th>P6760</th>\n",
              "      <th>P6800</th>\n",
              "      <th>P6850</th>\n",
              "      <th>P6830</th>\n",
              "      <th>OCI</th>\n",
              "      <th>P6430</th>\n",
              "      <th>RAMA2D_R4</th>\n",
              "    </tr>\n",
              "  </thead>\n",
              "  <tbody>\n",
              "    <tr>\n",
              "      <th>0</th>\n",
              "      <td>2187</td>\n",
              "      <td>1</td>\n",
              "      <td>1</td>\n",
              "      <td>1</td>\n",
              "      <td>97</td>\n",
              "      <td>97</td>\n",
              "      <td>2</td>\n",
              "      <td>0</td>\n",
              "      <td>NaN</td>\n",
              "      <td>NaN</td>\n",
              "      <td>NaN</td>\n",
              "      <td>NaN</td>\n",
              "      <td>NaN</td>\n",
              "      <td>NaN</td>\n",
              "      <td>NaN</td>\n",
              "      <td>NaN</td>\n",
              "      <td>NaN</td>\n",
              "      <td>NaN</td>\n",
              "      <td>NaN</td>\n",
              "      <td>NaN</td>\n",
              "      <td>NaN</td>\n",
              "      <td>NaN</td>\n",
              "      <td>NaN</td>\n",
              "      <td>NaN</td>\n",
              "      <td>NaN</td>\n",
              "      <td>NaN</td>\n",
              "      <td>NaN</td>\n",
              "      <td>NaN</td>\n",
              "      <td>NaN</td>\n",
              "      <td>NaN</td>\n",
              "      <td>NaN</td>\n",
              "      <td>NaN</td>\n",
              "    </tr>\n",
              "    <tr>\n",
              "      <th>1</th>\n",
              "      <td>2187</td>\n",
              "      <td>1</td>\n",
              "      <td>2</td>\n",
              "      <td>1</td>\n",
              "      <td>97</td>\n",
              "      <td>97</td>\n",
              "      <td>2</td>\n",
              "      <td>0</td>\n",
              "      <td>NaN</td>\n",
              "      <td>NaN</td>\n",
              "      <td>NaN</td>\n",
              "      <td>NaN</td>\n",
              "      <td>NaN</td>\n",
              "      <td>NaN</td>\n",
              "      <td>NaN</td>\n",
              "      <td>NaN</td>\n",
              "      <td>NaN</td>\n",
              "      <td>NaN</td>\n",
              "      <td>NaN</td>\n",
              "      <td>NaN</td>\n",
              "      <td>NaN</td>\n",
              "      <td>NaN</td>\n",
              "      <td>NaN</td>\n",
              "      <td>NaN</td>\n",
              "      <td>NaN</td>\n",
              "      <td>NaN</td>\n",
              "      <td>NaN</td>\n",
              "      <td>NaN</td>\n",
              "      <td>NaN</td>\n",
              "      <td>NaN</td>\n",
              "      <td>NaN</td>\n",
              "      <td>NaN</td>\n",
              "    </tr>\n",
              "    <tr>\n",
              "      <th>2</th>\n",
              "      <td>2187</td>\n",
              "      <td>1</td>\n",
              "      <td>3</td>\n",
              "      <td>1</td>\n",
              "      <td>97</td>\n",
              "      <td>97</td>\n",
              "      <td>2</td>\n",
              "      <td>47</td>\n",
              "      <td>NaN</td>\n",
              "      <td>1.0</td>\n",
              "      <td>4.0</td>\n",
              "      <td>2</td>\n",
              "      <td>2</td>\n",
              "      <td>2</td>\n",
              "      <td>2</td>\n",
              "      <td>NaN</td>\n",
              "      <td>1</td>\n",
              "      <td>1</td>\n",
              "      <td>2</td>\n",
              "      <td>NaN</td>\n",
              "      <td>NaN</td>\n",
              "      <td>NaN</td>\n",
              "      <td>1.0</td>\n",
              "      <td>NaN</td>\n",
              "      <td>NaN</td>\n",
              "      <td>NaN</td>\n",
              "      <td>NaN</td>\n",
              "      <td>NaN</td>\n",
              "      <td>NaN</td>\n",
              "      <td>NaN</td>\n",
              "      <td>NaN</td>\n",
              "      <td>NaN</td>\n",
              "    </tr>\n",
              "    <tr>\n",
              "      <th>3</th>\n",
              "      <td>2187</td>\n",
              "      <td>1</td>\n",
              "      <td>4</td>\n",
              "      <td>1</td>\n",
              "      <td>97</td>\n",
              "      <td>97</td>\n",
              "      <td>1</td>\n",
              "      <td>5</td>\n",
              "      <td>NaN</td>\n",
              "      <td>NaN</td>\n",
              "      <td>NaN</td>\n",
              "      <td>NaN</td>\n",
              "      <td>NaN</td>\n",
              "      <td>NaN</td>\n",
              "      <td>NaN</td>\n",
              "      <td>NaN</td>\n",
              "      <td>NaN</td>\n",
              "      <td>NaN</td>\n",
              "      <td>NaN</td>\n",
              "      <td>NaN</td>\n",
              "      <td>NaN</td>\n",
              "      <td>NaN</td>\n",
              "      <td>NaN</td>\n",
              "      <td>NaN</td>\n",
              "      <td>NaN</td>\n",
              "      <td>NaN</td>\n",
              "      <td>NaN</td>\n",
              "      <td>NaN</td>\n",
              "      <td>NaN</td>\n",
              "      <td>NaN</td>\n",
              "      <td>NaN</td>\n",
              "      <td>NaN</td>\n",
              "    </tr>\n",
              "    <tr>\n",
              "      <th>4</th>\n",
              "      <td>2187</td>\n",
              "      <td>1</td>\n",
              "      <td>5</td>\n",
              "      <td>1</td>\n",
              "      <td>97</td>\n",
              "      <td>97</td>\n",
              "      <td>1</td>\n",
              "      <td>16</td>\n",
              "      <td>NaN</td>\n",
              "      <td>1.0</td>\n",
              "      <td>4.0</td>\n",
              "      <td>2</td>\n",
              "      <td>2</td>\n",
              "      <td>2</td>\n",
              "      <td>2</td>\n",
              "      <td>NaN</td>\n",
              "      <td>2</td>\n",
              "      <td>NaN</td>\n",
              "      <td>NaN</td>\n",
              "      <td>NaN</td>\n",
              "      <td>NaN</td>\n",
              "      <td>NaN</td>\n",
              "      <td>1.0</td>\n",
              "      <td>NaN</td>\n",
              "      <td>NaN</td>\n",
              "      <td>NaN</td>\n",
              "      <td>NaN</td>\n",
              "      <td>NaN</td>\n",
              "      <td>NaN</td>\n",
              "      <td>NaN</td>\n",
              "      <td>NaN</td>\n",
              "      <td>NaN</td>\n",
              "    </tr>\n",
              "    <tr>\n",
              "      <th>...</th>\n",
              "      <td>...</td>\n",
              "      <td>...</td>\n",
              "      <td>...</td>\n",
              "      <td>...</td>\n",
              "      <td>...</td>\n",
              "      <td>...</td>\n",
              "      <td>...</td>\n",
              "      <td>...</td>\n",
              "      <td>...</td>\n",
              "      <td>...</td>\n",
              "      <td>...</td>\n",
              "      <td>...</td>\n",
              "      <td>...</td>\n",
              "      <td>...</td>\n",
              "      <td>...</td>\n",
              "      <td>...</td>\n",
              "      <td>...</td>\n",
              "      <td>...</td>\n",
              "      <td>...</td>\n",
              "      <td>...</td>\n",
              "      <td>...</td>\n",
              "      <td>...</td>\n",
              "      <td>...</td>\n",
              "      <td>...</td>\n",
              "      <td>...</td>\n",
              "      <td>...</td>\n",
              "      <td>...</td>\n",
              "      <td>...</td>\n",
              "      <td>...</td>\n",
              "      <td>...</td>\n",
              "      <td>...</td>\n",
              "      <td>...</td>\n",
              "    </tr>\n",
              "    <tr>\n",
              "      <th>44593</th>\n",
              "      <td>5328146</td>\n",
              "      <td>1</td>\n",
              "      <td>2</td>\n",
              "      <td>1</td>\n",
              "      <td>86</td>\n",
              "      <td>86</td>\n",
              "      <td>2</td>\n",
              "      <td>55</td>\n",
              "      <td>NaN</td>\n",
              "      <td>1.0</td>\n",
              "      <td>4.0</td>\n",
              "      <td>2</td>\n",
              "      <td>2</td>\n",
              "      <td>2</td>\n",
              "      <td>2</td>\n",
              "      <td>NaN</td>\n",
              "      <td>2</td>\n",
              "      <td>NaN</td>\n",
              "      <td>NaN</td>\n",
              "      <td>NaN</td>\n",
              "      <td>NaN</td>\n",
              "      <td>NaN</td>\n",
              "      <td>1.0</td>\n",
              "      <td>NaN</td>\n",
              "      <td>NaN</td>\n",
              "      <td>NaN</td>\n",
              "      <td>NaN</td>\n",
              "      <td>NaN</td>\n",
              "      <td>NaN</td>\n",
              "      <td>NaN</td>\n",
              "      <td>NaN</td>\n",
              "      <td>NaN</td>\n",
              "    </tr>\n",
              "    <tr>\n",
              "      <th>44594</th>\n",
              "      <td>5328146</td>\n",
              "      <td>1</td>\n",
              "      <td>3</td>\n",
              "      <td>1</td>\n",
              "      <td>86</td>\n",
              "      <td>86</td>\n",
              "      <td>1</td>\n",
              "      <td>3</td>\n",
              "      <td>NaN</td>\n",
              "      <td>NaN</td>\n",
              "      <td>NaN</td>\n",
              "      <td>NaN</td>\n",
              "      <td>NaN</td>\n",
              "      <td>NaN</td>\n",
              "      <td>NaN</td>\n",
              "      <td>NaN</td>\n",
              "      <td>NaN</td>\n",
              "      <td>NaN</td>\n",
              "      <td>NaN</td>\n",
              "      <td>NaN</td>\n",
              "      <td>NaN</td>\n",
              "      <td>NaN</td>\n",
              "      <td>NaN</td>\n",
              "      <td>NaN</td>\n",
              "      <td>NaN</td>\n",
              "      <td>NaN</td>\n",
              "      <td>NaN</td>\n",
              "      <td>NaN</td>\n",
              "      <td>NaN</td>\n",
              "      <td>NaN</td>\n",
              "      <td>NaN</td>\n",
              "      <td>NaN</td>\n",
              "    </tr>\n",
              "    <tr>\n",
              "      <th>44595</th>\n",
              "      <td>5328225</td>\n",
              "      <td>1</td>\n",
              "      <td>1</td>\n",
              "      <td>1</td>\n",
              "      <td>86</td>\n",
              "      <td>86</td>\n",
              "      <td>2</td>\n",
              "      <td>41</td>\n",
              "      <td>1.0</td>\n",
              "      <td>1.0</td>\n",
              "      <td>2.0</td>\n",
              "      <td>2</td>\n",
              "      <td>2</td>\n",
              "      <td>2</td>\n",
              "      <td>1</td>\n",
              "      <td>1</td>\n",
              "      <td>NaN</td>\n",
              "      <td>NaN</td>\n",
              "      <td>NaN</td>\n",
              "      <td>NaN</td>\n",
              "      <td>NaN</td>\n",
              "      <td>1</td>\n",
              "      <td>NaN</td>\n",
              "      <td>NaN</td>\n",
              "      <td>NaN</td>\n",
              "      <td>NaN</td>\n",
              "      <td>NaN</td>\n",
              "      <td>NaN</td>\n",
              "      <td>NaN</td>\n",
              "      <td>NaN</td>\n",
              "      <td>NaN</td>\n",
              "      <td>NaN</td>\n",
              "    </tr>\n",
              "    <tr>\n",
              "      <th>44596</th>\n",
              "      <td>5328225</td>\n",
              "      <td>1</td>\n",
              "      <td>2</td>\n",
              "      <td>1</td>\n",
              "      <td>86</td>\n",
              "      <td>86</td>\n",
              "      <td>2</td>\n",
              "      <td>16</td>\n",
              "      <td>NaN</td>\n",
              "      <td>1.0</td>\n",
              "      <td>1.0</td>\n",
              "      <td>NaN</td>\n",
              "      <td>NaN</td>\n",
              "      <td>NaN</td>\n",
              "      <td>NaN</td>\n",
              "      <td>NaN</td>\n",
              "      <td>NaN</td>\n",
              "      <td>NaN</td>\n",
              "      <td>NaN</td>\n",
              "      <td>NaN</td>\n",
              "      <td>NaN</td>\n",
              "      <td>NaN</td>\n",
              "      <td>NaN</td>\n",
              "      <td>400000</td>\n",
              "      <td>NaN</td>\n",
              "      <td>NaN</td>\n",
              "      <td>24.0</td>\n",
              "      <td>24.0</td>\n",
              "      <td>NaN</td>\n",
              "      <td>1.0</td>\n",
              "      <td>1.0</td>\n",
              "      <td>47.0</td>\n",
              "    </tr>\n",
              "    <tr>\n",
              "      <th>44597</th>\n",
              "      <td>5328225</td>\n",
              "      <td>1</td>\n",
              "      <td>3</td>\n",
              "      <td>1</td>\n",
              "      <td>86</td>\n",
              "      <td>86</td>\n",
              "      <td>1</td>\n",
              "      <td>0</td>\n",
              "      <td>NaN</td>\n",
              "      <td>NaN</td>\n",
              "      <td>NaN</td>\n",
              "      <td>NaN</td>\n",
              "      <td>NaN</td>\n",
              "      <td>NaN</td>\n",
              "      <td>NaN</td>\n",
              "      <td>NaN</td>\n",
              "      <td>NaN</td>\n",
              "      <td>NaN</td>\n",
              "      <td>NaN</td>\n",
              "      <td>NaN</td>\n",
              "      <td>NaN</td>\n",
              "      <td>NaN</td>\n",
              "      <td>NaN</td>\n",
              "      <td>NaN</td>\n",
              "      <td>NaN</td>\n",
              "      <td>NaN</td>\n",
              "      <td>NaN</td>\n",
              "      <td>NaN</td>\n",
              "      <td>NaN</td>\n",
              "      <td>NaN</td>\n",
              "      <td>NaN</td>\n",
              "      <td>NaN</td>\n",
              "    </tr>\n",
              "  </tbody>\n",
              "</table>\n",
              "<p>44598 rows × 32 columns</p>\n",
              "</div>"
            ],
            "text/plain": [
              "       DIRECTORIO  SECUENCIA_P  ORDEN  HOGAR  ...  P6830  OCI  P6430  RAMA2D_R4\n",
              "0            2187            1      1      1  ...    NaN  NaN    NaN        NaN\n",
              "1            2187            1      2      1  ...    NaN  NaN    NaN        NaN\n",
              "2            2187            1      3      1  ...    NaN  NaN    NaN        NaN\n",
              "3            2187            1      4      1  ...    NaN  NaN    NaN        NaN\n",
              "4            2187            1      5      1  ...    NaN  NaN    NaN        NaN\n",
              "...           ...          ...    ...    ...  ...    ...  ...    ...        ...\n",
              "44593     5328146            1      2      1  ...    NaN  NaN    NaN        NaN\n",
              "44594     5328146            1      3      1  ...    NaN  NaN    NaN        NaN\n",
              "44595     5328225            1      1      1  ...    NaN  NaN    NaN        NaN\n",
              "44596     5328225            1      2      1  ...    NaN  1.0    1.0       47.0\n",
              "44597     5328225            1      3      1  ...    NaN  NaN    NaN        NaN\n",
              "\n",
              "[44598 rows x 32 columns]"
            ]
          },
          "metadata": {},
          "execution_count": 91
        }
      ]
    },
    {
      "cell_type": "code",
      "metadata": {
        "colab": {
          "base_uri": "https://localhost:8080/"
        },
        "id": "VEF2tNrT0reZ",
        "outputId": "7d96f4db-72e2-460a-a74c-97f0d7408d9f"
      },
      "source": [
        "DATOS.shape # Dimensiones de nuestra base de datos"
      ],
      "execution_count": 92,
      "outputs": [
        {
          "output_type": "execute_result",
          "data": {
            "text/plain": [
              "(44598, 32)"
            ]
          },
          "metadata": {},
          "execution_count": 92
        }
      ]
    },
    {
      "cell_type": "code",
      "metadata": {
        "colab": {
          "base_uri": "https://localhost:8080/"
        },
        "id": "ngjKpKBr6QSI",
        "outputId": "7b32f01f-352c-4b95-82c8-8d42ba4f1ee1"
      },
      "source": [
        "DATOS = DATOS.drop_duplicates() #Quitamos las filas duplicadas\n",
        "DATOS.shape"
      ],
      "execution_count": 93,
      "outputs": [
        {
          "output_type": "execute_result",
          "data": {
            "text/plain": [
              "(38092, 32)"
            ]
          },
          "metadata": {},
          "execution_count": 93
        }
      ]
    },
    {
      "cell_type": "code",
      "metadata": {
        "id": "yn-kXLMfJZS1",
        "colab": {
          "base_uri": "https://localhost:8080/"
        },
        "outputId": "7d3f8fbb-ea8c-4a58-8e54-275242e2fbc7"
      },
      "source": [
        "DATOS.isna().sum() # Cuenta de NaN por cada columna o variable"
      ],
      "execution_count": 94,
      "outputs": [
        {
          "output_type": "execute_result",
          "data": {
            "text/plain": [
              "DIRECTORIO         0\n",
              "SECUENCIA_P        0\n",
              "ORDEN              0\n",
              "HOGAR              0\n",
              "DPTO               0\n",
              "AREA               0\n",
              "P6020              0\n",
              "P6040              0\n",
              "DSI            34594\n",
              "FT              8078\n",
              "P6240           8078\n",
              "P6250          20265\n",
              "P6260          21345\n",
              "P6270          22344\n",
              "P6280          22587\n",
              "P6290          34747\n",
              "P6300          25932\n",
              "P6320          37319\n",
              "P6330          37610\n",
              "P6340          37801\n",
              "P6350          37868\n",
              "P6351          34514\n",
              "INI            25707\n",
              "P6500          31731\n",
              "P6750          30706\n",
              "P6760          30706\n",
              "P6800          23961\n",
              "P6850          23961\n",
              "P6830          35245\n",
              "OCI            23961\n",
              "P6430          23961\n",
              "RAMA2D_R4      23961\n",
              "dtype: int64"
            ]
          },
          "metadata": {},
          "execution_count": 94
        }
      ]
    },
    {
      "cell_type": "code",
      "metadata": {
        "id": "yxiuUZLQpjxe",
        "colab": {
          "base_uri": "https://localhost:8080/"
        },
        "outputId": "5be6b625-2b61-4c84-ffbd-3cb16d3e6d80"
      },
      "source": [
        "DATOS['P6040'].mean() #La edad promedio de la población encuestada para la encuesta de GEIH - Nuevos Departamentos de la Amazonia y Orinoquía 2020"
      ],
      "execution_count": 95,
      "outputs": [
        {
          "output_type": "execute_result",
          "data": {
            "text/plain": [
              "29.74209807833666"
            ]
          },
          "metadata": {},
          "execution_count": 95
        }
      ]
    },
    {
      "cell_type": "code",
      "metadata": {
        "id": "OjJXXGLey1ah"
      },
      "source": [
        "y = DATOS['P6020'] "
      ],
      "execution_count": 27,
      "outputs": []
    },
    {
      "cell_type": "code",
      "metadata": {
        "colab": {
          "base_uri": "https://localhost:8080/"
        },
        "id": "DPxsOAV6YWBE",
        "outputId": "f5d84eb9-5370-4cf1-86fe-7d3f831cdb06"
      },
      "source": [
        "(y==2).sum() # Total de Mujeres "
      ],
      "execution_count": 173,
      "outputs": [
        {
          "output_type": "execute_result",
          "data": {
            "text/plain": [
              "19653"
            ]
          },
          "metadata": {},
          "execution_count": 173
        }
      ]
    },
    {
      "cell_type": "code",
      "metadata": {
        "colab": {
          "base_uri": "https://localhost:8080/"
        },
        "id": "U2J5ygDt0kgF",
        "outputId": "08c3063c-0eab-401d-8801-cbfd6bcf932e"
      },
      "source": [
        "(y==1).sum() # Total de Hombres "
      ],
      "execution_count": 174,
      "outputs": [
        {
          "output_type": "execute_result",
          "data": {
            "text/plain": [
              "18439"
            ]
          },
          "metadata": {},
          "execution_count": 174
        }
      ]
    },
    {
      "cell_type": "code",
      "metadata": {
        "colab": {
          "base_uri": "https://localhost:8080/"
        },
        "id": "fRQRCuC8DNk6",
        "outputId": "6fc9e34f-5edc-48ca-de1d-71e490c7b01a"
      },
      "source": [
        "(y==2).sum()/y.count() #Porcentaje de mujeres "
      ],
      "execution_count": 175,
      "outputs": [
        {
          "output_type": "execute_result",
          "data": {
            "text/plain": [
              "0.5159351044838811"
            ]
          },
          "metadata": {},
          "execution_count": 175
        }
      ]
    },
    {
      "cell_type": "code",
      "metadata": {
        "colab": {
          "base_uri": "https://localhost:8080/"
        },
        "id": "vv6BSxJBDT7q",
        "outputId": "984d4546-5ed4-49ce-c737-9e1ac9f950d3"
      },
      "source": [
        "((y==1).sum()/y.count()) #Porcentaje de hombres "
      ],
      "execution_count": 176,
      "outputs": [
        {
          "output_type": "execute_result",
          "data": {
            "text/plain": [
              "0.48406489551611886"
            ]
          },
          "metadata": {},
          "execution_count": 176
        }
      ]
    },
    {
      "cell_type": "code",
      "metadata": {
        "id": "Tfer1cat1PO0",
        "colab": {
          "base_uri": "https://localhost:8080/",
          "height": 313
        },
        "outputId": "a1e4a721-407c-48b2-f46b-191f6268bb55"
      },
      "source": [
        "((y==2).sum()/y.count() - ((y==1).sum()/y.count()))*100 #Diferencia porcentual\n",
        "label = ['Mujeres','Hombres'] \n",
        "plt.hist(y,bins=2, color='tab:purple', rwidth=0.85,label=label)\n",
        "plt.title(\"Número de personas de acuerdo al sexo\")\n",
        "plt.ylabel(\"Cantidad\")\n",
        "plt.xlabel(\"Mujeres                      Hombres\")"
      ],
      "execution_count": 177,
      "outputs": [
        {
          "output_type": "execute_result",
          "data": {
            "text/plain": [
              "Text(0.5, 0, 'Mujeres                      Hombres')"
            ]
          },
          "metadata": {},
          "execution_count": 177
        },
        {
          "output_type": "display_data",
          "data": {
            "image/png": "[encoded data removed]",
            "text/plain": [
              "<Figure size 432x288 with 1 Axes>"
            ]
          },
          "metadata": {
            "needs_background": "light"
          }
        }
      ]
    },
    {
      "cell_type": "markdown",
      "metadata": {
        "id": "4qAarKKyM6F4"
      },
      "source": [
        "COMPARACIÓN DE LAS REGIONES\n"
      ]
    },
    {
      "cell_type": "code",
      "metadata": {
        "id": "4gJFSKkfMQQX"
      },
      "source": [
        "VA = [91,86,94,97,95] # CODIGOS DEPARTAMENTOS DE LA REGION AMAZONAS\n",
        "amz = DATOS[DATOS.DPTO.isin(VA)] # Datos de la region Amazonas"
      ],
      "execution_count": 178,
      "outputs": []
    },
    {
      "cell_type": "code",
      "metadata": {
        "id": "yVGzw1N7H-3M"
      },
      "source": [
        "VO = [81,85,99] # CODIGOS DEPARTAMENTOS DE LA REGION ORINOQUIA\n",
        "orq = DATOS[DATOS.DPTO.isin(VO)] # Datos de la region Orinoquia\n"
      ],
      "execution_count": 179,
      "outputs": []
    },
    {
      "cell_type": "code",
      "metadata": {
        "colab": {
          "base_uri": "https://localhost:8080/"
        },
        "id": "DNkJ7e_8LF4F",
        "outputId": "26686d78-6af0-4725-be35-33a13df41858"
      },
      "source": [
        "amz[amz['P6800'].notna()] # No tomamos los NaN's para el calculo en la variable \n",
        "amz['P6800'].mean() # El promedio de horas de trabajo semanales por persona en la region Amazonas segun la encuesta de GEIH"
      ],
      "execution_count": 132,
      "outputs": [
        {
          "output_type": "execute_result",
          "data": {
            "text/plain": [
              "44.29557602638462"
            ]
          },
          "metadata": {},
          "execution_count": 132
        }
      ]
    },
    {
      "cell_type": "code",
      "metadata": {
        "colab": {
          "base_uri": "https://localhost:8080/"
        },
        "id": "I8HlpL-hPgLI",
        "outputId": "4be7e61c-c497-49bb-f12e-65958792595b"
      },
      "source": [
        "orq[orq['P6800'].notna()] # No tomamos los NaN's para el calculo en la variable \n",
        "orq['P6800'].mean() # El promedio de horas de trabajo semanales por persona en la region Orinoquia segun la encuesta de GEIH"
      ],
      "execution_count": 133,
      "outputs": [
        {
          "output_type": "execute_result",
          "data": {
            "text/plain": [
              "45.95129261895841"
            ]
          },
          "metadata": {},
          "execution_count": 133
        }
      ]
    },
    {
      "cell_type": "code",
      "metadata": {
        "id": "5r2TY5Njo8og",
        "colab": {
          "base_uri": "https://localhost:8080/"
        },
        "outputId": "be6c169c-bba8-4593-ff9b-29e65e037b0a"
      },
      "source": [
        "amz.loc[:, ['DPTO','P6800','P6430']].max() # Selección de variables para seleccionar en cual departamento en la region del Amazonas tiene el mayor numero de horas de trabajo por persona \n",
        "# y podemos ver que en el departamento de Vaupes hay una persona que trabaja 130 horas por semana como jornalero o peon."
      ],
      "execution_count": 134,
      "outputs": [
        {
          "output_type": "execute_result",
          "data": {
            "text/plain": [
              "DPTO      97.0\n",
              "P6800    130.0\n",
              "P6430      9.0\n",
              "dtype: float64"
            ]
          },
          "metadata": {},
          "execution_count": 134
        }
      ]
    },
    {
      "cell_type": "code",
      "metadata": {
        "colab": {
          "base_uri": "https://localhost:8080/"
        },
        "id": "FpLwrWOdSPA3",
        "outputId": "e48aa448-a266-41d7-ef98-bea5d802c2f6"
      },
      "source": [
        "orq.loc[:, ['DPTO','P6800','P6430']].max() # Selección de variables para seleccionar en cual departamento en la region de Orinoquia tiene el mayor numero de horas de trabajo por persona \n",
        "# y podemos ver que al igual que en la region del Amazonas en el departamento de Vichada hay una persona que trabaja 130 horas por semana como jornalero o peon."
      ],
      "execution_count": 135,
      "outputs": [
        {
          "output_type": "execute_result",
          "data": {
            "text/plain": [
              "DPTO      99.0\n",
              "P6800    130.0\n",
              "P6430      9.0\n",
              "dtype: float64"
            ]
          },
          "metadata": {},
          "execution_count": 135
        }
      ]
    },
    {
      "cell_type": "code",
      "metadata": {
        "colab": {
          "base_uri": "https://localhost:8080/"
        },
        "id": "55okSrYyhJir",
        "outputId": "1b63c4db-83fc-4524-9a9d-8739f890cabb"
      },
      "source": [
        "amz['FT'].sum(),amz['DSI'].sum() "
      ],
      "execution_count": 136,
      "outputs": [
        {
          "output_type": "execute_result",
          "data": {
            "text/plain": [
              "(18454.0, 1927.0)"
            ]
          },
          "metadata": {},
          "execution_count": 136
        }
      ]
    },
    {
      "cell_type": "code",
      "metadata": {
        "id": "REksNg12K9lJ"
      },
      "source": [
        "#POBLACIÓN ECONÓMICAMENTE ACTIVA/ FUERZA DE TRABAJO\n",
        "ft1 = amz['FT'].sum() #Región Amazonas\n",
        "ft2 = orq['FT'].sum() #Región Orinoquía"
      ],
      "execution_count": 137,
      "outputs": []
    },
    {
      "cell_type": "code",
      "metadata": {
        "id": "l0R4OI8PGPH1"
      },
      "source": [
        "#PERSONAS OCUPADAS EN CADA REGIÓN\n",
        "ocu_amz = amz['OCI'].sum()\n",
        "ocu_orq = orq['OCI'].sum()"
      ],
      "execution_count": 138,
      "outputs": []
    },
    {
      "cell_type": "code",
      "metadata": {
        "id": "j80ENlflGq3c"
      },
      "source": [
        "#PERSONAS DESOCUPADAS EN CADA REGIÓN \n",
        "des_amz = amz['DSI'].sum()\n",
        "des_orq = orq['DSI'].sum()"
      ],
      "execution_count": 139,
      "outputs": []
    },
    {
      "cell_type": "code",
      "metadata": {
        "colab": {
          "base_uri": "https://localhost:8080/"
        },
        "id": "K963WgRRbB9l",
        "outputId": "f7e74b7e-5443-4880-f83c-85081ff39007"
      },
      "source": [
        "PET_amz = amz['OCI'].sum() + amz['DSI'].sum() + amz['INI'].sum()\n",
        "PET_amz #Poblacion en edad de trabajar de la region Amazonas, PET = Población ocupada + Población desempleada + Población inactiva"
      ],
      "execution_count": 180,
      "outputs": [
        {
          "output_type": "execute_result",
          "data": {
            "text/plain": [
              "18454.0"
            ]
          },
          "metadata": {},
          "execution_count": 180
        }
      ]
    },
    {
      "cell_type": "code",
      "metadata": {
        "colab": {
          "base_uri": "https://localhost:8080/"
        },
        "id": "okgM_xOHbhSY",
        "outputId": "837d9fc1-7e7d-43cd-e2be-2e95e31cb936"
      },
      "source": [
        "PET_orq = orq['OCI'].sum() + orq['DSI'].sum() + orq['INI'].sum()\n",
        "PET_orq #Poblacion en edad de trabajar de la region Orinoquía, PET = Población ocupada + Población desempleada + Población inactiva"
      ],
      "execution_count": 121,
      "outputs": [
        {
          "output_type": "execute_result",
          "data": {
            "text/plain": [
              "11560.0"
            ]
          },
          "metadata": {},
          "execution_count": 121
        }
      ]
    },
    {
      "cell_type": "markdown",
      "metadata": {
        "id": "xAsFpBZZQIyc"
      },
      "source": [
        "TASAS DE OCUPACIÓN: Es la relación porcentual entre la población ocupada (OCI) y el número de personas que integran la población en edad de trabajar (PET).\n"
      ]
    },
    {
      "cell_type": "code",
      "metadata": {
        "colab": {
          "base_uri": "https://localhost:8080/"
        },
        "id": "ljc4rAOrGSQE",
        "outputId": "9264e4b7-6c84-4b57-e71a-a1822ba8a15c"
      },
      "source": [
        "empl1 = ocu_amz/PET_amz*100 #Para la Región del Amazonas \n",
        "empl1"
      ],
      "execution_count": 122,
      "outputs": [
        {
          "output_type": "execute_result",
          "data": {
            "text/plain": [
              "47.64820635092663"
            ]
          },
          "metadata": {},
          "execution_count": 122
        }
      ]
    },
    {
      "cell_type": "code",
      "metadata": {
        "colab": {
          "base_uri": "https://localhost:8080/"
        },
        "id": "HvCdO7O8J0Tt",
        "outputId": "9a8fa937-b65a-4f4a-97d2-aa135d937468"
      },
      "source": [
        "empl2 = ocu_orq/PET_orq*100 #Para la Región de la Orinoquía \n",
        "empl2"
      ],
      "execution_count": 141,
      "outputs": [
        {
          "output_type": "execute_result",
          "data": {
            "text/plain": [
              "46.1764705882353"
            ]
          },
          "metadata": {},
          "execution_count": 141
        }
      ]
    },
    {
      "cell_type": "markdown",
      "metadata": {
        "id": "fMo6RtU_QMbd"
      },
      "source": [
        "TASAS DE DESEMPLEO: Es la relación porcentual entre el número de personas que están buscando trabajo (DS), y el número de personas que integran la fuerza laboral (PEA).\n"
      ]
    },
    {
      "cell_type": "code",
      "metadata": {
        "colab": {
          "base_uri": "https://localhost:8080/"
        },
        "id": "rny2buKOKDu3",
        "outputId": "64a96e99-f3e6-4858-9bed-e1ca997cda19"
      },
      "source": [
        "des1 = des_amz/ft1*100 #Para la Región Amazonas\n",
        "des1"
      ],
      "execution_count": 142,
      "outputs": [
        {
          "output_type": "execute_result",
          "data": {
            "text/plain": [
              "10.4421805570608"
            ]
          },
          "metadata": {},
          "execution_count": 142
        }
      ]
    },
    {
      "cell_type": "code",
      "metadata": {
        "colab": {
          "base_uri": "https://localhost:8080/"
        },
        "id": "6LEJhb1yLYEJ",
        "outputId": "2328b7e5-4924-4e64-cfc6-ddaf2599fd5a"
      },
      "source": [
        "des2 = des_orq/ft2*100 #Para la Región de la Orinoquía\n",
        "des2"
      ],
      "execution_count": 143,
      "outputs": [
        {
          "output_type": "execute_result",
          "data": {
            "text/plain": [
              "13.589965397923876"
            ]
          },
          "metadata": {},
          "execution_count": 143
        }
      ]
    },
    {
      "cell_type": "code",
      "metadata": {
        "colab": {
          "base_uri": "https://localhost:8080/",
          "height": 299
        },
        "id": "RDDfZP33cHvS",
        "outputId": "3fba7154-c660-4559-c694-c646e5303e27"
      },
      "source": [
        "PET_orq-PET_amz #Diferencia de personas en edad de trabajar \n",
        "s = [\"Amazonía\",\"Orinoquia\"]\n",
        "m = [PET_amz,PET_orq]\n",
        "plt.bar(s,m,color='tab:green',width=0.45)\n",
        "plt.title(\"Personas en edad de trabajar respecto a cada región\")\n",
        "plt.ylabel(\"Frecuencia\")\n"
      ],
      "execution_count": 144,
      "outputs": [
        {
          "output_type": "execute_result",
          "data": {
            "text/plain": [
              "Text(0, 0.5, 'Frecuencia')"
            ]
          },
          "metadata": {},
          "execution_count": 144
        },
        {
          "output_type": "display_data",
          "data": {
            "image/png": "[encoded data removed]",
            "text/plain": [
              "<Figure size 432x288 with 1 Axes>"
            ]
          },
          "metadata": {
            "needs_background": "light"
          }
        }
      ]
    },
    {
      "cell_type": "code",
      "metadata": {
        "colab": {
          "base_uri": "https://localhost:8080/"
        },
        "id": "p7MKkeqUwSvb",
        "outputId": "61755518-90cc-4d26-952b-191a56d5d731"
      },
      "source": [
        "((amz['P6240']==1)==True).sum() #Número de personas de la región del Amazonas que trabajaron la mayor parte del tiempo la semana pasada\n"
      ],
      "execution_count": 145,
      "outputs": [
        {
          "output_type": "execute_result",
          "data": {
            "text/plain": [
              "7385"
            ]
          },
          "metadata": {},
          "execution_count": 145
        }
      ]
    },
    {
      "cell_type": "code",
      "metadata": {
        "colab": {
          "base_uri": "https://localhost:8080/"
        },
        "id": "D_Zt0B9uzdIe",
        "outputId": "9276c010-a451-4943-89b7-fee3ad2c2f44"
      },
      "source": [
        "((orq['P6240']==1)==True).sum() #Número de personas de la región de la Orinoquia que trabajaron la mayor parte del tiempo la semana pasada\n"
      ],
      "execution_count": 146,
      "outputs": [
        {
          "output_type": "execute_result",
          "data": {
            "text/plain": [
              "4424"
            ]
          },
          "metadata": {},
          "execution_count": 146
        }
      ]
    },
    {
      "cell_type": "code",
      "metadata": {
        "colab": {
          "base_uri": "https://localhost:8080/",
          "height": 266
        },
        "id": "YCSX2-eP17Ad",
        "outputId": "0f765a08-f115-4184-ffcc-f32adf99b026"
      },
      "source": [
        "VA = [91,86,94,97,95] \n",
        "amz = DATOS[DATOS.DPTO.isin(VA)]\n",
        "colores = ['cyan','green','coral','yellow','red', 'grey']\n",
        "act = [\"Trabajando\",\"Buscando trabajo\",\"Estudiando\",\"Oficios del hogar\",\"Incapacitado permanente para trabajar\",\"Otra actividad\"]\n",
        "serie = amz['P6240'].value_counts()\n",
        "serie.plot.pie(autopct = '%1.1f%%',labels=act,colors=colores) \n",
        "#Proporcion de las personas de las actividades que la mayor parte del tiempo la semana pasada.\n",
        "#1 Trabajando\n",
        "#2 Buscando trabajo\n",
        "#3 Estudiando\n",
        "#4 Oficios del hogar\n",
        "#5 Incapacitado permanente para trabajar\n",
        "#6 Otra actividad\n"
      ],
      "execution_count": 149,
      "outputs": [
        {
          "output_type": "execute_result",
          "data": {
            "text/plain": [
              "<matplotlib.axes._subplots.AxesSubplot at 0x7f22fd3d0410>"
            ]
          },
          "metadata": {},
          "execution_count": 149
        },
        {
          "output_type": "display_data",
          "data": {
            "image/png": "[encoded data removed]",
            "text/plain": [
              "<Figure size 432x288 with 1 Axes>"
            ]
          },
          "metadata": {}
        }
      ]
    },
    {
      "cell_type": "code",
      "metadata": {
        "colab": {
          "base_uri": "https://localhost:8080/",
          "height": 266
        },
        "id": "7qSbM0KCqHdV",
        "outputId": "317c14e5-7db0-4062-be28-2c1fd2381f84"
      },
      "source": [
        "VO = [81,85,99] \n",
        "orq = DATOS[DATOS.DPTO.isin(VO)] \n",
        "act = [\"Trabajando\",\"Buscando trabajo\",\"Estudiando\",\"Oficios del hogar\",\"Incapacitado permanente para trabajar\",\"Otra actividad\"]\n",
        "serie1 = orq['P6240'].value_counts()\n",
        "colores = ['cyan','green','coral','yellow','red', 'grey']\n",
        "serie1.plot.pie(autopct = '%1.1f%%',labels=act,colors= colores)#Proporcion de las personas de las actividades que la mayor parte del tiempo la semana pasada."
      ],
      "execution_count": 150,
      "outputs": [
        {
          "output_type": "execute_result",
          "data": {
            "text/plain": [
              "<matplotlib.axes._subplots.AxesSubplot at 0x7f22fd3d2c90>"
            ]
          },
          "metadata": {},
          "execution_count": 150
        },
        {
          "output_type": "display_data",
          "data": {
            "image/png": "[encoded data removed]",
            "text/plain": [
              "<Figure size 432x288 with 1 Axes>"
            ]
          },
          "metadata": {}
        }
      ]
    },
    {
      "cell_type": "markdown",
      "metadata": {
        "id": "eU9VebxmMd40"
      },
      "source": [
        "Se puede evidenciar que en ambos departamentos la actividad más realizada en la semana pasada desde la encuesta es el trabajo seguido de que están buscando trabajo."
      ]
    },
    {
      "cell_type": "code",
      "metadata": {
        "colab": {
          "base_uri": "https://localhost:8080/",
          "height": 300
        },
        "id": "4War_-U6o7Kj",
        "outputId": "b6e76674-5941-453b-e071-c24c23ac859b"
      },
      "source": [
        "# Pregunta P6250: Además de lo anterior, ¿... Realizó la semana pasada alguna actividad paga por una hora o más?\n",
        "#Respuesta Sí\n",
        "x = ['Amazonia','Orinoquía'] \n",
        "c = [(amz['P6250']=='1').sum(),(orq['P6250']=='1').sum()]\n",
        "plt.bar(x,c, color='tab:purple')\n",
        "plt.title(\"P6250:Además de lo anterior si realizó la semana pasada alguna actividad paga por una hora o más\") #Se tiene encuenta para la pregunta la respuesta sí\n",
        "plt.ylabel(\"Frecuencia\")\n",
        "#La región de la Orinoquía presenta mayor cantidad de personas que si realizaron la semana pasada alguna actividad paga por una hora o más"
      ],
      "execution_count": 151,
      "outputs": [
        {
          "output_type": "execute_result",
          "data": {
            "text/plain": [
              "Text(0, 0.5, 'Frecuencia')"
            ]
          },
          "metadata": {},
          "execution_count": 151
        },
        {
          "output_type": "display_data",
          "data": {
            "image/png": "[encoded data removed]",
            "text/plain": [
              "<Figure size 432x288 with 1 Axes>"
            ]
          },
          "metadata": {
            "needs_background": "light"
          }
        }
      ]
    },
    {
      "cell_type": "code",
      "metadata": {
        "colab": {
          "base_uri": "https://localhost:8080/",
          "height": 300
        },
        "id": "y5S2KWc5ukSm",
        "outputId": "071b22b9-3db4-454b-f138-15eaa00f0680"
      },
      "source": [
        "# Pregunta P6250: Además de lo anterior, ¿... Realizó la semana pasada alguna actividad paga por una hora o más?\n",
        "#Respuesta No \n",
        "x = ['Amazonia','Orinoquía'] \n",
        "c = [(amz['P6250']=='2').sum(),(orq['P6250']=='2').sum()]\n",
        "plt.bar(x,c, color='tab:red')\n",
        "plt.title(\"P6250:Además de lo anterior no realizó la semana pasada alguna actividad paga por una hora o más\") #Se tiene encuenta para la pregunta la respuesta sí\n",
        "plt.ylabel(\"Frecuencia\")\n",
        "#La región de la Orinoquía presenta mayor cantidad de personas que no realizaron la semana pasada alguna actividad paga por una hora o más superando una cantidad de 100.000 personas"
      ],
      "execution_count": 152,
      "outputs": [
        {
          "output_type": "execute_result",
          "data": {
            "text/plain": [
              "Text(0, 0.5, 'Frecuencia')"
            ]
          },
          "metadata": {},
          "execution_count": 152
        },
        {
          "output_type": "display_data",
          "data": {
            "image/png": "[encoded data removed]",
            "text/plain": [
              "<Figure size 432x288 with 1 Axes>"
            ]
          },
          "metadata": {
            "needs_background": "light"
          }
        }
      ]
    },
    {
      "cell_type": "code",
      "metadata": {
        "colab": {
          "base_uri": "https://localhost:8080/",
          "height": 485
        },
        "id": "N98fJkjwwi65",
        "outputId": "356d1062-bd94-48c5-d6bc-c039d340f0d7"
      },
      "source": [
        "VA = [91,86,94,97,95] \n",
        "amz = DATOS[DATOS.DPTO.isin(VA)]\n",
        "serie3 = amz['P6290'].value_counts()\n",
        "colores = ['red','green','coral','yellow','silver', 'grey','blue','pink']\n",
        "act = [\"1\",\"2\",\"3\",\"4\",\"5\",\"6\",\"7\",\"8\"]\n",
        "serie3.plot.pie(autopct = '%1.1f%%',labels=act,colors=colores,figsize=(8,8)) \n",
        "#¿Qué hizo ... principalmente en las ÚLTIMAS CUATRO SEMANAS para conseguir un trabajo o instalar un negocio?\n",
        "#1.. Pidió ayuda a familiares, amigos, colegas\n",
        "#2. Visitó, llevó o envió hojas de vida a empresas o empleadores\n",
        "#3. Visitó, llevó o envió hojas de vida a bolsas de empleo o intermediarios\n",
        "#4. Puso o consulto avisos clasificados\n",
        "#5. Se presentó a convocatorias\n",
        "#6. Hizo preparativos para iniciar un negocio\n",
        "#7. Otro medio\n",
        "#8. No sabe, no informa\n",
        "\n"
      ],
      "execution_count": 155,
      "outputs": [
        {
          "output_type": "execute_result",
          "data": {
            "text/plain": [
              "<matplotlib.axes._subplots.AxesSubplot at 0x7f22fd1c9e10>"
            ]
          },
          "metadata": {},
          "execution_count": 155
        },
        {
          "output_type": "display_data",
          "data": {
            "image/png": "[encoded data removed]",
            "text/plain": [
              "<Figure size 576x576 with 1 Axes>"
            ]
          },
          "metadata": {}
        }
      ]
    },
    {
      "cell_type": "code",
      "metadata": {
        "colab": {
          "base_uri": "https://localhost:8080/",
          "height": 485
        },
        "id": "4V1XoWOw0KcH",
        "outputId": "2635ba8c-e579-4124-9d90-609a0dc3acff"
      },
      "source": [
        "VO = [81,85,99] \n",
        "orq = DATOS[DATOS.DPTO.isin(VO)] \n",
        "serie4 = orq['P6290'].value_counts()\n",
        "colores = ['red','green','coral','yellow','silver', 'grey','blue','pink']\n",
        "act = [\"1\",\"2\",\"3\",\"4\",\"5\",\"6\",\"7\",\"8\"]\n",
        "serie4.plot.pie(autopct = '%1.1f%%',labels=act,colors=colores,figsize=(8,8)) \n",
        "#¿Qué hizo ... principalmente en las ÚLTIMAS CUATRO SEMANAS para conseguir un trabajo o instalar un negocio?\n",
        "#1.. Pidió ayuda a familiares, amigos, colegas\n",
        "#2. Visitó, llevó o envió hojas de vida a empresas o empleadores\n",
        "#3. Visitó, llevó o envió hojas de vida a bolsas de empleo o intermediarios\n",
        "#4. Puso o consulto avisos clasificados\n",
        "#5. Se presentó a convocatorias\n",
        "#6. Hizo preparativos para iniciar un negocio\n",
        "#7. Otro medio\n",
        "#8. No sabe, no informa\n",
        "\n"
      ],
      "execution_count": 157,
      "outputs": [
        {
          "output_type": "execute_result",
          "data": {
            "text/plain": [
              "<matplotlib.axes._subplots.AxesSubplot at 0x7f22fd0b31d0>"
            ]
          },
          "metadata": {},
          "execution_count": 157
        },
        {
          "output_type": "display_data",
          "data": {
            "image/png": "[encoded data removed]",
            "text/plain": [
              "<Figure size 576x576 with 1 Axes>"
            ]
          },
          "metadata": {}
        }
      ]
    },
    {
      "cell_type": "markdown",
      "metadata": {
        "id": "xq8wVfTW0Znb"
      },
      "source": [
        "\n",
        "En ambos departamentos principalmente en las ÚLTIMAS CUATRO SEMANAS desde la encuesta para conseguir un trabajo o instalar un negocio recurrieron a pedir ayuda a familiares, amigos, colegas y como segunda opción visitaron, llevaron o enviaron hojas de vida a empresas o empleadores.\n",
        "\n"
      ]
    },
    {
      "cell_type": "code",
      "metadata": {
        "colab": {
          "base_uri": "https://localhost:8080/"
        },
        "id": "AAQdPLtl2Fag",
        "outputId": "f84ca06e-a0f7-4853-8ec0-3cf5768ee95f"
      },
      "source": [
        "# ¿Cuántos meses hace que dejó de buscar trabajo por última vez?\n",
        "amz['P6350'].value_counts(), orq['P6350'].value_counts()"
      ],
      "execution_count": 158,
      "outputs": [
        {
          "output_type": "execute_result",
          "data": {
            "text/plain": [
              "(1     47\n",
              " 2     42\n",
              " 3     17\n",
              " 4     16\n",
              " 12    14\n",
              " 6     10\n",
              " 8      6\n",
              " 5      4\n",
              " 9      3\n",
              " 7      1\n",
              " 0      1\n",
              " Name: P6350, dtype: int64, 2     11\n",
              " 3      7\n",
              " 1      7\n",
              " 5      6\n",
              " 6      6\n",
              " 4      6\n",
              " 12     6\n",
              " 8      4\n",
              " 11     3\n",
              " 7      3\n",
              " 10     2\n",
              " 0      1\n",
              " 9      1\n",
              " Name: P6350, dtype: int64)"
            ]
          },
          "metadata": {},
          "execution_count": 158
        }
      ]
    },
    {
      "cell_type": "markdown",
      "metadata": {
        "id": "2mL2D5Zw3cct"
      },
      "source": [
        "Respecto a los datos anteriores se pueden comparar la pregunta P6350: ¿Cuántos meses hace que…dejó de buscar trabajo por última vez?. Dado que es una pregunta abierta se puede evidenciar que para la región del Amazonas el mes que más se repitio fue de un mes que dejaron de buscar trabajo y para Región de la Orinoquía fue de 3 meses."
      ]
    },
    {
      "cell_type": "code",
      "metadata": {
        "colab": {
          "base_uri": "https://localhost:8080/"
        },
        "id": "ZZeJdSTVRAyC",
        "outputId": "8ad25b9a-b544-4b96-c980-04d8b39e7677"
      },
      "source": [
        "VA = [91,86,94,97,95] # CODIGOS DEPARTAMENTOS DE LA REGION AMAZONAS\n",
        "amz = DATOS[DATOS.DPTO.isin(VA)] \n",
        "m=amz['P6500'].dropna() # No tomamos los NaN's para el calculo en la variable \n",
        "m=m.astype(float)\n",
        "m.max() \n",
        "# Para la pregunta P6500: Antes de descuentos ¿cuánto ganó .... el mes pasado en este empleo. \n",
        "# El valor máximo que gano una persona en la Región del Amazonas fue de $70'000.000 incluyendo propinas y comisiones y excluya viáticos y pagos en especie)\n",
        "\n"
      ],
      "execution_count": 159,
      "outputs": [
        {
          "output_type": "execute_result",
          "data": {
            "text/plain": [
              "70000000.0"
            ]
          },
          "metadata": {},
          "execution_count": 159
        }
      ]
    },
    {
      "cell_type": "code",
      "metadata": {
        "colab": {
          "base_uri": "https://localhost:8080/"
        },
        "id": "30fIKHCrQidy",
        "outputId": "9a685389-0d65-4328-8563-0828bd20f386"
      },
      "source": [
        "p=orq['P6500'].dropna()\n",
        "p=p.astype(float)\n",
        "p.max() \n",
        "# Para la pregunta P6500: Antes de descuentos ¿cuánto ganó .... el mes pasado en este empleo. \n",
        "# El valor máximo que gano una persona en la Región de la Orinoquia fue de $28'000.000 incluyendo propinas y comisiones y excluya viáticos y pagos en especie)\n"
      ],
      "execution_count": 160,
      "outputs": [
        {
          "output_type": "execute_result",
          "data": {
            "text/plain": [
              "28000000.0"
            ]
          },
          "metadata": {},
          "execution_count": 160
        }
      ]
    },
    {
      "cell_type": "code",
      "metadata": {
        "id": "WRzaq7MQZqXK"
      },
      "source": [
        ""
      ],
      "execution_count": null,
      "outputs": []
    },
    {
      "cell_type": "code",
      "metadata": {
        "colab": {
          "base_uri": "https://localhost:8080/"
        },
        "id": "demKgGSAZoVd",
        "outputId": "e348cdd7-2b7d-4f32-ecf7-50d49ce70cd0"
      },
      "source": [
        "m=amz['P6750'].dropna() # No tomamos los NaN's para el calculo en la variable \n",
        "m=m.astype(float)\n",
        "m.max() \n",
        "# P6750: ¿Cuál fue la ganancia neta o los honorarios netos de ... en esa actividad, negocio, profesión o finca, el mes pasado ?\n",
        "# Honorarios o ganancia neta en el mes pasado\n",
        "\n",
        "#Siendo la ganancia neta máxima de una persona de la Región Amazonica $35'000.000"
      ],
      "execution_count": 161,
      "outputs": [
        {
          "output_type": "execute_result",
          "data": {
            "text/plain": [
              "35000000.0"
            ]
          },
          "metadata": {},
          "execution_count": 161
        }
      ]
    },
    {
      "cell_type": "code",
      "metadata": {
        "colab": {
          "base_uri": "https://localhost:8080/"
        },
        "id": "ka2e3k-ZZoVe",
        "outputId": "a0bbb312-0f17-40e8-8562-9d89ed8553c2"
      },
      "source": [
        "p=orq['P6750'].dropna()\n",
        "p=p.astype(float)\n",
        "p.max() \n",
        "# P6750: ¿Cuál fue la ganancia neta o los honorarios netos de ... en esa actividad, negocio, profesión o finca, el mes pasado ?\n",
        "# Honorarios o ganancia neta en el mes pasado\n",
        "\n",
        "#Siendo la ganancia neta máxima de una persona de la Región Orinoquía $20'000.000."
      ],
      "execution_count": 162,
      "outputs": [
        {
          "output_type": "execute_result",
          "data": {
            "text/plain": [
              "20000000.0"
            ]
          },
          "metadata": {},
          "execution_count": 162
        }
      ]
    },
    {
      "cell_type": "code",
      "metadata": {
        "id": "3wEMXwlKC4kG"
      },
      "source": [
        ""
      ],
      "execution_count": null,
      "outputs": []
    },
    {
      "cell_type": "code",
      "metadata": {
        "colab": {
          "base_uri": "https://localhost:8080/"
        },
        "id": "QnhxjTJBbAtA",
        "outputId": "171b61ed-e2fa-4455-a7fb-69022da1d417"
      },
      "source": [
        "m=amz['P6800'].dropna() # No tomamos los NaN's para el calculo en la variable \n",
        "m.astype(float)\n",
        "m.mean() \n",
        "# Para la pregunta P6800: Cuántas horas a la semana trabaja normalmente.... en ese trabajo ?\n",
        "# Se obtiene que en promedio las personas de la Región del Amazonas trabajan aproximadamente 44 horas a la semana normalmente \n"
      ],
      "execution_count": 163,
      "outputs": [
        {
          "output_type": "execute_result",
          "data": {
            "text/plain": [
              "44.29557602638462"
            ]
          },
          "metadata": {},
          "execution_count": 163
        }
      ]
    },
    {
      "cell_type": "code",
      "metadata": {
        "colab": {
          "base_uri": "https://localhost:8080/"
        },
        "id": "6WUqgcSGbaUs",
        "outputId": "0e60a26d-fccd-4c31-dec7-e586d9f44f3a"
      },
      "source": [
        "p=orq['P6800'].dropna()\n",
        "p.astype(float)\n",
        "p.mean() \n",
        "# Para la pregunta P6800: Cuántas horas a la semana trabaja normalmente.... en ese trabajo ?\n",
        "# Se obtiene que en promedio las personas de la Región de la Orinoquia trabajan aproximadamente 46 horas a la semana normalmente \n"
      ],
      "execution_count": 164,
      "outputs": [
        {
          "output_type": "execute_result",
          "data": {
            "text/plain": [
              "45.95129261895841"
            ]
          },
          "metadata": {},
          "execution_count": 164
        }
      ]
    },
    {
      "cell_type": "code",
      "metadata": {
        "id": "XLs6xjJTbjHv"
      },
      "source": [
        ""
      ],
      "execution_count": null,
      "outputs": []
    },
    {
      "cell_type": "code",
      "metadata": {
        "colab": {
          "base_uri": "https://localhost:8080/"
        },
        "id": "-AdnII3MbA2t",
        "outputId": "afe8e8a3-25e9-4687-d644-e699736066ba"
      },
      "source": [
        "m=amz['P6850'].dropna() # No tomamos los NaN's para el calculo en la variable \n",
        "m=m.astype(float)\n",
        "m.mean() \n",
        "# Para la pregunta P6850: ¿Cuántas horas trabajó durante la semana pasada en este trabajo?\n",
        "# Se obtiene que en promedio las personas de la Región del Amazonas trabajaron aproximadamente 39 horas respecto a la semana pasada de la encuesta\n",
        "\n"
      ],
      "execution_count": 165,
      "outputs": [
        {
          "output_type": "execute_result",
          "data": {
            "text/plain": [
              "38.782895485044925"
            ]
          },
          "metadata": {},
          "execution_count": 165
        }
      ]
    },
    {
      "cell_type": "code",
      "metadata": {
        "colab": {
          "base_uri": "https://localhost:8080/"
        },
        "id": "IKNwE0oObA2u",
        "outputId": "a6da8d87-0e96-4876-cd98-15fdbb727c23"
      },
      "source": [
        "p=orq['P6850'].dropna()\n",
        "p=p.astype(float)\n",
        "p.mean() \n",
        "# Para la pregunta P6850: ¿Cuántas horas trabajó durante la semana pasada en este trabajo?\n",
        "# Se obtiene que en promedio las personas de la Región de la Orinoquia trabajaron aproximadamente 40 horas respecto a la semana pasada de la encuesta\n",
        " \n"
      ],
      "execution_count": 166,
      "outputs": [
        {
          "output_type": "execute_result",
          "data": {
            "text/plain": [
              "40.035219183214686"
            ]
          },
          "metadata": {},
          "execution_count": 166
        }
      ]
    },
    {
      "cell_type": "code",
      "metadata": {
        "id": "IfibG-MfdTsg"
      },
      "source": [
        ""
      ],
      "execution_count": null,
      "outputs": []
    },
    {
      "cell_type": "code",
      "metadata": {
        "colab": {
          "base_uri": "https://localhost:8080/",
          "height": 375
        },
        "id": "NyEJgnKfdT-1",
        "outputId": "a64b5d79-524e-454f-f1c2-56328695ddf0"
      },
      "source": [
        "VA = [91,86,94,97,95] \n",
        "amz = DATOS[DATOS.DPTO.isin(VA)]\n",
        "serie3 = amz['P6830'].value_counts()\n",
        "colores = ['red','green','coral','yellow','silver','blue','grey']\n",
        "act = [\"1\",\"2\",\"3\",\"4\",\"5\",\"6\",\"7\"]\n",
        "serie3.plot.pie(autopct = '%1.1f%%',labels=act,colors=colores,figsize=(6,6)) \n",
        "# ¿Por qué razón, de las horas que normalmente trabaja, hubo algunas que no trabajó la semana pasada?\n",
        "#1. Enfermedad, permiso o licencia\n",
        "#2. Festivos\n",
        "#3. Vacaciones\n",
        "#4. Capacitación\n",
        "#5.. Suspensión o terminación del empleo\n",
        "#6. Reducción de la actividad económica de la empresa\n",
        "#7. Otro,\n",
        "\n"
      ],
      "execution_count": 168,
      "outputs": [
        {
          "output_type": "execute_result",
          "data": {
            "text/plain": [
              "<matplotlib.axes._subplots.AxesSubplot at 0x7f22fce8a810>"
            ]
          },
          "metadata": {},
          "execution_count": 168
        },
        {
          "output_type": "display_data",
          "data": {
            "image/png": "[encoded data removed]",
            "text/plain": [
              "<Figure size 432x432 with 1 Axes>"
            ]
          },
          "metadata": {}
        }
      ]
    },
    {
      "cell_type": "code",
      "metadata": {
        "colab": {
          "base_uri": "https://localhost:8080/",
          "height": 375
        },
        "id": "2dOFpw6NdT-3",
        "outputId": "581522f3-99c0-4c3a-8567-f0c921daa5c2"
      },
      "source": [
        "VO = [81,85,99] \n",
        "orq = DATOS[DATOS.DPTO.isin(VO)] \n",
        "serie4 = orq['P6830'].value_counts()\n",
        "colores = ['red','green','coral','yellow','silver', 'grey','blue']\n",
        "act = [\"1\",\"2\",\"3\",\"4\",\"5\",\"6\",\"7\"]\n",
        "serie4.plot.pie(autopct = '%1.1f%%',labels=act,colors=colores,figsize=(6,6)) \n",
        "# ¿Por qué razón, de las horas que normalmente trabaja, hubo algunas que no trabajó la semana pasada?\n",
        "#1. Enfermedad, permiso o licencia\n",
        "#2. Festivos\n",
        "#3. Vacaciones\n",
        "#4. Capacitación\n",
        "#5.. Suspensión o terminación del empleo\n",
        "#6. Reducción de la actividad económica de la empresa\n",
        "#7. Otro,\n",
        "\n"
      ],
      "execution_count": 170,
      "outputs": [
        {
          "output_type": "execute_result",
          "data": {
            "text/plain": [
              "<matplotlib.axes._subplots.AxesSubplot at 0x7f22fd302610>"
            ]
          },
          "metadata": {},
          "execution_count": 170
        },
        {
          "output_type": "display_data",
          "data": {
            "image/png": "[encoded data removed]",
            "text/plain": [
              "<Figure size 432x432 with 1 Axes>"
            ]
          },
          "metadata": {}
        }
      ]
    },
    {
      "cell_type": "markdown",
      "metadata": {
        "id": "kdk9TGIOeE4F"
      },
      "source": [
        "Se puede evidenciar notablemente en las gráficas que las primeras razones en ambas regiones porque las que no trabajó la semana pasada fueron enfermedad, permiso o licencia y festivos."
      ]
    }
  ]
}