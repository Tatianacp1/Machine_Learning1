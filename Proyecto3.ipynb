{
  "nbformat": 4,
  "nbformat_minor": 0,
  "metadata": {
    "colab": {
      "name": "Proyecto3.ipynb",
      "provenance": [],
      "collapsed_sections": [],
      "include_colab_link": true
    },
    "kernelspec": {
      "display_name": "Python 3",
      "name": "python3"
    },
    "language_info": {
      "name": "python"
    }
  },
  "cells": [
    {
      "cell_type": "markdown",
      "metadata": {
        "id": "view-in-github",
        "colab_type": "text"
      },
      "source": [
        "<a href=\"https://colab.research.google.com/github/Tatianacp1/Machine_Learning1/blob/main/Proyecto3.ipynb\" target=\"_parent\"><img src=\"https://colab.research.google.com/assets/colab-badge.svg\" alt=\"Open In Colab\"/></a>"
      ]
    },
    {
      "cell_type": "markdown",
      "metadata": {
        "id": "YGJEpaMEozG7"
      },
      "source": [
        "**Integrantes**:\n",
        "\n",
        "\n",
        "*   **Tatiana** **Chavez** **Perez**\n",
        "*   **Carlos** **Fernando** **Gonzalez** **Sarmiento**\n",
        "*   **Harold** **Arturo** **Rojas** **Camacho**\n",
        "*   **Harrison** **Smith** **Suarez** **Neuta** \n",
        "\n",
        "\n",
        "\n"
      ]
    },
    {
      "cell_type": "markdown",
      "metadata": {
        "id": "t7zJPdHNaa87"
      },
      "source": [
        "**PROYECTO 3**\n",
        "\n",
        "1. A Watermelon\n"
      ]
    },
    {
      "cell_type": "code",
      "metadata": {
        "id": "fMF9jnpqae4v"
      },
      "source": [
        "def sandia(w): #Se necesita el w (el numero de kilos)\n",
        "  if (w>=1 and w<=100):# Se hace la restriccion dada en el ejercicio\n",
        "   if w%2==0: #Se usa el operador % para saber si hay un residuo al dividirlo entre 2, si no hay es porque el numero de kilos es par y se puede dividir equitativamente \n",
        "    print(f'Ls sandia SI se Pueden partir la sandia en 2 partes, cada una con {int(w/2)} kilos')\n",
        "   else: \n",
        "    print('La sandia NO se puede dividir en 2 partes con pesos pares') \n",
        "  else:\n",
        "    print('El peso peso de la sandía comprada por los niños debe estar entre 1 y 100 kilos.') "
      ],
      "execution_count": null,
      "outputs": []
    },
    {
      "cell_type": "code",
      "metadata": {
        "colab": {
          "base_uri": "https://localhost:8080/"
        },
        "id": "FFz8eIuJeG6R",
        "outputId": "3d7c2241-c083-4562-f67c-4ad63da22cab"
      },
      "source": [
        "sandia(7)"
      ],
      "execution_count": null,
      "outputs": [
        {
          "output_type": "stream",
          "name": "stdout",
          "text": [
            "La sandia NO se puede dividir en 2 partes con pesos pares\n"
          ]
        }
      ]
    },
    {
      "cell_type": "code",
      "metadata": {
        "colab": {
          "base_uri": "https://localhost:8080/"
        },
        "id": "ydtJOZsNzUqV",
        "outputId": "6cd27184-4e72-40e2-dd88-93b0b900a9e9"
      },
      "source": [
        "sandia(20)"
      ],
      "execution_count": null,
      "outputs": [
        {
          "output_type": "stream",
          "name": "stdout",
          "text": [
            "Ls sandia SI se Pueden partir la sandia en 2 partes, cada una con 10 kilos\n"
          ]
        }
      ]
    },
    {
      "cell_type": "code",
      "metadata": {
        "colab": {
          "base_uri": "https://localhost:8080/"
        },
        "id": "l8WJoj4PzXgs",
        "outputId": "9c38415f-95cd-4d5f-e4d1-ce5993ef9801"
      },
      "source": [
        "sandia(-100)"
      ],
      "execution_count": null,
      "outputs": [
        {
          "output_type": "stream",
          "name": "stdout",
          "text": [
            "El peso peso de la sandía comprada por los niños debe estar entre 1 y 100 kilos.\n"
          ]
        }
      ]
    },
    {
      "cell_type": "markdown",
      "metadata": {
        "id": "YeGJ94BEaflG"
      },
      "source": [
        "2. Way Too Long Words"
      ]
    },
    {
      "cell_type": "code",
      "metadata": {
        "id": "8jTydmonajjO"
      },
      "source": [
        "def wtlw(n): # Se ingresa n (numero de palabras a escribir)\n",
        "  contador = 1 #Se define el contador\n",
        "  while contador <= n: #Mientras el contador sea menor o igual a n ejecute\n",
        "   word = input(str(f'Escriba la palabra número {contador}...')) # Se van escribiendo las palabras 1 a 1\n",
        "   a = list(word) #Se usa una lista para luego vereificar la longitud de las letras en esa lista\n",
        "   if len(a)>10: # Si el numero de palabras en la lista es estrictamente mayor a 10 se hace la abreviacion\n",
        "    print(f'La palabra reducida es:  {a[0]}{len(a)-2}{a.pop()}') #se imprime la primera letra de la palabra, se imprime la logitud menos dos teniendo en cuenta la primera y ultima letra y se borran las demas letras menos la ulima\n",
        "    contador += 1 #continua el contador\n",
        "   else: # En caso de que la longitud de la palabra no sea mayor a 10, se imprime la misma palabra\n",
        "     print(f'La palabra es: {word}.')\n",
        "     contador +=1"
      ],
      "execution_count": null,
      "outputs": []
    },
    {
      "cell_type": "code",
      "metadata": {
        "id": "VFwrLWXeqN3F",
        "colab": {
          "base_uri": "https://localhost:8080/"
        },
        "outputId": "05caa6c3-8d24-4213-b69a-ca1bf584ae3f"
      },
      "source": [
        "wtlw(3)"
      ],
      "execution_count": null,
      "outputs": [
        {
          "output_type": "stream",
          "name": "stdout",
          "text": [
            "Escriba la palabra número 1...uhbhhuhu\n",
            "La palabra es: uhbhhuhu.\n",
            "Escriba la palabra número 2...ugbhbhjhib\n",
            "La palabra es: ugbhbhjhib.\n",
            "Escriba la palabra número 3...vuhb\n",
            "La palabra es: vuhb.\n"
          ]
        }
      ]
    },
    {
      "cell_type": "markdown",
      "metadata": {
        "id": "KLMaK5Aiakp4"
      },
      "source": [
        "3. Team\n"
      ]
    },
    {
      "cell_type": "code",
      "metadata": {
        "id": "IqEgpp_qasZ2"
      },
      "source": [
        "def preguntas(n):# Se escriben el numero de preguntas\n",
        "  if (n>=1 and n<=100):#Se hace el intervalo de preguntas \n",
        "    count = 0 \n",
        "    for i in range(0, n):# Se crea un ciclo desde 0(pregunta inicial) hasta la ultima pregunta\n",
        "      x = input('Escriba 1 si Petya sabe la solución, en caso contrario escriba un 0 y repita con Vasya y Tonya: ')#se crea una variable que me guarde un numero\n",
        "      if x.count('1') >= 2: #Me crea una condicion donde si en la variable se cuenta el numero 1, 2 o mas veces se suma 1 a la cuenta de problemas que pueden solucionar\n",
        "        count += 1\n",
        "    print(f'Las amigas pueden implementar {count} problemas en el concurso')# Se imprime el numero de problemas que pueden solucionar\n",
        "  else:\n",
        "    print('El numero de problemas debe estar entre 1 y 100.')# En caso de que se salga de los limites de la variable"
      ],
      "execution_count": null,
      "outputs": []
    },
    {
      "cell_type": "code",
      "metadata": {
        "colab": {
          "base_uri": "https://localhost:8080/"
        },
        "id": "uNZC8qPOrDMN",
        "outputId": "5bd0a741-2b62-4498-f3ec-34e467884a77"
      },
      "source": [
        "preguntas(4)"
      ],
      "execution_count": null,
      "outputs": [
        {
          "output_type": "stream",
          "name": "stdout",
          "text": [
            "Escriba 1 si Petya sabe la solución, en caso contrario escriba un 0 y repita con Vasya y Tonya: 001\n",
            "Escriba 1 si Petya sabe la solución, en caso contrario escriba un 0 y repita con Vasya y Tonya: 100\n",
            "Escriba 1 si Petya sabe la solución, en caso contrario escriba un 0 y repita con Vasya y Tonya: 110\n",
            "Escriba 1 si Petya sabe la solución, en caso contrario escriba un 0 y repita con Vasya y Tonya: 000\n",
            "Los amigos pueden implementar 1 problemas en el concurso\n"
          ]
        }
      ]
    },
    {
      "cell_type": "markdown",
      "metadata": {
        "id": "2Fy45Emnassy"
      },
      "source": [
        "4. Next Round\n"
      ]
    },
    {
      "cell_type": "code",
      "metadata": {
        "id": "lanPxd1katST"
      },
      "source": [
        "def next(n,k,nt): #Se solicita los datos de n participantes y el k-esimo participante, y nt que es el puntaje obtenido por cada participante\n",
        "  if n>=1 and n<=50 and k<=n and type(nt)==list:\n",
        "   print(n, k) #Se imprime el valor de n participantes y el k-esimo participante\n",
        "   print(nt) #Se imprime las puntaciones obtenidas\n",
        "   cont=0 #Se utiliza un contador que va a hacer util para contar los avances\n",
        "   for i in range(0,len(nt)): #Se realiza una iteración de i=0 hasta la cantidad de participantes \n",
        "     if nt[k-1]==0 and nt[k-1]==nt[i]: #Tenemos que si el participante k-esimo menos una posición es igual a 0, es decir no supera a este participante y que si es igual al elemento comparado no se sumará algún avance\n",
        "       cont+=0\n",
        "     elif nt[k-1]<=nt[i]: #Ya que i comienza desde la posición \"0\" tenemos que el elemento k-1(Para así ajustar posiciones) es menor al elemento i, es decir si i+1 supera al k, este elemento avanzará una posición\n",
        "       cont+=1\n",
        "     else:\n",
        "       cont+=0 #Si no, no aumentará \n",
        "   print(f'La cantidad de avances son: {cont}')\n",
        "  else: \n",
        "    print('Los datos proporcionados son incorrectos ')"
      ],
      "execution_count": null,
      "outputs": []
    },
    {
      "cell_type": "code",
      "metadata": {
        "colab": {
          "base_uri": "https://localhost:8080/"
        },
        "id": "9yD6dvbNl_f2",
        "outputId": "6eb45b4e-f1e6-479b-d5cc-a9af56551cbc"
      },
      "source": [
        "next(8, 5,[10, 9, 8, 7, 7 ,7 ,5, 5])"
      ],
      "execution_count": null,
      "outputs": [
        {
          "output_type": "stream",
          "name": "stdout",
          "text": [
            "8 5\n",
            "[10, 9, 8, 7, 7, 7, 5, 5]\n",
            "La cantidad de avances son: 6\n"
          ]
        }
      ]
    },
    {
      "cell_type": "code",
      "metadata": {
        "id": "JRwoZH5DJMPD"
      },
      "source": [
        ""
      ],
      "execution_count": null,
      "outputs": []
    },
    {
      "cell_type": "code",
      "metadata": {
        "id": "SQms_LYABwFW",
        "colab": {
          "base_uri": "https://localhost:8080/"
        },
        "outputId": "9e47a8e6-864d-43ce-f38b-aab8077c9827"
      },
      "source": [
        "next(4,2,[0,0,0,0])"
      ],
      "execution_count": null,
      "outputs": [
        {
          "output_type": "stream",
          "name": "stdout",
          "text": [
            "4 2\n",
            "[0, 0, 0, 0]\n",
            "La cantidad de avances son: 0\n"
          ]
        }
      ]
    },
    {
      "cell_type": "markdown",
      "metadata": {
        "id": "H3lcThayazN3"
      },
      "source": [
        "5. Domino piling\n"
      ]
    },
    {
      "cell_type": "code",
      "metadata": {
        "id": "9SMI1_2ra15u"
      },
      "source": [
        "def domino(m,n):# \n",
        "  if m>=1 and m<=16 and n>=1 and n<=16:\n",
        "    print(f'La cantidad de fichas de domino posibles a colocar son {m*n//2}')\n",
        "  else:\n",
        "    print('error')"
      ],
      "execution_count": null,
      "outputs": []
    },
    {
      "cell_type": "code",
      "metadata": {
        "colab": {
          "base_uri": "https://localhost:8080/"
        },
        "id": "fZs7tVjBeHIY",
        "outputId": "1854a6e7-19aa-46e8-8c0a-3a6eaca1138a"
      },
      "source": [
        "domino(5,5)\n"
      ],
      "execution_count": null,
      "outputs": [
        {
          "output_type": "stream",
          "name": "stdout",
          "text": [
            "La cantidad de fichas de domino posibles a colocar son 12\n"
          ]
        }
      ]
    },
    {
      "cell_type": "code",
      "metadata": {
        "id": "i38lq6tR55V8"
      },
      "source": [
        ""
      ],
      "execution_count": null,
      "outputs": []
    }
  ]
}