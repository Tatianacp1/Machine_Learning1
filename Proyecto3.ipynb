{
  "nbformat": 4,
  "nbformat_minor": 0,
  "metadata": {
    "colab": {
      "name": "Proyecto3.ipynb",
      "provenance": [],
      "collapsed_sections": []
    },
    "kernelspec": {
      "name": "python3",
      "display_name": "Python 3"
    },
    "language_info": {
      "name": "python"
    }
  },
  "cells": [
    {
      "cell_type": "markdown",
      "metadata": {
        "id": "YGJEpaMEozG7"
      },
      "source": [
        "**Integrantes**:\n",
        "\n",
        "\n",
        "*   **Tatiana** **Chavez** **Perez**\n",
        "*   **Carlos** **Fernando** **Gonzalez** **Sarmiento**\n",
        "*   **Harold** **Arturo** **Rojas** **Camacho**\n",
        "*   **Harrison** **Smith** **Suarez** **Neuta** \n",
        "\n",
        "\n",
        "\n"
      ]
    },
    {
      "cell_type": "markdown",
      "metadata": {
        "id": "t7zJPdHNaa87"
      },
      "source": [
        "**PROYECTO 3**\n",
        "\n",
        "1. Cree una lista vacía. Agregue los siguientes números con una línea de código: 1,56,43,4,56,7,8. Organice la lista de menor a mayor. Eliminar el último elemento. Elimina el primer elemento. Utilizar una función predeterminada para encontrar el valor máximo. Agregue el número 4. Organice la lista de mayor a menor. Acceda al elemento de la lista en la última posición. Imprima \"trabajo terminado\".\n"
      ]
    },
    {
      "cell_type": "code",
      "metadata": {
        "colab": {
          "base_uri": "https://localhost:8080/"
        },
        "id": "fMF9jnpqae4v",
        "outputId": "7bd64f57-40cf-4cb5-fbff-ffa79ea1bf47"
      },
      "source": [
        "lista = []\n",
        "lista.extend([1,56,43,4,56,7,8]) # INGRESAR ELEMENTOS\n",
        "lista.sort() # ORGANIZAR ELEMENTOS DE MENOR A MAYOR\n",
        "lista.sort(reverse= True) # ORGANIZAR ELEMENTOS DE MAYOR A MENOR\n",
        "lista.pop(0) # ELIMINAR ULTIMO ELEMENTO\n",
        "lista.pop(5) # ELIMINAR EL PRIMER ELEMENTO\n",
        "max(lista) # VALOR MAXIMO DE LA LISTA\n",
        "lista.append(4) # AGREGAR EL NUMERO 4\n",
        "print('El trabajo terminado')"
      ],
      "execution_count": null,
      "outputs": [
        {
          "output_type": "stream",
          "text": [
            "trabajo terminado\n"
          ],
          "name": "stdout"
        }
      ]
    },
    {
      "cell_type": "code",
      "metadata": {
        "colab": {
          "base_uri": "https://localhost:8080/"
        },
        "id": "FFz8eIuJeG6R",
        "outputId": "8a5474de-a614-403e-c9d6-9a2608dabb06"
      },
      "source": [
        "lista"
      ],
      "execution_count": null,
      "outputs": [
        {
          "output_type": "execute_result",
          "data": {
            "text/plain": [
              "[56, 43, 8, 7, 4, 4]"
            ]
          },
          "metadata": {},
          "execution_count": 2
        }
      ]
    },
    {
      "cell_type": "markdown",
      "metadata": {
        "id": "YeGJ94BEaflG"
      },
      "source": [
        "2. Cree una función que calcule la raíz cuadrada de un número."
      ]
    },
    {
      "cell_type": "code",
      "metadata": {
        "id": "8jTydmonajjO"
      },
      "source": [
        "def raiz(x):\n",
        "  x=int(input('escriba el numero: ' ))\n",
        "  resp=x**(1/2)\n",
        "  print(f'La raiz del número {x} es {resp}')"
      ],
      "execution_count": null,
      "outputs": []
    },
    {
      "cell_type": "code",
      "metadata": {
        "colab": {
          "base_uri": "https://localhost:8080/"
        },
        "id": "j5Ss1E8Kp-Ve",
        "outputId": "3284ca50-3451-4f85-8e10-f7b103996d37"
      },
      "source": [
        "raiz(40)"
      ],
      "execution_count": null,
      "outputs": [
        {
          "output_type": "stream",
          "text": [
            "escriba el numero: 3\n",
            "La raiz del número 3 es 1.7320508075688772\n"
          ],
          "name": "stdout"
        }
      ]
    },
    {
      "cell_type": "markdown",
      "metadata": {
        "id": "KLMaK5Aiakp4"
      },
      "source": [
        "3. Cree una función que determine si un número es múltiplo de 3."
      ]
    },
    {
      "cell_type": "code",
      "metadata": {
        "id": "IqEgpp_qasZ2"
      },
      "source": [
        "def multiplo3(x):\n",
        "  if x%3==0:\n",
        "    print('Su número es multiplo de 3')\n",
        "  else: \n",
        "    print('Su número no es multiplo de 3, intente con otro')  "
      ],
      "execution_count": null,
      "outputs": []
    },
    {
      "cell_type": "code",
      "metadata": {
        "id": "uNZC8qPOrDMN"
      },
      "source": [
        "multiplo3(9)"
      ],
      "execution_count": null,
      "outputs": []
    },
    {
      "cell_type": "markdown",
      "metadata": {
        "id": "2Fy45Emnassy"
      },
      "source": [
        "Cree un diccionario con las siguientes llaves: países, idiomas, capitales y continentes. Para cada llave incluir cinco valores en una lista. Utilice un bucle anidado para imprimir cada uno de los elementos contenidos en las listas."
      ]
    },
    {
      "cell_type": "code",
      "metadata": {
        "id": "lanPxd1katST"
      },
      "source": [
        "dic = {'llaves':'valores'}\n",
        "dic['países'] = ['Col','Per','Ecu','Ven','Arg']\n",
        "dic['idiomas'] = [1,2,3,4,5]\n",
        "dic['capitales'] = ['Bog','Paz','Qui','Car','BA']\n",
        "dic['continentes'] = [1,2,3,4,5]"
      ],
      "execution_count": null,
      "outputs": []
    },
    {
      "cell_type": "code",
      "metadata": {
        "colab": {
          "base_uri": "https://localhost:8080/"
        },
        "id": "9yD6dvbNl_f2",
        "outputId": "aa191c86-15f8-4ef9-f9c5-45b224cf4513"
      },
      "source": [
        "for key, value in dic.items():\n",
        "    print(key, value)"
      ],
      "execution_count": null,
      "outputs": [
        {
          "output_type": "stream",
          "text": [
            "llaves valores\n",
            "países ['Col', 'Per', 'Ecu', 'Ven', 'Arg']\n",
            "idiomas [1, 2, 3, 4, 5]\n",
            "capitales ['Bog', 'Paz', 'Qui', 'Car', 'BA']\n",
            "continentes [1, 2, 3, 4, 5]\n"
          ],
          "name": "stdout"
        }
      ]
    },
    {
      "cell_type": "markdown",
      "metadata": {
        "id": "H3lcThayazN3"
      },
      "source": [
        "Cree una lista utilizando la función range que vaya desde el 0 hasta el 5. Utilice un bucle para imprimir los elementos. Use un bucle para imprimir todos los elementos elevados al cuadrado. Use un bucle para imprimir todos los elementos elevados al cubo."
      ]
    },
    {
      "cell_type": "code",
      "metadata": {
        "colab": {
          "base_uri": "https://localhost:8080/"
        },
        "id": "9SMI1_2ra15u",
        "outputId": "7d2fa4ca-664d-4241-8c38-c405eea07a87"
      },
      "source": [
        "lista2 = list(range(0,6))\n",
        "for valor in lista2:\n",
        "  print(valor)\n",
        "print('Valores al cubo')  \n",
        "for valor in lista2:\n",
        "  print(valor**3)"
      ],
      "execution_count": null,
      "outputs": [
        {
          "output_type": "stream",
          "text": [
            "0\n",
            "1\n",
            "2\n",
            "3\n",
            "4\n",
            "5\n",
            "Valores al cubo\n",
            "0\n",
            "1\n",
            "8\n",
            "27\n",
            "64\n",
            "125\n"
          ],
          "name": "stdout"
        }
      ]
    }
  ]
}