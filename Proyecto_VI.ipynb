{
  "nbformat": 4,
  "nbformat_minor": 0,
  "metadata": {
    "colab": {
      "name": "Copia de Proyecto_final.ipynb",
      "provenance": [],
      "collapsed_sections": [
        "GFXYdHISxm77",
        "JyT8F5Et21mN",
        "exWp1c41q0Pd"
      ],
      "include_colab_link": true
    },
    "kernelspec": {
      "name": "python3",
      "display_name": "Python 3"
    },
    "language_info": {
      "name": "python"
    }
  },
  "cells": [
    {
      "cell_type": "markdown",
      "metadata": {
        "id": "view-in-github",
        "colab_type": "text"
      },
      "source": [
        "<a href=\"https://colab.research.google.com/github/Tatianacp1/Machine_Learning1/blob/main/Proyecto_VI.ipynb\" target=\"_parent\"><img src=\"https://colab.research.google.com/assets/colab-badge.svg\" alt=\"Open In Colab\"/></a>"
      ]
    },
    {
      "cell_type": "markdown",
      "metadata": {
        "id": "lkitJ1K8T0Da"
      },
      "source": [
        "#**Proyecto Final**\n",
        "### Harrison Smith Suarez Neuta\n",
        "### Tatiana Chavez Perez\n",
        "### Carlos Fernando Gonzalez Sarmiento\n"
      ]
    },
    {
      "cell_type": "markdown",
      "metadata": {
        "id": "RuWY-3vZ3P9W"
      },
      "source": [
        "### LIBRERIAS A UTILIZAR"
      ]
    },
    {
      "cell_type": "code",
      "metadata": {
        "id": "rV7Q3pOpIR22"
      },
      "source": [
        "import pandas as pd\n",
        "import numpy as np\n",
        "import openpyxl as opx\n",
        "import matplotlib.pyplot as plt\n",
        "import seaborn as sns\n"
      ],
      "execution_count": 126,
      "outputs": []
    },
    {
      "cell_type": "code",
      "metadata": {
        "colab": {
          "base_uri": "https://localhost:8080/"
        },
        "id": "HCNS2ZOuoMPZ",
        "outputId": "6c7b5794-082e-4d4f-c6d6-6772f03b9786"
      },
      "source": [
        "from google.colab import drive #Nos permite que colab tengo acceso a Drive\n",
        "drive.mount('/content/drive')"
      ],
      "execution_count": 127,
      "outputs": [
        {
          "output_type": "stream",
          "name": "stdout",
          "text": [
            "Drive already mounted at /content/drive; to attempt to forcibly remount, call drive.mount(\"/content/drive\", force_remount=True).\n"
          ]
        }
      ]
    },
    {
      "cell_type": "markdown",
      "metadata": {
        "id": "GFXYdHISxm77"
      },
      "source": [
        "### BASES DE DATOS"
      ]
    },
    {
      "cell_type": "code",
      "metadata": {
        "id": "iIfB_gWtoUju"
      },
      "source": [
        "# Tablas de Enero\n",
        "En1 = pd.read_csv('/content/drive/MyDrive/Datos corte1/Características generales (Personas)-Enero.csv',sep=\";\")\n",
        "En2 = pd.read_csv('/content/drive/MyDrive/Datos corte1/Desocupados-Enero.csv', sep=\";\")\n",
        "En3 = pd.read_csv('/content/drive/MyDrive/Datos corte1/Fuerza de trabajo-Enero.csv',sep=\";\")\n",
        "En4 = pd.read_csv('/content/drive/MyDrive/Datos corte1/Inactivos-Enero.csv', sep=\";\")\n",
        "En5 = pd.read_csv('/content/drive/MyDrive/Datos corte1/Ocupados-Enero.csv',sep=\";\")"
      ],
      "execution_count": 135,
      "outputs": []
    },
    {
      "cell_type": "code",
      "metadata": {
        "colab": {
          "base_uri": "https://localhost:8080/"
        },
        "id": "KAEjdF7Uqunz",
        "outputId": "f83f42ec-29d9-4d59-d677-277ea9a63988"
      },
      "source": [
        "# Tablas de Febrero\n",
        "Fe1 = pd.read_csv('/content/drive/MyDrive/Datos corte1/Características generales (Personas)-Febrero.csv',sep=\";\")\n",
        "Fe2 = pd.read_csv('/content/drive/MyDrive/Datos corte1/Desocupados-Febrero.csv', sep=\";\")\n",
        "Fe3 = pd.read_csv('/content/drive/MyDrive/Datos corte1/Fuerza de trabajo-Febrero.csv',sep=\";\")\n",
        "Fe4 = pd.read_csv('/content/drive/MyDrive/Datos corte1/Inactivos-Febrero.csv', sep=\";\")\n",
        "Fe5 = pd.read_csv('/content/drive/MyDrive/Datos corte1/Ocupados-Febrero.csv',sep=\";\")"
      ],
      "execution_count": 136,
      "outputs": [
        {
          "output_type": "stream",
          "name": "stderr",
          "text": [
            "/usr/local/lib/python3.7/dist-packages/IPython/core/interactiveshell.py:2718: DtypeWarning: Columns (96,100) have mixed types.Specify dtype option on import or set low_memory=False.\n",
            "  interactivity=interactivity, compiler=compiler, result=result)\n"
          ]
        }
      ]
    },
    {
      "cell_type": "code",
      "metadata": {
        "id": "Y-l_tvcQrqsp"
      },
      "source": [
        "# Tablas de Marzo\n",
        "Ma1 = pd.read_csv('/content/drive/MyDrive/Datos corte1/Características generales (Personas)-Marzo.csv',sep=\";\")\n",
        "Ma2 = pd.read_csv('/content/drive/MyDrive/Datos corte1/Desocupados-Marzo.csv', sep=\";\")\n",
        "Ma3 = pd.read_csv('/content/drive/MyDrive/Datos corte1/Fuerza de trabajo-Marzo.csv',sep=\";\")\n",
        "Ma4 = pd.read_csv('/content/drive/MyDrive/Datos corte1/Inactivos-Marzo.csv', sep=\";\")\n",
        "Ma5 = pd.read_csv('/content/drive/MyDrive/Datos corte1/Ocupados-Marzo.csv',sep=\";\")"
      ],
      "execution_count": 137,
      "outputs": []
    },
    {
      "cell_type": "code",
      "metadata": {
        "id": "eKs16prGrrju"
      },
      "source": [
        "# Tablas de Abril\n",
        "Ab1 = pd.read_csv('/content/drive/MyDrive/Datos corte1/Características generales (Personas)-Abril.csv',sep=\";\")\n",
        "Ab2 = pd.read_csv('/content/drive/MyDrive/Datos corte1/Desocupados-Abril.csv', sep=\";\")\n",
        "Ab3 = pd.read_csv('/content/drive/MyDrive/Datos corte1/Fuerza de trabajo-Abril.csv',sep=\";\")\n",
        "Ab4 = pd.read_csv('/content/drive/MyDrive/Datos corte1/Inactivos-Abril.csv', sep=\";\")\n",
        "Ab5 = pd.read_csv('/content/drive/MyDrive/Datos corte1/Ocupados-Abril.csv',sep=\";\")"
      ],
      "execution_count": 138,
      "outputs": []
    },
    {
      "cell_type": "code",
      "metadata": {
        "id": "OMm3CSoJrsMm"
      },
      "source": [
        "# Tablas de Mayo\n",
        "My1 = pd.read_csv('/content/drive/MyDrive/Datos corte1/Características generales (Personas)-Mayo.csv',sep=\";\")\n",
        "My2 = pd.read_csv('/content/drive/MyDrive/Datos corte1/Desocupados-Mayo.csv', sep=\";\")\n",
        "My3 = pd.read_csv('/content/drive/MyDrive/Datos corte1/Fuerza de trabajo-Mayo.csv',sep=\";\")\n",
        "My4 = pd.read_csv('/content/drive/MyDrive/Datos corte1/Inactivos-Mayo.csv', sep=\";\")\n",
        "My5 = pd.read_csv('/content/drive/MyDrive/Datos corte1/Ocupados-Mayo.csv',sep=\";\")"
      ],
      "execution_count": 139,
      "outputs": []
    },
    {
      "cell_type": "code",
      "metadata": {
        "id": "opkr2z3WJsDK"
      },
      "source": [
        "My1 = My1.rename(columns={'http://microdatos.dane.gov.co/index.php/catalog/701/get_microdata':'DIRECTORIO'})"
      ],
      "execution_count": 140,
      "outputs": []
    },
    {
      "cell_type": "code",
      "metadata": {
        "id": "eFoiSaSOsg7A"
      },
      "source": [
        "# Tablas de Junio\n",
        "Ju1 = pd.read_csv('/content/drive/MyDrive/Datos corte1/Características generales (Personas)-Junio.csv',sep=\";\")\n",
        "Ju2 = pd.read_csv('/content/drive/MyDrive/Datos corte1/Desocupados-Junio.csv', sep=\";\")\n",
        "Ju3 = pd.read_csv('/content/drive/MyDrive/Datos corte1/Fuerza de trabajo-Junio.csv',sep=\";\")\n",
        "Ju4 = pd.read_csv('/content/drive/MyDrive/Datos corte1/Inactivos-Junio.csv', sep=\";\")\n",
        "Ju5 = pd.read_csv('/content/drive/MyDrive/Datos corte1/Ocupados-Junio.csv',sep=\";\")"
      ],
      "execution_count": 141,
      "outputs": []
    },
    {
      "cell_type": "markdown",
      "metadata": {
        "id": "fsW6_-veWEkP"
      },
      "source": [
        "http://microdatos.dane.gov.co/index.php/catalog/701/data_dictionary#page=F25&tab=data-dictionary\n"
      ]
    },
    {
      "cell_type": "markdown",
      "metadata": {
        "id": "K0v_ShDBtZM3"
      },
      "source": [
        "### VARIABLES \n",
        "\n",
        "#### VARIABLES SELECCIONADAS DE LA TABLA \"CARACTERISTICAS GENERALES (PERSONAS)\".\n",
        "\n",
        "- P6020: SEXO\n",
        "- P6040: EDAD \n",
        "- P6070: ESTADO CIVIL\n",
        "- P3147S1: ¿ESTÁ O ESTUVO ENFERMO POR COVID?\n",
        "- P3147S2: ¿PROBLEMAS PARA CONSEGUIR ALIMENTOS DEBIDO AL COVID?\n",
        "- P3147S3: ¿NO HA PODIDO PAGAR FACTURAS DEBIDO AL COVID?\n",
        "- P3147S6: ¿LE SUSPENDIERON SIN REMUNERACION EL CONTRATO DE TRABAJO?\n",
        "- P3147S7: ¿PERDIO EL TRABAJO O EL CONTRATO DE TRABAJO?\n",
        "- P3246: ¿SE CONSIDERA POBRE?\n",
        "- P6090: ¿AFILIADO A EPS?\n",
        "- P6210: NIVEL DE EDUCACION MAS ALTO ALCANZADO\n",
        "#### VARIABLES SELECCIONADAS DE LA TABLA \"DESOCUPADOS\".\n",
        "\n",
        "- P9460:¿ACTUALMENTE TIENE SUBSIDIO DE DESEMPLEO?\n",
        "- DSI: DESOCUPADOS\n",
        "\n",
        "#### VARIABLES SELECCIONADAS DE LA TABLA \"FUERZA DE TRABAJO\".\n",
        "\n",
        "- FT: FUERZA DE TRABAJO\n",
        "- P6320: TRABAJO DURANTE LOS ULTIMOS 12 MESES AL MENOS 2 SEMENAS CONSECUTIVAS\n",
        "- P6340: HA HECHO ALGUNA DILIGENCIA PARA CONSEGUIR TRABAJO O INSTALAR UN NEGOCIO DURANTE LOS ULTIMOS 12 MESES\n",
        "\n",
        "#### VARIABLES SELECCIONADAS DE LA TABLA \"INACTIVOS\".\n",
        "\n",
        "- INI: INACTIVOS \n",
        "- P7440: ¿HACE CUANTO QUE TRABAJO?\n",
        "- P7470: FONDO AL QUE ESTA AFILIADO\n",
        "- P6921: ¿Actualmente cotiza en un fondo de pensiones?\n",
        "\n",
        "#### VARIABLES SELECCIONADAS DE LA TABLA \"OCUPADOS\".\n",
        "\n",
        "- OCI: OCUPADOS\n",
        "- INGLABO: INGRESOS LABORALES\n",
        "- P6430S1: EN ESTE TRABAJO ES...\n",
        "- P514: ¿CONSIDERA ESTABLE EL TRABAJO?\n",
        "- P7140S6: ¿NO LE GUSTA EL TRABAJO ACTUAL?\n",
        "- P7140S2: ¿DESEA MEJORAR INGRESOS?"
      ]
    },
    {
      "cell_type": "code",
      "metadata": {
        "id": "5sHkdK0KMrKH"
      },
      "source": [
        "En1 = En1[['DIRECTORIO','ORDEN','SECUENCIA_P','HOGAR','P6020','ESC','P6040','P6070','P3147S1','P3147S2','P3147S3','P3147S6','P3147S7','P3246','P6090','P6210']]\n",
        "En2 = En2[['DIRECTORIO','ORDEN','SECUENCIA_P','HOGAR','P9460','DSI']]\n",
        "En3 = En3[['DIRECTORIO','ORDEN','SECUENCIA_P','HOGAR','DPTO','AREA','FT','P6320','P6340']]\n",
        "En4 = En4[['DIRECTORIO','ORDEN','SECUENCIA_P','HOGAR','P7470','INI','p7440','P6921']]\n",
        "En5 = En5[['DIRECTORIO','ORDEN','SECUENCIA_P','HOGAR','OCI','INGLABO','P6430','P514','P7140S6','P7140S2']]"
      ],
      "execution_count": 142,
      "outputs": []
    },
    {
      "cell_type": "code",
      "metadata": {
        "id": "81NWc_KyMrF5"
      },
      "source": [
        "Fe1 = Fe1[['DIRECTORIO','ORDEN','SECUENCIA_P','HOGAR','P6020','ESC','P6040','P6070','P3147S1','P3147S2','P3147S3','P3147S6','P3147S7','P3246','P6090','P6210']]\n",
        "Fe2 = Fe2[['DIRECTORIO','ORDEN','SECUENCIA_P','HOGAR','P9460','DSI']]\n",
        "Fe3 = Fe3[['DIRECTORIO','ORDEN','SECUENCIA_P','HOGAR','DPTO','AREA','FT','P6320','P6340']]\n",
        "Fe4 = Fe4[['DIRECTORIO','ORDEN','SECUENCIA_P','HOGAR','P7470','INI','p7440','P6921']]\n",
        "Fe5 = Fe5[['DIRECTORIO','ORDEN','SECUENCIA_P','HOGAR','OCI','INGLABO','P6430','P514','P7140S6','P7140S2']]"
      ],
      "execution_count": 143,
      "outputs": []
    },
    {
      "cell_type": "code",
      "metadata": {
        "id": "juTBRFgY2C6h"
      },
      "source": [
        "Ma1 = Ma1[['DIRECTORIO','ORDEN','SECUENCIA_P','HOGAR','P6020','ESC','P6040','P6070','P3147S1','P3147S2','P3147S3','P3147S6','P3147S7','P3246','P6090','P6210']]\n",
        "Ma2 = Ma2[['DIRECTORIO','ORDEN','SECUENCIA_P','HOGAR','P9460','DSI']]\n",
        "Ma3 = Ma3[['DIRECTORIO','ORDEN','SECUENCIA_P','HOGAR','DPTO','AREA','FT','P6320','P6340']]\n",
        "Ma4 = Ma4[['DIRECTORIO','ORDEN','SECUENCIA_P','HOGAR','P7470','INI','p7440','P6921']]\n",
        "Ma5 = Ma5[['DIRECTORIO','ORDEN','SECUENCIA_P','HOGAR','OCI','INGLABO','P6430','P514','P7140S6','P7140S2']]"
      ],
      "execution_count": 144,
      "outputs": []
    },
    {
      "cell_type": "code",
      "metadata": {
        "id": "JuBpg14t2M--"
      },
      "source": [
        "Ab1 = Ab1[['DIRECTORIO','ORDEN','SECUENCIA_P','HOGAR','P6020','ESC','P6040','P6070','P3147S1','P3147S2','P3147S3','P3147S6','P3147S7','P3246','P6090','P6210']]\n",
        "Ab2 = Ab2[['DIRECTORIO','ORDEN','SECUENCIA_P','HOGAR','P9460','DSI']]\n",
        "Ab3 = Ab3[['DIRECTORIO','ORDEN','SECUENCIA_P','HOGAR','DPTO','AREA','FT','P6320','P6340']]\n",
        "Ab4 = Ab4[['DIRECTORIO','ORDEN','SECUENCIA_P','HOGAR','P7470','INI','p7440','P6921']]\n",
        "Ab5 = Ab5[['DIRECTORIO','ORDEN','SECUENCIA_P','HOGAR','OCI','INGLABO','P6430','P514','P7140S6','P7140S2']]"
      ],
      "execution_count": 145,
      "outputs": []
    },
    {
      "cell_type": "code",
      "metadata": {
        "id": "T8jiUW6_2c8_"
      },
      "source": [
        "My1 = My1[['DIRECTORIO','ORDEN','SECUENCIA_P','HOGAR','P6020','ESC','P6040','P6070','P3147S1','P3147S2','P3147S3','P3147S6','P3147S7','P3246','P6090','P6210']]\n",
        "My2 = My2[['DIRECTORIO','ORDEN','SECUENCIA_P','HOGAR','P9460','DSI']]\n",
        "My3 = My3[['DIRECTORIO','ORDEN','SECUENCIA_P','HOGAR','DPTO','AREA','FT','P6320','P6340']]\n",
        "My4 = My4[['DIRECTORIO','ORDEN','SECUENCIA_P','HOGAR','P7470','INI','p7440','P6921']]\n",
        "My5 = My5[['DIRECTORIO','ORDEN','SECUENCIA_P','HOGAR','OCI','INGLABO','P6430','P514','P7140S6','P7140S2']]"
      ],
      "execution_count": 146,
      "outputs": []
    },
    {
      "cell_type": "code",
      "metadata": {
        "id": "I45SPEC72eXd"
      },
      "source": [
        "Ju1 = Ju1[['DIRECTORIO','ORDEN','SECUENCIA_P','HOGAR','P6020','ESC','P6040','P6070','P3147S1','P3147S2','P3147S3','P3147S6','P3147S7','P3246','P6090','P6210']]\n",
        "Ju2 = Ju2[['DIRECTORIO','ORDEN','SECUENCIA_P','HOGAR','P9460','DSI']]\n",
        "Ju3 = Ju3[['DIRECTORIO','ORDEN','SECUENCIA_P','HOGAR','DPTO','AREA','FT','P6320','P6340']]\n",
        "Ju4 = Ju4[['DIRECTORIO','ORDEN','SECUENCIA_P','HOGAR','P7470','INI','p7440','P6921']]\n",
        "Ju5 = Ju5[['DIRECTORIO','ORDEN','SECUENCIA_P','HOGAR','OCI','INGLABO','P6430','P514','P7140S6','P7140S2']]"
      ],
      "execution_count": 147,
      "outputs": []
    },
    {
      "cell_type": "markdown",
      "metadata": {
        "id": "JyT8F5Et21mN"
      },
      "source": [
        "### UNION DE BASES DE DATOS"
      ]
    },
    {
      "cell_type": "markdown",
      "metadata": {
        "id": "IwxSv2jNehec"
      },
      "source": [
        "Enero"
      ]
    },
    {
      "cell_type": "code",
      "metadata": {
        "id": "vE-cpdzS25tb"
      },
      "source": [
        "UN1 = pd.merge(En1,En2,on=['DIRECTORIO','ORDEN','SECUENCIA_P','HOGAR'],how='outer')"
      ],
      "execution_count": 148,
      "outputs": []
    },
    {
      "cell_type": "code",
      "metadata": {
        "id": "8oUwvPjrVd54"
      },
      "source": [
        "UN2 = pd.merge(UN1,En3, on=['DIRECTORIO','ORDEN','SECUENCIA_P','HOGAR'],how='outer')\n"
      ],
      "execution_count": 149,
      "outputs": []
    },
    {
      "cell_type": "code",
      "metadata": {
        "id": "uVcFL6G3Vdu_"
      },
      "source": [
        "UN3 = pd.merge(UN2,En4, on=['DIRECTORIO','ORDEN','SECUENCIA_P','HOGAR'],how='outer')\n"
      ],
      "execution_count": 150,
      "outputs": []
    },
    {
      "cell_type": "code",
      "metadata": {
        "id": "C_Zp_tc7Vdig",
        "colab": {
          "base_uri": "https://localhost:8080/",
          "height": 0
        },
        "outputId": "3cb523d2-4a80-497e-fc86-eac211db913f"
      },
      "source": [
        "ENERO = pd.merge(UN3,En5, on=['DIRECTORIO','ORDEN','SECUENCIA_P','HOGAR'],how='outer')\n",
        "ENERO = ENERO.replace(' ', np.NaN) # Reemplzamos los valores faltantes por NaN\n",
        "ENERO = ENERO.drop_duplicates() #Quitamos las filas duplicadas\n",
        "ENERO"
      ],
      "execution_count": 151,
      "outputs": [
        {
          "output_type": "execute_result",
          "data": {
            "text/html": [
              "<div>\n",
              "<style scoped>\n",
              "    .dataframe tbody tr th:only-of-type {\n",
              "        vertical-align: middle;\n",
              "    }\n",
              "\n",
              "    .dataframe tbody tr th {\n",
              "        vertical-align: top;\n",
              "    }\n",
              "\n",
              "    .dataframe thead th {\n",
              "        text-align: right;\n",
              "    }\n",
              "</style>\n",
              "<table border=\"1\" class=\"dataframe\">\n",
              "  <thead>\n",
              "    <tr style=\"text-align: right;\">\n",
              "      <th></th>\n",
              "      <th>DIRECTORIO</th>\n",
              "      <th>ORDEN</th>\n",
              "      <th>SECUENCIA_P</th>\n",
              "      <th>HOGAR</th>\n",
              "      <th>P6020</th>\n",
              "      <th>ESC</th>\n",
              "      <th>P6040</th>\n",
              "      <th>P6070</th>\n",
              "      <th>P3147S1</th>\n",
              "      <th>P3147S2</th>\n",
              "      <th>P3147S3</th>\n",
              "      <th>P3147S6</th>\n",
              "      <th>P3147S7</th>\n",
              "      <th>P3246</th>\n",
              "      <th>P6090</th>\n",
              "      <th>P6210</th>\n",
              "      <th>P9460</th>\n",
              "      <th>DSI</th>\n",
              "      <th>DPTO</th>\n",
              "      <th>AREA</th>\n",
              "      <th>FT</th>\n",
              "      <th>P6320</th>\n",
              "      <th>P6340</th>\n",
              "      <th>P7470</th>\n",
              "      <th>INI</th>\n",
              "      <th>p7440</th>\n",
              "      <th>P6921</th>\n",
              "      <th>OCI</th>\n",
              "      <th>INGLABO</th>\n",
              "      <th>P6430</th>\n",
              "      <th>P514</th>\n",
              "      <th>P7140S6</th>\n",
              "      <th>P7140S2</th>\n",
              "    </tr>\n",
              "  </thead>\n",
              "  <tbody>\n",
              "    <tr>\n",
              "      <th>0</th>\n",
              "      <td>5332772</td>\n",
              "      <td>1</td>\n",
              "      <td>1</td>\n",
              "      <td>1</td>\n",
              "      <td>2</td>\n",
              "      <td>3</td>\n",
              "      <td>56</td>\n",
              "      <td>2</td>\n",
              "      <td>NaN</td>\n",
              "      <td>NaN</td>\n",
              "      <td>NaN</td>\n",
              "      <td>NaN</td>\n",
              "      <td>1</td>\n",
              "      <td>2</td>\n",
              "      <td>1</td>\n",
              "      <td>3</td>\n",
              "      <td>NaN</td>\n",
              "      <td>NaN</td>\n",
              "      <td>68.0</td>\n",
              "      <td>68.0</td>\n",
              "      <td>1.0</td>\n",
              "      <td>NaN</td>\n",
              "      <td>NaN</td>\n",
              "      <td>NaN</td>\n",
              "      <td>1.0</td>\n",
              "      <td>1,4</td>\n",
              "      <td>2</td>\n",
              "      <td>NaN</td>\n",
              "      <td>NaN</td>\n",
              "      <td>NaN</td>\n",
              "      <td>NaN</td>\n",
              "      <td>NaN</td>\n",
              "      <td>NaN</td>\n",
              "    </tr>\n",
              "    <tr>\n",
              "      <th>1</th>\n",
              "      <td>5332772</td>\n",
              "      <td>2</td>\n",
              "      <td>1</td>\n",
              "      <td>1</td>\n",
              "      <td>1</td>\n",
              "      <td>11</td>\n",
              "      <td>53</td>\n",
              "      <td>2</td>\n",
              "      <td>NaN</td>\n",
              "      <td>NaN</td>\n",
              "      <td>NaN</td>\n",
              "      <td>NaN</td>\n",
              "      <td>NaN</td>\n",
              "      <td>NaN</td>\n",
              "      <td>1</td>\n",
              "      <td>5</td>\n",
              "      <td>NaN</td>\n",
              "      <td>NaN</td>\n",
              "      <td>68.0</td>\n",
              "      <td>68.0</td>\n",
              "      <td>1.0</td>\n",
              "      <td>NaN</td>\n",
              "      <td>NaN</td>\n",
              "      <td>NaN</td>\n",
              "      <td>NaN</td>\n",
              "      <td>NaN</td>\n",
              "      <td>NaN</td>\n",
              "      <td>1.0</td>\n",
              "      <td>877803</td>\n",
              "      <td>1.0</td>\n",
              "      <td>1.0</td>\n",
              "      <td>NaN</td>\n",
              "      <td>NaN</td>\n",
              "    </tr>\n",
              "    <tr>\n",
              "      <th>2</th>\n",
              "      <td>5332772</td>\n",
              "      <td>3</td>\n",
              "      <td>1</td>\n",
              "      <td>1</td>\n",
              "      <td>2</td>\n",
              "      <td>11</td>\n",
              "      <td>18</td>\n",
              "      <td>6</td>\n",
              "      <td>NaN</td>\n",
              "      <td>NaN</td>\n",
              "      <td>NaN</td>\n",
              "      <td>NaN</td>\n",
              "      <td>NaN</td>\n",
              "      <td>NaN</td>\n",
              "      <td>1</td>\n",
              "      <td>6</td>\n",
              "      <td>NaN</td>\n",
              "      <td>NaN</td>\n",
              "      <td>68.0</td>\n",
              "      <td>68.0</td>\n",
              "      <td>1.0</td>\n",
              "      <td>NaN</td>\n",
              "      <td>NaN</td>\n",
              "      <td>NaN</td>\n",
              "      <td>1.0</td>\n",
              "      <td>NaN</td>\n",
              "      <td>2</td>\n",
              "      <td>NaN</td>\n",
              "      <td>NaN</td>\n",
              "      <td>NaN</td>\n",
              "      <td>NaN</td>\n",
              "      <td>NaN</td>\n",
              "      <td>NaN</td>\n",
              "    </tr>\n",
              "    <tr>\n",
              "      <th>3</th>\n",
              "      <td>5332773</td>\n",
              "      <td>1</td>\n",
              "      <td>1</td>\n",
              "      <td>1</td>\n",
              "      <td>1</td>\n",
              "      <td>10</td>\n",
              "      <td>20</td>\n",
              "      <td>1</td>\n",
              "      <td>NaN</td>\n",
              "      <td>NaN</td>\n",
              "      <td>NaN</td>\n",
              "      <td>NaN</td>\n",
              "      <td>1</td>\n",
              "      <td>1</td>\n",
              "      <td>2</td>\n",
              "      <td>5</td>\n",
              "      <td>NaN</td>\n",
              "      <td>NaN</td>\n",
              "      <td>68.0</td>\n",
              "      <td>68.0</td>\n",
              "      <td>1.0</td>\n",
              "      <td>NaN</td>\n",
              "      <td>NaN</td>\n",
              "      <td>NaN</td>\n",
              "      <td>NaN</td>\n",
              "      <td>NaN</td>\n",
              "      <td>NaN</td>\n",
              "      <td>1.0</td>\n",
              "      <td>800000</td>\n",
              "      <td>4.0</td>\n",
              "      <td>2.0</td>\n",
              "      <td>2</td>\n",
              "      <td>1</td>\n",
              "    </tr>\n",
              "    <tr>\n",
              "      <th>4</th>\n",
              "      <td>5332773</td>\n",
              "      <td>2</td>\n",
              "      <td>1</td>\n",
              "      <td>1</td>\n",
              "      <td>2</td>\n",
              "      <td>11</td>\n",
              "      <td>17</td>\n",
              "      <td>1</td>\n",
              "      <td>NaN</td>\n",
              "      <td>NaN</td>\n",
              "      <td>NaN</td>\n",
              "      <td>NaN</td>\n",
              "      <td>NaN</td>\n",
              "      <td>NaN</td>\n",
              "      <td>1</td>\n",
              "      <td>5</td>\n",
              "      <td>2</td>\n",
              "      <td>1.0</td>\n",
              "      <td>68.0</td>\n",
              "      <td>68.0</td>\n",
              "      <td>1.0</td>\n",
              "      <td>NaN</td>\n",
              "      <td>NaN</td>\n",
              "      <td>NaN</td>\n",
              "      <td>NaN</td>\n",
              "      <td>NaN</td>\n",
              "      <td>NaN</td>\n",
              "      <td>NaN</td>\n",
              "      <td>NaN</td>\n",
              "      <td>NaN</td>\n",
              "      <td>NaN</td>\n",
              "      <td>NaN</td>\n",
              "      <td>NaN</td>\n",
              "    </tr>\n",
              "    <tr>\n",
              "      <th>...</th>\n",
              "      <td>...</td>\n",
              "      <td>...</td>\n",
              "      <td>...</td>\n",
              "      <td>...</td>\n",
              "      <td>...</td>\n",
              "      <td>...</td>\n",
              "      <td>...</td>\n",
              "      <td>...</td>\n",
              "      <td>...</td>\n",
              "      <td>...</td>\n",
              "      <td>...</td>\n",
              "      <td>...</td>\n",
              "      <td>...</td>\n",
              "      <td>...</td>\n",
              "      <td>...</td>\n",
              "      <td>...</td>\n",
              "      <td>...</td>\n",
              "      <td>...</td>\n",
              "      <td>...</td>\n",
              "      <td>...</td>\n",
              "      <td>...</td>\n",
              "      <td>...</td>\n",
              "      <td>...</td>\n",
              "      <td>...</td>\n",
              "      <td>...</td>\n",
              "      <td>...</td>\n",
              "      <td>...</td>\n",
              "      <td>...</td>\n",
              "      <td>...</td>\n",
              "      <td>...</td>\n",
              "      <td>...</td>\n",
              "      <td>...</td>\n",
              "      <td>...</td>\n",
              "    </tr>\n",
              "    <tr>\n",
              "      <th>28150</th>\n",
              "      <td>5367014</td>\n",
              "      <td>4</td>\n",
              "      <td>1</td>\n",
              "      <td>1</td>\n",
              "      <td>2</td>\n",
              "      <td>13</td>\n",
              "      <td>21</td>\n",
              "      <td>2</td>\n",
              "      <td>NaN</td>\n",
              "      <td>NaN</td>\n",
              "      <td>NaN</td>\n",
              "      <td>NaN</td>\n",
              "      <td>NaN</td>\n",
              "      <td>NaN</td>\n",
              "      <td>1</td>\n",
              "      <td>6</td>\n",
              "      <td>2</td>\n",
              "      <td>1.0</td>\n",
              "      <td>23.0</td>\n",
              "      <td>23.0</td>\n",
              "      <td>1.0</td>\n",
              "      <td>NaN</td>\n",
              "      <td>NaN</td>\n",
              "      <td>NaN</td>\n",
              "      <td>NaN</td>\n",
              "      <td>NaN</td>\n",
              "      <td>NaN</td>\n",
              "      <td>NaN</td>\n",
              "      <td>NaN</td>\n",
              "      <td>NaN</td>\n",
              "      <td>NaN</td>\n",
              "      <td>NaN</td>\n",
              "      <td>NaN</td>\n",
              "    </tr>\n",
              "    <tr>\n",
              "      <th>28151</th>\n",
              "      <td>5367014</td>\n",
              "      <td>5</td>\n",
              "      <td>1</td>\n",
              "      <td>1</td>\n",
              "      <td>1</td>\n",
              "      <td>NaN</td>\n",
              "      <td>2</td>\n",
              "      <td>NaN</td>\n",
              "      <td>NaN</td>\n",
              "      <td>NaN</td>\n",
              "      <td>NaN</td>\n",
              "      <td>NaN</td>\n",
              "      <td>NaN</td>\n",
              "      <td>NaN</td>\n",
              "      <td>1</td>\n",
              "      <td>NaN</td>\n",
              "      <td>NaN</td>\n",
              "      <td>NaN</td>\n",
              "      <td>NaN</td>\n",
              "      <td>NaN</td>\n",
              "      <td>NaN</td>\n",
              "      <td>NaN</td>\n",
              "      <td>NaN</td>\n",
              "      <td>NaN</td>\n",
              "      <td>NaN</td>\n",
              "      <td>NaN</td>\n",
              "      <td>NaN</td>\n",
              "      <td>NaN</td>\n",
              "      <td>NaN</td>\n",
              "      <td>NaN</td>\n",
              "      <td>NaN</td>\n",
              "      <td>NaN</td>\n",
              "      <td>NaN</td>\n",
              "    </tr>\n",
              "    <tr>\n",
              "      <th>28152</th>\n",
              "      <td>5367015</td>\n",
              "      <td>1</td>\n",
              "      <td>1</td>\n",
              "      <td>1</td>\n",
              "      <td>2</td>\n",
              "      <td>11</td>\n",
              "      <td>40</td>\n",
              "      <td>3</td>\n",
              "      <td>NaN</td>\n",
              "      <td>1</td>\n",
              "      <td>1</td>\n",
              "      <td>NaN</td>\n",
              "      <td>NaN</td>\n",
              "      <td>1</td>\n",
              "      <td>1</td>\n",
              "      <td>5</td>\n",
              "      <td>NaN</td>\n",
              "      <td>NaN</td>\n",
              "      <td>23.0</td>\n",
              "      <td>23.0</td>\n",
              "      <td>1.0</td>\n",
              "      <td>NaN</td>\n",
              "      <td>NaN</td>\n",
              "      <td>NaN</td>\n",
              "      <td>1.0</td>\n",
              "      <td>1,1</td>\n",
              "      <td>2</td>\n",
              "      <td>NaN</td>\n",
              "      <td>NaN</td>\n",
              "      <td>NaN</td>\n",
              "      <td>NaN</td>\n",
              "      <td>NaN</td>\n",
              "      <td>NaN</td>\n",
              "    </tr>\n",
              "    <tr>\n",
              "      <th>28153</th>\n",
              "      <td>5367015</td>\n",
              "      <td>2</td>\n",
              "      <td>1</td>\n",
              "      <td>1</td>\n",
              "      <td>1</td>\n",
              "      <td>4</td>\n",
              "      <td>57</td>\n",
              "      <td>3</td>\n",
              "      <td>NaN</td>\n",
              "      <td>1</td>\n",
              "      <td>1</td>\n",
              "      <td>NaN</td>\n",
              "      <td>NaN</td>\n",
              "      <td>NaN</td>\n",
              "      <td>1</td>\n",
              "      <td>3</td>\n",
              "      <td>NaN</td>\n",
              "      <td>NaN</td>\n",
              "      <td>23.0</td>\n",
              "      <td>23.0</td>\n",
              "      <td>1.0</td>\n",
              "      <td>NaN</td>\n",
              "      <td>NaN</td>\n",
              "      <td>NaN</td>\n",
              "      <td>NaN</td>\n",
              "      <td>NaN</td>\n",
              "      <td>NaN</td>\n",
              "      <td>1.0</td>\n",
              "      <td>400000</td>\n",
              "      <td>4.0</td>\n",
              "      <td>2.0</td>\n",
              "      <td>NaN</td>\n",
              "      <td>NaN</td>\n",
              "    </tr>\n",
              "    <tr>\n",
              "      <th>28154</th>\n",
              "      <td>5367015</td>\n",
              "      <td>3</td>\n",
              "      <td>1</td>\n",
              "      <td>1</td>\n",
              "      <td>1</td>\n",
              "      <td>11</td>\n",
              "      <td>20</td>\n",
              "      <td>6</td>\n",
              "      <td>NaN</td>\n",
              "      <td>NaN</td>\n",
              "      <td>NaN</td>\n",
              "      <td>NaN</td>\n",
              "      <td>NaN</td>\n",
              "      <td>NaN</td>\n",
              "      <td>1</td>\n",
              "      <td>5</td>\n",
              "      <td>NaN</td>\n",
              "      <td>NaN</td>\n",
              "      <td>23.0</td>\n",
              "      <td>23.0</td>\n",
              "      <td>1.0</td>\n",
              "      <td>NaN</td>\n",
              "      <td>NaN</td>\n",
              "      <td>NaN</td>\n",
              "      <td>1.0</td>\n",
              "      <td>1,2</td>\n",
              "      <td>2</td>\n",
              "      <td>NaN</td>\n",
              "      <td>NaN</td>\n",
              "      <td>NaN</td>\n",
              "      <td>NaN</td>\n",
              "      <td>NaN</td>\n",
              "      <td>NaN</td>\n",
              "    </tr>\n",
              "  </tbody>\n",
              "</table>\n",
              "<p>28155 rows × 33 columns</p>\n",
              "</div>"
            ],
            "text/plain": [
              "       DIRECTORIO  ORDEN  SECUENCIA_P  HOGAR  ...  P6430 P514  P7140S6 P7140S2\n",
              "0         5332772      1            1      1  ...    NaN  NaN      NaN     NaN\n",
              "1         5332772      2            1      1  ...    1.0  1.0      NaN     NaN\n",
              "2         5332772      3            1      1  ...    NaN  NaN      NaN     NaN\n",
              "3         5332773      1            1      1  ...    4.0  2.0        2       1\n",
              "4         5332773      2            1      1  ...    NaN  NaN      NaN     NaN\n",
              "...           ...    ...          ...    ...  ...    ...  ...      ...     ...\n",
              "28150     5367014      4            1      1  ...    NaN  NaN      NaN     NaN\n",
              "28151     5367014      5            1      1  ...    NaN  NaN      NaN     NaN\n",
              "28152     5367015      1            1      1  ...    NaN  NaN      NaN     NaN\n",
              "28153     5367015      2            1      1  ...    4.0  2.0      NaN     NaN\n",
              "28154     5367015      3            1      1  ...    NaN  NaN      NaN     NaN\n",
              "\n",
              "[28155 rows x 33 columns]"
            ]
          },
          "metadata": {},
          "execution_count": 151
        }
      ]
    },
    {
      "cell_type": "markdown",
      "metadata": {
        "id": "qpkVanIZefBw"
      },
      "source": [
        "Febrero"
      ]
    },
    {
      "cell_type": "code",
      "metadata": {
        "id": "UVdYBdKeLaQB"
      },
      "source": [
        "UN1_1 = pd.merge(Fe1,Fe2,on=['DIRECTORIO','ORDEN','SECUENCIA_P','HOGAR'],how='outer')"
      ],
      "execution_count": 152,
      "outputs": []
    },
    {
      "cell_type": "code",
      "metadata": {
        "id": "7XXORoCXLaZC"
      },
      "source": [
        "UN2_1 = pd.merge(UN1_1,Fe3, on=['DIRECTORIO','ORDEN','SECUENCIA_P','HOGAR'],how='outer')"
      ],
      "execution_count": 153,
      "outputs": []
    },
    {
      "cell_type": "code",
      "metadata": {
        "id": "j2moZUn8La5R"
      },
      "source": [
        "UN3_1 = pd.merge(UN2_1,Fe4, on=['DIRECTORIO','ORDEN','SECUENCIA_P','HOGAR'],how='outer')"
      ],
      "execution_count": 154,
      "outputs": []
    },
    {
      "cell_type": "code",
      "metadata": {
        "id": "h_UuBmUj259a",
        "colab": {
          "base_uri": "https://localhost:8080/",
          "height": 0
        },
        "outputId": "eb5307cd-8178-439d-e476-b5fec49427bb"
      },
      "source": [
        "FEBRERO = pd.merge(UN3_1,Fe5, on=['DIRECTORIO','ORDEN','SECUENCIA_P','HOGAR'],how='outer')\n",
        "FEBRERO = FEBRERO.replace(' ', np.NaN) # Reemplzamos los valores faltantes por NaN\n",
        "FEBRERO = FEBRERO.drop_duplicates() #Quitamos las filas duplicadas\n",
        "FEBRERO"
      ],
      "execution_count": 155,
      "outputs": [
        {
          "output_type": "execute_result",
          "data": {
            "text/html": [
              "<div>\n",
              "<style scoped>\n",
              "    .dataframe tbody tr th:only-of-type {\n",
              "        vertical-align: middle;\n",
              "    }\n",
              "\n",
              "    .dataframe tbody tr th {\n",
              "        vertical-align: top;\n",
              "    }\n",
              "\n",
              "    .dataframe thead th {\n",
              "        text-align: right;\n",
              "    }\n",
              "</style>\n",
              "<table border=\"1\" class=\"dataframe\">\n",
              "  <thead>\n",
              "    <tr style=\"text-align: right;\">\n",
              "      <th></th>\n",
              "      <th>DIRECTORIO</th>\n",
              "      <th>ORDEN</th>\n",
              "      <th>SECUENCIA_P</th>\n",
              "      <th>HOGAR</th>\n",
              "      <th>P6020</th>\n",
              "      <th>ESC</th>\n",
              "      <th>P6040</th>\n",
              "      <th>P6070</th>\n",
              "      <th>P3147S1</th>\n",
              "      <th>P3147S2</th>\n",
              "      <th>P3147S3</th>\n",
              "      <th>P3147S6</th>\n",
              "      <th>P3147S7</th>\n",
              "      <th>P3246</th>\n",
              "      <th>P6090</th>\n",
              "      <th>P6210</th>\n",
              "      <th>P9460</th>\n",
              "      <th>DSI</th>\n",
              "      <th>DPTO</th>\n",
              "      <th>AREA</th>\n",
              "      <th>FT</th>\n",
              "      <th>P6320</th>\n",
              "      <th>P6340</th>\n",
              "      <th>P7470</th>\n",
              "      <th>INI</th>\n",
              "      <th>p7440</th>\n",
              "      <th>P6921</th>\n",
              "      <th>OCI</th>\n",
              "      <th>INGLABO</th>\n",
              "      <th>P6430</th>\n",
              "      <th>P514</th>\n",
              "      <th>P7140S6</th>\n",
              "      <th>P7140S2</th>\n",
              "    </tr>\n",
              "  </thead>\n",
              "  <tbody>\n",
              "    <tr>\n",
              "      <th>0</th>\n",
              "      <td>5367062</td>\n",
              "      <td>1</td>\n",
              "      <td>1</td>\n",
              "      <td>1</td>\n",
              "      <td>2</td>\n",
              "      <td>2</td>\n",
              "      <td>50</td>\n",
              "      <td>6</td>\n",
              "      <td>NaN</td>\n",
              "      <td>NaN</td>\n",
              "      <td>1</td>\n",
              "      <td>NaN</td>\n",
              "      <td>NaN</td>\n",
              "      <td>2</td>\n",
              "      <td>1</td>\n",
              "      <td>3</td>\n",
              "      <td>NaN</td>\n",
              "      <td>NaN</td>\n",
              "      <td>5.0</td>\n",
              "      <td>5.0</td>\n",
              "      <td>1.0</td>\n",
              "      <td>NaN</td>\n",
              "      <td>NaN</td>\n",
              "      <td>NaN</td>\n",
              "      <td>1.0</td>\n",
              "      <td>3</td>\n",
              "      <td>2</td>\n",
              "      <td>NaN</td>\n",
              "      <td>NaN</td>\n",
              "      <td>NaN</td>\n",
              "      <td>NaN</td>\n",
              "      <td>NaN</td>\n",
              "      <td>NaN</td>\n",
              "    </tr>\n",
              "    <tr>\n",
              "      <th>1</th>\n",
              "      <td>5367063</td>\n",
              "      <td>1</td>\n",
              "      <td>1</td>\n",
              "      <td>1</td>\n",
              "      <td>2</td>\n",
              "      <td>8</td>\n",
              "      <td>52</td>\n",
              "      <td>5</td>\n",
              "      <td>NaN</td>\n",
              "      <td>NaN</td>\n",
              "      <td>NaN</td>\n",
              "      <td>NaN</td>\n",
              "      <td>NaN</td>\n",
              "      <td>2</td>\n",
              "      <td>1</td>\n",
              "      <td>4</td>\n",
              "      <td>NaN</td>\n",
              "      <td>NaN</td>\n",
              "      <td>5.0</td>\n",
              "      <td>5.0</td>\n",
              "      <td>1.0</td>\n",
              "      <td>NaN</td>\n",
              "      <td>NaN</td>\n",
              "      <td>NaN</td>\n",
              "      <td>1.0</td>\n",
              "      <td>3</td>\n",
              "      <td>2</td>\n",
              "      <td>NaN</td>\n",
              "      <td>NaN</td>\n",
              "      <td>NaN</td>\n",
              "      <td>NaN</td>\n",
              "      <td>NaN</td>\n",
              "      <td>NaN</td>\n",
              "    </tr>\n",
              "    <tr>\n",
              "      <th>2</th>\n",
              "      <td>5367063</td>\n",
              "      <td>2</td>\n",
              "      <td>1</td>\n",
              "      <td>1</td>\n",
              "      <td>1</td>\n",
              "      <td>11</td>\n",
              "      <td>33</td>\n",
              "      <td>6</td>\n",
              "      <td>NaN</td>\n",
              "      <td>1</td>\n",
              "      <td>NaN</td>\n",
              "      <td>NaN</td>\n",
              "      <td>NaN</td>\n",
              "      <td>NaN</td>\n",
              "      <td>1</td>\n",
              "      <td>5</td>\n",
              "      <td>2</td>\n",
              "      <td>1.0</td>\n",
              "      <td>5.0</td>\n",
              "      <td>5.0</td>\n",
              "      <td>1.0</td>\n",
              "      <td>NaN</td>\n",
              "      <td>NaN</td>\n",
              "      <td>NaN</td>\n",
              "      <td>NaN</td>\n",
              "      <td>NaN</td>\n",
              "      <td>NaN</td>\n",
              "      <td>NaN</td>\n",
              "      <td>NaN</td>\n",
              "      <td>NaN</td>\n",
              "      <td>NaN</td>\n",
              "      <td>NaN</td>\n",
              "      <td>NaN</td>\n",
              "    </tr>\n",
              "    <tr>\n",
              "      <th>3</th>\n",
              "      <td>5367063</td>\n",
              "      <td>3</td>\n",
              "      <td>1</td>\n",
              "      <td>1</td>\n",
              "      <td>2</td>\n",
              "      <td>11</td>\n",
              "      <td>29</td>\n",
              "      <td>6</td>\n",
              "      <td>NaN</td>\n",
              "      <td>NaN</td>\n",
              "      <td>NaN</td>\n",
              "      <td>NaN</td>\n",
              "      <td>NaN</td>\n",
              "      <td>NaN</td>\n",
              "      <td>1</td>\n",
              "      <td>5</td>\n",
              "      <td>2</td>\n",
              "      <td>1.0</td>\n",
              "      <td>5.0</td>\n",
              "      <td>5.0</td>\n",
              "      <td>1.0</td>\n",
              "      <td>2</td>\n",
              "      <td>1</td>\n",
              "      <td>NaN</td>\n",
              "      <td>NaN</td>\n",
              "      <td>NaN</td>\n",
              "      <td>NaN</td>\n",
              "      <td>NaN</td>\n",
              "      <td>NaN</td>\n",
              "      <td>NaN</td>\n",
              "      <td>NaN</td>\n",
              "      <td>NaN</td>\n",
              "      <td>NaN</td>\n",
              "    </tr>\n",
              "    <tr>\n",
              "      <th>4</th>\n",
              "      <td>5367063</td>\n",
              "      <td>4</td>\n",
              "      <td>1</td>\n",
              "      <td>1</td>\n",
              "      <td>1</td>\n",
              "      <td>0</td>\n",
              "      <td>6</td>\n",
              "      <td>NaN</td>\n",
              "      <td>NaN</td>\n",
              "      <td>NaN</td>\n",
              "      <td>NaN</td>\n",
              "      <td>NaN</td>\n",
              "      <td>NaN</td>\n",
              "      <td>NaN</td>\n",
              "      <td>1</td>\n",
              "      <td>2</td>\n",
              "      <td>NaN</td>\n",
              "      <td>NaN</td>\n",
              "      <td>NaN</td>\n",
              "      <td>NaN</td>\n",
              "      <td>NaN</td>\n",
              "      <td>NaN</td>\n",
              "      <td>NaN</td>\n",
              "      <td>NaN</td>\n",
              "      <td>NaN</td>\n",
              "      <td>NaN</td>\n",
              "      <td>NaN</td>\n",
              "      <td>NaN</td>\n",
              "      <td>NaN</td>\n",
              "      <td>NaN</td>\n",
              "      <td>NaN</td>\n",
              "      <td>NaN</td>\n",
              "      <td>NaN</td>\n",
              "    </tr>\n",
              "    <tr>\n",
              "      <th>...</th>\n",
              "      <td>...</td>\n",
              "      <td>...</td>\n",
              "      <td>...</td>\n",
              "      <td>...</td>\n",
              "      <td>...</td>\n",
              "      <td>...</td>\n",
              "      <td>...</td>\n",
              "      <td>...</td>\n",
              "      <td>...</td>\n",
              "      <td>...</td>\n",
              "      <td>...</td>\n",
              "      <td>...</td>\n",
              "      <td>...</td>\n",
              "      <td>...</td>\n",
              "      <td>...</td>\n",
              "      <td>...</td>\n",
              "      <td>...</td>\n",
              "      <td>...</td>\n",
              "      <td>...</td>\n",
              "      <td>...</td>\n",
              "      <td>...</td>\n",
              "      <td>...</td>\n",
              "      <td>...</td>\n",
              "      <td>...</td>\n",
              "      <td>...</td>\n",
              "      <td>...</td>\n",
              "      <td>...</td>\n",
              "      <td>...</td>\n",
              "      <td>...</td>\n",
              "      <td>...</td>\n",
              "      <td>...</td>\n",
              "      <td>...</td>\n",
              "      <td>...</td>\n",
              "    </tr>\n",
              "    <tr>\n",
              "      <th>28957</th>\n",
              "      <td>5392562</td>\n",
              "      <td>2</td>\n",
              "      <td>1</td>\n",
              "      <td>1</td>\n",
              "      <td>2</td>\n",
              "      <td>13</td>\n",
              "      <td>44</td>\n",
              "      <td>2</td>\n",
              "      <td>NaN</td>\n",
              "      <td>NaN</td>\n",
              "      <td>NaN</td>\n",
              "      <td>NaN</td>\n",
              "      <td>NaN</td>\n",
              "      <td>NaN</td>\n",
              "      <td>1</td>\n",
              "      <td>6</td>\n",
              "      <td>2</td>\n",
              "      <td>1.0</td>\n",
              "      <td>8.0</td>\n",
              "      <td>8.0</td>\n",
              "      <td>1.0</td>\n",
              "      <td>NaN</td>\n",
              "      <td>NaN</td>\n",
              "      <td>NaN</td>\n",
              "      <td>NaN</td>\n",
              "      <td>NaN</td>\n",
              "      <td>NaN</td>\n",
              "      <td>NaN</td>\n",
              "      <td>NaN</td>\n",
              "      <td>NaN</td>\n",
              "      <td>NaN</td>\n",
              "      <td>NaN</td>\n",
              "      <td>NaN</td>\n",
              "    </tr>\n",
              "    <tr>\n",
              "      <th>28958</th>\n",
              "      <td>5392562</td>\n",
              "      <td>3</td>\n",
              "      <td>1</td>\n",
              "      <td>1</td>\n",
              "      <td>2</td>\n",
              "      <td>10</td>\n",
              "      <td>17</td>\n",
              "      <td>6</td>\n",
              "      <td>NaN</td>\n",
              "      <td>NaN</td>\n",
              "      <td>NaN</td>\n",
              "      <td>NaN</td>\n",
              "      <td>NaN</td>\n",
              "      <td>NaN</td>\n",
              "      <td>1</td>\n",
              "      <td>5</td>\n",
              "      <td>NaN</td>\n",
              "      <td>NaN</td>\n",
              "      <td>8.0</td>\n",
              "      <td>8.0</td>\n",
              "      <td>1.0</td>\n",
              "      <td>NaN</td>\n",
              "      <td>NaN</td>\n",
              "      <td>NaN</td>\n",
              "      <td>1.0</td>\n",
              "      <td>NaN</td>\n",
              "      <td>2</td>\n",
              "      <td>NaN</td>\n",
              "      <td>NaN</td>\n",
              "      <td>NaN</td>\n",
              "      <td>NaN</td>\n",
              "      <td>NaN</td>\n",
              "      <td>NaN</td>\n",
              "    </tr>\n",
              "    <tr>\n",
              "      <th>28959</th>\n",
              "      <td>5392562</td>\n",
              "      <td>4</td>\n",
              "      <td>1</td>\n",
              "      <td>1</td>\n",
              "      <td>1</td>\n",
              "      <td>11</td>\n",
              "      <td>23</td>\n",
              "      <td>2</td>\n",
              "      <td>NaN</td>\n",
              "      <td>NaN</td>\n",
              "      <td>NaN</td>\n",
              "      <td>NaN</td>\n",
              "      <td>NaN</td>\n",
              "      <td>NaN</td>\n",
              "      <td>2</td>\n",
              "      <td>5</td>\n",
              "      <td>NaN</td>\n",
              "      <td>NaN</td>\n",
              "      <td>8.0</td>\n",
              "      <td>8.0</td>\n",
              "      <td>1.0</td>\n",
              "      <td>NaN</td>\n",
              "      <td>NaN</td>\n",
              "      <td>NaN</td>\n",
              "      <td>NaN</td>\n",
              "      <td>NaN</td>\n",
              "      <td>NaN</td>\n",
              "      <td>1.0</td>\n",
              "      <td>300000</td>\n",
              "      <td>4.0</td>\n",
              "      <td>2.0</td>\n",
              "      <td>2</td>\n",
              "      <td>1</td>\n",
              "    </tr>\n",
              "    <tr>\n",
              "      <th>28960</th>\n",
              "      <td>5392562</td>\n",
              "      <td>5</td>\n",
              "      <td>1</td>\n",
              "      <td>1</td>\n",
              "      <td>2</td>\n",
              "      <td>14</td>\n",
              "      <td>19</td>\n",
              "      <td>2</td>\n",
              "      <td>NaN</td>\n",
              "      <td>NaN</td>\n",
              "      <td>NaN</td>\n",
              "      <td>NaN</td>\n",
              "      <td>NaN</td>\n",
              "      <td>NaN</td>\n",
              "      <td>1</td>\n",
              "      <td>6</td>\n",
              "      <td>NaN</td>\n",
              "      <td>1.0</td>\n",
              "      <td>8.0</td>\n",
              "      <td>8.0</td>\n",
              "      <td>1.0</td>\n",
              "      <td>NaN</td>\n",
              "      <td>NaN</td>\n",
              "      <td>NaN</td>\n",
              "      <td>NaN</td>\n",
              "      <td>NaN</td>\n",
              "      <td>NaN</td>\n",
              "      <td>NaN</td>\n",
              "      <td>NaN</td>\n",
              "      <td>NaN</td>\n",
              "      <td>NaN</td>\n",
              "      <td>NaN</td>\n",
              "      <td>NaN</td>\n",
              "    </tr>\n",
              "    <tr>\n",
              "      <th>28961</th>\n",
              "      <td>5392562</td>\n",
              "      <td>6</td>\n",
              "      <td>1</td>\n",
              "      <td>1</td>\n",
              "      <td>2</td>\n",
              "      <td>5</td>\n",
              "      <td>74</td>\n",
              "      <td>5</td>\n",
              "      <td>NaN</td>\n",
              "      <td>NaN</td>\n",
              "      <td>NaN</td>\n",
              "      <td>NaN</td>\n",
              "      <td>NaN</td>\n",
              "      <td>NaN</td>\n",
              "      <td>1</td>\n",
              "      <td>3</td>\n",
              "      <td>NaN</td>\n",
              "      <td>NaN</td>\n",
              "      <td>8.0</td>\n",
              "      <td>8.0</td>\n",
              "      <td>1.0</td>\n",
              "      <td>NaN</td>\n",
              "      <td>NaN</td>\n",
              "      <td>NaN</td>\n",
              "      <td>1.0</td>\n",
              "      <td>4</td>\n",
              "      <td>2</td>\n",
              "      <td>NaN</td>\n",
              "      <td>NaN</td>\n",
              "      <td>NaN</td>\n",
              "      <td>NaN</td>\n",
              "      <td>NaN</td>\n",
              "      <td>NaN</td>\n",
              "    </tr>\n",
              "  </tbody>\n",
              "</table>\n",
              "<p>28962 rows × 33 columns</p>\n",
              "</div>"
            ],
            "text/plain": [
              "       DIRECTORIO  ORDEN  SECUENCIA_P  HOGAR  ...  P6430 P514  P7140S6 P7140S2\n",
              "0         5367062      1            1      1  ...    NaN  NaN      NaN     NaN\n",
              "1         5367063      1            1      1  ...    NaN  NaN      NaN     NaN\n",
              "2         5367063      2            1      1  ...    NaN  NaN      NaN     NaN\n",
              "3         5367063      3            1      1  ...    NaN  NaN      NaN     NaN\n",
              "4         5367063      4            1      1  ...    NaN  NaN      NaN     NaN\n",
              "...           ...    ...          ...    ...  ...    ...  ...      ...     ...\n",
              "28957     5392562      2            1      1  ...    NaN  NaN      NaN     NaN\n",
              "28958     5392562      3            1      1  ...    NaN  NaN      NaN     NaN\n",
              "28959     5392562      4            1      1  ...    4.0  2.0        2       1\n",
              "28960     5392562      5            1      1  ...    NaN  NaN      NaN     NaN\n",
              "28961     5392562      6            1      1  ...    NaN  NaN      NaN     NaN\n",
              "\n",
              "[28962 rows x 33 columns]"
            ]
          },
          "metadata": {},
          "execution_count": 155
        }
      ]
    },
    {
      "cell_type": "markdown",
      "metadata": {
        "id": "TWRCmQO5ez90"
      },
      "source": [
        "Marzo"
      ]
    },
    {
      "cell_type": "code",
      "metadata": {
        "id": "ioEYGqBme-gT"
      },
      "source": [
        "UN1_2 = pd.merge(Ma1,Ma2,on=['DIRECTORIO','ORDEN','SECUENCIA_P','HOGAR'],how='outer')"
      ],
      "execution_count": 156,
      "outputs": []
    },
    {
      "cell_type": "code",
      "metadata": {
        "id": "ZA02LBTae-gU"
      },
      "source": [
        "UN2_2 = pd.merge(UN1_2,Ma3, on=['DIRECTORIO','ORDEN','SECUENCIA_P','HOGAR'],how='outer')"
      ],
      "execution_count": 157,
      "outputs": []
    },
    {
      "cell_type": "code",
      "metadata": {
        "id": "fHVCizrwe-gU"
      },
      "source": [
        "UN3_2 = pd.merge(UN2_2,Ma4, on=['DIRECTORIO','ORDEN','SECUENCIA_P','HOGAR'],how='outer')"
      ],
      "execution_count": 158,
      "outputs": []
    },
    {
      "cell_type": "code",
      "metadata": {
        "id": "vz8-xAJse-gV",
        "colab": {
          "base_uri": "https://localhost:8080/",
          "height": 0
        },
        "outputId": "7db0b3cf-3a8c-4866-d322-c0935ac3b5c3"
      },
      "source": [
        "MARZO = pd.merge(UN3_2,Ma5, on=['DIRECTORIO','ORDEN','SECUENCIA_P','HOGAR'],how='outer')\n",
        "MARZO = MARZO.replace(' ', np.NaN) # Reemplzamos los valores faltantes por NaN\n",
        "MARZO = MARZO.drop_duplicates() #Quitamos las filas duplicadas\n",
        "MARZO"
      ],
      "execution_count": 159,
      "outputs": [
        {
          "output_type": "execute_result",
          "data": {
            "text/html": [
              "<div>\n",
              "<style scoped>\n",
              "    .dataframe tbody tr th:only-of-type {\n",
              "        vertical-align: middle;\n",
              "    }\n",
              "\n",
              "    .dataframe tbody tr th {\n",
              "        vertical-align: top;\n",
              "    }\n",
              "\n",
              "    .dataframe thead th {\n",
              "        text-align: right;\n",
              "    }\n",
              "</style>\n",
              "<table border=\"1\" class=\"dataframe\">\n",
              "  <thead>\n",
              "    <tr style=\"text-align: right;\">\n",
              "      <th></th>\n",
              "      <th>DIRECTORIO</th>\n",
              "      <th>ORDEN</th>\n",
              "      <th>SECUENCIA_P</th>\n",
              "      <th>HOGAR</th>\n",
              "      <th>P6020</th>\n",
              "      <th>ESC</th>\n",
              "      <th>P6040</th>\n",
              "      <th>P6070</th>\n",
              "      <th>P3147S1</th>\n",
              "      <th>P3147S2</th>\n",
              "      <th>P3147S3</th>\n",
              "      <th>P3147S6</th>\n",
              "      <th>P3147S7</th>\n",
              "      <th>P3246</th>\n",
              "      <th>P6090</th>\n",
              "      <th>P6210</th>\n",
              "      <th>P9460</th>\n",
              "      <th>DSI</th>\n",
              "      <th>DPTO</th>\n",
              "      <th>AREA</th>\n",
              "      <th>FT</th>\n",
              "      <th>P6320</th>\n",
              "      <th>P6340</th>\n",
              "      <th>P7470</th>\n",
              "      <th>INI</th>\n",
              "      <th>p7440</th>\n",
              "      <th>P6921</th>\n",
              "      <th>OCI</th>\n",
              "      <th>INGLABO</th>\n",
              "      <th>P6430</th>\n",
              "      <th>P514</th>\n",
              "      <th>P7140S6</th>\n",
              "      <th>P7140S2</th>\n",
              "    </tr>\n",
              "  </thead>\n",
              "  <tbody>\n",
              "    <tr>\n",
              "      <th>0</th>\n",
              "      <td>5392695</td>\n",
              "      <td>1</td>\n",
              "      <td>1</td>\n",
              "      <td>1</td>\n",
              "      <td>1</td>\n",
              "      <td>16</td>\n",
              "      <td>24</td>\n",
              "      <td>6</td>\n",
              "      <td>1</td>\n",
              "      <td>NaN</td>\n",
              "      <td>NaN</td>\n",
              "      <td>NaN</td>\n",
              "      <td>NaN</td>\n",
              "      <td>2</td>\n",
              "      <td>1</td>\n",
              "      <td>6</td>\n",
              "      <td>NaN</td>\n",
              "      <td>NaN</td>\n",
              "      <td>17.0</td>\n",
              "      <td>17.0</td>\n",
              "      <td>1.0</td>\n",
              "      <td>NaN</td>\n",
              "      <td>NaN</td>\n",
              "      <td>NaN</td>\n",
              "      <td>NaN</td>\n",
              "      <td>NaN</td>\n",
              "      <td>NaN</td>\n",
              "      <td>1.0</td>\n",
              "      <td>2000000</td>\n",
              "      <td>4.0</td>\n",
              "      <td>2.0</td>\n",
              "      <td>NaN</td>\n",
              "      <td>NaN</td>\n",
              "    </tr>\n",
              "    <tr>\n",
              "      <th>1</th>\n",
              "      <td>5392695</td>\n",
              "      <td>2</td>\n",
              "      <td>1</td>\n",
              "      <td>1</td>\n",
              "      <td>1</td>\n",
              "      <td>11</td>\n",
              "      <td>19</td>\n",
              "      <td>6</td>\n",
              "      <td>1</td>\n",
              "      <td>NaN</td>\n",
              "      <td>NaN</td>\n",
              "      <td>NaN</td>\n",
              "      <td>NaN</td>\n",
              "      <td>NaN</td>\n",
              "      <td>1</td>\n",
              "      <td>6</td>\n",
              "      <td>NaN</td>\n",
              "      <td>NaN</td>\n",
              "      <td>17.0</td>\n",
              "      <td>17.0</td>\n",
              "      <td>1.0</td>\n",
              "      <td>NaN</td>\n",
              "      <td>NaN</td>\n",
              "      <td>NaN</td>\n",
              "      <td>1.0</td>\n",
              "      <td>NaN</td>\n",
              "      <td>2</td>\n",
              "      <td>NaN</td>\n",
              "      <td>NaN</td>\n",
              "      <td>NaN</td>\n",
              "      <td>NaN</td>\n",
              "      <td>NaN</td>\n",
              "      <td>NaN</td>\n",
              "    </tr>\n",
              "    <tr>\n",
              "      <th>2</th>\n",
              "      <td>5392696</td>\n",
              "      <td>1</td>\n",
              "      <td>1</td>\n",
              "      <td>1</td>\n",
              "      <td>1</td>\n",
              "      <td>11</td>\n",
              "      <td>38</td>\n",
              "      <td>2</td>\n",
              "      <td>NaN</td>\n",
              "      <td>NaN</td>\n",
              "      <td>NaN</td>\n",
              "      <td>NaN</td>\n",
              "      <td>NaN</td>\n",
              "      <td>2</td>\n",
              "      <td>1</td>\n",
              "      <td>5</td>\n",
              "      <td>NaN</td>\n",
              "      <td>NaN</td>\n",
              "      <td>17.0</td>\n",
              "      <td>17.0</td>\n",
              "      <td>1.0</td>\n",
              "      <td>NaN</td>\n",
              "      <td>NaN</td>\n",
              "      <td>NaN</td>\n",
              "      <td>NaN</td>\n",
              "      <td>NaN</td>\n",
              "      <td>NaN</td>\n",
              "      <td>1.0</td>\n",
              "      <td>2000000</td>\n",
              "      <td>5.0</td>\n",
              "      <td>1.0</td>\n",
              "      <td>NaN</td>\n",
              "      <td>NaN</td>\n",
              "    </tr>\n",
              "    <tr>\n",
              "      <th>3</th>\n",
              "      <td>5392696</td>\n",
              "      <td>2</td>\n",
              "      <td>1</td>\n",
              "      <td>1</td>\n",
              "      <td>2</td>\n",
              "      <td>7</td>\n",
              "      <td>44</td>\n",
              "      <td>2</td>\n",
              "      <td>NaN</td>\n",
              "      <td>NaN</td>\n",
              "      <td>NaN</td>\n",
              "      <td>NaN</td>\n",
              "      <td>NaN</td>\n",
              "      <td>NaN</td>\n",
              "      <td>1</td>\n",
              "      <td>4</td>\n",
              "      <td>NaN</td>\n",
              "      <td>NaN</td>\n",
              "      <td>17.0</td>\n",
              "      <td>17.0</td>\n",
              "      <td>1.0</td>\n",
              "      <td>NaN</td>\n",
              "      <td>NaN</td>\n",
              "      <td>NaN</td>\n",
              "      <td>1.0</td>\n",
              "      <td>NaN</td>\n",
              "      <td>2</td>\n",
              "      <td>NaN</td>\n",
              "      <td>NaN</td>\n",
              "      <td>NaN</td>\n",
              "      <td>NaN</td>\n",
              "      <td>NaN</td>\n",
              "      <td>NaN</td>\n",
              "    </tr>\n",
              "    <tr>\n",
              "      <th>4</th>\n",
              "      <td>5392696</td>\n",
              "      <td>3</td>\n",
              "      <td>1</td>\n",
              "      <td>1</td>\n",
              "      <td>2</td>\n",
              "      <td>13</td>\n",
              "      <td>21</td>\n",
              "      <td>6</td>\n",
              "      <td>NaN</td>\n",
              "      <td>NaN</td>\n",
              "      <td>NaN</td>\n",
              "      <td>NaN</td>\n",
              "      <td>NaN</td>\n",
              "      <td>NaN</td>\n",
              "      <td>1</td>\n",
              "      <td>6</td>\n",
              "      <td>NaN</td>\n",
              "      <td>NaN</td>\n",
              "      <td>17.0</td>\n",
              "      <td>17.0</td>\n",
              "      <td>1.0</td>\n",
              "      <td>NaN</td>\n",
              "      <td>NaN</td>\n",
              "      <td>NaN</td>\n",
              "      <td>NaN</td>\n",
              "      <td>NaN</td>\n",
              "      <td>NaN</td>\n",
              "      <td>1.0</td>\n",
              "      <td>1700000</td>\n",
              "      <td>1.0</td>\n",
              "      <td>1.0</td>\n",
              "      <td>NaN</td>\n",
              "      <td>NaN</td>\n",
              "    </tr>\n",
              "    <tr>\n",
              "      <th>...</th>\n",
              "      <td>...</td>\n",
              "      <td>...</td>\n",
              "      <td>...</td>\n",
              "      <td>...</td>\n",
              "      <td>...</td>\n",
              "      <td>...</td>\n",
              "      <td>...</td>\n",
              "      <td>...</td>\n",
              "      <td>...</td>\n",
              "      <td>...</td>\n",
              "      <td>...</td>\n",
              "      <td>...</td>\n",
              "      <td>...</td>\n",
              "      <td>...</td>\n",
              "      <td>...</td>\n",
              "      <td>...</td>\n",
              "      <td>...</td>\n",
              "      <td>...</td>\n",
              "      <td>...</td>\n",
              "      <td>...</td>\n",
              "      <td>...</td>\n",
              "      <td>...</td>\n",
              "      <td>...</td>\n",
              "      <td>...</td>\n",
              "      <td>...</td>\n",
              "      <td>...</td>\n",
              "      <td>...</td>\n",
              "      <td>...</td>\n",
              "      <td>...</td>\n",
              "      <td>...</td>\n",
              "      <td>...</td>\n",
              "      <td>...</td>\n",
              "      <td>...</td>\n",
              "    </tr>\n",
              "    <tr>\n",
              "      <th>28251</th>\n",
              "      <td>5418236</td>\n",
              "      <td>1</td>\n",
              "      <td>1</td>\n",
              "      <td>1</td>\n",
              "      <td>2</td>\n",
              "      <td>11</td>\n",
              "      <td>66</td>\n",
              "      <td>4</td>\n",
              "      <td>NaN</td>\n",
              "      <td>NaN</td>\n",
              "      <td>NaN</td>\n",
              "      <td>NaN</td>\n",
              "      <td>NaN</td>\n",
              "      <td>2</td>\n",
              "      <td>1</td>\n",
              "      <td>5</td>\n",
              "      <td>NaN</td>\n",
              "      <td>NaN</td>\n",
              "      <td>66.0</td>\n",
              "      <td>66.0</td>\n",
              "      <td>1.0</td>\n",
              "      <td>NaN</td>\n",
              "      <td>NaN</td>\n",
              "      <td>NaN</td>\n",
              "      <td>1.0</td>\n",
              "      <td>3</td>\n",
              "      <td>3</td>\n",
              "      <td>NaN</td>\n",
              "      <td>NaN</td>\n",
              "      <td>NaN</td>\n",
              "      <td>NaN</td>\n",
              "      <td>NaN</td>\n",
              "      <td>NaN</td>\n",
              "    </tr>\n",
              "    <tr>\n",
              "      <th>28252</th>\n",
              "      <td>5418236</td>\n",
              "      <td>2</td>\n",
              "      <td>1</td>\n",
              "      <td>1</td>\n",
              "      <td>1</td>\n",
              "      <td>11</td>\n",
              "      <td>29</td>\n",
              "      <td>6</td>\n",
              "      <td>NaN</td>\n",
              "      <td>NaN</td>\n",
              "      <td>NaN</td>\n",
              "      <td>NaN</td>\n",
              "      <td>NaN</td>\n",
              "      <td>NaN</td>\n",
              "      <td>1</td>\n",
              "      <td>5</td>\n",
              "      <td>NaN</td>\n",
              "      <td>NaN</td>\n",
              "      <td>66.0</td>\n",
              "      <td>66.0</td>\n",
              "      <td>1.0</td>\n",
              "      <td>NaN</td>\n",
              "      <td>NaN</td>\n",
              "      <td>NaN</td>\n",
              "      <td>NaN</td>\n",
              "      <td>NaN</td>\n",
              "      <td>NaN</td>\n",
              "      <td>1.0</td>\n",
              "      <td>1500000</td>\n",
              "      <td>1.0</td>\n",
              "      <td>1.0</td>\n",
              "      <td>NaN</td>\n",
              "      <td>NaN</td>\n",
              "    </tr>\n",
              "    <tr>\n",
              "      <th>28253</th>\n",
              "      <td>5418236</td>\n",
              "      <td>3</td>\n",
              "      <td>1</td>\n",
              "      <td>1</td>\n",
              "      <td>2</td>\n",
              "      <td>6</td>\n",
              "      <td>51</td>\n",
              "      <td>4</td>\n",
              "      <td>NaN</td>\n",
              "      <td>NaN</td>\n",
              "      <td>NaN</td>\n",
              "      <td>NaN</td>\n",
              "      <td>NaN</td>\n",
              "      <td>NaN</td>\n",
              "      <td>1</td>\n",
              "      <td>4</td>\n",
              "      <td>NaN</td>\n",
              "      <td>NaN</td>\n",
              "      <td>66.0</td>\n",
              "      <td>66.0</td>\n",
              "      <td>1.0</td>\n",
              "      <td>NaN</td>\n",
              "      <td>NaN</td>\n",
              "      <td>NaN</td>\n",
              "      <td>NaN</td>\n",
              "      <td>NaN</td>\n",
              "      <td>NaN</td>\n",
              "      <td>1.0</td>\n",
              "      <td>1000000</td>\n",
              "      <td>1.0</td>\n",
              "      <td>1.0</td>\n",
              "      <td>NaN</td>\n",
              "      <td>NaN</td>\n",
              "    </tr>\n",
              "    <tr>\n",
              "      <th>28254</th>\n",
              "      <td>5418237</td>\n",
              "      <td>1</td>\n",
              "      <td>1</td>\n",
              "      <td>1</td>\n",
              "      <td>2</td>\n",
              "      <td>11</td>\n",
              "      <td>44</td>\n",
              "      <td>6</td>\n",
              "      <td>NaN</td>\n",
              "      <td>1</td>\n",
              "      <td>1</td>\n",
              "      <td>NaN</td>\n",
              "      <td>1</td>\n",
              "      <td>2</td>\n",
              "      <td>1</td>\n",
              "      <td>5</td>\n",
              "      <td>2</td>\n",
              "      <td>1.0</td>\n",
              "      <td>66.0</td>\n",
              "      <td>66.0</td>\n",
              "      <td>1.0</td>\n",
              "      <td>NaN</td>\n",
              "      <td>NaN</td>\n",
              "      <td>NaN</td>\n",
              "      <td>NaN</td>\n",
              "      <td>NaN</td>\n",
              "      <td>NaN</td>\n",
              "      <td>NaN</td>\n",
              "      <td>NaN</td>\n",
              "      <td>NaN</td>\n",
              "      <td>NaN</td>\n",
              "      <td>NaN</td>\n",
              "      <td>NaN</td>\n",
              "    </tr>\n",
              "    <tr>\n",
              "      <th>28255</th>\n",
              "      <td>5418237</td>\n",
              "      <td>2</td>\n",
              "      <td>1</td>\n",
              "      <td>1</td>\n",
              "      <td>2</td>\n",
              "      <td>2</td>\n",
              "      <td>73</td>\n",
              "      <td>5</td>\n",
              "      <td>NaN</td>\n",
              "      <td>NaN</td>\n",
              "      <td>1</td>\n",
              "      <td>NaN</td>\n",
              "      <td>NaN</td>\n",
              "      <td>NaN</td>\n",
              "      <td>1</td>\n",
              "      <td>3</td>\n",
              "      <td>NaN</td>\n",
              "      <td>NaN</td>\n",
              "      <td>66.0</td>\n",
              "      <td>66.0</td>\n",
              "      <td>1.0</td>\n",
              "      <td>NaN</td>\n",
              "      <td>NaN</td>\n",
              "      <td>NaN</td>\n",
              "      <td>1.0</td>\n",
              "      <td>4</td>\n",
              "      <td>3</td>\n",
              "      <td>NaN</td>\n",
              "      <td>NaN</td>\n",
              "      <td>NaN</td>\n",
              "      <td>NaN</td>\n",
              "      <td>NaN</td>\n",
              "      <td>NaN</td>\n",
              "    </tr>\n",
              "  </tbody>\n",
              "</table>\n",
              "<p>28256 rows × 33 columns</p>\n",
              "</div>"
            ],
            "text/plain": [
              "       DIRECTORIO  ORDEN  SECUENCIA_P  HOGAR  ...  P6430 P514  P7140S6 P7140S2\n",
              "0         5392695      1            1      1  ...    4.0  2.0      NaN     NaN\n",
              "1         5392695      2            1      1  ...    NaN  NaN      NaN     NaN\n",
              "2         5392696      1            1      1  ...    5.0  1.0      NaN     NaN\n",
              "3         5392696      2            1      1  ...    NaN  NaN      NaN     NaN\n",
              "4         5392696      3            1      1  ...    1.0  1.0      NaN     NaN\n",
              "...           ...    ...          ...    ...  ...    ...  ...      ...     ...\n",
              "28251     5418236      1            1      1  ...    NaN  NaN      NaN     NaN\n",
              "28252     5418236      2            1      1  ...    1.0  1.0      NaN     NaN\n",
              "28253     5418236      3            1      1  ...    1.0  1.0      NaN     NaN\n",
              "28254     5418237      1            1      1  ...    NaN  NaN      NaN     NaN\n",
              "28255     5418237      2            1      1  ...    NaN  NaN      NaN     NaN\n",
              "\n",
              "[28256 rows x 33 columns]"
            ]
          },
          "metadata": {},
          "execution_count": 159
        }
      ]
    },
    {
      "cell_type": "markdown",
      "metadata": {
        "id": "plynTqqAfTlk"
      },
      "source": [
        "Abril"
      ]
    },
    {
      "cell_type": "code",
      "metadata": {
        "id": "-tv_Pu5gfTl0"
      },
      "source": [
        "UN1_3 = pd.merge(Ab1,Ab2,on=['DIRECTORIO','ORDEN','SECUENCIA_P','HOGAR'],how='outer')"
      ],
      "execution_count": 160,
      "outputs": []
    },
    {
      "cell_type": "code",
      "metadata": {
        "id": "61RoHMt2fTl0"
      },
      "source": [
        "UN2_3 = pd.merge(UN1_3,Ab3, on=['DIRECTORIO','ORDEN','SECUENCIA_P','HOGAR'],how='outer')"
      ],
      "execution_count": 161,
      "outputs": []
    },
    {
      "cell_type": "code",
      "metadata": {
        "id": "P3yPcJNLfTl1"
      },
      "source": [
        "UN3_3 = pd.merge(UN2_3,Ab4, on=['DIRECTORIO','ORDEN','SECUENCIA_P','HOGAR'],how='outer')"
      ],
      "execution_count": 162,
      "outputs": []
    },
    {
      "cell_type": "code",
      "metadata": {
        "id": "EzoRP1fXfTl1",
        "colab": {
          "base_uri": "https://localhost:8080/",
          "height": 0
        },
        "outputId": "3c75db7d-cd03-4b73-e976-0171f4cbd52e"
      },
      "source": [
        "ABRIL = pd.merge(UN3_3,Ab5, on=['DIRECTORIO','ORDEN','SECUENCIA_P','HOGAR'],how='outer')\n",
        "ABRIL = ABRIL.replace(' ', np.NaN) # Reemplzamos los valores faltantes por NaN\n",
        "ABRIL = ABRIL.drop_duplicates() #Quitamos las filas duplicadas\n",
        "ABRIL"
      ],
      "execution_count": 163,
      "outputs": [
        {
          "output_type": "execute_result",
          "data": {
            "text/html": [
              "<div>\n",
              "<style scoped>\n",
              "    .dataframe tbody tr th:only-of-type {\n",
              "        vertical-align: middle;\n",
              "    }\n",
              "\n",
              "    .dataframe tbody tr th {\n",
              "        vertical-align: top;\n",
              "    }\n",
              "\n",
              "    .dataframe thead th {\n",
              "        text-align: right;\n",
              "    }\n",
              "</style>\n",
              "<table border=\"1\" class=\"dataframe\">\n",
              "  <thead>\n",
              "    <tr style=\"text-align: right;\">\n",
              "      <th></th>\n",
              "      <th>DIRECTORIO</th>\n",
              "      <th>ORDEN</th>\n",
              "      <th>SECUENCIA_P</th>\n",
              "      <th>HOGAR</th>\n",
              "      <th>P6020</th>\n",
              "      <th>ESC</th>\n",
              "      <th>P6040</th>\n",
              "      <th>P6070</th>\n",
              "      <th>P3147S1</th>\n",
              "      <th>P3147S2</th>\n",
              "      <th>P3147S3</th>\n",
              "      <th>P3147S6</th>\n",
              "      <th>P3147S7</th>\n",
              "      <th>P3246</th>\n",
              "      <th>P6090</th>\n",
              "      <th>P6210</th>\n",
              "      <th>P9460</th>\n",
              "      <th>DSI</th>\n",
              "      <th>DPTO</th>\n",
              "      <th>AREA</th>\n",
              "      <th>FT</th>\n",
              "      <th>P6320</th>\n",
              "      <th>P6340</th>\n",
              "      <th>P7470</th>\n",
              "      <th>INI</th>\n",
              "      <th>p7440</th>\n",
              "      <th>P6921</th>\n",
              "      <th>OCI</th>\n",
              "      <th>INGLABO</th>\n",
              "      <th>P6430</th>\n",
              "      <th>P514</th>\n",
              "      <th>P7140S6</th>\n",
              "      <th>P7140S2</th>\n",
              "    </tr>\n",
              "  </thead>\n",
              "  <tbody>\n",
              "    <tr>\n",
              "      <th>0</th>\n",
              "      <td>5418283</td>\n",
              "      <td>1</td>\n",
              "      <td>1</td>\n",
              "      <td>1</td>\n",
              "      <td>2</td>\n",
              "      <td>3</td>\n",
              "      <td>73</td>\n",
              "      <td>5</td>\n",
              "      <td>NaN</td>\n",
              "      <td>NaN</td>\n",
              "      <td>1</td>\n",
              "      <td>NaN</td>\n",
              "      <td>NaN</td>\n",
              "      <td>1</td>\n",
              "      <td>1</td>\n",
              "      <td>3</td>\n",
              "      <td>NaN</td>\n",
              "      <td>NaN</td>\n",
              "      <td>5.0</td>\n",
              "      <td>5.0</td>\n",
              "      <td>1.0</td>\n",
              "      <td>NaN</td>\n",
              "      <td>NaN</td>\n",
              "      <td>NaN</td>\n",
              "      <td>1.0</td>\n",
              "      <td>4</td>\n",
              "      <td>2</td>\n",
              "      <td>NaN</td>\n",
              "      <td>NaN</td>\n",
              "      <td>NaN</td>\n",
              "      <td>NaN</td>\n",
              "      <td>NaN</td>\n",
              "      <td>NaN</td>\n",
              "    </tr>\n",
              "    <tr>\n",
              "      <th>1</th>\n",
              "      <td>5418283</td>\n",
              "      <td>2</td>\n",
              "      <td>1</td>\n",
              "      <td>1</td>\n",
              "      <td>2</td>\n",
              "      <td>16</td>\n",
              "      <td>26</td>\n",
              "      <td>6</td>\n",
              "      <td>NaN</td>\n",
              "      <td>NaN</td>\n",
              "      <td>NaN</td>\n",
              "      <td>NaN</td>\n",
              "      <td>NaN</td>\n",
              "      <td>NaN</td>\n",
              "      <td>1</td>\n",
              "      <td>6</td>\n",
              "      <td>NaN</td>\n",
              "      <td>NaN</td>\n",
              "      <td>5.0</td>\n",
              "      <td>5.0</td>\n",
              "      <td>1.0</td>\n",
              "      <td>NaN</td>\n",
              "      <td>NaN</td>\n",
              "      <td>NaN</td>\n",
              "      <td>NaN</td>\n",
              "      <td>NaN</td>\n",
              "      <td>NaN</td>\n",
              "      <td>1.0</td>\n",
              "      <td>3500000</td>\n",
              "      <td>5.0</td>\n",
              "      <td>1.0</td>\n",
              "      <td>NaN</td>\n",
              "      <td>NaN</td>\n",
              "    </tr>\n",
              "    <tr>\n",
              "      <th>2</th>\n",
              "      <td>5418284</td>\n",
              "      <td>1</td>\n",
              "      <td>1</td>\n",
              "      <td>1</td>\n",
              "      <td>1</td>\n",
              "      <td>11</td>\n",
              "      <td>25</td>\n",
              "      <td>6</td>\n",
              "      <td>NaN</td>\n",
              "      <td>NaN</td>\n",
              "      <td>NaN</td>\n",
              "      <td>NaN</td>\n",
              "      <td>1</td>\n",
              "      <td>2</td>\n",
              "      <td>1</td>\n",
              "      <td>5</td>\n",
              "      <td>NaN</td>\n",
              "      <td>NaN</td>\n",
              "      <td>5.0</td>\n",
              "      <td>5.0</td>\n",
              "      <td>1.0</td>\n",
              "      <td>NaN</td>\n",
              "      <td>NaN</td>\n",
              "      <td>NaN</td>\n",
              "      <td>NaN</td>\n",
              "      <td>NaN</td>\n",
              "      <td>NaN</td>\n",
              "      <td>1.0</td>\n",
              "      <td>200000</td>\n",
              "      <td>4.0</td>\n",
              "      <td>2.0</td>\n",
              "      <td>1</td>\n",
              "      <td>1</td>\n",
              "    </tr>\n",
              "    <tr>\n",
              "      <th>3</th>\n",
              "      <td>5418284</td>\n",
              "      <td>2</td>\n",
              "      <td>1</td>\n",
              "      <td>1</td>\n",
              "      <td>2</td>\n",
              "      <td>13</td>\n",
              "      <td>31</td>\n",
              "      <td>6</td>\n",
              "      <td>NaN</td>\n",
              "      <td>NaN</td>\n",
              "      <td>NaN</td>\n",
              "      <td>NaN</td>\n",
              "      <td>NaN</td>\n",
              "      <td>NaN</td>\n",
              "      <td>1</td>\n",
              "      <td>6</td>\n",
              "      <td>NaN</td>\n",
              "      <td>NaN</td>\n",
              "      <td>5.0</td>\n",
              "      <td>5.0</td>\n",
              "      <td>1.0</td>\n",
              "      <td>NaN</td>\n",
              "      <td>NaN</td>\n",
              "      <td>NaN</td>\n",
              "      <td>NaN</td>\n",
              "      <td>NaN</td>\n",
              "      <td>NaN</td>\n",
              "      <td>1.0</td>\n",
              "      <td>908526</td>\n",
              "      <td>1.0</td>\n",
              "      <td>1.0</td>\n",
              "      <td>NaN</td>\n",
              "      <td>NaN</td>\n",
              "    </tr>\n",
              "    <tr>\n",
              "      <th>4</th>\n",
              "      <td>5418284</td>\n",
              "      <td>3</td>\n",
              "      <td>1</td>\n",
              "      <td>1</td>\n",
              "      <td>2</td>\n",
              "      <td>2</td>\n",
              "      <td>9</td>\n",
              "      <td>NaN</td>\n",
              "      <td>NaN</td>\n",
              "      <td>NaN</td>\n",
              "      <td>NaN</td>\n",
              "      <td>NaN</td>\n",
              "      <td>NaN</td>\n",
              "      <td>NaN</td>\n",
              "      <td>1</td>\n",
              "      <td>3</td>\n",
              "      <td>NaN</td>\n",
              "      <td>NaN</td>\n",
              "      <td>NaN</td>\n",
              "      <td>NaN</td>\n",
              "      <td>NaN</td>\n",
              "      <td>NaN</td>\n",
              "      <td>NaN</td>\n",
              "      <td>NaN</td>\n",
              "      <td>NaN</td>\n",
              "      <td>NaN</td>\n",
              "      <td>NaN</td>\n",
              "      <td>NaN</td>\n",
              "      <td>NaN</td>\n",
              "      <td>NaN</td>\n",
              "      <td>NaN</td>\n",
              "      <td>NaN</td>\n",
              "      <td>NaN</td>\n",
              "    </tr>\n",
              "    <tr>\n",
              "      <th>...</th>\n",
              "      <td>...</td>\n",
              "      <td>...</td>\n",
              "      <td>...</td>\n",
              "      <td>...</td>\n",
              "      <td>...</td>\n",
              "      <td>...</td>\n",
              "      <td>...</td>\n",
              "      <td>...</td>\n",
              "      <td>...</td>\n",
              "      <td>...</td>\n",
              "      <td>...</td>\n",
              "      <td>...</td>\n",
              "      <td>...</td>\n",
              "      <td>...</td>\n",
              "      <td>...</td>\n",
              "      <td>...</td>\n",
              "      <td>...</td>\n",
              "      <td>...</td>\n",
              "      <td>...</td>\n",
              "      <td>...</td>\n",
              "      <td>...</td>\n",
              "      <td>...</td>\n",
              "      <td>...</td>\n",
              "      <td>...</td>\n",
              "      <td>...</td>\n",
              "      <td>...</td>\n",
              "      <td>...</td>\n",
              "      <td>...</td>\n",
              "      <td>...</td>\n",
              "      <td>...</td>\n",
              "      <td>...</td>\n",
              "      <td>...</td>\n",
              "      <td>...</td>\n",
              "    </tr>\n",
              "    <tr>\n",
              "      <th>28506</th>\n",
              "      <td>5443717</td>\n",
              "      <td>4</td>\n",
              "      <td>1</td>\n",
              "      <td>1</td>\n",
              "      <td>1</td>\n",
              "      <td>11</td>\n",
              "      <td>19</td>\n",
              "      <td>6</td>\n",
              "      <td>NaN</td>\n",
              "      <td>NaN</td>\n",
              "      <td>NaN</td>\n",
              "      <td>NaN</td>\n",
              "      <td>NaN</td>\n",
              "      <td>NaN</td>\n",
              "      <td>1</td>\n",
              "      <td>5</td>\n",
              "      <td>NaN</td>\n",
              "      <td>NaN</td>\n",
              "      <td>8.0</td>\n",
              "      <td>8.0</td>\n",
              "      <td>1.0</td>\n",
              "      <td>NaN</td>\n",
              "      <td>NaN</td>\n",
              "      <td>NaN</td>\n",
              "      <td>1.0</td>\n",
              "      <td>NaN</td>\n",
              "      <td>2</td>\n",
              "      <td>NaN</td>\n",
              "      <td>NaN</td>\n",
              "      <td>NaN</td>\n",
              "      <td>NaN</td>\n",
              "      <td>NaN</td>\n",
              "      <td>NaN</td>\n",
              "    </tr>\n",
              "    <tr>\n",
              "      <th>28507</th>\n",
              "      <td>5443718</td>\n",
              "      <td>1</td>\n",
              "      <td>1</td>\n",
              "      <td>1</td>\n",
              "      <td>2</td>\n",
              "      <td>11</td>\n",
              "      <td>32</td>\n",
              "      <td>6</td>\n",
              "      <td>NaN</td>\n",
              "      <td>NaN</td>\n",
              "      <td>NaN</td>\n",
              "      <td>NaN</td>\n",
              "      <td>NaN</td>\n",
              "      <td>2</td>\n",
              "      <td>2</td>\n",
              "      <td>5</td>\n",
              "      <td>NaN</td>\n",
              "      <td>NaN</td>\n",
              "      <td>66.0</td>\n",
              "      <td>66.0</td>\n",
              "      <td>1.0</td>\n",
              "      <td>NaN</td>\n",
              "      <td>NaN</td>\n",
              "      <td>NaN</td>\n",
              "      <td>NaN</td>\n",
              "      <td>NaN</td>\n",
              "      <td>NaN</td>\n",
              "      <td>1.0</td>\n",
              "      <td>500000</td>\n",
              "      <td>4.0</td>\n",
              "      <td>2.0</td>\n",
              "      <td>2</td>\n",
              "      <td>1</td>\n",
              "    </tr>\n",
              "    <tr>\n",
              "      <th>28508</th>\n",
              "      <td>5443718</td>\n",
              "      <td>2</td>\n",
              "      <td>1</td>\n",
              "      <td>1</td>\n",
              "      <td>1</td>\n",
              "      <td>7</td>\n",
              "      <td>13</td>\n",
              "      <td>6</td>\n",
              "      <td>NaN</td>\n",
              "      <td>NaN</td>\n",
              "      <td>NaN</td>\n",
              "      <td>NaN</td>\n",
              "      <td>NaN</td>\n",
              "      <td>NaN</td>\n",
              "      <td>2</td>\n",
              "      <td>4</td>\n",
              "      <td>NaN</td>\n",
              "      <td>NaN</td>\n",
              "      <td>66.0</td>\n",
              "      <td>66.0</td>\n",
              "      <td>1.0</td>\n",
              "      <td>NaN</td>\n",
              "      <td>NaN</td>\n",
              "      <td>NaN</td>\n",
              "      <td>1.0</td>\n",
              "      <td>NaN</td>\n",
              "      <td>NaN</td>\n",
              "      <td>NaN</td>\n",
              "      <td>NaN</td>\n",
              "      <td>NaN</td>\n",
              "      <td>NaN</td>\n",
              "      <td>NaN</td>\n",
              "      <td>NaN</td>\n",
              "    </tr>\n",
              "    <tr>\n",
              "      <th>28509</th>\n",
              "      <td>5443718</td>\n",
              "      <td>3</td>\n",
              "      <td>1</td>\n",
              "      <td>1</td>\n",
              "      <td>2</td>\n",
              "      <td>5</td>\n",
              "      <td>55</td>\n",
              "      <td>6</td>\n",
              "      <td>NaN</td>\n",
              "      <td>NaN</td>\n",
              "      <td>NaN</td>\n",
              "      <td>NaN</td>\n",
              "      <td>NaN</td>\n",
              "      <td>NaN</td>\n",
              "      <td>2</td>\n",
              "      <td>3</td>\n",
              "      <td>NaN</td>\n",
              "      <td>NaN</td>\n",
              "      <td>66.0</td>\n",
              "      <td>66.0</td>\n",
              "      <td>1.0</td>\n",
              "      <td>NaN</td>\n",
              "      <td>NaN</td>\n",
              "      <td>NaN</td>\n",
              "      <td>NaN</td>\n",
              "      <td>NaN</td>\n",
              "      <td>NaN</td>\n",
              "      <td>1.0</td>\n",
              "      <td>500000</td>\n",
              "      <td>4.0</td>\n",
              "      <td>1.0</td>\n",
              "      <td>NaN</td>\n",
              "      <td>NaN</td>\n",
              "    </tr>\n",
              "    <tr>\n",
              "      <th>28510</th>\n",
              "      <td>5443718</td>\n",
              "      <td>4</td>\n",
              "      <td>1</td>\n",
              "      <td>1</td>\n",
              "      <td>1</td>\n",
              "      <td>13</td>\n",
              "      <td>27</td>\n",
              "      <td>6</td>\n",
              "      <td>NaN</td>\n",
              "      <td>NaN</td>\n",
              "      <td>NaN</td>\n",
              "      <td>NaN</td>\n",
              "      <td>NaN</td>\n",
              "      <td>NaN</td>\n",
              "      <td>1</td>\n",
              "      <td>6</td>\n",
              "      <td>NaN</td>\n",
              "      <td>NaN</td>\n",
              "      <td>66.0</td>\n",
              "      <td>66.0</td>\n",
              "      <td>1.0</td>\n",
              "      <td>NaN</td>\n",
              "      <td>NaN</td>\n",
              "      <td>NaN</td>\n",
              "      <td>NaN</td>\n",
              "      <td>NaN</td>\n",
              "      <td>NaN</td>\n",
              "      <td>1.0</td>\n",
              "      <td>1200000</td>\n",
              "      <td>1.0</td>\n",
              "      <td>1.0</td>\n",
              "      <td>NaN</td>\n",
              "      <td>NaN</td>\n",
              "    </tr>\n",
              "  </tbody>\n",
              "</table>\n",
              "<p>28511 rows × 33 columns</p>\n",
              "</div>"
            ],
            "text/plain": [
              "       DIRECTORIO  ORDEN  SECUENCIA_P  HOGAR  ...  P6430 P514  P7140S6 P7140S2\n",
              "0         5418283      1            1      1  ...    NaN  NaN      NaN     NaN\n",
              "1         5418283      2            1      1  ...    5.0  1.0      NaN     NaN\n",
              "2         5418284      1            1      1  ...    4.0  2.0        1       1\n",
              "3         5418284      2            1      1  ...    1.0  1.0      NaN     NaN\n",
              "4         5418284      3            1      1  ...    NaN  NaN      NaN     NaN\n",
              "...           ...    ...          ...    ...  ...    ...  ...      ...     ...\n",
              "28506     5443717      4            1      1  ...    NaN  NaN      NaN     NaN\n",
              "28507     5443718      1            1      1  ...    4.0  2.0        2       1\n",
              "28508     5443718      2            1      1  ...    NaN  NaN      NaN     NaN\n",
              "28509     5443718      3            1      1  ...    4.0  1.0      NaN     NaN\n",
              "28510     5443718      4            1      1  ...    1.0  1.0      NaN     NaN\n",
              "\n",
              "[28511 rows x 33 columns]"
            ]
          },
          "metadata": {},
          "execution_count": 163
        }
      ]
    },
    {
      "cell_type": "markdown",
      "metadata": {
        "id": "EGHvpCGmfnP0"
      },
      "source": [
        "Mayo"
      ]
    },
    {
      "cell_type": "code",
      "metadata": {
        "id": "w5zAsbrmfnP1"
      },
      "source": [
        "UN1_4 = pd.merge(My1,My2,on=['DIRECTORIO','ORDEN','SECUENCIA_P','HOGAR'],how='outer')"
      ],
      "execution_count": 164,
      "outputs": []
    },
    {
      "cell_type": "code",
      "metadata": {
        "id": "Ej1ZrC9kfnP4"
      },
      "source": [
        "UN2_4 = pd.merge(UN1_4,My3, on=['DIRECTORIO','ORDEN','SECUENCIA_P','HOGAR'],how='outer')"
      ],
      "execution_count": 165,
      "outputs": []
    },
    {
      "cell_type": "code",
      "metadata": {
        "id": "3GDxCCOofnP4"
      },
      "source": [
        "UN3_4 = pd.merge(UN2_4,My4, on=['DIRECTORIO','ORDEN','SECUENCIA_P','HOGAR'],how='outer')"
      ],
      "execution_count": 166,
      "outputs": []
    },
    {
      "cell_type": "code",
      "metadata": {
        "id": "qMKL7-OPfnP5",
        "colab": {
          "base_uri": "https://localhost:8080/",
          "height": 0
        },
        "outputId": "47b99158-1278-4d92-e56a-3eefe9d30853"
      },
      "source": [
        "MAYO = pd.merge(UN3_4,My5, on=['DIRECTORIO','ORDEN','SECUENCIA_P','HOGAR'],how='outer')\n",
        "MAYO = MAYO.replace(' ', np.NaN) # Reemplzamos los valores faltantes por NaN\n",
        "MAYO = MAYO.drop_duplicates() #Quitamos las filas duplicadas\n",
        "MAYO"
      ],
      "execution_count": 167,
      "outputs": [
        {
          "output_type": "execute_result",
          "data": {
            "text/html": [
              "<div>\n",
              "<style scoped>\n",
              "    .dataframe tbody tr th:only-of-type {\n",
              "        vertical-align: middle;\n",
              "    }\n",
              "\n",
              "    .dataframe tbody tr th {\n",
              "        vertical-align: top;\n",
              "    }\n",
              "\n",
              "    .dataframe thead th {\n",
              "        text-align: right;\n",
              "    }\n",
              "</style>\n",
              "<table border=\"1\" class=\"dataframe\">\n",
              "  <thead>\n",
              "    <tr style=\"text-align: right;\">\n",
              "      <th></th>\n",
              "      <th>DIRECTORIO</th>\n",
              "      <th>ORDEN</th>\n",
              "      <th>SECUENCIA_P</th>\n",
              "      <th>HOGAR</th>\n",
              "      <th>P6020</th>\n",
              "      <th>ESC</th>\n",
              "      <th>P6040</th>\n",
              "      <th>P6070</th>\n",
              "      <th>P3147S1</th>\n",
              "      <th>P3147S2</th>\n",
              "      <th>P3147S3</th>\n",
              "      <th>P3147S6</th>\n",
              "      <th>P3147S7</th>\n",
              "      <th>P3246</th>\n",
              "      <th>P6090</th>\n",
              "      <th>P6210</th>\n",
              "      <th>P9460</th>\n",
              "      <th>DSI</th>\n",
              "      <th>DPTO</th>\n",
              "      <th>AREA</th>\n",
              "      <th>FT</th>\n",
              "      <th>P6320</th>\n",
              "      <th>P6340</th>\n",
              "      <th>P7470</th>\n",
              "      <th>INI</th>\n",
              "      <th>p7440</th>\n",
              "      <th>P6921</th>\n",
              "      <th>OCI</th>\n",
              "      <th>INGLABO</th>\n",
              "      <th>P6430</th>\n",
              "      <th>P514</th>\n",
              "      <th>P7140S6</th>\n",
              "      <th>P7140S2</th>\n",
              "    </tr>\n",
              "  </thead>\n",
              "  <tbody>\n",
              "    <tr>\n",
              "      <th>0</th>\n",
              "      <td>5443993</td>\n",
              "      <td>1</td>\n",
              "      <td>1</td>\n",
              "      <td>1</td>\n",
              "      <td>1</td>\n",
              "      <td>8</td>\n",
              "      <td>50</td>\n",
              "      <td>2</td>\n",
              "      <td>NaN</td>\n",
              "      <td>NaN</td>\n",
              "      <td>NaN</td>\n",
              "      <td>NaN</td>\n",
              "      <td>NaN</td>\n",
              "      <td>1</td>\n",
              "      <td>1</td>\n",
              "      <td>4</td>\n",
              "      <td>NaN</td>\n",
              "      <td>NaN</td>\n",
              "      <td>5.0</td>\n",
              "      <td>5.0</td>\n",
              "      <td>1.0</td>\n",
              "      <td>NaN</td>\n",
              "      <td>NaN</td>\n",
              "      <td>NaN</td>\n",
              "      <td>NaN</td>\n",
              "      <td>NaN</td>\n",
              "      <td>NaN</td>\n",
              "      <td>1.0</td>\n",
              "      <td>908526</td>\n",
              "      <td>4.0</td>\n",
              "      <td>1.0</td>\n",
              "      <td>NaN</td>\n",
              "      <td>NaN</td>\n",
              "    </tr>\n",
              "    <tr>\n",
              "      <th>1</th>\n",
              "      <td>5443993</td>\n",
              "      <td>2</td>\n",
              "      <td>1</td>\n",
              "      <td>1</td>\n",
              "      <td>2</td>\n",
              "      <td>9</td>\n",
              "      <td>42</td>\n",
              "      <td>2</td>\n",
              "      <td>NaN</td>\n",
              "      <td>NaN</td>\n",
              "      <td>NaN</td>\n",
              "      <td>NaN</td>\n",
              "      <td>NaN</td>\n",
              "      <td>NaN</td>\n",
              "      <td>1</td>\n",
              "      <td>4</td>\n",
              "      <td>NaN</td>\n",
              "      <td>NaN</td>\n",
              "      <td>5.0</td>\n",
              "      <td>5.0</td>\n",
              "      <td>1.0</td>\n",
              "      <td>NaN</td>\n",
              "      <td>NaN</td>\n",
              "      <td>NaN</td>\n",
              "      <td>NaN</td>\n",
              "      <td>NaN</td>\n",
              "      <td>NaN</td>\n",
              "      <td>1.0</td>\n",
              "      <td>908526</td>\n",
              "      <td>4.0</td>\n",
              "      <td>2.0</td>\n",
              "      <td>NaN</td>\n",
              "      <td>NaN</td>\n",
              "    </tr>\n",
              "    <tr>\n",
              "      <th>2</th>\n",
              "      <td>5443993</td>\n",
              "      <td>3</td>\n",
              "      <td>1</td>\n",
              "      <td>1</td>\n",
              "      <td>1</td>\n",
              "      <td>15</td>\n",
              "      <td>23</td>\n",
              "      <td>6</td>\n",
              "      <td>NaN</td>\n",
              "      <td>NaN</td>\n",
              "      <td>NaN</td>\n",
              "      <td>NaN</td>\n",
              "      <td>NaN</td>\n",
              "      <td>NaN</td>\n",
              "      <td>1</td>\n",
              "      <td>6</td>\n",
              "      <td>NaN</td>\n",
              "      <td>NaN</td>\n",
              "      <td>5.0</td>\n",
              "      <td>5.0</td>\n",
              "      <td>1.0</td>\n",
              "      <td>NaN</td>\n",
              "      <td>NaN</td>\n",
              "      <td>NaN</td>\n",
              "      <td>1.0</td>\n",
              "      <td>NaN</td>\n",
              "      <td>2</td>\n",
              "      <td>NaN</td>\n",
              "      <td>NaN</td>\n",
              "      <td>NaN</td>\n",
              "      <td>NaN</td>\n",
              "      <td>NaN</td>\n",
              "      <td>NaN</td>\n",
              "    </tr>\n",
              "    <tr>\n",
              "      <th>3</th>\n",
              "      <td>5443993</td>\n",
              "      <td>4</td>\n",
              "      <td>1</td>\n",
              "      <td>1</td>\n",
              "      <td>1</td>\n",
              "      <td>12</td>\n",
              "      <td>21</td>\n",
              "      <td>6</td>\n",
              "      <td>NaN</td>\n",
              "      <td>NaN</td>\n",
              "      <td>NaN</td>\n",
              "      <td>NaN</td>\n",
              "      <td>NaN</td>\n",
              "      <td>NaN</td>\n",
              "      <td>1</td>\n",
              "      <td>6</td>\n",
              "      <td>NaN</td>\n",
              "      <td>NaN</td>\n",
              "      <td>5.0</td>\n",
              "      <td>5.0</td>\n",
              "      <td>1.0</td>\n",
              "      <td>NaN</td>\n",
              "      <td>NaN</td>\n",
              "      <td>NaN</td>\n",
              "      <td>NaN</td>\n",
              "      <td>NaN</td>\n",
              "      <td>NaN</td>\n",
              "      <td>1.0</td>\n",
              "      <td>450000</td>\n",
              "      <td>1.0</td>\n",
              "      <td>2.0</td>\n",
              "      <td>NaN</td>\n",
              "      <td>NaN</td>\n",
              "    </tr>\n",
              "    <tr>\n",
              "      <th>4</th>\n",
              "      <td>5443994</td>\n",
              "      <td>1</td>\n",
              "      <td>1</td>\n",
              "      <td>1</td>\n",
              "      <td>1</td>\n",
              "      <td>21</td>\n",
              "      <td>45</td>\n",
              "      <td>3</td>\n",
              "      <td>NaN</td>\n",
              "      <td>NaN</td>\n",
              "      <td>NaN</td>\n",
              "      <td>NaN</td>\n",
              "      <td>NaN</td>\n",
              "      <td>2</td>\n",
              "      <td>1</td>\n",
              "      <td>6</td>\n",
              "      <td>NaN</td>\n",
              "      <td>NaN</td>\n",
              "      <td>5.0</td>\n",
              "      <td>5.0</td>\n",
              "      <td>1.0</td>\n",
              "      <td>NaN</td>\n",
              "      <td>NaN</td>\n",
              "      <td>NaN</td>\n",
              "      <td>NaN</td>\n",
              "      <td>NaN</td>\n",
              "      <td>NaN</td>\n",
              "      <td>1.0</td>\n",
              "      <td>3000000</td>\n",
              "      <td>1.0</td>\n",
              "      <td>1.0</td>\n",
              "      <td>NaN</td>\n",
              "      <td>NaN</td>\n",
              "    </tr>\n",
              "    <tr>\n",
              "      <th>...</th>\n",
              "      <td>...</td>\n",
              "      <td>...</td>\n",
              "      <td>...</td>\n",
              "      <td>...</td>\n",
              "      <td>...</td>\n",
              "      <td>...</td>\n",
              "      <td>...</td>\n",
              "      <td>...</td>\n",
              "      <td>...</td>\n",
              "      <td>...</td>\n",
              "      <td>...</td>\n",
              "      <td>...</td>\n",
              "      <td>...</td>\n",
              "      <td>...</td>\n",
              "      <td>...</td>\n",
              "      <td>...</td>\n",
              "      <td>...</td>\n",
              "      <td>...</td>\n",
              "      <td>...</td>\n",
              "      <td>...</td>\n",
              "      <td>...</td>\n",
              "      <td>...</td>\n",
              "      <td>...</td>\n",
              "      <td>...</td>\n",
              "      <td>...</td>\n",
              "      <td>...</td>\n",
              "      <td>...</td>\n",
              "      <td>...</td>\n",
              "      <td>...</td>\n",
              "      <td>...</td>\n",
              "      <td>...</td>\n",
              "      <td>...</td>\n",
              "      <td>...</td>\n",
              "    </tr>\n",
              "    <tr>\n",
              "      <th>28357</th>\n",
              "      <td>5468832</td>\n",
              "      <td>8</td>\n",
              "      <td>1</td>\n",
              "      <td>1</td>\n",
              "      <td>1</td>\n",
              "      <td>0</td>\n",
              "      <td>4</td>\n",
              "      <td>NaN</td>\n",
              "      <td>NaN</td>\n",
              "      <td>NaN</td>\n",
              "      <td>NaN</td>\n",
              "      <td>NaN</td>\n",
              "      <td>NaN</td>\n",
              "      <td>NaN</td>\n",
              "      <td>1</td>\n",
              "      <td>2</td>\n",
              "      <td>NaN</td>\n",
              "      <td>NaN</td>\n",
              "      <td>NaN</td>\n",
              "      <td>NaN</td>\n",
              "      <td>NaN</td>\n",
              "      <td>NaN</td>\n",
              "      <td>NaN</td>\n",
              "      <td>NaN</td>\n",
              "      <td>NaN</td>\n",
              "      <td>NaN</td>\n",
              "      <td>NaN</td>\n",
              "      <td>NaN</td>\n",
              "      <td>NaN</td>\n",
              "      <td>NaN</td>\n",
              "      <td>NaN</td>\n",
              "      <td>NaN</td>\n",
              "      <td>NaN</td>\n",
              "    </tr>\n",
              "    <tr>\n",
              "      <th>28358</th>\n",
              "      <td>5468833</td>\n",
              "      <td>1</td>\n",
              "      <td>1</td>\n",
              "      <td>1</td>\n",
              "      <td>1</td>\n",
              "      <td>5</td>\n",
              "      <td>58</td>\n",
              "      <td>3</td>\n",
              "      <td>NaN</td>\n",
              "      <td>NaN</td>\n",
              "      <td>NaN</td>\n",
              "      <td>NaN</td>\n",
              "      <td>NaN</td>\n",
              "      <td>2</td>\n",
              "      <td>1</td>\n",
              "      <td>3</td>\n",
              "      <td>NaN</td>\n",
              "      <td>NaN</td>\n",
              "      <td>5.0</td>\n",
              "      <td>5.0</td>\n",
              "      <td>1.0</td>\n",
              "      <td>NaN</td>\n",
              "      <td>NaN</td>\n",
              "      <td>NaN</td>\n",
              "      <td>NaN</td>\n",
              "      <td>NaN</td>\n",
              "      <td>NaN</td>\n",
              "      <td>1.0</td>\n",
              "      <td>1800000</td>\n",
              "      <td>5.0</td>\n",
              "      <td>1.0</td>\n",
              "      <td>NaN</td>\n",
              "      <td>NaN</td>\n",
              "    </tr>\n",
              "    <tr>\n",
              "      <th>28359</th>\n",
              "      <td>5468833</td>\n",
              "      <td>2</td>\n",
              "      <td>1</td>\n",
              "      <td>1</td>\n",
              "      <td>2</td>\n",
              "      <td>5</td>\n",
              "      <td>53</td>\n",
              "      <td>3</td>\n",
              "      <td>NaN</td>\n",
              "      <td>NaN</td>\n",
              "      <td>NaN</td>\n",
              "      <td>NaN</td>\n",
              "      <td>NaN</td>\n",
              "      <td>NaN</td>\n",
              "      <td>1</td>\n",
              "      <td>3</td>\n",
              "      <td>NaN</td>\n",
              "      <td>NaN</td>\n",
              "      <td>5.0</td>\n",
              "      <td>5.0</td>\n",
              "      <td>1.0</td>\n",
              "      <td>NaN</td>\n",
              "      <td>NaN</td>\n",
              "      <td>2</td>\n",
              "      <td>1.0</td>\n",
              "      <td>4</td>\n",
              "      <td>1</td>\n",
              "      <td>NaN</td>\n",
              "      <td>NaN</td>\n",
              "      <td>NaN</td>\n",
              "      <td>NaN</td>\n",
              "      <td>NaN</td>\n",
              "      <td>NaN</td>\n",
              "    </tr>\n",
              "    <tr>\n",
              "      <th>28360</th>\n",
              "      <td>5468833</td>\n",
              "      <td>3</td>\n",
              "      <td>1</td>\n",
              "      <td>1</td>\n",
              "      <td>1</td>\n",
              "      <td>11</td>\n",
              "      <td>26</td>\n",
              "      <td>6</td>\n",
              "      <td>NaN</td>\n",
              "      <td>NaN</td>\n",
              "      <td>NaN</td>\n",
              "      <td>NaN</td>\n",
              "      <td>NaN</td>\n",
              "      <td>NaN</td>\n",
              "      <td>1</td>\n",
              "      <td>5</td>\n",
              "      <td>NaN</td>\n",
              "      <td>NaN</td>\n",
              "      <td>5.0</td>\n",
              "      <td>5.0</td>\n",
              "      <td>1.0</td>\n",
              "      <td>NaN</td>\n",
              "      <td>NaN</td>\n",
              "      <td>NaN</td>\n",
              "      <td>NaN</td>\n",
              "      <td>NaN</td>\n",
              "      <td>NaN</td>\n",
              "      <td>1.0</td>\n",
              "      <td>700000</td>\n",
              "      <td>1.0</td>\n",
              "      <td>1.0</td>\n",
              "      <td>2</td>\n",
              "      <td>1</td>\n",
              "    </tr>\n",
              "    <tr>\n",
              "      <th>28361</th>\n",
              "      <td>5468833</td>\n",
              "      <td>4</td>\n",
              "      <td>1</td>\n",
              "      <td>1</td>\n",
              "      <td>1</td>\n",
              "      <td>15</td>\n",
              "      <td>30</td>\n",
              "      <td>4</td>\n",
              "      <td>NaN</td>\n",
              "      <td>NaN</td>\n",
              "      <td>NaN</td>\n",
              "      <td>NaN</td>\n",
              "      <td>NaN</td>\n",
              "      <td>NaN</td>\n",
              "      <td>1</td>\n",
              "      <td>6</td>\n",
              "      <td>NaN</td>\n",
              "      <td>NaN</td>\n",
              "      <td>5.0</td>\n",
              "      <td>5.0</td>\n",
              "      <td>1.0</td>\n",
              "      <td>NaN</td>\n",
              "      <td>NaN</td>\n",
              "      <td>NaN</td>\n",
              "      <td>NaN</td>\n",
              "      <td>NaN</td>\n",
              "      <td>NaN</td>\n",
              "      <td>1.0</td>\n",
              "      <td>2300000</td>\n",
              "      <td>1.0</td>\n",
              "      <td>1.0</td>\n",
              "      <td>NaN</td>\n",
              "      <td>NaN</td>\n",
              "    </tr>\n",
              "  </tbody>\n",
              "</table>\n",
              "<p>28362 rows × 33 columns</p>\n",
              "</div>"
            ],
            "text/plain": [
              "       DIRECTORIO  ORDEN  SECUENCIA_P  HOGAR  ...  P6430 P514  P7140S6 P7140S2\n",
              "0         5443993      1            1      1  ...    4.0  1.0      NaN     NaN\n",
              "1         5443993      2            1      1  ...    4.0  2.0      NaN     NaN\n",
              "2         5443993      3            1      1  ...    NaN  NaN      NaN     NaN\n",
              "3         5443993      4            1      1  ...    1.0  2.0      NaN     NaN\n",
              "4         5443994      1            1      1  ...    1.0  1.0      NaN     NaN\n",
              "...           ...    ...          ...    ...  ...    ...  ...      ...     ...\n",
              "28357     5468832      8            1      1  ...    NaN  NaN      NaN     NaN\n",
              "28358     5468833      1            1      1  ...    5.0  1.0      NaN     NaN\n",
              "28359     5468833      2            1      1  ...    NaN  NaN      NaN     NaN\n",
              "28360     5468833      3            1      1  ...    1.0  1.0        2       1\n",
              "28361     5468833      4            1      1  ...    1.0  1.0      NaN     NaN\n",
              "\n",
              "[28362 rows x 33 columns]"
            ]
          },
          "metadata": {},
          "execution_count": 167
        }
      ]
    },
    {
      "cell_type": "markdown",
      "metadata": {
        "id": "UxgdnTu7gA9j"
      },
      "source": [
        "Junio"
      ]
    },
    {
      "cell_type": "code",
      "metadata": {
        "id": "w2uoEGksgA9k"
      },
      "source": [
        "UN1_5 = pd.merge(Ju1,Ju2,on=['DIRECTORIO','ORDEN','SECUENCIA_P','HOGAR'],how='outer')"
      ],
      "execution_count": 168,
      "outputs": []
    },
    {
      "cell_type": "code",
      "metadata": {
        "id": "ZLavFILEgA9k"
      },
      "source": [
        "UN2_5 = pd.merge(UN1_5,Ju3, on=['DIRECTORIO','ORDEN','SECUENCIA_P','HOGAR'],how='outer')"
      ],
      "execution_count": 169,
      "outputs": []
    },
    {
      "cell_type": "code",
      "metadata": {
        "id": "Gj5D-HovgA9l"
      },
      "source": [
        "UN3_5 = pd.merge(UN2_5,Ju4, on=['DIRECTORIO','ORDEN','SECUENCIA_P','HOGAR'],how='outer')"
      ],
      "execution_count": 170,
      "outputs": []
    },
    {
      "cell_type": "code",
      "metadata": {
        "id": "tUDkBbftgA9l",
        "colab": {
          "base_uri": "https://localhost:8080/",
          "height": 0
        },
        "outputId": "5cca4448-c072-456b-ba80-0cb7e97904bf"
      },
      "source": [
        "JUNIO = pd.merge(UN3_5,Ju5, on=['DIRECTORIO','ORDEN','SECUENCIA_P','HOGAR'],how='outer')\n",
        "JUNIO = JUNIO.replace(' ', np.NaN) # Reemplzamos los valores faltantes por NaN\n",
        "JUNIO = JUNIO.drop_duplicates() #Quitamos las filas duplicadas\n",
        "JUNIO"
      ],
      "execution_count": 171,
      "outputs": [
        {
          "output_type": "execute_result",
          "data": {
            "text/html": [
              "<div>\n",
              "<style scoped>\n",
              "    .dataframe tbody tr th:only-of-type {\n",
              "        vertical-align: middle;\n",
              "    }\n",
              "\n",
              "    .dataframe tbody tr th {\n",
              "        vertical-align: top;\n",
              "    }\n",
              "\n",
              "    .dataframe thead th {\n",
              "        text-align: right;\n",
              "    }\n",
              "</style>\n",
              "<table border=\"1\" class=\"dataframe\">\n",
              "  <thead>\n",
              "    <tr style=\"text-align: right;\">\n",
              "      <th></th>\n",
              "      <th>DIRECTORIO</th>\n",
              "      <th>ORDEN</th>\n",
              "      <th>SECUENCIA_P</th>\n",
              "      <th>HOGAR</th>\n",
              "      <th>P6020</th>\n",
              "      <th>ESC</th>\n",
              "      <th>P6040</th>\n",
              "      <th>P6070</th>\n",
              "      <th>P3147S1</th>\n",
              "      <th>P3147S2</th>\n",
              "      <th>P3147S3</th>\n",
              "      <th>P3147S6</th>\n",
              "      <th>P3147S7</th>\n",
              "      <th>P3246</th>\n",
              "      <th>P6090</th>\n",
              "      <th>P6210</th>\n",
              "      <th>P9460</th>\n",
              "      <th>DSI</th>\n",
              "      <th>DPTO</th>\n",
              "      <th>AREA</th>\n",
              "      <th>FT</th>\n",
              "      <th>P6320</th>\n",
              "      <th>P6340</th>\n",
              "      <th>P7470</th>\n",
              "      <th>INI</th>\n",
              "      <th>p7440</th>\n",
              "      <th>P6921</th>\n",
              "      <th>OCI</th>\n",
              "      <th>INGLABO</th>\n",
              "      <th>P6430</th>\n",
              "      <th>P514</th>\n",
              "      <th>P7140S6</th>\n",
              "      <th>P7140S2</th>\n",
              "    </tr>\n",
              "  </thead>\n",
              "  <tbody>\n",
              "    <tr>\n",
              "      <th>0</th>\n",
              "      <td>5468958</td>\n",
              "      <td>1</td>\n",
              "      <td>1</td>\n",
              "      <td>1</td>\n",
              "      <td>2</td>\n",
              "      <td>13</td>\n",
              "      <td>28</td>\n",
              "      <td>6</td>\n",
              "      <td>NaN</td>\n",
              "      <td>NaN</td>\n",
              "      <td>NaN</td>\n",
              "      <td>NaN</td>\n",
              "      <td>NaN</td>\n",
              "      <td>2</td>\n",
              "      <td>1</td>\n",
              "      <td>6</td>\n",
              "      <td>NaN</td>\n",
              "      <td>NaN</td>\n",
              "      <td>5.0</td>\n",
              "      <td>5.0</td>\n",
              "      <td>1.0</td>\n",
              "      <td>NaN</td>\n",
              "      <td>NaN</td>\n",
              "      <td>NaN</td>\n",
              "      <td>NaN</td>\n",
              "      <td>NaN</td>\n",
              "      <td>NaN</td>\n",
              "      <td>1.0</td>\n",
              "      <td>1600000</td>\n",
              "      <td>1.0</td>\n",
              "      <td>1.0</td>\n",
              "      <td>NaN</td>\n",
              "      <td>NaN</td>\n",
              "    </tr>\n",
              "    <tr>\n",
              "      <th>1</th>\n",
              "      <td>5468958</td>\n",
              "      <td>2</td>\n",
              "      <td>1</td>\n",
              "      <td>1</td>\n",
              "      <td>1</td>\n",
              "      <td>2</td>\n",
              "      <td>8</td>\n",
              "      <td>NaN</td>\n",
              "      <td>NaN</td>\n",
              "      <td>NaN</td>\n",
              "      <td>NaN</td>\n",
              "      <td>NaN</td>\n",
              "      <td>NaN</td>\n",
              "      <td>NaN</td>\n",
              "      <td>1</td>\n",
              "      <td>3</td>\n",
              "      <td>NaN</td>\n",
              "      <td>NaN</td>\n",
              "      <td>NaN</td>\n",
              "      <td>NaN</td>\n",
              "      <td>NaN</td>\n",
              "      <td>NaN</td>\n",
              "      <td>NaN</td>\n",
              "      <td>NaN</td>\n",
              "      <td>NaN</td>\n",
              "      <td>NaN</td>\n",
              "      <td>NaN</td>\n",
              "      <td>NaN</td>\n",
              "      <td>NaN</td>\n",
              "      <td>NaN</td>\n",
              "      <td>NaN</td>\n",
              "      <td>NaN</td>\n",
              "      <td>NaN</td>\n",
              "    </tr>\n",
              "    <tr>\n",
              "      <th>2</th>\n",
              "      <td>5468958</td>\n",
              "      <td>3</td>\n",
              "      <td>1</td>\n",
              "      <td>1</td>\n",
              "      <td>2</td>\n",
              "      <td>3</td>\n",
              "      <td>53</td>\n",
              "      <td>6</td>\n",
              "      <td>NaN</td>\n",
              "      <td>NaN</td>\n",
              "      <td>1</td>\n",
              "      <td>NaN</td>\n",
              "      <td>NaN</td>\n",
              "      <td>NaN</td>\n",
              "      <td>1</td>\n",
              "      <td>3</td>\n",
              "      <td>NaN</td>\n",
              "      <td>NaN</td>\n",
              "      <td>5.0</td>\n",
              "      <td>5.0</td>\n",
              "      <td>1.0</td>\n",
              "      <td>NaN</td>\n",
              "      <td>NaN</td>\n",
              "      <td>NaN</td>\n",
              "      <td>NaN</td>\n",
              "      <td>NaN</td>\n",
              "      <td>NaN</td>\n",
              "      <td>1.0</td>\n",
              "      <td>700000</td>\n",
              "      <td>4.0</td>\n",
              "      <td>1.0</td>\n",
              "      <td>NaN</td>\n",
              "      <td>NaN</td>\n",
              "    </tr>\n",
              "    <tr>\n",
              "      <th>3</th>\n",
              "      <td>5468958</td>\n",
              "      <td>4</td>\n",
              "      <td>1</td>\n",
              "      <td>1</td>\n",
              "      <td>1</td>\n",
              "      <td>8</td>\n",
              "      <td>14</td>\n",
              "      <td>6</td>\n",
              "      <td>NaN</td>\n",
              "      <td>NaN</td>\n",
              "      <td>NaN</td>\n",
              "      <td>NaN</td>\n",
              "      <td>NaN</td>\n",
              "      <td>NaN</td>\n",
              "      <td>1</td>\n",
              "      <td>4</td>\n",
              "      <td>NaN</td>\n",
              "      <td>NaN</td>\n",
              "      <td>5.0</td>\n",
              "      <td>5.0</td>\n",
              "      <td>1.0</td>\n",
              "      <td>NaN</td>\n",
              "      <td>NaN</td>\n",
              "      <td>NaN</td>\n",
              "      <td>1.0</td>\n",
              "      <td>NaN</td>\n",
              "      <td>NaN</td>\n",
              "      <td>NaN</td>\n",
              "      <td>NaN</td>\n",
              "      <td>NaN</td>\n",
              "      <td>NaN</td>\n",
              "      <td>NaN</td>\n",
              "      <td>NaN</td>\n",
              "    </tr>\n",
              "    <tr>\n",
              "      <th>4</th>\n",
              "      <td>5468958</td>\n",
              "      <td>5</td>\n",
              "      <td>1</td>\n",
              "      <td>1</td>\n",
              "      <td>1</td>\n",
              "      <td>8</td>\n",
              "      <td>14</td>\n",
              "      <td>6</td>\n",
              "      <td>NaN</td>\n",
              "      <td>NaN</td>\n",
              "      <td>NaN</td>\n",
              "      <td>NaN</td>\n",
              "      <td>NaN</td>\n",
              "      <td>NaN</td>\n",
              "      <td>1</td>\n",
              "      <td>4</td>\n",
              "      <td>NaN</td>\n",
              "      <td>NaN</td>\n",
              "      <td>5.0</td>\n",
              "      <td>5.0</td>\n",
              "      <td>1.0</td>\n",
              "      <td>NaN</td>\n",
              "      <td>NaN</td>\n",
              "      <td>NaN</td>\n",
              "      <td>1.0</td>\n",
              "      <td>NaN</td>\n",
              "      <td>NaN</td>\n",
              "      <td>NaN</td>\n",
              "      <td>NaN</td>\n",
              "      <td>NaN</td>\n",
              "      <td>NaN</td>\n",
              "      <td>NaN</td>\n",
              "      <td>NaN</td>\n",
              "    </tr>\n",
              "    <tr>\n",
              "      <th>...</th>\n",
              "      <td>...</td>\n",
              "      <td>...</td>\n",
              "      <td>...</td>\n",
              "      <td>...</td>\n",
              "      <td>...</td>\n",
              "      <td>...</td>\n",
              "      <td>...</td>\n",
              "      <td>...</td>\n",
              "      <td>...</td>\n",
              "      <td>...</td>\n",
              "      <td>...</td>\n",
              "      <td>...</td>\n",
              "      <td>...</td>\n",
              "      <td>...</td>\n",
              "      <td>...</td>\n",
              "      <td>...</td>\n",
              "      <td>...</td>\n",
              "      <td>...</td>\n",
              "      <td>...</td>\n",
              "      <td>...</td>\n",
              "      <td>...</td>\n",
              "      <td>...</td>\n",
              "      <td>...</td>\n",
              "      <td>...</td>\n",
              "      <td>...</td>\n",
              "      <td>...</td>\n",
              "      <td>...</td>\n",
              "      <td>...</td>\n",
              "      <td>...</td>\n",
              "      <td>...</td>\n",
              "      <td>...</td>\n",
              "      <td>...</td>\n",
              "      <td>...</td>\n",
              "    </tr>\n",
              "    <tr>\n",
              "      <th>27725</th>\n",
              "      <td>5494047</td>\n",
              "      <td>2</td>\n",
              "      <td>1</td>\n",
              "      <td>1</td>\n",
              "      <td>1</td>\n",
              "      <td>5</td>\n",
              "      <td>37</td>\n",
              "      <td>2</td>\n",
              "      <td>NaN</td>\n",
              "      <td>NaN</td>\n",
              "      <td>NaN</td>\n",
              "      <td>NaN</td>\n",
              "      <td>NaN</td>\n",
              "      <td>NaN</td>\n",
              "      <td>2</td>\n",
              "      <td>3</td>\n",
              "      <td>NaN</td>\n",
              "      <td>NaN</td>\n",
              "      <td>66.0</td>\n",
              "      <td>66.0</td>\n",
              "      <td>1.0</td>\n",
              "      <td>NaN</td>\n",
              "      <td>NaN</td>\n",
              "      <td>NaN</td>\n",
              "      <td>NaN</td>\n",
              "      <td>NaN</td>\n",
              "      <td>NaN</td>\n",
              "      <td>1.0</td>\n",
              "      <td>850000</td>\n",
              "      <td>1.0</td>\n",
              "      <td>1.0</td>\n",
              "      <td>NaN</td>\n",
              "      <td>NaN</td>\n",
              "    </tr>\n",
              "    <tr>\n",
              "      <th>27726</th>\n",
              "      <td>5494047</td>\n",
              "      <td>3</td>\n",
              "      <td>1</td>\n",
              "      <td>1</td>\n",
              "      <td>2</td>\n",
              "      <td>11</td>\n",
              "      <td>22</td>\n",
              "      <td>6</td>\n",
              "      <td>NaN</td>\n",
              "      <td>NaN</td>\n",
              "      <td>NaN</td>\n",
              "      <td>NaN</td>\n",
              "      <td>NaN</td>\n",
              "      <td>NaN</td>\n",
              "      <td>2</td>\n",
              "      <td>5</td>\n",
              "      <td>NaN</td>\n",
              "      <td>NaN</td>\n",
              "      <td>66.0</td>\n",
              "      <td>66.0</td>\n",
              "      <td>1.0</td>\n",
              "      <td>NaN</td>\n",
              "      <td>NaN</td>\n",
              "      <td>NaN</td>\n",
              "      <td>NaN</td>\n",
              "      <td>NaN</td>\n",
              "      <td>NaN</td>\n",
              "      <td>1.0</td>\n",
              "      <td>800000</td>\n",
              "      <td>4.0</td>\n",
              "      <td>1.0</td>\n",
              "      <td>NaN</td>\n",
              "      <td>NaN</td>\n",
              "    </tr>\n",
              "    <tr>\n",
              "      <th>27727</th>\n",
              "      <td>5494047</td>\n",
              "      <td>4</td>\n",
              "      <td>1</td>\n",
              "      <td>1</td>\n",
              "      <td>2</td>\n",
              "      <td>11</td>\n",
              "      <td>20</td>\n",
              "      <td>6</td>\n",
              "      <td>NaN</td>\n",
              "      <td>NaN</td>\n",
              "      <td>NaN</td>\n",
              "      <td>NaN</td>\n",
              "      <td>NaN</td>\n",
              "      <td>NaN</td>\n",
              "      <td>2</td>\n",
              "      <td>5</td>\n",
              "      <td>NaN</td>\n",
              "      <td>NaN</td>\n",
              "      <td>66.0</td>\n",
              "      <td>66.0</td>\n",
              "      <td>1.0</td>\n",
              "      <td>NaN</td>\n",
              "      <td>NaN</td>\n",
              "      <td>NaN</td>\n",
              "      <td>NaN</td>\n",
              "      <td>NaN</td>\n",
              "      <td>NaN</td>\n",
              "      <td>1.0</td>\n",
              "      <td>750000</td>\n",
              "      <td>4.0</td>\n",
              "      <td>1.0</td>\n",
              "      <td>NaN</td>\n",
              "      <td>NaN</td>\n",
              "    </tr>\n",
              "    <tr>\n",
              "      <th>27728</th>\n",
              "      <td>5494047</td>\n",
              "      <td>5</td>\n",
              "      <td>1</td>\n",
              "      <td>1</td>\n",
              "      <td>2</td>\n",
              "      <td>5</td>\n",
              "      <td>11</td>\n",
              "      <td>6</td>\n",
              "      <td>NaN</td>\n",
              "      <td>NaN</td>\n",
              "      <td>NaN</td>\n",
              "      <td>NaN</td>\n",
              "      <td>NaN</td>\n",
              "      <td>NaN</td>\n",
              "      <td>2</td>\n",
              "      <td>3</td>\n",
              "      <td>NaN</td>\n",
              "      <td>NaN</td>\n",
              "      <td>NaN</td>\n",
              "      <td>NaN</td>\n",
              "      <td>NaN</td>\n",
              "      <td>NaN</td>\n",
              "      <td>NaN</td>\n",
              "      <td>NaN</td>\n",
              "      <td>NaN</td>\n",
              "      <td>NaN</td>\n",
              "      <td>NaN</td>\n",
              "      <td>NaN</td>\n",
              "      <td>NaN</td>\n",
              "      <td>NaN</td>\n",
              "      <td>NaN</td>\n",
              "      <td>NaN</td>\n",
              "      <td>NaN</td>\n",
              "    </tr>\n",
              "    <tr>\n",
              "      <th>27729</th>\n",
              "      <td>5494047</td>\n",
              "      <td>6</td>\n",
              "      <td>1</td>\n",
              "      <td>1</td>\n",
              "      <td>1</td>\n",
              "      <td>5</td>\n",
              "      <td>33</td>\n",
              "      <td>6</td>\n",
              "      <td>NaN</td>\n",
              "      <td>NaN</td>\n",
              "      <td>NaN</td>\n",
              "      <td>NaN</td>\n",
              "      <td>NaN</td>\n",
              "      <td>NaN</td>\n",
              "      <td>2</td>\n",
              "      <td>3</td>\n",
              "      <td>NaN</td>\n",
              "      <td>NaN</td>\n",
              "      <td>66.0</td>\n",
              "      <td>66.0</td>\n",
              "      <td>1.0</td>\n",
              "      <td>NaN</td>\n",
              "      <td>NaN</td>\n",
              "      <td>NaN</td>\n",
              "      <td>NaN</td>\n",
              "      <td>NaN</td>\n",
              "      <td>NaN</td>\n",
              "      <td>1.0</td>\n",
              "      <td>850000</td>\n",
              "      <td>1.0</td>\n",
              "      <td>1.0</td>\n",
              "      <td>NaN</td>\n",
              "      <td>NaN</td>\n",
              "    </tr>\n",
              "  </tbody>\n",
              "</table>\n",
              "<p>27730 rows × 33 columns</p>\n",
              "</div>"
            ],
            "text/plain": [
              "       DIRECTORIO  ORDEN  SECUENCIA_P  HOGAR  ...  P6430 P514  P7140S6 P7140S2\n",
              "0         5468958      1            1      1  ...    1.0  1.0      NaN     NaN\n",
              "1         5468958      2            1      1  ...    NaN  NaN      NaN     NaN\n",
              "2         5468958      3            1      1  ...    4.0  1.0      NaN     NaN\n",
              "3         5468958      4            1      1  ...    NaN  NaN      NaN     NaN\n",
              "4         5468958      5            1      1  ...    NaN  NaN      NaN     NaN\n",
              "...           ...    ...          ...    ...  ...    ...  ...      ...     ...\n",
              "27725     5494047      2            1      1  ...    1.0  1.0      NaN     NaN\n",
              "27726     5494047      3            1      1  ...    4.0  1.0      NaN     NaN\n",
              "27727     5494047      4            1      1  ...    4.0  1.0      NaN     NaN\n",
              "27728     5494047      5            1      1  ...    NaN  NaN      NaN     NaN\n",
              "27729     5494047      6            1      1  ...    1.0  1.0      NaN     NaN\n",
              "\n",
              "[27730 rows x 33 columns]"
            ]
          },
          "metadata": {},
          "execution_count": 171
        }
      ]
    },
    {
      "cell_type": "code",
      "metadata": {
        "colab": {
          "base_uri": "https://localhost:8080/"
        },
        "id": "HIA7ukgrst81",
        "outputId": "c16dde99-fb6f-468c-bdb6-86f326725616"
      },
      "source": [
        "frames = [ENERO , FEBRERO, MARZO, ABRIL, MAYO, JUNIO]\n",
        "frames"
      ],
      "execution_count": 172,
      "outputs": [
        {
          "output_type": "execute_result",
          "data": {
            "text/plain": [
              "[       DIRECTORIO  ORDEN  SECUENCIA_P  HOGAR  ...  P6430 P514  P7140S6 P7140S2\n",
              " 0         5332772      1            1      1  ...    NaN  NaN      NaN     NaN\n",
              " 1         5332772      2            1      1  ...    1.0  1.0      NaN     NaN\n",
              " 2         5332772      3            1      1  ...    NaN  NaN      NaN     NaN\n",
              " 3         5332773      1            1      1  ...    4.0  2.0        2       1\n",
              " 4         5332773      2            1      1  ...    NaN  NaN      NaN     NaN\n",
              " ...           ...    ...          ...    ...  ...    ...  ...      ...     ...\n",
              " 28150     5367014      4            1      1  ...    NaN  NaN      NaN     NaN\n",
              " 28151     5367014      5            1      1  ...    NaN  NaN      NaN     NaN\n",
              " 28152     5367015      1            1      1  ...    NaN  NaN      NaN     NaN\n",
              " 28153     5367015      2            1      1  ...    4.0  2.0      NaN     NaN\n",
              " 28154     5367015      3            1      1  ...    NaN  NaN      NaN     NaN\n",
              " \n",
              " [28155 rows x 33 columns],\n",
              "        DIRECTORIO  ORDEN  SECUENCIA_P  HOGAR  ...  P6430 P514  P7140S6 P7140S2\n",
              " 0         5367062      1            1      1  ...    NaN  NaN      NaN     NaN\n",
              " 1         5367063      1            1      1  ...    NaN  NaN      NaN     NaN\n",
              " 2         5367063      2            1      1  ...    NaN  NaN      NaN     NaN\n",
              " 3         5367063      3            1      1  ...    NaN  NaN      NaN     NaN\n",
              " 4         5367063      4            1      1  ...    NaN  NaN      NaN     NaN\n",
              " ...           ...    ...          ...    ...  ...    ...  ...      ...     ...\n",
              " 28957     5392562      2            1      1  ...    NaN  NaN      NaN     NaN\n",
              " 28958     5392562      3            1      1  ...    NaN  NaN      NaN     NaN\n",
              " 28959     5392562      4            1      1  ...    4.0  2.0        2       1\n",
              " 28960     5392562      5            1      1  ...    NaN  NaN      NaN     NaN\n",
              " 28961     5392562      6            1      1  ...    NaN  NaN      NaN     NaN\n",
              " \n",
              " [28962 rows x 33 columns],\n",
              "        DIRECTORIO  ORDEN  SECUENCIA_P  HOGAR  ...  P6430 P514  P7140S6 P7140S2\n",
              " 0         5392695      1            1      1  ...    4.0  2.0      NaN     NaN\n",
              " 1         5392695      2            1      1  ...    NaN  NaN      NaN     NaN\n",
              " 2         5392696      1            1      1  ...    5.0  1.0      NaN     NaN\n",
              " 3         5392696      2            1      1  ...    NaN  NaN      NaN     NaN\n",
              " 4         5392696      3            1      1  ...    1.0  1.0      NaN     NaN\n",
              " ...           ...    ...          ...    ...  ...    ...  ...      ...     ...\n",
              " 28251     5418236      1            1      1  ...    NaN  NaN      NaN     NaN\n",
              " 28252     5418236      2            1      1  ...    1.0  1.0      NaN     NaN\n",
              " 28253     5418236      3            1      1  ...    1.0  1.0      NaN     NaN\n",
              " 28254     5418237      1            1      1  ...    NaN  NaN      NaN     NaN\n",
              " 28255     5418237      2            1      1  ...    NaN  NaN      NaN     NaN\n",
              " \n",
              " [28256 rows x 33 columns],\n",
              "        DIRECTORIO  ORDEN  SECUENCIA_P  HOGAR  ...  P6430 P514  P7140S6 P7140S2\n",
              " 0         5418283      1            1      1  ...    NaN  NaN      NaN     NaN\n",
              " 1         5418283      2            1      1  ...    5.0  1.0      NaN     NaN\n",
              " 2         5418284      1            1      1  ...    4.0  2.0        1       1\n",
              " 3         5418284      2            1      1  ...    1.0  1.0      NaN     NaN\n",
              " 4         5418284      3            1      1  ...    NaN  NaN      NaN     NaN\n",
              " ...           ...    ...          ...    ...  ...    ...  ...      ...     ...\n",
              " 28506     5443717      4            1      1  ...    NaN  NaN      NaN     NaN\n",
              " 28507     5443718      1            1      1  ...    4.0  2.0        2       1\n",
              " 28508     5443718      2            1      1  ...    NaN  NaN      NaN     NaN\n",
              " 28509     5443718      3            1      1  ...    4.0  1.0      NaN     NaN\n",
              " 28510     5443718      4            1      1  ...    1.0  1.0      NaN     NaN\n",
              " \n",
              " [28511 rows x 33 columns],\n",
              "        DIRECTORIO  ORDEN  SECUENCIA_P  HOGAR  ...  P6430 P514  P7140S6 P7140S2\n",
              " 0         5443993      1            1      1  ...    4.0  1.0      NaN     NaN\n",
              " 1         5443993      2            1      1  ...    4.0  2.0      NaN     NaN\n",
              " 2         5443993      3            1      1  ...    NaN  NaN      NaN     NaN\n",
              " 3         5443993      4            1      1  ...    1.0  2.0      NaN     NaN\n",
              " 4         5443994      1            1      1  ...    1.0  1.0      NaN     NaN\n",
              " ...           ...    ...          ...    ...  ...    ...  ...      ...     ...\n",
              " 28357     5468832      8            1      1  ...    NaN  NaN      NaN     NaN\n",
              " 28358     5468833      1            1      1  ...    5.0  1.0      NaN     NaN\n",
              " 28359     5468833      2            1      1  ...    NaN  NaN      NaN     NaN\n",
              " 28360     5468833      3            1      1  ...    1.0  1.0        2       1\n",
              " 28361     5468833      4            1      1  ...    1.0  1.0      NaN     NaN\n",
              " \n",
              " [28362 rows x 33 columns],\n",
              "        DIRECTORIO  ORDEN  SECUENCIA_P  HOGAR  ...  P6430 P514  P7140S6 P7140S2\n",
              " 0         5468958      1            1      1  ...    1.0  1.0      NaN     NaN\n",
              " 1         5468958      2            1      1  ...    NaN  NaN      NaN     NaN\n",
              " 2         5468958      3            1      1  ...    4.0  1.0      NaN     NaN\n",
              " 3         5468958      4            1      1  ...    NaN  NaN      NaN     NaN\n",
              " 4         5468958      5            1      1  ...    NaN  NaN      NaN     NaN\n",
              " ...           ...    ...          ...    ...  ...    ...  ...      ...     ...\n",
              " 27725     5494047      2            1      1  ...    1.0  1.0      NaN     NaN\n",
              " 27726     5494047      3            1      1  ...    4.0  1.0      NaN     NaN\n",
              " 27727     5494047      4            1      1  ...    4.0  1.0      NaN     NaN\n",
              " 27728     5494047      5            1      1  ...    NaN  NaN      NaN     NaN\n",
              " 27729     5494047      6            1      1  ...    1.0  1.0      NaN     NaN\n",
              " \n",
              " [27730 rows x 33 columns]]"
            ]
          },
          "metadata": {},
          "execution_count": 172
        }
      ]
    },
    {
      "cell_type": "code",
      "metadata": {
        "id": "7J4nr2aqDmq5",
        "colab": {
          "base_uri": "https://localhost:8080/",
          "height": 0
        },
        "outputId": "d99d0859-53ed-4373-fc1c-4606c45c4d33"
      },
      "source": [
        "frames = [ENERO , FEBRERO, MARZO, ABRIL, MAYO, JUNIO]\n",
        "GLB = pd.concat(frames, keys=['ENERO','FEBRERO','MARZO','ABRIL','MAYO','JUNIO'])\n",
        "GLB"
      ],
      "execution_count": 173,
      "outputs": [
        {
          "output_type": "execute_result",
          "data": {
            "text/html": [
              "<div>\n",
              "<style scoped>\n",
              "    .dataframe tbody tr th:only-of-type {\n",
              "        vertical-align: middle;\n",
              "    }\n",
              "\n",
              "    .dataframe tbody tr th {\n",
              "        vertical-align: top;\n",
              "    }\n",
              "\n",
              "    .dataframe thead th {\n",
              "        text-align: right;\n",
              "    }\n",
              "</style>\n",
              "<table border=\"1\" class=\"dataframe\">\n",
              "  <thead>\n",
              "    <tr style=\"text-align: right;\">\n",
              "      <th></th>\n",
              "      <th></th>\n",
              "      <th>DIRECTORIO</th>\n",
              "      <th>ORDEN</th>\n",
              "      <th>SECUENCIA_P</th>\n",
              "      <th>HOGAR</th>\n",
              "      <th>P6020</th>\n",
              "      <th>ESC</th>\n",
              "      <th>P6040</th>\n",
              "      <th>P6070</th>\n",
              "      <th>P3147S1</th>\n",
              "      <th>P3147S2</th>\n",
              "      <th>P3147S3</th>\n",
              "      <th>P3147S6</th>\n",
              "      <th>P3147S7</th>\n",
              "      <th>P3246</th>\n",
              "      <th>P6090</th>\n",
              "      <th>P6210</th>\n",
              "      <th>P9460</th>\n",
              "      <th>DSI</th>\n",
              "      <th>DPTO</th>\n",
              "      <th>AREA</th>\n",
              "      <th>FT</th>\n",
              "      <th>P6320</th>\n",
              "      <th>P6340</th>\n",
              "      <th>P7470</th>\n",
              "      <th>INI</th>\n",
              "      <th>p7440</th>\n",
              "      <th>P6921</th>\n",
              "      <th>OCI</th>\n",
              "      <th>INGLABO</th>\n",
              "      <th>P6430</th>\n",
              "      <th>P514</th>\n",
              "      <th>P7140S6</th>\n",
              "      <th>P7140S2</th>\n",
              "    </tr>\n",
              "  </thead>\n",
              "  <tbody>\n",
              "    <tr>\n",
              "      <th rowspan=\"5\" valign=\"top\">ENERO</th>\n",
              "      <th>0</th>\n",
              "      <td>5332772</td>\n",
              "      <td>1</td>\n",
              "      <td>1</td>\n",
              "      <td>1</td>\n",
              "      <td>2</td>\n",
              "      <td>3</td>\n",
              "      <td>56</td>\n",
              "      <td>2</td>\n",
              "      <td>NaN</td>\n",
              "      <td>NaN</td>\n",
              "      <td>NaN</td>\n",
              "      <td>NaN</td>\n",
              "      <td>1</td>\n",
              "      <td>2</td>\n",
              "      <td>1</td>\n",
              "      <td>3</td>\n",
              "      <td>NaN</td>\n",
              "      <td>NaN</td>\n",
              "      <td>68.0</td>\n",
              "      <td>68.0</td>\n",
              "      <td>1.0</td>\n",
              "      <td>NaN</td>\n",
              "      <td>NaN</td>\n",
              "      <td>NaN</td>\n",
              "      <td>1.0</td>\n",
              "      <td>1,4</td>\n",
              "      <td>2</td>\n",
              "      <td>NaN</td>\n",
              "      <td>NaN</td>\n",
              "      <td>NaN</td>\n",
              "      <td>NaN</td>\n",
              "      <td>NaN</td>\n",
              "      <td>NaN</td>\n",
              "    </tr>\n",
              "    <tr>\n",
              "      <th>1</th>\n",
              "      <td>5332772</td>\n",
              "      <td>2</td>\n",
              "      <td>1</td>\n",
              "      <td>1</td>\n",
              "      <td>1</td>\n",
              "      <td>11</td>\n",
              "      <td>53</td>\n",
              "      <td>2</td>\n",
              "      <td>NaN</td>\n",
              "      <td>NaN</td>\n",
              "      <td>NaN</td>\n",
              "      <td>NaN</td>\n",
              "      <td>NaN</td>\n",
              "      <td>NaN</td>\n",
              "      <td>1</td>\n",
              "      <td>5</td>\n",
              "      <td>NaN</td>\n",
              "      <td>NaN</td>\n",
              "      <td>68.0</td>\n",
              "      <td>68.0</td>\n",
              "      <td>1.0</td>\n",
              "      <td>NaN</td>\n",
              "      <td>NaN</td>\n",
              "      <td>NaN</td>\n",
              "      <td>NaN</td>\n",
              "      <td>NaN</td>\n",
              "      <td>NaN</td>\n",
              "      <td>1.0</td>\n",
              "      <td>877803</td>\n",
              "      <td>1.0</td>\n",
              "      <td>1.0</td>\n",
              "      <td>NaN</td>\n",
              "      <td>NaN</td>\n",
              "    </tr>\n",
              "    <tr>\n",
              "      <th>2</th>\n",
              "      <td>5332772</td>\n",
              "      <td>3</td>\n",
              "      <td>1</td>\n",
              "      <td>1</td>\n",
              "      <td>2</td>\n",
              "      <td>11</td>\n",
              "      <td>18</td>\n",
              "      <td>6</td>\n",
              "      <td>NaN</td>\n",
              "      <td>NaN</td>\n",
              "      <td>NaN</td>\n",
              "      <td>NaN</td>\n",
              "      <td>NaN</td>\n",
              "      <td>NaN</td>\n",
              "      <td>1</td>\n",
              "      <td>6</td>\n",
              "      <td>NaN</td>\n",
              "      <td>NaN</td>\n",
              "      <td>68.0</td>\n",
              "      <td>68.0</td>\n",
              "      <td>1.0</td>\n",
              "      <td>NaN</td>\n",
              "      <td>NaN</td>\n",
              "      <td>NaN</td>\n",
              "      <td>1.0</td>\n",
              "      <td>NaN</td>\n",
              "      <td>2</td>\n",
              "      <td>NaN</td>\n",
              "      <td>NaN</td>\n",
              "      <td>NaN</td>\n",
              "      <td>NaN</td>\n",
              "      <td>NaN</td>\n",
              "      <td>NaN</td>\n",
              "    </tr>\n",
              "    <tr>\n",
              "      <th>3</th>\n",
              "      <td>5332773</td>\n",
              "      <td>1</td>\n",
              "      <td>1</td>\n",
              "      <td>1</td>\n",
              "      <td>1</td>\n",
              "      <td>10</td>\n",
              "      <td>20</td>\n",
              "      <td>1</td>\n",
              "      <td>NaN</td>\n",
              "      <td>NaN</td>\n",
              "      <td>NaN</td>\n",
              "      <td>NaN</td>\n",
              "      <td>1</td>\n",
              "      <td>1</td>\n",
              "      <td>2</td>\n",
              "      <td>5</td>\n",
              "      <td>NaN</td>\n",
              "      <td>NaN</td>\n",
              "      <td>68.0</td>\n",
              "      <td>68.0</td>\n",
              "      <td>1.0</td>\n",
              "      <td>NaN</td>\n",
              "      <td>NaN</td>\n",
              "      <td>NaN</td>\n",
              "      <td>NaN</td>\n",
              "      <td>NaN</td>\n",
              "      <td>NaN</td>\n",
              "      <td>1.0</td>\n",
              "      <td>800000</td>\n",
              "      <td>4.0</td>\n",
              "      <td>2.0</td>\n",
              "      <td>2</td>\n",
              "      <td>1</td>\n",
              "    </tr>\n",
              "    <tr>\n",
              "      <th>4</th>\n",
              "      <td>5332773</td>\n",
              "      <td>2</td>\n",
              "      <td>1</td>\n",
              "      <td>1</td>\n",
              "      <td>2</td>\n",
              "      <td>11</td>\n",
              "      <td>17</td>\n",
              "      <td>1</td>\n",
              "      <td>NaN</td>\n",
              "      <td>NaN</td>\n",
              "      <td>NaN</td>\n",
              "      <td>NaN</td>\n",
              "      <td>NaN</td>\n",
              "      <td>NaN</td>\n",
              "      <td>1</td>\n",
              "      <td>5</td>\n",
              "      <td>2</td>\n",
              "      <td>1.0</td>\n",
              "      <td>68.0</td>\n",
              "      <td>68.0</td>\n",
              "      <td>1.0</td>\n",
              "      <td>NaN</td>\n",
              "      <td>NaN</td>\n",
              "      <td>NaN</td>\n",
              "      <td>NaN</td>\n",
              "      <td>NaN</td>\n",
              "      <td>NaN</td>\n",
              "      <td>NaN</td>\n",
              "      <td>NaN</td>\n",
              "      <td>NaN</td>\n",
              "      <td>NaN</td>\n",
              "      <td>NaN</td>\n",
              "      <td>NaN</td>\n",
              "    </tr>\n",
              "    <tr>\n",
              "      <th>...</th>\n",
              "      <th>...</th>\n",
              "      <td>...</td>\n",
              "      <td>...</td>\n",
              "      <td>...</td>\n",
              "      <td>...</td>\n",
              "      <td>...</td>\n",
              "      <td>...</td>\n",
              "      <td>...</td>\n",
              "      <td>...</td>\n",
              "      <td>...</td>\n",
              "      <td>...</td>\n",
              "      <td>...</td>\n",
              "      <td>...</td>\n",
              "      <td>...</td>\n",
              "      <td>...</td>\n",
              "      <td>...</td>\n",
              "      <td>...</td>\n",
              "      <td>...</td>\n",
              "      <td>...</td>\n",
              "      <td>...</td>\n",
              "      <td>...</td>\n",
              "      <td>...</td>\n",
              "      <td>...</td>\n",
              "      <td>...</td>\n",
              "      <td>...</td>\n",
              "      <td>...</td>\n",
              "      <td>...</td>\n",
              "      <td>...</td>\n",
              "      <td>...</td>\n",
              "      <td>...</td>\n",
              "      <td>...</td>\n",
              "      <td>...</td>\n",
              "      <td>...</td>\n",
              "      <td>...</td>\n",
              "    </tr>\n",
              "    <tr>\n",
              "      <th rowspan=\"5\" valign=\"top\">JUNIO</th>\n",
              "      <th>27725</th>\n",
              "      <td>5494047</td>\n",
              "      <td>2</td>\n",
              "      <td>1</td>\n",
              "      <td>1</td>\n",
              "      <td>1</td>\n",
              "      <td>5</td>\n",
              "      <td>37</td>\n",
              "      <td>2</td>\n",
              "      <td>NaN</td>\n",
              "      <td>NaN</td>\n",
              "      <td>NaN</td>\n",
              "      <td>NaN</td>\n",
              "      <td>NaN</td>\n",
              "      <td>NaN</td>\n",
              "      <td>2</td>\n",
              "      <td>3</td>\n",
              "      <td>NaN</td>\n",
              "      <td>NaN</td>\n",
              "      <td>66.0</td>\n",
              "      <td>66.0</td>\n",
              "      <td>1.0</td>\n",
              "      <td>NaN</td>\n",
              "      <td>NaN</td>\n",
              "      <td>NaN</td>\n",
              "      <td>NaN</td>\n",
              "      <td>NaN</td>\n",
              "      <td>NaN</td>\n",
              "      <td>1.0</td>\n",
              "      <td>850000</td>\n",
              "      <td>1.0</td>\n",
              "      <td>1.0</td>\n",
              "      <td>NaN</td>\n",
              "      <td>NaN</td>\n",
              "    </tr>\n",
              "    <tr>\n",
              "      <th>27726</th>\n",
              "      <td>5494047</td>\n",
              "      <td>3</td>\n",
              "      <td>1</td>\n",
              "      <td>1</td>\n",
              "      <td>2</td>\n",
              "      <td>11</td>\n",
              "      <td>22</td>\n",
              "      <td>6</td>\n",
              "      <td>NaN</td>\n",
              "      <td>NaN</td>\n",
              "      <td>NaN</td>\n",
              "      <td>NaN</td>\n",
              "      <td>NaN</td>\n",
              "      <td>NaN</td>\n",
              "      <td>2</td>\n",
              "      <td>5</td>\n",
              "      <td>NaN</td>\n",
              "      <td>NaN</td>\n",
              "      <td>66.0</td>\n",
              "      <td>66.0</td>\n",
              "      <td>1.0</td>\n",
              "      <td>NaN</td>\n",
              "      <td>NaN</td>\n",
              "      <td>NaN</td>\n",
              "      <td>NaN</td>\n",
              "      <td>NaN</td>\n",
              "      <td>NaN</td>\n",
              "      <td>1.0</td>\n",
              "      <td>800000</td>\n",
              "      <td>4.0</td>\n",
              "      <td>1.0</td>\n",
              "      <td>NaN</td>\n",
              "      <td>NaN</td>\n",
              "    </tr>\n",
              "    <tr>\n",
              "      <th>27727</th>\n",
              "      <td>5494047</td>\n",
              "      <td>4</td>\n",
              "      <td>1</td>\n",
              "      <td>1</td>\n",
              "      <td>2</td>\n",
              "      <td>11</td>\n",
              "      <td>20</td>\n",
              "      <td>6</td>\n",
              "      <td>NaN</td>\n",
              "      <td>NaN</td>\n",
              "      <td>NaN</td>\n",
              "      <td>NaN</td>\n",
              "      <td>NaN</td>\n",
              "      <td>NaN</td>\n",
              "      <td>2</td>\n",
              "      <td>5</td>\n",
              "      <td>NaN</td>\n",
              "      <td>NaN</td>\n",
              "      <td>66.0</td>\n",
              "      <td>66.0</td>\n",
              "      <td>1.0</td>\n",
              "      <td>NaN</td>\n",
              "      <td>NaN</td>\n",
              "      <td>NaN</td>\n",
              "      <td>NaN</td>\n",
              "      <td>NaN</td>\n",
              "      <td>NaN</td>\n",
              "      <td>1.0</td>\n",
              "      <td>750000</td>\n",
              "      <td>4.0</td>\n",
              "      <td>1.0</td>\n",
              "      <td>NaN</td>\n",
              "      <td>NaN</td>\n",
              "    </tr>\n",
              "    <tr>\n",
              "      <th>27728</th>\n",
              "      <td>5494047</td>\n",
              "      <td>5</td>\n",
              "      <td>1</td>\n",
              "      <td>1</td>\n",
              "      <td>2</td>\n",
              "      <td>5</td>\n",
              "      <td>11</td>\n",
              "      <td>6</td>\n",
              "      <td>NaN</td>\n",
              "      <td>NaN</td>\n",
              "      <td>NaN</td>\n",
              "      <td>NaN</td>\n",
              "      <td>NaN</td>\n",
              "      <td>NaN</td>\n",
              "      <td>2</td>\n",
              "      <td>3</td>\n",
              "      <td>NaN</td>\n",
              "      <td>NaN</td>\n",
              "      <td>NaN</td>\n",
              "      <td>NaN</td>\n",
              "      <td>NaN</td>\n",
              "      <td>NaN</td>\n",
              "      <td>NaN</td>\n",
              "      <td>NaN</td>\n",
              "      <td>NaN</td>\n",
              "      <td>NaN</td>\n",
              "      <td>NaN</td>\n",
              "      <td>NaN</td>\n",
              "      <td>NaN</td>\n",
              "      <td>NaN</td>\n",
              "      <td>NaN</td>\n",
              "      <td>NaN</td>\n",
              "      <td>NaN</td>\n",
              "    </tr>\n",
              "    <tr>\n",
              "      <th>27729</th>\n",
              "      <td>5494047</td>\n",
              "      <td>6</td>\n",
              "      <td>1</td>\n",
              "      <td>1</td>\n",
              "      <td>1</td>\n",
              "      <td>5</td>\n",
              "      <td>33</td>\n",
              "      <td>6</td>\n",
              "      <td>NaN</td>\n",
              "      <td>NaN</td>\n",
              "      <td>NaN</td>\n",
              "      <td>NaN</td>\n",
              "      <td>NaN</td>\n",
              "      <td>NaN</td>\n",
              "      <td>2</td>\n",
              "      <td>3</td>\n",
              "      <td>NaN</td>\n",
              "      <td>NaN</td>\n",
              "      <td>66.0</td>\n",
              "      <td>66.0</td>\n",
              "      <td>1.0</td>\n",
              "      <td>NaN</td>\n",
              "      <td>NaN</td>\n",
              "      <td>NaN</td>\n",
              "      <td>NaN</td>\n",
              "      <td>NaN</td>\n",
              "      <td>NaN</td>\n",
              "      <td>1.0</td>\n",
              "      <td>850000</td>\n",
              "      <td>1.0</td>\n",
              "      <td>1.0</td>\n",
              "      <td>NaN</td>\n",
              "      <td>NaN</td>\n",
              "    </tr>\n",
              "  </tbody>\n",
              "</table>\n",
              "<p>169976 rows × 33 columns</p>\n",
              "</div>"
            ],
            "text/plain": [
              "             DIRECTORIO  ORDEN  SECUENCIA_P  HOGAR  ...  P6430 P514  P7140S6 P7140S2\n",
              "ENERO 0         5332772      1            1      1  ...    NaN  NaN      NaN     NaN\n",
              "      1         5332772      2            1      1  ...    1.0  1.0      NaN     NaN\n",
              "      2         5332772      3            1      1  ...    NaN  NaN      NaN     NaN\n",
              "      3         5332773      1            1      1  ...    4.0  2.0        2       1\n",
              "      4         5332773      2            1      1  ...    NaN  NaN      NaN     NaN\n",
              "...                 ...    ...          ...    ...  ...    ...  ...      ...     ...\n",
              "JUNIO 27725     5494047      2            1      1  ...    1.0  1.0      NaN     NaN\n",
              "      27726     5494047      3            1      1  ...    4.0  1.0      NaN     NaN\n",
              "      27727     5494047      4            1      1  ...    4.0  1.0      NaN     NaN\n",
              "      27728     5494047      5            1      1  ...    NaN  NaN      NaN     NaN\n",
              "      27729     5494047      6            1      1  ...    1.0  1.0      NaN     NaN\n",
              "\n",
              "[169976 rows x 33 columns]"
            ]
          },
          "metadata": {},
          "execution_count": 173
        }
      ]
    },
    {
      "cell_type": "markdown",
      "metadata": {
        "id": "jzN8CAvFvUAT"
      },
      "source": [
        "#Descripcion estadistica "
      ]
    },
    {
      "cell_type": "code",
      "metadata": {
        "colab": {
          "base_uri": "https://localhost:8080/",
          "height": 319
        },
        "id": "14tSadrvvbA2",
        "outputId": "5aeec98d-b395-44c1-a264-16ee7fabe8a5"
      },
      "source": [
        "x = ENERO[['P6020']]==1\n",
        "z1= x.sum()/len(ENERO[['P6020']])\n",
        "y= ENERO[['P6020']]==2\n",
        "z2= y.sum()/len(ENERO[['P6020']])\n",
        "plt.figure(figsize=(4,4))\n",
        "labels = [\"Hombres\",\"Mujeres\"]\n",
        "z=[z1,z2]\n",
        "plt.pie(z, labels=labels, autopct='%1.1f%%')\n",
        "plt.title('Porcentaje de hombres y mujeres en la encuenta Gran Encuesta Integrada de hogares para el mes de enero del 2021')\n",
        "plt.show()"
      ],
      "execution_count": 174,
      "outputs": [
        {
          "output_type": "stream",
          "name": "stderr",
          "text": [
            "/usr/local/lib/python3.7/dist-packages/ipykernel_launcher.py:8: MatplotlibDeprecationWarning: Non-1D inputs to pie() are currently squeeze()d, but this behavior is deprecated since 3.1 and will be removed in 3.3; pass a 1D array instead.\n",
            "  \n"
          ]
        },
        {
          "output_type": "display_data",
          "data": {
            "image/png": "[encoded data removed]",
            "text/plain": [
              "<Figure size 288x288 with 1 Axes>"
            ]
          },
          "metadata": {}
        }
      ]
    },
    {
      "cell_type": "code",
      "metadata": {
        "id": "cZgXTI-00X69",
        "colab": {
          "base_uri": "https://localhost:8080/",
          "height": 319
        },
        "outputId": "f5b9eba6-3ce8-4f08-8c5a-f2bebaf701ff"
      },
      "source": [
        "x = FEBRERO[['P6020']]==1\n",
        "z1= x.sum()/len(ENERO[['P6020']])\n",
        "y= FEBRERO[['P6020']]==2\n",
        "z2= y.sum()/len(ENERO[['P6020']])\n",
        "plt.figure(figsize=(4,4))\n",
        "labels = [\"Hombres\",\"Mujeres\"]\n",
        "z=[z1,z2]\n",
        "plt.pie(z, labels=labels, autopct='%1.1f%%')\n",
        "plt.title('Porcentaje de hombres y mujeres en la encuenta Gran Encuesta Integrada de hogares para el mes de febrero del 2021')\n",
        "plt.show()\n"
      ],
      "execution_count": 175,
      "outputs": [
        {
          "output_type": "stream",
          "name": "stderr",
          "text": [
            "/usr/local/lib/python3.7/dist-packages/ipykernel_launcher.py:8: MatplotlibDeprecationWarning: Non-1D inputs to pie() are currently squeeze()d, but this behavior is deprecated since 3.1 and will be removed in 3.3; pass a 1D array instead.\n",
            "  \n"
          ]
        },
        {
          "output_type": "display_data",
          "data": {
            "image/png": "[encoded data removed]",
            "text/plain": [
              "<Figure size 288x288 with 1 Axes>"
            ]
          },
          "metadata": {}
        }
      ]
    },
    {
      "cell_type": "code",
      "metadata": {
        "colab": {
          "base_uri": "https://localhost:8080/",
          "height": 319
        },
        "id": "sUOxT-iNjOda",
        "outputId": "430608fa-2310-4999-f918-50926aa25ab6"
      },
      "source": [
        "x = MARZO[['P6020']]==1\n",
        "z1= x.sum()/len(ENERO[['P6020']])\n",
        "y= MARZO[['P6020']]==2\n",
        "z2= y.sum()/len(MARZO[['P6020']])\n",
        "plt.figure(figsize=(4,4))\n",
        "labels = [\"Hombres\",\"Mujeres\"]\n",
        "z=[z1,z2]\n",
        "plt.pie(z, labels=labels, autopct='%1.1f%%')\n",
        "plt.title('Porcentaje de hombres y mujeres en la encuenta Gran Encuesta Integrada de hogares para el mes de marzo del 2021')\n",
        "plt.show()"
      ],
      "execution_count": 176,
      "outputs": [
        {
          "output_type": "stream",
          "name": "stderr",
          "text": [
            "/usr/local/lib/python3.7/dist-packages/ipykernel_launcher.py:8: MatplotlibDeprecationWarning: Non-1D inputs to pie() are currently squeeze()d, but this behavior is deprecated since 3.1 and will be removed in 3.3; pass a 1D array instead.\n",
            "  \n"
          ]
        },
        {
          "output_type": "display_data",
          "data": {
            "image/png": "[encoded data removed]",
            "text/plain": [
              "<Figure size 288x288 with 1 Axes>"
            ]
          },
          "metadata": {}
        }
      ]
    },
    {
      "cell_type": "code",
      "metadata": {
        "colab": {
          "base_uri": "https://localhost:8080/",
          "height": 319
        },
        "id": "YVQOJ4TNjVyq",
        "outputId": "0375de5d-b5a2-4e3d-9c0c-770427be29e8"
      },
      "source": [
        "x = MARZO[['P6020']]==1\n",
        "z1= x.sum()/len(MARZO[['P6020']])\n",
        "y= MARZO[['P6020']]==2\n",
        "z2= y.sum()/len(MARZO[['P6020']])\n",
        "plt.figure(figsize=(4,4))\n",
        "labels = [\"Hombres\",\"Mujeres\"]\n",
        "z=[z1,z2]\n",
        "plt.pie(z, labels=labels, autopct='%1.1f%%')\n",
        "plt.title('Porcentaje de hombres y mujeres en la encuenta Gran Encuesta Integrada de hogares para el mes de abril del 2021')\n",
        "plt.show()"
      ],
      "execution_count": 178,
      "outputs": [
        {
          "output_type": "stream",
          "name": "stderr",
          "text": [
            "/usr/local/lib/python3.7/dist-packages/ipykernel_launcher.py:8: MatplotlibDeprecationWarning: Non-1D inputs to pie() are currently squeeze()d, but this behavior is deprecated since 3.1 and will be removed in 3.3; pass a 1D array instead.\n",
            "  \n"
          ]
        },
        {
          "output_type": "display_data",
          "data": {
            "image/png": "[encoded data removed]",
            "text/plain": [
              "<Figure size 288x288 with 1 Axes>"
            ]
          },
          "metadata": {}
        }
      ]
    },
    {
      "cell_type": "code",
      "metadata": {
        "colab": {
          "base_uri": "https://localhost:8080/",
          "height": 319
        },
        "id": "oY1R1z5yjdCD",
        "outputId": "e942689b-570b-45c8-ddd3-1bf0dd228c42"
      },
      "source": [
        "x = MAYO[['P6020']]==1\n",
        "z1= x.sum()/len(MAYO[['P6020']])\n",
        "y= MAYO[['P6020']]==2\n",
        "z2= y.sum()/len(MAYO[['P6020']])\n",
        "plt.figure(figsize=(4,4))\n",
        "labels = [\"Hombres\",\"Mujeres\"]\n",
        "z=[z1,z2]\n",
        "plt.pie(z, labels=labels, autopct='%1.1f%%')\n",
        "plt.title('Porcentaje de hombres y mujeres en la encuenta Gran Encuesta Integrada de hogares para el mes de mayo del 2021')\n",
        "plt.show()"
      ],
      "execution_count": 179,
      "outputs": [
        {
          "output_type": "stream",
          "name": "stderr",
          "text": [
            "/usr/local/lib/python3.7/dist-packages/ipykernel_launcher.py:8: MatplotlibDeprecationWarning: Non-1D inputs to pie() are currently squeeze()d, but this behavior is deprecated since 3.1 and will be removed in 3.3; pass a 1D array instead.\n",
            "  \n"
          ]
        },
        {
          "output_type": "display_data",
          "data": {
            "image/png": "[encoded data removed]",
            "text/plain": [
              "<Figure size 288x288 with 1 Axes>"
            ]
          },
          "metadata": {}
        }
      ]
    },
    {
      "cell_type": "code",
      "metadata": {
        "colab": {
          "base_uri": "https://localhost:8080/",
          "height": 319
        },
        "id": "YwjKBxsRjjcA",
        "outputId": "2b581182-70af-42e7-d6d5-7c09d3551dad"
      },
      "source": [
        "x = JUNIO[['P6020']]==1\n",
        "z1= x.sum()/len(JUNIO[['P6020']])\n",
        "y= JUNIO[['P6020']]==2\n",
        "z2= y.sum()/len(JUNIO[['P6020']])\n",
        "plt.figure(figsize=(4,4))\n",
        "labels = [\"Hombres\",\"Mujeres\"]\n",
        "z=[z1,z2]\n",
        "plt.pie(z, labels=labels, autopct='%1.1f%%')\n",
        "plt.title('Porcentaje de hombres y mujeres en la encuenta Gran Encuesta Integrada de hogares para el mes de junio del 2021')\n",
        "plt.show()"
      ],
      "execution_count": 180,
      "outputs": [
        {
          "output_type": "stream",
          "name": "stderr",
          "text": [
            "/usr/local/lib/python3.7/dist-packages/ipykernel_launcher.py:8: MatplotlibDeprecationWarning: Non-1D inputs to pie() are currently squeeze()d, but this behavior is deprecated since 3.1 and will be removed in 3.3; pass a 1D array instead.\n",
            "  \n"
          ]
        },
        {
          "output_type": "display_data",
          "data": {
            "image/png": "[encoded data removed]",
            "text/plain": [
              "<Figure size 288x288 with 1 Axes>"
            ]
          },
          "metadata": {}
        }
      ]
    },
    {
      "cell_type": "code",
      "metadata": {
        "id": "oVoIPBP3xVYH"
      },
      "source": [
        "H = ENERO[ENERO['P6020']==1]\n",
        "M = ENERO[ENERO['P6020']==2]\n",
        "m1=M['P6040'].mean()\n",
        "h1=H['P6040'].mean()\n",
        "H = FEBRERO[FEBRERO['P6020']==1]\n",
        "M = FEBRERO[FEBRERO['P6020']==2]\n",
        "m2=M['P6040'].mean()\n",
        "h2=H['P6040'].mean()\n",
        "H = MARZO[MARZO['P6020']==1]\n",
        "M = MARZO[MARZO['P6020']==2]\n",
        "m3=M['P6040'].mean()\n",
        "h3=H['P6040'].mean()\n",
        "H = ABRIL[ABRIL['P6020']==1]\n",
        "M = ABRIL[ABRIL['P6020']==2]\n",
        "m4=M['P6040'].mean()\n",
        "h4=H['P6040'].mean()\n",
        "H = MAYO[MAYO['P6020']==1]\n",
        "M = MAYO[MAYO['P6020']==2]\n",
        "m5=M['P6040'].mean()\n",
        "h5=H['P6040'].mean()\n",
        "H = JUNIO[JUNIO['P6020']==1]\n",
        "M = JUNIO[JUNIO['P6020']==2]\n",
        "m6=M['P6040'].mean()\n",
        "h6=H['P6040'].mean()"
      ],
      "execution_count": 181,
      "outputs": []
    },
    {
      "cell_type": "code",
      "metadata": {
        "colab": {
          "base_uri": "https://localhost:8080/",
          "height": 312
        },
        "id": "1UKllb6cu-nF",
        "outputId": "7be3d5ef-676d-48d3-d956-3f606f197118"
      },
      "source": [
        "Hombres = [m1,m2,m3,m4,m5,m6]\n",
        "Mujeres = [h1,h2,h3,h4,h5,h6]\n",
        " \n",
        " \n",
        "numero_de_grupos = len(Hombres)\n",
        "indice_barras = np.arange(numero_de_grupos)\n",
        "ancho_barras = 0.35\n",
        " \n",
        "plt.bar(indice_barras, Hombres, width=ancho_barras, label='Hombres')\n",
        "plt.bar(indice_barras + ancho_barras, Mujeres, width=ancho_barras, label='Mujeres')\n",
        "plt.legend(loc='best')\n",
        "\n",
        "plt.xticks(indice_barras + ancho_barras, (\"Enero\", \"Febrero\",\"Marzo\",\"Abril\",\"Mayo\",\"Junio\"))\n",
        " \n",
        "plt.ylabel('Edad')\n",
        "plt.xlabel('Mes')\n",
        "plt.title('Edad promedio en el primer semestre del 2021 para la encuesta GEIH')"
      ],
      "execution_count": 182,
      "outputs": [
        {
          "output_type": "execute_result",
          "data": {
            "text/plain": [
              "Text(0.5, 1.0, 'Edad promedio en el primer semestre del 2021 para la encuesta GEIH')"
            ]
          },
          "metadata": {},
          "execution_count": 182
        },
        {
          "output_type": "display_data",
          "data": {
            "image/png": "[encoded data removed]",
            "text/plain": [
              "<Figure size 432x288 with 1 Axes>"
            ]
          },
          "metadata": {
            "needs_background": "light"
          }
        }
      ]
    },
    {
      "cell_type": "code",
      "metadata": {
        "colab": {
          "base_uri": "https://localhost:8080/",
          "height": 319
        },
        "id": "Jp_GX9GTm9i5",
        "outputId": "ad208e96-79bb-4474-a4f3-3344721666a9"
      },
      "source": [
        "x = GLB[['P6020']]==1\n",
        "z1= x.sum()/len(GLB[['P6020']])\n",
        "y= GLB[['P6020']]==2\n",
        "z2= y.sum()/len(GLB[['P6020']])\n",
        "plt.figure(figsize=(4,4))\n",
        "labels = [\"Hombres\",\"Mujeres\"]\n",
        "z=[z1,z2]\n",
        "plt.pie(z, labels=labels, autopct='%1.1f%%')\n",
        "plt.title('Porcentaje de hombres y mujeres en la encuenta Gran Encuesta Integrada de hogares para el primer semestre del 2021')\n",
        "plt.show()"
      ],
      "execution_count": 183,
      "outputs": [
        {
          "output_type": "stream",
          "name": "stderr",
          "text": [
            "/usr/local/lib/python3.7/dist-packages/ipykernel_launcher.py:8: MatplotlibDeprecationWarning: Non-1D inputs to pie() are currently squeeze()d, but this behavior is deprecated since 3.1 and will be removed in 3.3; pass a 1D array instead.\n",
            "  \n"
          ]
        },
        {
          "output_type": "display_data",
          "data": {
            "image/png": "[encoded data removed]",
            "text/plain": [
              "<Figure size 288x288 with 1 Axes>"
            ]
          },
          "metadata": {}
        }
      ]
    },
    {
      "cell_type": "code",
      "metadata": {
        "colab": {
          "base_uri": "https://localhost:8080/",
          "height": 300
        },
        "id": "9HjsHkqY8v8N",
        "outputId": "96ac6f9c-756a-454d-a326-34561e1e78bc"
      },
      "source": [
        "GLB['P3147S1']\n",
        "x = ['Sí','No'] \n",
        "c = [(GLB['P3147S1']=='1').sum(),(GLB['P3147S1']=='0').sum()]\n",
        "plt.bar(x,c, color='tab:purple')\n",
        "plt.title(\"¿ESTÁ O ESTUVO ENFERMO POR COVID?\") #Se tiene que todas personas encuestadas estuvieron enfermas de COVID-19\n",
        "plt.ylabel(\"Frecuencia\")"
      ],
      "execution_count": 184,
      "outputs": [
        {
          "output_type": "execute_result",
          "data": {
            "text/plain": [
              "Text(0, 0.5, 'Frecuencia')"
            ]
          },
          "metadata": {},
          "execution_count": 184
        },
        {
          "output_type": "display_data",
          "data": {
            "image/png": "[encoded data removed]",
            "text/plain": [
              "<Figure size 432x288 with 1 Axes>"
            ]
          },
          "metadata": {
            "needs_background": "light"
          }
        }
      ]
    },
    {
      "cell_type": "code",
      "metadata": {
        "colab": {
          "base_uri": "https://localhost:8080/"
        },
        "id": "FQmGYMJHnUYz",
        "outputId": "95a0720e-c419-474d-9696-c5a4d43e5477"
      },
      "source": [
        "GLB['P3246'].value_counts()"
      ],
      "execution_count": 185,
      "outputs": [
        {
          "output_type": "execute_result",
          "data": {
            "text/plain": [
              "2    35654\n",
              "1    17974\n",
              "Name: P3246, dtype: int64"
            ]
          },
          "metadata": {},
          "execution_count": 185
        }
      ]
    },
    {
      "cell_type": "code",
      "metadata": {
        "colab": {
          "base_uri": "https://localhost:8080/",
          "height": 265
        },
        "id": "v1lVESU8mjYf",
        "outputId": "46dc8131-e7f9-4c83-b287-8bf597500f5d"
      },
      "source": [
        "colores = ['cyan','green']\n",
        "act = [\"No\",\"Sí\"]\n",
        "serie = GLB['P3246'].value_counts()\n",
        "serie.plot.pie(autopct = '%1.1f%%',labels=act,colors=colores) \n",
        "#Usted se considera pobre?\n",
        "#1. Si\n",
        "#2. No"
      ],
      "execution_count": 186,
      "outputs": [
        {
          "output_type": "execute_result",
          "data": {
            "text/plain": [
              "<matplotlib.axes._subplots.AxesSubplot at 0x7ffa1e7dc150>"
            ]
          },
          "metadata": {},
          "execution_count": 186
        },
        {
          "output_type": "display_data",
          "data": {
            "image/png": "[encoded data removed]",
            "text/plain": [
              "<Figure size 432x288 with 1 Axes>"
            ]
          },
          "metadata": {}
        }
      ]
    },
    {
      "cell_type": "markdown",
      "metadata": {
        "id": "1W2LzxB_osUa"
      },
      "source": [
        "- El 66.5% de las personas encuestadas no se consideran pobres mientras tanto el 33.5% de las personas encuestas en la GEIH para el primer semestre del 2021 si se consideran pobres.\n"
      ]
    },
    {
      "cell_type": "code",
      "metadata": {
        "colab": {
          "base_uri": "https://localhost:8080/"
        },
        "id": "45KZjGFApI19",
        "outputId": "3fc0076c-fc0f-461f-e86e-6a01c92f1de2"
      },
      "source": [
        "GLB['P6090'].value_counts()"
      ],
      "execution_count": 187,
      "outputs": [
        {
          "output_type": "execute_result",
          "data": {
            "text/plain": [
              "1    155717\n",
              "2     14057\n",
              "9       202\n",
              "Name: P6090, dtype: int64"
            ]
          },
          "metadata": {},
          "execution_count": 187
        }
      ]
    },
    {
      "cell_type": "code",
      "metadata": {
        "colab": {
          "base_uri": "https://localhost:8080/",
          "height": 483
        },
        "id": "eVRpdR5co9QE",
        "outputId": "c9ee4e90-605c-4c1f-f65c-07c8fb1bde40"
      },
      "source": [
        "colores = ['blue','pink','red']\n",
        "act = [\"Sí\",\"No\",\"No sabe, no informa\"]\n",
        "serie = GLB['P6090'].value_counts()\n",
        "serie.plot.pie(autopct = '%1.1f%%',labels=act,colors=colores,figsize=(8,8)) \n",
        "#P6090: ¿AFILIADO A EPS?\n",
        "#1. Si\n",
        "#2. No\n",
        "#9 No sabe, no informa\n"
      ],
      "execution_count": 188,
      "outputs": [
        {
          "output_type": "execute_result",
          "data": {
            "text/plain": [
              "<matplotlib.axes._subplots.AxesSubplot at 0x7ffa1e4f63d0>"
            ]
          },
          "metadata": {},
          "execution_count": 188
        },
        {
          "output_type": "display_data",
          "data": {
            "image/png": "[encoded data removed]",
            "text/plain": [
              "<Figure size 576x576 with 1 Axes>"
            ]
          },
          "metadata": {}
        }
      ]
    },
    {
      "cell_type": "markdown",
      "metadata": {
        "id": "6ThPrbcXpqUa"
      },
      "source": [
        "- Teniendo en cuenta la preguna ¿AFILIADO A EPS? el 91.6% de las personas encuestadas si se encuentran afiliado a una EPS, por otro lado el 8.3% de las personas encuestas en la GEIH para el primer semestre del 2021 no cuentan con el servicio de afiliación a EPS."
      ]
    },
    {
      "cell_type": "code",
      "metadata": {
        "colab": {
          "base_uri": "https://localhost:8080/"
        },
        "id": "OEuCXkBUqsSD",
        "outputId": "939f138a-0158-4aba-e1c9-a235dee0d3d6"
      },
      "source": [
        "GLB['P6210'].value_counts()"
      ],
      "execution_count": 189,
      "outputs": [
        {
          "output_type": "execute_result",
          "data": {
            "text/plain": [
              "5    45837\n",
              "6    43969\n",
              "3    36390\n",
              "4    28039\n",
              "1     6370\n",
              "2     3847\n",
              "9       22\n",
              "Name: P6210, dtype: int64"
            ]
          },
          "metadata": {},
          "execution_count": 189
        }
      ]
    },
    {
      "cell_type": "code",
      "metadata": {
        "colab": {
          "base_uri": "https://localhost:8080/",
          "height": 483
        },
        "id": "W0ka2nBUqUzf",
        "outputId": "711e0b3e-93b8-4da0-87e4-f2bd79c1353f"
      },
      "source": [
        "colores = ['blue','pink','red','green','coral','yellow','silver',]\n",
        "act = [\"Media\",\"Superior\",\"Primaria\",\"Secundaria\",\"Ninguno\",\"Prescolar\",\"No informa\"]\n",
        "serie = GLB['P6210'].value_counts()\n",
        "serie.plot.pie(autopct = '%1.1f%%',labels=act,colors=colores,figsize=(8,8)) \n",
        "#P6210: ¿Cuál es el nivel educativo más alto alcanzado por .... y el último año o grado aprobado en este nivel?\n",
        "#1. Ninguno\n",
        "#2. Preescolar\n",
        "#3. Básica primaria (1o - 5o)\n",
        "#4. Básica secundaria (6o - 9o)\n",
        "#5. Media (10o - 13o)\n",
        "#6. Superior o universitaria\n",
        "#9. No sabe, no informa"
      ],
      "execution_count": 190,
      "outputs": [
        {
          "output_type": "execute_result",
          "data": {
            "text/plain": [
              "<matplotlib.axes._subplots.AxesSubplot at 0x7ffa1e87ce90>"
            ]
          },
          "metadata": {},
          "execution_count": 190
        },
        {
          "output_type": "display_data",
          "data": {
            "image/png": "[encoded data removed]",
            "text/plain": [
              "<Figure size 576x576 with 1 Axes>"
            ]
          },
          "metadata": {}
        }
      ]
    },
    {
      "cell_type": "markdown",
      "metadata": {
        "id": "sQcAknW7rsbf"
      },
      "source": [
        "- Gracias al gráfico se puede evidenciar que para las personas encuestadas en el primer semestre, el porcentaje más alto es de las personas que su nivel educativo máximo corresponde al nivel de Media que son los grados de 11° a 13°, seguido de la eduación superior o universitaria, continuo de la educación Básica primaria que es de grado primero a grado quinto."
      ]
    },
    {
      "cell_type": "code",
      "metadata": {
        "colab": {
          "base_uri": "https://localhost:8080/"
        },
        "id": "W6bzx6ggvyWl",
        "outputId": "9e745c42-18d5-4b5a-b2a7-b22d232a8a7c"
      },
      "source": [
        "GLB['P6921'].value_counts()"
      ],
      "execution_count": 191,
      "outputs": [
        {
          "output_type": "execute_result",
          "data": {
            "text/plain": [
              "2    42408\n",
              "3     6914\n",
              "1      514\n",
              "Name: P6921, dtype: int64"
            ]
          },
          "metadata": {},
          "execution_count": 191
        }
      ]
    },
    {
      "cell_type": "code",
      "metadata": {
        "colab": {
          "base_uri": "https://localhost:8080/"
        },
        "id": "2rGiS1EWx0d1",
        "outputId": "11046264-4271-4872-e8ad-4ceb38d4a8fc"
      },
      "source": [
        "GLB['P6921'].value_counts()"
      ],
      "execution_count": 192,
      "outputs": [
        {
          "output_type": "execute_result",
          "data": {
            "text/plain": [
              "2    42408\n",
              "3     6914\n",
              "1      514\n",
              "Name: P6921, dtype: int64"
            ]
          },
          "metadata": {},
          "execution_count": 192
        }
      ]
    },
    {
      "cell_type": "code",
      "metadata": {
        "id": "-dX81lXMs9Ja",
        "colab": {
          "base_uri": "https://localhost:8080/",
          "height": 483
        },
        "outputId": "52d8888e-d0a1-48e5-a864-04e28996bbb6"
      },
      "source": [
        "colores = ['coral','grey','red']\n",
        "act = [\"Sí\",\"No\",\"No sabe, no informa\"]\n",
        "serie = GLB['P6921'].value_counts()\n",
        "serie.plot.pie(autopct = '%1.1f%%',labels=act,colors=colores,figsize=(8,8)) \n",
        "#P6921: ¿Actualmente cotiza en un fondo de pensiones?\n",
        "#1. Si\n",
        "#2. No\n",
        "#3 No sabe, no informa\n",
        "\n",
        "#Dado el gráfico el 85.1% de las personas encuestas si cotizaban en un fondo de pensiones del mes de enero al mes de junio en el año 2021."
      ],
      "execution_count": 193,
      "outputs": [
        {
          "output_type": "execute_result",
          "data": {
            "text/plain": [
              "<matplotlib.axes._subplots.AxesSubplot at 0x7ffa1e9f2990>"
            ]
          },
          "metadata": {},
          "execution_count": 193
        },
        {
          "output_type": "display_data",
          "data": {
            "image/png": "[encoded data removed]",
            "text/plain": [
              "<Figure size 576x576 with 1 Axes>"
            ]
          },
          "metadata": {}
        }
      ]
    },
    {
      "cell_type": "code",
      "metadata": {
        "colab": {
          "base_uri": "https://localhost:8080/"
        },
        "id": "7AWBpNQRyZh0",
        "outputId": "be594a88-3e77-438d-f7d4-e14b711e6824"
      },
      "source": [
        "GLB['P9460'].value_counts()"
      ],
      "execution_count": 195,
      "outputs": [
        {
          "output_type": "execute_result",
          "data": {
            "text/plain": [
              "2    12989\n",
              "1       56\n",
              "9        3\n",
              "Name: P9460, dtype: int64"
            ]
          },
          "metadata": {},
          "execution_count": 195
        }
      ]
    },
    {
      "cell_type": "code",
      "metadata": {
        "colab": {
          "base_uri": "https://localhost:8080/",
          "height": 483
        },
        "id": "bg2sd3JMww_u",
        "outputId": "c8c06bf6-def3-46bc-c76b-6a819e3b267d"
      },
      "source": [
        "colores = ['blue','grey','red']\n",
        "act = [\"Sí\",\"No\",\"No sabe, no informa\"]\n",
        "serie = GLB['P6921'].value_counts()\n",
        "serie.plot.pie(autopct = '%1.1f%%',labels=act,colors=colores,figsize=(8,8)) \n",
        "#P6921: ¿Actualmente cotiza en un fondo de pensiones?\n",
        "#1. Si\n",
        "#2. No\n",
        "#9. No sabe, no informa\n",
        "\n",
        "#El 85.1% de las personas que fueron encuestadas si cuentan con una cotización en un fondo de pensiones "
      ],
      "execution_count": 196,
      "outputs": [
        {
          "output_type": "execute_result",
          "data": {
            "text/plain": [
              "<matplotlib.axes._subplots.AxesSubplot at 0x7ffa1e594fd0>"
            ]
          },
          "metadata": {},
          "execution_count": 196
        },
        {
          "output_type": "display_data",
          "data": {
            "image/png": "[encoded data removed]",
            "text/plain": [
              "<Figure size 576x576 with 1 Axes>"
            ]
          },
          "metadata": {}
        }
      ]
    },
    {
      "cell_type": "markdown",
      "metadata": {
        "id": "P_RcLgEKvhYV"
      },
      "source": [
        "# Distribucion"
      ]
    },
    {
      "cell_type": "code",
      "metadata": {
        "id": "8e0ymJRUvmqL",
        "colab": {
          "base_uri": "https://localhost:8080/",
          "height": 351
        },
        "outputId": "66e5f08b-6e9c-4db0-c5a8-94ae85664f3c"
      },
      "source": [
        "sns.distplot(GLB['P6040']) #DISTRIBUCIÓN DE LA EDAD"
      ],
      "execution_count": 197,
      "outputs": [
        {
          "output_type": "stream",
          "name": "stderr",
          "text": [
            "/usr/local/lib/python3.7/dist-packages/seaborn/distributions.py:2619: FutureWarning: `distplot` is a deprecated function and will be removed in a future version. Please adapt your code to use either `displot` (a figure-level function with similar flexibility) or `histplot` (an axes-level function for histograms).\n",
            "  warnings.warn(msg, FutureWarning)\n"
          ]
        },
        {
          "output_type": "execute_result",
          "data": {
            "text/plain": [
              "<matplotlib.axes._subplots.AxesSubplot at 0x7ffa383c06d0>"
            ]
          },
          "metadata": {},
          "execution_count": 197
        },
        {
          "output_type": "display_data",
          "data": {
            "image/png": "[encoded data removed]",
            "text/plain": [
              "<Figure size 432x288 with 1 Axes>"
            ]
          },
          "metadata": {
            "needs_background": "light"
          }
        }
      ]
    },
    {
      "cell_type": "code",
      "metadata": {
        "colab": {
          "base_uri": "https://localhost:8080/",
          "height": 296
        },
        "id": "AmQzwCWg2QYG",
        "outputId": "1dfe2106-6030-422c-e1c6-7586cfb150d5"
      },
      "source": [
        "sns.boxplot(x='P6020', y='P6040', data=GLB) #Siendo hombres 1 y mujeres 2"
      ],
      "execution_count": 121,
      "outputs": [
        {
          "output_type": "execute_result",
          "data": {
            "text/plain": [
              "<matplotlib.axes._subplots.AxesSubplot at 0x7ffa1ed8a290>"
            ]
          },
          "metadata": {},
          "execution_count": 121
        },
        {
          "output_type": "display_data",
          "data": {
            "image/png": "[encoded data removed]",
            "text/plain": [
              "<Figure size 432x288 with 1 Axes>"
            ]
          },
          "metadata": {
            "needs_background": "light"
          }
        }
      ]
    },
    {
      "cell_type": "code",
      "metadata": {
        "colab": {
          "base_uri": "https://localhost:8080/",
          "height": 296
        },
        "id": "34HEUw8q3B2b",
        "outputId": "f0f4f69c-5147-476a-ae24-52e023f64ded"
      },
      "source": [
        "sns.boxplot(x='P6070', y='P6040', data=GLB)"
      ],
      "execution_count": 198,
      "outputs": [
        {
          "output_type": "execute_result",
          "data": {
            "text/plain": [
              "<matplotlib.axes._subplots.AxesSubplot at 0x7ffa1ec5c9d0>"
            ]
          },
          "metadata": {},
          "execution_count": 198
        },
        {
          "output_type": "display_data",
          "data": {
            "image/png": "[encoded data removed]",
            "text/plain": [
              "<Figure size 432x288 with 1 Axes>"
            ]
          },
          "metadata": {
            "needs_background": "light"
          }
        }
      ]
    },
    {
      "cell_type": "markdown",
      "metadata": {
        "id": "hlUR-TrF26-N"
      },
      "source": [
        "### PREGUNTAS DE INVESTIGACION"
      ]
    },
    {
      "cell_type": "markdown",
      "metadata": {
        "id": "TPfCbQ7yiWA3"
      },
      "source": [
        "\n",
        "\n",
        "1.  ¿Los departamentos con ingresos mas bajos tuvieron tasas de desempleo en los primeros 6 meses del 2021 mas bajas que los departamentos con ingresos altos? \n",
        "2.   ¿Hay una diferencia de medias entre los hombres que perdieron su empleo en comparacion con las mujeres? Debido al covid-19.\n",
        "3.   ¿Hay una diferencia de ingresos entre mujeres y hombres en los departamentos? \n",
        "4.  ¿Existe una diferencia de medias entre las personas que tuvieron porblemas para pagar facturas en los departamentos de Antioqia y Bogotá D.C. ?\n",
        "5.   ¿Existe relacion entre el nivel de educacion maximo alcanzado con el ahorro en un fondo de pensiones ?\n",
        "\n",
        "\n"
      ]
    },
    {
      "cell_type": "code",
      "metadata": {
        "colab": {
          "base_uri": "https://localhost:8080/"
        },
        "id": "PDM2MtiY7wyG",
        "outputId": "b1312ad6-e69b-4b59-bdb0-1ea0ef47c7ff"
      },
      "source": [
        "#TASAS DE OCUPACIÓN: Es la relación porcentual entre la población ocupada (OCI) y el número de personas que integran la población en edad de trabajar (PET)\n",
        "# PET = Población ocupada + Población desempleada + Población inactiva\n",
        "empl1 = GLB['OCI'].sum()/(GLB['INI'].sum()+GLB['DSI'].sum()+GLB['OCI'].sum())*100\n",
        "empl1 "
      ],
      "execution_count": 199,
      "outputs": [
        {
          "output_type": "execute_result",
          "data": {
            "text/plain": [
              "50.23083705333898"
            ]
          },
          "metadata": {},
          "execution_count": 199
        }
      ]
    },
    {
      "cell_type": "code",
      "metadata": {
        "colab": {
          "base_uri": "https://localhost:8080/"
        },
        "id": "jVRr2g5Q8n7U",
        "outputId": "95aff5c7-eca1-4d40-bbbc-a68fe668b561"
      },
      "source": [
        "#TASAS DE DESEMPLEO:Es la relación porcentual entre el número de personas que están buscando trabajo (DS), y el número de personas que integran la fuerza laboral (PEA).\n",
        "td = GLB['DSI'].sum()/(GLB['INI'].sum()+GLB['DSI'].sum()+GLB['OCI'].sum())*100\n",
        "td"
      ],
      "execution_count": 200,
      "outputs": [
        {
          "output_type": "execute_result",
          "data": {
            "text/plain": [
              "10.029088939954596"
            ]
          },
          "metadata": {},
          "execution_count": 200
        }
      ]
    },
    {
      "cell_type": "markdown",
      "metadata": {
        "id": "KYArNa3OD0fW"
      },
      "source": [
        "##### Tasas de desempleo"
      ]
    },
    {
      "cell_type": "code",
      "metadata": {
        "colab": {
          "base_uri": "https://localhost:8080/"
        },
        "id": "ovVGR-KJ9qY_",
        "outputId": "643643b1-605a-4a49-8d7f-f5c05659ddca"
      },
      "source": [
        "PA = ENERO[['P6040']]>=12\n",
        "A = PA[['P6040']].sum() #POBLACION ACTIVA\n",
        "B = ENERO[['DSI']].sum() #POBLACION DESOCUPADA\n",
        "TD_E = float(B)/float(A) #TASA DE DESEMPLEO PARA ENERO\n",
        "print(TD_E*100)"
      ],
      "execution_count": 201,
      "outputs": [
        {
          "output_type": "stream",
          "name": "stdout",
          "text": [
            "11.118533672915536\n"
          ]
        }
      ]
    },
    {
      "cell_type": "code",
      "metadata": {
        "colab": {
          "base_uri": "https://localhost:8080/"
        },
        "id": "qjohD8mx9qQq",
        "outputId": "f38f7c41-7be6-4ed8-b963-a559678ca37b"
      },
      "source": [
        "PA = FEBRERO[['P6040']]>=12\n",
        "A = PA[['P6040']].sum() #POBLACION ACTIVA\n",
        "B = FEBRERO[['DSI']].sum() #POBLACION DESOCUPADA\n",
        "TD_F = float(B)/float(A) #TASA DE DESEMPLEO PARA FEBRERO\n",
        "print(TD_F*100)"
      ],
      "execution_count": 208,
      "outputs": [
        {
          "output_type": "stream",
          "name": "stdout",
          "text": [
            "10.23786169691025\n"
          ]
        }
      ]
    },
    {
      "cell_type": "code",
      "metadata": {
        "colab": {
          "base_uri": "https://localhost:8080/"
        },
        "id": "eHQIDp279qMA",
        "outputId": "e551bfd3-1b7d-4842-da48-4eaab0152bdf"
      },
      "source": [
        "PA = MARZO[['P6040']]>=12\n",
        "A = PA[['P6040']].sum() #POBLACION ACTIVA\n",
        "B = MARZO[['DSI']].sum() #POBLACION DESOCUPADA\n",
        "TD_M = float(B)/float(A) #TASA DE DESEMPLEO PARA MARZO\n",
        "print(TD_M*100)"
      ],
      "execution_count": 202,
      "outputs": [
        {
          "output_type": "stream",
          "name": "stdout",
          "text": [
            "9.581438050327588\n"
          ]
        }
      ]
    },
    {
      "cell_type": "code",
      "metadata": {
        "colab": {
          "base_uri": "https://localhost:8080/"
        },
        "id": "_Cuq98ER9qIA",
        "outputId": "cd68fe5e-b24e-4f9b-f0f7-3028b58468ba"
      },
      "source": [
        "PA = ABRIL[['P6040']]>=12\n",
        "A = PA[['P6040']].sum() #POBLACION ACTIVA\n",
        "B = ABRIL[['DSI']].sum() #POBLACION DESOCUPADA\n",
        "TD_AB = float(B)/float(A) #TASA DE DESEMPLEO PARA ABRIL\n",
        "print(TD_AB*100)"
      ],
      "execution_count": 203,
      "outputs": [
        {
          "output_type": "stream",
          "name": "stdout",
          "text": [
            "9.705042816365367\n"
          ]
        }
      ]
    },
    {
      "cell_type": "code",
      "metadata": {
        "colab": {
          "base_uri": "https://localhost:8080/"
        },
        "id": "k7mJQZzb9qEV",
        "outputId": "75d41997-1d89-4fe8-e52c-ab9df783681a"
      },
      "source": [
        "PA = MAYO[['P6040']]>=12\n",
        "A = PA[['P6040']].sum() #POBLACION ACTIVA\n",
        "B = MAYO[['DSI']].sum() #POBLACION DESOCUPADA\n",
        "TD_MAYO = float(B)/float(A) #TASA DE DESEMPLEO PARA MAYO\n",
        "print(TD_MAYO*100)"
      ],
      "execution_count": 204,
      "outputs": [
        {
          "output_type": "stream",
          "name": "stdout",
          "text": [
            "9.590760733115742\n"
          ]
        }
      ]
    },
    {
      "cell_type": "code",
      "metadata": {
        "colab": {
          "base_uri": "https://localhost:8080/"
        },
        "id": "NGFOjwlA9qAU",
        "outputId": "68bbfab7-e043-45ec-fabb-22d0dcb82c2f"
      },
      "source": [
        "PA = JUNIO[['P6040']]>=12\n",
        "A = PA[['P6040']].sum() #POBLACION ACTIVA\n",
        "B = JUNIO[['DSI']].sum() #POBLACION DESOCUPADA\n",
        "TD_J = float(B)/float(A) #TASA DE DESEMPLEO PARA JUNIO\n",
        "print(TD_J*100)"
      ],
      "execution_count": 205,
      "outputs": [
        {
          "output_type": "stream",
          "name": "stdout",
          "text": [
            "9.937256231982364\n"
          ]
        }
      ]
    },
    {
      "cell_type": "code",
      "metadata": {
        "colab": {
          "base_uri": "https://localhost:8080/",
          "height": 298
        },
        "id": "5HWyfKi9kmYf",
        "outputId": "b1169cd9-b70d-4cd8-e1ed-0aa4e171605a"
      },
      "source": [
        "s = [\"Enero\",\"Febrero\",\"Marzo\",\"Abril\",\"Mayo\",\"Junio\"]\n",
        "m = [TD_E*100,TD_F*100,TD_M*100,TD_AB*100,TD_MAYO*100,TD_J*100]\n",
        "plt.bar(s,m,color='tab:blue',width=0.45)\n",
        "plt.title(\"TASA DE DESEMPLEO PARA EL PRIMER SEMESTRE DEL 2021\")\n",
        "plt.ylabel(\"Tasa de desempleo\")"
      ],
      "execution_count": 209,
      "outputs": [
        {
          "output_type": "execute_result",
          "data": {
            "text/plain": [
              "Text(0, 0.5, 'Tasa de desempleo')"
            ]
          },
          "metadata": {},
          "execution_count": 209
        },
        {
          "output_type": "display_data",
          "data": {
            "image/png": "[encoded data removed]",
            "text/plain": [
              "<Figure size 432x288 with 1 Axes>"
            ]
          },
          "metadata": {
            "needs_background": "light"
          }
        }
      ]
    },
    {
      "cell_type": "markdown",
      "metadata": {
        "id": "vi5aY4oppIbn"
      },
      "source": [
        "- Gracias al gráfico se puede evidenciar de una mejor forma que la tasa de desempleo más alta es para el mes de Enero, seguido del mes de febrero."
      ]
    },
    {
      "cell_type": "markdown",
      "metadata": {
        "id": "exWp1c41q0Pd"
      },
      "source": [
        "##### DESPIDOS\n"
      ]
    },
    {
      "cell_type": "code",
      "metadata": {
        "colab": {
          "base_uri": "https://localhost:8080/"
        },
        "id": "IriCdvlhq0Pi",
        "outputId": "4a8fb7dc-4914-48f9-9d79-5f275689c1fd"
      },
      "source": [
        "#P3147S7: ¿PERDIO EL TRABAJO O EL CONTRATO DE TRABAJO? \n",
        "P_o_ch=(ENERO['P3147S7']=='1').sum() + (FEBRERO['P3147S7']=='1').sum() + (MARZO['P3147S7']=='1').sum() +  (ABRIL['P3147S7']=='1').sum() + (MAYO['P3147S7']=='1').sum() + (JUNIO['P3147S7']=='1').sum() \n",
        "P_o_ch #Personas que perdieron el trabajo debido al COVID 19 de enero a junio del 2021"
      ],
      "execution_count": 210,
      "outputs": [
        {
          "output_type": "execute_result",
          "data": {
            "text/plain": [
              "17338"
            ]
          },
          "metadata": {},
          "execution_count": 210
        }
      ]
    },
    {
      "cell_type": "code",
      "metadata": {
        "colab": {
          "base_uri": "https://localhost:8080/"
        },
        "id": "axF4f-R5snNj",
        "outputId": "8ae39786-9936-476b-ab2b-038347f39f2c"
      },
      "source": [
        "h_p1=(ENERO[(ENERO['P6020'] == 1) & (ENERO['P3147S7'] == '1')]) #Se filtran los hombres que perdieron el empleo en Enero \n",
        "h_p1 = h_p1['P6020'].sum() #Número de hombres que perdieron el empleo en Enero\n",
        "\n",
        "h_p2=(FEBRERO[(FEBRERO['P6020'] == 1) & (FEBRERO['P3147S7'] == '1')]) #Se filtran los hombres que perdieron el empleo en Febrero\n",
        "h_p2 = h_p2['P6020'].sum() #Número de hombres que perdieron el empleo en febrero\n",
        "\n",
        "h_p3=(MARZO[(MARZO['P6020'] == 1) & (MARZO['P3147S7'] == '1')]) #Se filtran los hombres que perdieron el empleo en Marzo\n",
        "h_p3 = h_p3['P6020'].sum() #Número de hombres que perdieron el empleo en marzo\n",
        "\n",
        "h_p4= (ABRIL[(ABRIL['P6020'] == 1) & (ABRIL['P3147S7'] == '1')]) #Se filtran los hombres que perdieron el empleo en abril\n",
        "h_p4 = h_p4['P6020'].sum() #Número de hombres que perdieron el empleo en abril\n",
        "\n",
        "h_p5=(MAYO[(MAYO['P6020'] == 1) & (MAYO['P3147S7'] == '1')]) #Se filtran los hombres que perdieron el empleo en mayo\n",
        "h_p5 = h_p5['P6020'].sum() #Número de hombres que perdieron el empleo en mayo\n",
        "\n",
        "h_p6=(JUNIO[(JUNIO['P6020'] == 1) & (JUNIO['P3147S7'] == '1')]) #Se filtran los hombres que perdieron el empleo en junio\n",
        "h_p6 = h_p6['P6020'].sum() #Número de hombres que perdieron el empleo en junio\n",
        "\n",
        "h_o_c = h_p1 + h_p2 + h_p3 + h_p4 + h_p5 + h_p6\n",
        "h_o_c #Hombres en total que perdieron el empleo de enero a julio en el 2021\n"
      ],
      "execution_count": 211,
      "outputs": [
        {
          "output_type": "execute_result",
          "data": {
            "text/plain": [
              "8450"
            ]
          },
          "metadata": {},
          "execution_count": 211
        }
      ]
    },
    {
      "cell_type": "code",
      "metadata": {
        "colab": {
          "base_uri": "https://localhost:8080/"
        },
        "id": "Zg7-qihT7VGs",
        "outputId": "1e17caca-891f-44b1-ec96-25fddb9a448d"
      },
      "source": [
        "m_p1=(ENERO[(ENERO['P6020'] == 2) & (ENERO['P3147S7'] == '1')]) #Se filtran los mujeres que perdieron el empleo en Enero \n",
        "m_p1 = (m_p1['P6020']==2).sum() #Número de hombres que perdieron el empleo en Enero\n",
        "\n",
        "m_p2=(FEBRERO[(FEBRERO['P6020'] == 2) & (FEBRERO['P3147S7'] == '1')]) #Se filtran los mujeres que perdieron el empleo en Febrero\n",
        "m_p2 = (m_p2['P6020']==2).sum() #Número de mujeres que perdieron el empleo en febrero\n",
        "\n",
        "m_p3=(MARZO[(MARZO['P6020'] == 2) & (MARZO['P3147S7'] == '1')]) #Se filtran los mujeres que perdieron el empleo en Marzo\n",
        "m_p3 = (m_p3['P6020']==2).sum() #Número de mujeres que perdieron el empleo en marzo\n",
        "\n",
        "m_p4= (ABRIL[(ABRIL['P6020'] == 2) & (ABRIL['P3147S7'] == '1')]) #Se filtran los mujeres que perdieron el empleo en abril\n",
        "m_p4 = (m_p4['P6020']==2).sum() #Número de mujeres que perdieron el empleo en abril\n",
        "\n",
        "m_p5=(MAYO[(MAYO['P6020'] == 2) & (MAYO['P3147S7'] == '1')]) #Se filtran los mujeres que perdieron el empleo en mayo\n",
        "m_p5 = (m_p5['P6020']==2).sum() #Número de mujeres que perdieron el empleo en mayo\n",
        "\n",
        "m_p6=(JUNIO[(JUNIO['P6020'] == 2) & (JUNIO['P3147S7'] == '1')]) #Se filtran los mujeres que perdieron el empleo en junio\n",
        "m_p6 = (m_p6['P6020']==2).sum() #Número de mujeres que perdieron el empleo en junio\n",
        "\n",
        "m_o_c = m_p1 + m_p2 + m_p3 + m_p4 + m_p5 + m_p6\n",
        "m_o_c #mujeres en total que perdieron el empleo de enero a julio en el 2021\n"
      ],
      "execution_count": 212,
      "outputs": [
        {
          "output_type": "execute_result",
          "data": {
            "text/plain": [
              "8888"
            ]
          },
          "metadata": {},
          "execution_count": 212
        }
      ]
    },
    {
      "cell_type": "code",
      "metadata": {
        "colab": {
          "base_uri": "https://localhost:8080/"
        },
        "id": "K_btGSU69hvS",
        "outputId": "e06d0ff6-7ce5-443f-8ef1-c3848e2e2eba"
      },
      "source": [
        "m_o_c + h_o_c #Se comprueba con el total de personas que perdieron el empleo en primer semestre del 2021"
      ],
      "execution_count": 213,
      "outputs": [
        {
          "output_type": "execute_result",
          "data": {
            "text/plain": [
              "17338"
            ]
          },
          "metadata": {},
          "execution_count": 213
        }
      ]
    },
    {
      "cell_type": "code",
      "metadata": {
        "colab": {
          "base_uri": "https://localhost:8080/"
        },
        "id": "XEIcETpL-IJr",
        "outputId": "e8f6e128-f2bd-4956-a0df-8f38031b67d1"
      },
      "source": [
        "m_o_c/P_o_ch #Porcentaje de mujeres que perdieron o que terminaron su contrato de trabajo debido al COVID 19"
      ],
      "execution_count": 214,
      "outputs": [
        {
          "output_type": "execute_result",
          "data": {
            "text/plain": [
              "0.5126312146729727"
            ]
          },
          "metadata": {},
          "execution_count": 214
        }
      ]
    },
    {
      "cell_type": "code",
      "metadata": {
        "colab": {
          "base_uri": "https://localhost:8080/"
        },
        "id": "ZbjZuyah-hD1",
        "outputId": "aa9da5be-24e0-4064-8773-ddf7041f4a8c"
      },
      "source": [
        "h_o_c/P_o_ch #Porcentaje de hombres que perdieron o que terminaron su contrato de trabajo debido al COVID 19"
      ],
      "execution_count": 215,
      "outputs": [
        {
          "output_type": "execute_result",
          "data": {
            "text/plain": [
              "0.4873687853270273"
            ]
          },
          "metadata": {},
          "execution_count": 215
        }
      ]
    },
    {
      "cell_type": "markdown",
      "metadata": {
        "id": "tmEIX5KU-k7x"
      },
      "source": [
        "- Se puede evidenciar que en relación a las personas que perdieron el trabajo durante los meses de enero a junio del año 2021, la cantidad de mujeres que perdieron su trabajo o que dieron por terminado el contrato de su trajo es mayor a la cantidad de hombres."
      ]
    },
    {
      "cell_type": "markdown",
      "metadata": {
        "id": "cqBNssePrEE8"
      },
      "source": [
        "##### Promedio de ingresos por departamentos"
      ]
    },
    {
      "cell_type": "code",
      "metadata": {
        "id": "U2ftFFt1rEE8"
      },
      "source": [
        "I1 = ENERO[(ENERO['P6020']==1)]\n",
        "I1 = I1[['DPTO','INGLABO']]\n",
        "I1.INGLABO = I1.INGLABO.fillna(0) #Cambiamos los valores nulos por el valor de 0 en la variable de los ingresos\n",
        "I1 = I1.astype({\"DPTO\":'object', \"INGLABO\":'int64'}) #Transformamos el la variable DEPARTAMENTO a objeto y la variable INGRESOS LABORALES a entero\n",
        "I1 =I1.groupby(['DPTO'])[['INGLABO']].sum() #Agrupamos por departamento calculando sumando de Ingresos laborales para el mes de enero\n",
        "\n",
        "\n",
        "I2 = FEBRERO[(FEBRERO['P6020']==1)] #Seleccionamos los hombres del mes de febrero \n",
        "I2 = I2[['DPTO','INGLABO']]\n",
        "I2.INGLABO = I2.INGLABO.fillna(0) #Cambiamos los valores nulos por el valor de 0 en la variable de los ingresos\n",
        "I2 = I2.astype({\"DPTO\":'object', \"INGLABO\":'int64'}) #Transformamos el la variable DEPARTAMENTO a objeto y la variable INGRESOS LABORALES a entero\n",
        "I2 =I2.groupby(['DPTO'])[['INGLABO']].sum() #Agrupamos por departamento calculando  sumando de Ingresos laborales para el mes de febrero\n",
        "\n",
        "I3 = MARZO[(MARZO['P6020']==1)] #Seleccionamos los hombres del mes de marzo\n",
        "I3 = I3[['DPTO','INGLABO']]\n",
        "I3.INGLABO = I3.INGLABO.fillna(0) #Cambiamos los valores nulos por el valor de 0 en la variable de los ingresos\n",
        "I3 = I3.astype({\"DPTO\":'object', \"INGLABO\":'int64'}) #Transformamos el la variable DEPARTAMENTO a objeto y la variable INGRESOS LABORALES a entero\n",
        "I3 =I3.groupby(['DPTO'])[['INGLABO']].sum() #Agrupamos por departamento calculando sumando de Ingresos laborales para el mes de marzo\n",
        "\n",
        "I4 = ABRIL[(ABRIL['P6020']==1)] #Seleccionamos los hombres del mes de abril\n",
        "I4 = I4[['DPTO','INGLABO']]\n",
        "I4.INGLABO = I4.INGLABO.fillna(0) #Cambiamos los valores nulos por el valor de 0 en la variable de los ingresos\n",
        "I4 = I4.astype({\"DPTO\":'object', \"INGLABO\":'int64'}) #Transformamos el la variable DEPARTAMENTO a objeto y la variable INGRESOS LABORALES a entero\n",
        "I4 =I4.groupby(['DPTO'])[['INGLABO']].sum() #Agrupamos por departamento calculando sumando de Ingresos laborales para el mes de abril \n",
        "\n",
        "I5 = MAYO[(MAYO['P6020']==1)] #Seleccionamos los hombres del mes de mayo\n",
        "I5 = I5[['DPTO','INGLABO']]\n",
        "I5.INGLABO = I5.INGLABO.fillna(0) #Cambiamos los valores nulos por el valor de 0 en la variable de los ingresos\n",
        "I5 = I5.astype({\"DPTO\":'object', \"INGLABO\":'int64'}) #Transformamos el la variable DEPARTAMENTO a objeto y la variable INGRESOS LABORALES a entero\n",
        "I5 =I5.groupby(['DPTO'])[['INGLABO']].sum() #Agrupamos por departamento calculando sumando de Ingresos laborales para el mes de mayo\n",
        "\n",
        "I6 = JUNIO[(JUNIO['P6020']==1)] #Seleccionamos los hombres del mes de Junio\n",
        "I6 = I6[['DPTO','INGLABO']]\n",
        "I6.INGLABO = I6.INGLABO.fillna(0) #Cambiamos los valores nulos por el valor de 0 en la variable de los ingresos\n",
        "I6 = I6.astype({\"DPTO\":'object', \"INGLABO\":'int64'}) #Transformamos el la variable DEPARTAMENTO a objeto y la variable INGRESOS LABORALES a entero\n",
        "I6 =I6.groupby(['DPTO'])[['INGLABO']].sum() #Agrupamos por departamento calculando el sumando de Ingresos laborales para el mes de junio\n",
        "\n"
      ],
      "execution_count": 216,
      "outputs": []
    },
    {
      "cell_type": "code",
      "metadata": {
        "id": "XJRgh70SmrAP"
      },
      "source": [
        "###MUJERES\n",
        "M1 = ENERO[(ENERO['P6020']==2)]\n",
        "M1 = M1[['DPTO','INGLABO']]\n",
        "M1.INGLABO = M1.INGLABO.fillna(0) #Cambiamos los valores nulos por el valor de 0 en la variable de los ingresos\n",
        "M1 = M1.astype({\"DPTO\":'object', \"INGLABO\":'int64'}) #Transformamos el la variable DEPARTAMENTO a objeto y la variable INGRESOS LABORALES a entero\n",
        "M1 =M1.groupby(['DPTO'])[['INGLABO']].sum() #Agrupamos por departamento calculando sumando de Ingresos laborales para el mes de enero\n",
        "\n",
        "\n",
        "M2 = FEBRERO[(FEBRERO['P6020']==2)] #Seleccionamos los hombres del mes de febrero \n",
        "M2 = M2[['DPTO','INGLABO']]\n",
        "M2.INGLABO = M2.INGLABO.fillna(0) #Cambiamos los valores nulos por el valor de 0 en la variable de los ingresos\n",
        "M2 = M2.astype({\"DPTO\":'object', \"INGLABO\":'int64'}) #Transformamos el la variable DEPARTAMENTO a objeto y la variable INGRESOS LABORALES a entero\n",
        "M2 =M2.groupby(['DPTO'])[['INGLABO']].sum() #Agrupamos por departamento calculando  sumando de Ingresos laborales para el mes de febrero\n",
        "\n",
        "M3 = MARZO[(MARZO['P6020']==2)] #Seleccionamos los hombres del mes de marzo\n",
        "M3 = M3[['DPTO','INGLABO']]\n",
        "M3.INGLABO = M3.INGLABO.fillna(0) #Cambiamos los valores nulos por el valor de 0 en la variable de los ingresos\n",
        "M3 = M3.astype({\"DPTO\":'object', \"INGLABO\":'int64'}) #Transformamos el la variable DEPARTAMENTO a objeto y la variable INGRESOS LABORALES a entero\n",
        "M3 =M3.groupby(['DPTO'])[['INGLABO']].sum() #Agrupamos por departamento calculando sumando de Ingresos laborales para el mes de marzo\n",
        "\n",
        "M4 = ABRIL[(ABRIL['P6020']==2)] #Seleccionamos los hombres del mes de abril\n",
        "M4 = M4[['DPTO','INGLABO']]\n",
        "M4.INGLABO = M4.INGLABO.fillna(0) #Cambiamos los valores nulos por el valor de 0 en la variable de los ingresos\n",
        "M4 = M4.astype({\"DPTO\":'object', \"INGLABO\":'int64'}) #Transformamos el la variable DEPARTAMENTO a objeto y la variable INGRESOS LABORALES a entero\n",
        "M4 =M4.groupby(['DPTO'])[['INGLABO']].sum() #Agrupamos por departamento calculando sumando de Ingresos laborales para el mes de abril \n",
        "\n",
        "M5 = MAYO[(MAYO['P6020']==2)] #Seleccionamos los hombres del mes de mayo\n",
        "M5 = M5[['DPTO','INGLABO']]\n",
        "M5.INGLABO = M5.INGLABO.fillna(0) #Cambiamos los valores nulos por el valor de 0 en la variable de los ingresos\n",
        "M5 = M5.astype({\"DPTO\":'object', \"INGLABO\":'int64'}) #Transformamos el la variable DEPARTAMENTO a objeto y la variable INGRESOS LABORALES a entero\n",
        "M5 =M5.groupby(['DPTO'])[['INGLABO']].sum() #Agrupamos por departamento calculando sumando de Ingresos laborales para el mes de mayo\n",
        "\n",
        "M6 = JUNIO[(JUNIO['P6020']==2)] #Seleccionamos los hombres del mes de Junio\n",
        "M6 = M6[['DPTO','INGLABO']]\n",
        "M6.INGLABO = M6.INGLABO.fillna(0) #Cambiamos los valores nulos por el valor de 0 en la variable de los ingresos\n",
        "M6 = M6.astype({\"DPTO\":'object', \"INGLABO\":'int64'}) #Transformamos el la variable DEPARTAMENTO a objeto y la variable INGRESOS LABORALES a entero\n",
        "M6 =M6.groupby(['DPTO'])[['INGLABO']].sum() #Agrupamos por departamento calculando el sumando de Ingresos laborales para el mes de junio\n",
        "\n"
      ],
      "execution_count": 217,
      "outputs": []
    },
    {
      "cell_type": "markdown",
      "metadata": {
        "id": "yleitdyGnlw1"
      },
      "source": [
        "DIFERENCIAS EN LA SUMA TOTAL ENTRE LOS INGRESOS DE LAS HOMBRES Y LOS INGRESOS DE LAS MUJERES DE CADA DEPARTAMENTO PARA EL MES DE ENERO "
      ]
    },
    {
      "cell_type": "code",
      "metadata": {
        "colab": {
          "base_uri": "https://localhost:8080/",
          "height": 488
        },
        "id": "BCKWVjpenXLO",
        "outputId": "ed02dfc2-2921-4aea-dd93-febb6f929d67"
      },
      "source": [
        "I1-M1\n"
      ],
      "execution_count": 218,
      "outputs": [
        {
          "output_type": "execute_result",
          "data": {
            "text/html": [
              "<div>\n",
              "<style scoped>\n",
              "    .dataframe tbody tr th:only-of-type {\n",
              "        vertical-align: middle;\n",
              "    }\n",
              "\n",
              "    .dataframe tbody tr th {\n",
              "        vertical-align: top;\n",
              "    }\n",
              "\n",
              "    .dataframe thead th {\n",
              "        text-align: right;\n",
              "    }\n",
              "</style>\n",
              "<table border=\"1\" class=\"dataframe\">\n",
              "  <thead>\n",
              "    <tr style=\"text-align: right;\">\n",
              "      <th></th>\n",
              "      <th>INGLABO</th>\n",
              "    </tr>\n",
              "    <tr>\n",
              "      <th>DPTO</th>\n",
              "      <th></th>\n",
              "    </tr>\n",
              "  </thead>\n",
              "  <tbody>\n",
              "    <tr>\n",
              "      <th>5.0</th>\n",
              "      <td>558571230</td>\n",
              "    </tr>\n",
              "    <tr>\n",
              "      <th>8.0</th>\n",
              "      <td>252817462</td>\n",
              "    </tr>\n",
              "    <tr>\n",
              "      <th>11.0</th>\n",
              "      <td>164107818</td>\n",
              "    </tr>\n",
              "    <tr>\n",
              "      <th>13.0</th>\n",
              "      <td>245306713</td>\n",
              "    </tr>\n",
              "    <tr>\n",
              "      <th>17.0</th>\n",
              "      <td>111671768</td>\n",
              "    </tr>\n",
              "    <tr>\n",
              "      <th>23.0</th>\n",
              "      <td>212453322</td>\n",
              "    </tr>\n",
              "    <tr>\n",
              "      <th>50.0</th>\n",
              "      <td>142471538</td>\n",
              "    </tr>\n",
              "    <tr>\n",
              "      <th>52.0</th>\n",
              "      <td>271197081</td>\n",
              "    </tr>\n",
              "    <tr>\n",
              "      <th>54.0</th>\n",
              "      <td>117306155</td>\n",
              "    </tr>\n",
              "    <tr>\n",
              "      <th>66.0</th>\n",
              "      <td>157745846</td>\n",
              "    </tr>\n",
              "    <tr>\n",
              "      <th>68.0</th>\n",
              "      <td>161134085</td>\n",
              "    </tr>\n",
              "    <tr>\n",
              "      <th>73.0</th>\n",
              "      <td>82421478</td>\n",
              "    </tr>\n",
              "    <tr>\n",
              "      <th>76.0</th>\n",
              "      <td>209372658</td>\n",
              "    </tr>\n",
              "  </tbody>\n",
              "</table>\n",
              "</div>"
            ],
            "text/plain": [
              "        INGLABO\n",
              "DPTO           \n",
              "5.0   558571230\n",
              "8.0   252817462\n",
              "11.0  164107818\n",
              "13.0  245306713\n",
              "17.0  111671768\n",
              "23.0  212453322\n",
              "50.0  142471538\n",
              "52.0  271197081\n",
              "54.0  117306155\n",
              "66.0  157745846\n",
              "68.0  161134085\n",
              "73.0   82421478\n",
              "76.0  209372658"
            ]
          },
          "metadata": {},
          "execution_count": 218
        }
      ]
    },
    {
      "cell_type": "markdown",
      "metadata": {
        "id": "AkOAjNeJn_MV"
      },
      "source": [
        "DIFERENCIAS EN LA SUMA TOTAL ENTRE LOS INGRESOS DE LAS HOMBRES Y LOS INGRESOS DE LAS MUJERES DE CADA DEPARTAMENTO PARA EL MES DE FEBRERO"
      ]
    },
    {
      "cell_type": "code",
      "metadata": {
        "colab": {
          "base_uri": "https://localhost:8080/",
          "height": 488
        },
        "id": "2YCCJb4VnjUF",
        "outputId": "a2dbdf90-b553-4bdf-a93e-b25477fdcff5"
      },
      "source": [
        "I2-M2"
      ],
      "execution_count": 219,
      "outputs": [
        {
          "output_type": "execute_result",
          "data": {
            "text/html": [
              "<div>\n",
              "<style scoped>\n",
              "    .dataframe tbody tr th:only-of-type {\n",
              "        vertical-align: middle;\n",
              "    }\n",
              "\n",
              "    .dataframe tbody tr th {\n",
              "        vertical-align: top;\n",
              "    }\n",
              "\n",
              "    .dataframe thead th {\n",
              "        text-align: right;\n",
              "    }\n",
              "</style>\n",
              "<table border=\"1\" class=\"dataframe\">\n",
              "  <thead>\n",
              "    <tr style=\"text-align: right;\">\n",
              "      <th></th>\n",
              "      <th>INGLABO</th>\n",
              "    </tr>\n",
              "    <tr>\n",
              "      <th>DPTO</th>\n",
              "      <th></th>\n",
              "    </tr>\n",
              "  </thead>\n",
              "  <tbody>\n",
              "    <tr>\n",
              "      <th>5.0</th>\n",
              "      <td>263539373</td>\n",
              "    </tr>\n",
              "    <tr>\n",
              "      <th>8.0</th>\n",
              "      <td>368824690</td>\n",
              "    </tr>\n",
              "    <tr>\n",
              "      <th>11.0</th>\n",
              "      <td>100614525</td>\n",
              "    </tr>\n",
              "    <tr>\n",
              "      <th>13.0</th>\n",
              "      <td>209225257</td>\n",
              "    </tr>\n",
              "    <tr>\n",
              "      <th>17.0</th>\n",
              "      <td>193470998</td>\n",
              "    </tr>\n",
              "    <tr>\n",
              "      <th>23.0</th>\n",
              "      <td>101590756</td>\n",
              "    </tr>\n",
              "    <tr>\n",
              "      <th>50.0</th>\n",
              "      <td>200062100</td>\n",
              "    </tr>\n",
              "    <tr>\n",
              "      <th>52.0</th>\n",
              "      <td>133094502</td>\n",
              "    </tr>\n",
              "    <tr>\n",
              "      <th>54.0</th>\n",
              "      <td>115028326</td>\n",
              "    </tr>\n",
              "    <tr>\n",
              "      <th>66.0</th>\n",
              "      <td>150093284</td>\n",
              "    </tr>\n",
              "    <tr>\n",
              "      <th>68.0</th>\n",
              "      <td>68844261</td>\n",
              "    </tr>\n",
              "    <tr>\n",
              "      <th>73.0</th>\n",
              "      <td>101089774</td>\n",
              "    </tr>\n",
              "    <tr>\n",
              "      <th>76.0</th>\n",
              "      <td>194793610</td>\n",
              "    </tr>\n",
              "  </tbody>\n",
              "</table>\n",
              "</div>"
            ],
            "text/plain": [
              "        INGLABO\n",
              "DPTO           \n",
              "5.0   263539373\n",
              "8.0   368824690\n",
              "11.0  100614525\n",
              "13.0  209225257\n",
              "17.0  193470998\n",
              "23.0  101590756\n",
              "50.0  200062100\n",
              "52.0  133094502\n",
              "54.0  115028326\n",
              "66.0  150093284\n",
              "68.0   68844261\n",
              "73.0  101089774\n",
              "76.0  194793610"
            ]
          },
          "metadata": {},
          "execution_count": 219
        }
      ]
    },
    {
      "cell_type": "markdown",
      "metadata": {
        "id": "jmE2j8JUoDAV"
      },
      "source": [
        "DIFERENCIAS EN LA SUMA TOTAL ENTRE LOS INGRESOS DE LAS HOMBRES Y LOS INGRESOS DE LAS MUJERES DE CADA DEPARTAMENTO PARA EL MES DE MARZO"
      ]
    },
    {
      "cell_type": "code",
      "metadata": {
        "colab": {
          "base_uri": "https://localhost:8080/",
          "height": 488
        },
        "id": "mXZ6AhMqn3Rf",
        "outputId": "80150e2f-85fb-4776-eccc-bb94adfe4013"
      },
      "source": [
        "I3-M3"
      ],
      "execution_count": 220,
      "outputs": [
        {
          "output_type": "execute_result",
          "data": {
            "text/html": [
              "<div>\n",
              "<style scoped>\n",
              "    .dataframe tbody tr th:only-of-type {\n",
              "        vertical-align: middle;\n",
              "    }\n",
              "\n",
              "    .dataframe tbody tr th {\n",
              "        vertical-align: top;\n",
              "    }\n",
              "\n",
              "    .dataframe thead th {\n",
              "        text-align: right;\n",
              "    }\n",
              "</style>\n",
              "<table border=\"1\" class=\"dataframe\">\n",
              "  <thead>\n",
              "    <tr style=\"text-align: right;\">\n",
              "      <th></th>\n",
              "      <th>INGLABO</th>\n",
              "    </tr>\n",
              "    <tr>\n",
              "      <th>DPTO</th>\n",
              "      <th></th>\n",
              "    </tr>\n",
              "  </thead>\n",
              "  <tbody>\n",
              "    <tr>\n",
              "      <th>5.0</th>\n",
              "      <td>300092040</td>\n",
              "    </tr>\n",
              "    <tr>\n",
              "      <th>8.0</th>\n",
              "      <td>368293288</td>\n",
              "    </tr>\n",
              "    <tr>\n",
              "      <th>11.0</th>\n",
              "      <td>212206580</td>\n",
              "    </tr>\n",
              "    <tr>\n",
              "      <th>13.0</th>\n",
              "      <td>185710869</td>\n",
              "    </tr>\n",
              "    <tr>\n",
              "      <th>17.0</th>\n",
              "      <td>35506379</td>\n",
              "    </tr>\n",
              "    <tr>\n",
              "      <th>23.0</th>\n",
              "      <td>182979721</td>\n",
              "    </tr>\n",
              "    <tr>\n",
              "      <th>50.0</th>\n",
              "      <td>132636526</td>\n",
              "    </tr>\n",
              "    <tr>\n",
              "      <th>52.0</th>\n",
              "      <td>105750925</td>\n",
              "    </tr>\n",
              "    <tr>\n",
              "      <th>54.0</th>\n",
              "      <td>116809788</td>\n",
              "    </tr>\n",
              "    <tr>\n",
              "      <th>66.0</th>\n",
              "      <td>149006099</td>\n",
              "    </tr>\n",
              "    <tr>\n",
              "      <th>68.0</th>\n",
              "      <td>185427400</td>\n",
              "    </tr>\n",
              "    <tr>\n",
              "      <th>73.0</th>\n",
              "      <td>94858588</td>\n",
              "    </tr>\n",
              "    <tr>\n",
              "      <th>76.0</th>\n",
              "      <td>232389520</td>\n",
              "    </tr>\n",
              "  </tbody>\n",
              "</table>\n",
              "</div>"
            ],
            "text/plain": [
              "        INGLABO\n",
              "DPTO           \n",
              "5.0   300092040\n",
              "8.0   368293288\n",
              "11.0  212206580\n",
              "13.0  185710869\n",
              "17.0   35506379\n",
              "23.0  182979721\n",
              "50.0  132636526\n",
              "52.0  105750925\n",
              "54.0  116809788\n",
              "66.0  149006099\n",
              "68.0  185427400\n",
              "73.0   94858588\n",
              "76.0  232389520"
            ]
          },
          "metadata": {},
          "execution_count": 220
        }
      ]
    },
    {
      "cell_type": "markdown",
      "metadata": {
        "id": "KZdN1BCgoFBJ"
      },
      "source": [
        "DIFERENCIAS EN LA SUMA TOTAL ENTRE LOS INGRESOS DE LAS HOMBRES Y LOS INGRESOS DE LAS MUJERES DE CADA DEPARTAMENTO PARA EL MES DE ABRIL"
      ]
    },
    {
      "cell_type": "code",
      "metadata": {
        "colab": {
          "base_uri": "https://localhost:8080/",
          "height": 488
        },
        "id": "sQib_mAtn5Jo",
        "outputId": "be9cd867-5d05-4d78-8559-e3e488dae9eb"
      },
      "source": [
        "I4-M4"
      ],
      "execution_count": 221,
      "outputs": [
        {
          "output_type": "execute_result",
          "data": {
            "text/html": [
              "<div>\n",
              "<style scoped>\n",
              "    .dataframe tbody tr th:only-of-type {\n",
              "        vertical-align: middle;\n",
              "    }\n",
              "\n",
              "    .dataframe tbody tr th {\n",
              "        vertical-align: top;\n",
              "    }\n",
              "\n",
              "    .dataframe thead th {\n",
              "        text-align: right;\n",
              "    }\n",
              "</style>\n",
              "<table border=\"1\" class=\"dataframe\">\n",
              "  <thead>\n",
              "    <tr style=\"text-align: right;\">\n",
              "      <th></th>\n",
              "      <th>INGLABO</th>\n",
              "    </tr>\n",
              "    <tr>\n",
              "      <th>DPTO</th>\n",
              "      <th></th>\n",
              "    </tr>\n",
              "  </thead>\n",
              "  <tbody>\n",
              "    <tr>\n",
              "      <th>5.0</th>\n",
              "      <td>379750270</td>\n",
              "    </tr>\n",
              "    <tr>\n",
              "      <th>8.0</th>\n",
              "      <td>210337295</td>\n",
              "    </tr>\n",
              "    <tr>\n",
              "      <th>11.0</th>\n",
              "      <td>149984854</td>\n",
              "    </tr>\n",
              "    <tr>\n",
              "      <th>13.0</th>\n",
              "      <td>218355168</td>\n",
              "    </tr>\n",
              "    <tr>\n",
              "      <th>17.0</th>\n",
              "      <td>64803862</td>\n",
              "    </tr>\n",
              "    <tr>\n",
              "      <th>23.0</th>\n",
              "      <td>147618917</td>\n",
              "    </tr>\n",
              "    <tr>\n",
              "      <th>50.0</th>\n",
              "      <td>177808422</td>\n",
              "    </tr>\n",
              "    <tr>\n",
              "      <th>52.0</th>\n",
              "      <td>106820837</td>\n",
              "    </tr>\n",
              "    <tr>\n",
              "      <th>54.0</th>\n",
              "      <td>111726284</td>\n",
              "    </tr>\n",
              "    <tr>\n",
              "      <th>66.0</th>\n",
              "      <td>193301974</td>\n",
              "    </tr>\n",
              "    <tr>\n",
              "      <th>68.0</th>\n",
              "      <td>116326448</td>\n",
              "    </tr>\n",
              "    <tr>\n",
              "      <th>73.0</th>\n",
              "      <td>173120837</td>\n",
              "    </tr>\n",
              "    <tr>\n",
              "      <th>76.0</th>\n",
              "      <td>197824580</td>\n",
              "    </tr>\n",
              "  </tbody>\n",
              "</table>\n",
              "</div>"
            ],
            "text/plain": [
              "        INGLABO\n",
              "DPTO           \n",
              "5.0   379750270\n",
              "8.0   210337295\n",
              "11.0  149984854\n",
              "13.0  218355168\n",
              "17.0   64803862\n",
              "23.0  147618917\n",
              "50.0  177808422\n",
              "52.0  106820837\n",
              "54.0  111726284\n",
              "66.0  193301974\n",
              "68.0  116326448\n",
              "73.0  173120837\n",
              "76.0  197824580"
            ]
          },
          "metadata": {},
          "execution_count": 221
        }
      ]
    },
    {
      "cell_type": "markdown",
      "metadata": {
        "id": "gW1pakHWoHrr"
      },
      "source": [
        "DIFERENCIAS EN LA SUMA TOTAL ENTRE LOS INGRESOS DE LAS HOMBRES Y LOS INGRESOS DE LAS MUJERES DE CADA DEPARTAMENTO PARA EL MES DE MAYO"
      ]
    },
    {
      "cell_type": "code",
      "metadata": {
        "colab": {
          "base_uri": "https://localhost:8080/",
          "height": 488
        },
        "id": "MWoLytnxn6QK",
        "outputId": "8f41d4e2-36cc-4b84-a054-1c0e263851b5"
      },
      "source": [
        "I5-M5"
      ],
      "execution_count": 222,
      "outputs": [
        {
          "output_type": "execute_result",
          "data": {
            "text/html": [
              "<div>\n",
              "<style scoped>\n",
              "    .dataframe tbody tr th:only-of-type {\n",
              "        vertical-align: middle;\n",
              "    }\n",
              "\n",
              "    .dataframe tbody tr th {\n",
              "        vertical-align: top;\n",
              "    }\n",
              "\n",
              "    .dataframe thead th {\n",
              "        text-align: right;\n",
              "    }\n",
              "</style>\n",
              "<table border=\"1\" class=\"dataframe\">\n",
              "  <thead>\n",
              "    <tr style=\"text-align: right;\">\n",
              "      <th></th>\n",
              "      <th>INGLABO</th>\n",
              "    </tr>\n",
              "    <tr>\n",
              "      <th>DPTO</th>\n",
              "      <th></th>\n",
              "    </tr>\n",
              "  </thead>\n",
              "  <tbody>\n",
              "    <tr>\n",
              "      <th>5.0</th>\n",
              "      <td>387045009</td>\n",
              "    </tr>\n",
              "    <tr>\n",
              "      <th>8.0</th>\n",
              "      <td>306023104</td>\n",
              "    </tr>\n",
              "    <tr>\n",
              "      <th>11.0</th>\n",
              "      <td>162645532</td>\n",
              "    </tr>\n",
              "    <tr>\n",
              "      <th>13.0</th>\n",
              "      <td>178008722</td>\n",
              "    </tr>\n",
              "    <tr>\n",
              "      <th>17.0</th>\n",
              "      <td>41454464</td>\n",
              "    </tr>\n",
              "    <tr>\n",
              "      <th>23.0</th>\n",
              "      <td>145814867</td>\n",
              "    </tr>\n",
              "    <tr>\n",
              "      <th>50.0</th>\n",
              "      <td>216816900</td>\n",
              "    </tr>\n",
              "    <tr>\n",
              "      <th>52.0</th>\n",
              "      <td>58169912</td>\n",
              "    </tr>\n",
              "    <tr>\n",
              "      <th>54.0</th>\n",
              "      <td>149983679</td>\n",
              "    </tr>\n",
              "    <tr>\n",
              "      <th>66.0</th>\n",
              "      <td>163487538</td>\n",
              "    </tr>\n",
              "    <tr>\n",
              "      <th>68.0</th>\n",
              "      <td>226465687</td>\n",
              "    </tr>\n",
              "    <tr>\n",
              "      <th>73.0</th>\n",
              "      <td>182924048</td>\n",
              "    </tr>\n",
              "    <tr>\n",
              "      <th>76.0</th>\n",
              "      <td>134877096</td>\n",
              "    </tr>\n",
              "  </tbody>\n",
              "</table>\n",
              "</div>"
            ],
            "text/plain": [
              "        INGLABO\n",
              "DPTO           \n",
              "5.0   387045009\n",
              "8.0   306023104\n",
              "11.0  162645532\n",
              "13.0  178008722\n",
              "17.0   41454464\n",
              "23.0  145814867\n",
              "50.0  216816900\n",
              "52.0   58169912\n",
              "54.0  149983679\n",
              "66.0  163487538\n",
              "68.0  226465687\n",
              "73.0  182924048\n",
              "76.0  134877096"
            ]
          },
          "metadata": {},
          "execution_count": 222
        }
      ]
    },
    {
      "cell_type": "markdown",
      "metadata": {
        "id": "7wmFJgOtoJkh"
      },
      "source": [
        "DIFERENCIAS EN LA SUMA TOTAL ENTRE LOS INGRESOS DE LAS HOMBRES Y LOS INGRESOS DE LAS MUJERES DE CADA DEPARTAMENTO PARA EL MES DE JUNIO"
      ]
    },
    {
      "cell_type": "code",
      "metadata": {
        "colab": {
          "base_uri": "https://localhost:8080/",
          "height": 488
        },
        "id": "FdYEGFmrn74n",
        "outputId": "f6054267-4cba-4481-bc03-dc6be9fec06a"
      },
      "source": [
        "I6-M6"
      ],
      "execution_count": 223,
      "outputs": [
        {
          "output_type": "execute_result",
          "data": {
            "text/html": [
              "<div>\n",
              "<style scoped>\n",
              "    .dataframe tbody tr th:only-of-type {\n",
              "        vertical-align: middle;\n",
              "    }\n",
              "\n",
              "    .dataframe tbody tr th {\n",
              "        vertical-align: top;\n",
              "    }\n",
              "\n",
              "    .dataframe thead th {\n",
              "        text-align: right;\n",
              "    }\n",
              "</style>\n",
              "<table border=\"1\" class=\"dataframe\">\n",
              "  <thead>\n",
              "    <tr style=\"text-align: right;\">\n",
              "      <th></th>\n",
              "      <th>INGLABO</th>\n",
              "    </tr>\n",
              "    <tr>\n",
              "      <th>DPTO</th>\n",
              "      <th></th>\n",
              "    </tr>\n",
              "  </thead>\n",
              "  <tbody>\n",
              "    <tr>\n",
              "      <th>5.0</th>\n",
              "      <td>322951444</td>\n",
              "    </tr>\n",
              "    <tr>\n",
              "      <th>8.0</th>\n",
              "      <td>286687848</td>\n",
              "    </tr>\n",
              "    <tr>\n",
              "      <th>11.0</th>\n",
              "      <td>150357034</td>\n",
              "    </tr>\n",
              "    <tr>\n",
              "      <th>13.0</th>\n",
              "      <td>127984093</td>\n",
              "    </tr>\n",
              "    <tr>\n",
              "      <th>17.0</th>\n",
              "      <td>152414933</td>\n",
              "    </tr>\n",
              "    <tr>\n",
              "      <th>23.0</th>\n",
              "      <td>181825789</td>\n",
              "    </tr>\n",
              "    <tr>\n",
              "      <th>50.0</th>\n",
              "      <td>47835231</td>\n",
              "    </tr>\n",
              "    <tr>\n",
              "      <th>52.0</th>\n",
              "      <td>116169209</td>\n",
              "    </tr>\n",
              "    <tr>\n",
              "      <th>54.0</th>\n",
              "      <td>153711916</td>\n",
              "    </tr>\n",
              "    <tr>\n",
              "      <th>66.0</th>\n",
              "      <td>224464193</td>\n",
              "    </tr>\n",
              "    <tr>\n",
              "      <th>68.0</th>\n",
              "      <td>181888711</td>\n",
              "    </tr>\n",
              "    <tr>\n",
              "      <th>73.0</th>\n",
              "      <td>73005938</td>\n",
              "    </tr>\n",
              "    <tr>\n",
              "      <th>76.0</th>\n",
              "      <td>121287803</td>\n",
              "    </tr>\n",
              "  </tbody>\n",
              "</table>\n",
              "</div>"
            ],
            "text/plain": [
              "        INGLABO\n",
              "DPTO           \n",
              "5.0   322951444\n",
              "8.0   286687848\n",
              "11.0  150357034\n",
              "13.0  127984093\n",
              "17.0  152414933\n",
              "23.0  181825789\n",
              "50.0   47835231\n",
              "52.0  116169209\n",
              "54.0  153711916\n",
              "66.0  224464193\n",
              "68.0  181888711\n",
              "73.0   73005938\n",
              "76.0  121287803"
            ]
          },
          "metadata": {},
          "execution_count": 223
        }
      ]
    },
    {
      "cell_type": "code",
      "metadata": {
        "colab": {
          "base_uri": "https://localhost:8080/"
        },
        "id": "qGBHFkW7pNzI",
        "outputId": "e60893b4-bdf7-4d4f-f8b7-072776689341"
      },
      "source": [
        "(I1-M1).max(),(I2-M2).max(),(I3-M3).max(),(I4-M4).max(),(I5-M5).max(),(I6-M6).max()"
      ],
      "execution_count": 224,
      "outputs": [
        {
          "output_type": "execute_result",
          "data": {
            "text/plain": [
              "(INGLABO    558571230\n",
              " dtype: int64, INGLABO    368824690\n",
              " dtype: int64, INGLABO    368293288\n",
              " dtype: int64, INGLABO    379750270\n",
              " dtype: int64, INGLABO    387045009\n",
              " dtype: int64, INGLABO    322951444\n",
              " dtype: int64)"
            ]
          },
          "metadata": {},
          "execution_count": 224
        }
      ]
    },
    {
      "cell_type": "code",
      "metadata": {
        "colab": {
          "base_uri": "https://localhost:8080/"
        },
        "id": "ktGvRpmopt9t",
        "outputId": "6eaac40a-c672-4e56-decf-540210ec28ae"
      },
      "source": [
        "(I1-M1).min(),(I2-M2).min(),(I3-M3).min(),(I4-M4).min(),(I5-M5).min(),(I6-M6).min()"
      ],
      "execution_count": 225,
      "outputs": [
        {
          "output_type": "execute_result",
          "data": {
            "text/plain": [
              "(INGLABO    82421478\n",
              " dtype: int64, INGLABO    68844261\n",
              " dtype: int64, INGLABO    35506379\n",
              " dtype: int64, INGLABO    64803862\n",
              " dtype: int64, INGLABO    41454464\n",
              " dtype: int64, INGLABO    47835231\n",
              " dtype: int64)"
            ]
          },
          "metadata": {},
          "execution_count": 225
        }
      ]
    },
    {
      "cell_type": "markdown",
      "metadata": {
        "id": "PRoZTytYomsX"
      },
      "source": [
        "- De acuerdo a las tablas anterior dado que ningún valor da negativo incluso siendo las diferencias muy grandes entre los ingresos de los hombres y los ingresos de las mujeres, deduciendo que los ingresos para el sexo masculino son muchos más grandes con respecto al sexo femenino. \n",
        "Siendo la diferencia más grande en el mes de enero de $558'571.230 de ingresos totales en el departamento de Antioquia y la más pequeña se presenta en el mes de marzo de  35'506.379 de ingresos totales en el departamento de Caldas."
      ]
    },
    {
      "cell_type": "markdown",
      "metadata": {
        "id": "QPGeA6jJ8KfH"
      },
      "source": [
        "PI4"
      ]
    },
    {
      "cell_type": "code",
      "metadata": {
        "id": "Ahj1PE1Q9p0u",
        "colab": {
          "base_uri": "https://localhost:8080/"
        },
        "outputId": "8ecbfe06-6cd9-433c-cbc5-23a86d37839a"
      },
      "source": [
        "P4 = GLB[GLB.DPTO.isin([5,11])]\n",
        "P4 = P4[['DPTO','P3147S3','P3147S7']]\n",
        "P4.P3147S3.replace(' ', np.NaN)\n",
        "P4.P3147S7.replace(' ', np.NaN)\n",
        "P4.P3147S3 = P4.P3147S3.fillna(0)\n",
        "P4.P3147S7 = P4.P3147S7.fillna(0)\n",
        "P4 = P4.astype({\"DPTO\":'object', \"P3147S3\":'int64', \"P3147S7\":'int64'})\n",
        "P44 = P4.groupby('DPTO').mean()\n",
        "print(P44)\n",
        "A = len(GLB['DPTO']==5)\n",
        "B = len(GLB['DPTO']==11)\n",
        "print('---------------------------')\n",
        "print(f'Cantidad de personas que respondieron a las preguntas en el departamento de Antioquia: {A}')\n",
        "print(f'Cantidad de personas que respondieron a las preguntas en Bogotá D.C.: {B}')"
      ],
      "execution_count": 226,
      "outputs": [
        {
          "output_type": "stream",
          "name": "stdout",
          "text": [
            "       P3147S3   P3147S7\n",
            "DPTO                    \n",
            "5.0   0.154203  0.131688\n",
            "11.0  0.183721  0.175598\n",
            "---------------------------\n",
            "Cantidad de personas que respondieron a las preguntas en el departamento de Antioquia: 169976\n",
            "Cantidad de personas que respondieron a las preguntas en Bogotá D.C.: 169976\n"
          ]
        }
      ]
    },
    {
      "cell_type": "markdown",
      "metadata": {
        "id": "UYJ4PcTgMigQ"
      },
      "source": [
        "¿Existe una diferencia de medias entre las personas que tuvieron porblemas para pagar facturas en los departamentos de Antioqia y Bogotá D.C. ?\n",
        "\n",
        "***Rta:*** Se evidencia que si hay una clara diferencia de medias entre las muestras de Bogotá y Antioquia, de hecho, tambien se evidencia que a comparacion de Antioquia, en Bogotá hay o hubo mas personas que perdieron el trabajo debido a la **pandemia**, lo que claro, es causante de tener dificultades para el pago de facturas. Tal vez porque Bogotá es una ciudad de mas de manufactura que agriculturera, y en medio de la pandemia, el sector de la agricultura fue de los que mas se movio, mientras que el sector de manufactura fue de los que mas se detuvo.\n",
        "\n",
        "Ademas, nos muestra que la poblacion que tiene o tuvo problemas para pagar facturas, es casi la misma poblacion que perdio el trabajo debido a la **pandemia**.\n",
        "\n",
        "\n"
      ]
    },
    {
      "cell_type": "markdown",
      "metadata": {
        "id": "A2W_tYAeZHTT"
      },
      "source": [
        "PI5\n"
      ]
    },
    {
      "cell_type": "code",
      "metadata": {
        "id": "X1DtsrG99ppb",
        "colab": {
          "base_uri": "https://localhost:8080/"
        },
        "outputId": "1b2ffc37-99f9-46b7-d254-6b1620203083"
      },
      "source": [
        "H = GLB[GLB['P6020']==1]\n",
        "M = GLB[GLB['P6020']==2]\n",
        "\n",
        "H1 = H[['P7470','P6210']]\n",
        "M1 = M[['P7470','P6210']]\n",
        "\n",
        "H1.P6210.replace(' ', np.NaN)\n",
        "H1.P6210 = H1.P6210.fillna(0)\n",
        "\n",
        "M1.P6210.replace(' ', np.NaN)\n",
        "M1.P6210 = M1.P6210.fillna(0)\n",
        "\n",
        "H1.P7470.replace(' ', np.NaN)\n",
        "H1.P7470 = H1.P7470.fillna(0)\n",
        "\n",
        "M1.P7470.replace(' ', np.NaN)\n",
        "M1.P7470 = M1.P7470.fillna(0)\n",
        "\n",
        "H1 = H1.astype({ \"P7470\":'int64','P6210':'str'})\n",
        "M1 = M1.astype({ \"P7470\":'int64','P6210':'str'})"
      ],
      "execution_count": 227,
      "outputs": [
        {
          "output_type": "stream",
          "name": "stderr",
          "text": [
            "/usr/local/lib/python3.7/dist-packages/pandas/core/generic.py:5170: SettingWithCopyWarning: \n",
            "A value is trying to be set on a copy of a slice from a DataFrame.\n",
            "Try using .loc[row_indexer,col_indexer] = value instead\n",
            "\n",
            "See the caveats in the documentation: https://pandas.pydata.org/pandas-docs/stable/user_guide/indexing.html#returning-a-view-versus-a-copy\n",
            "  self[name] = value\n"
          ]
        }
      ]
    },
    {
      "cell_type": "code",
      "metadata": {
        "id": "30MEi2Ti90fV",
        "colab": {
          "base_uri": "https://localhost:8080/",
          "height": 424
        },
        "outputId": "ff78f3d8-5cf5-4943-d367-970b26337733"
      },
      "source": [
        "H1"
      ],
      "execution_count": 228,
      "outputs": [
        {
          "output_type": "execute_result",
          "data": {
            "text/html": [
              "<div>\n",
              "<style scoped>\n",
              "    .dataframe tbody tr th:only-of-type {\n",
              "        vertical-align: middle;\n",
              "    }\n",
              "\n",
              "    .dataframe tbody tr th {\n",
              "        vertical-align: top;\n",
              "    }\n",
              "\n",
              "    .dataframe thead th {\n",
              "        text-align: right;\n",
              "    }\n",
              "</style>\n",
              "<table border=\"1\" class=\"dataframe\">\n",
              "  <thead>\n",
              "    <tr style=\"text-align: right;\">\n",
              "      <th></th>\n",
              "      <th></th>\n",
              "      <th>P7470</th>\n",
              "      <th>P6210</th>\n",
              "    </tr>\n",
              "  </thead>\n",
              "  <tbody>\n",
              "    <tr>\n",
              "      <th rowspan=\"5\" valign=\"top\">ENERO</th>\n",
              "      <th>1</th>\n",
              "      <td>0</td>\n",
              "      <td>5</td>\n",
              "    </tr>\n",
              "    <tr>\n",
              "      <th>3</th>\n",
              "      <td>0</td>\n",
              "      <td>5</td>\n",
              "    </tr>\n",
              "    <tr>\n",
              "      <th>5</th>\n",
              "      <td>0</td>\n",
              "      <td>4</td>\n",
              "    </tr>\n",
              "    <tr>\n",
              "      <th>6</th>\n",
              "      <td>0</td>\n",
              "      <td>3</td>\n",
              "    </tr>\n",
              "    <tr>\n",
              "      <th>7</th>\n",
              "      <td>0</td>\n",
              "      <td>3</td>\n",
              "    </tr>\n",
              "    <tr>\n",
              "      <th>...</th>\n",
              "      <th>...</th>\n",
              "      <td>...</td>\n",
              "      <td>...</td>\n",
              "    </tr>\n",
              "    <tr>\n",
              "      <th rowspan=\"5\" valign=\"top\">JUNIO</th>\n",
              "      <th>27716</th>\n",
              "      <td>0</td>\n",
              "      <td>5</td>\n",
              "    </tr>\n",
              "    <tr>\n",
              "      <th>27722</th>\n",
              "      <td>0</td>\n",
              "      <td>6</td>\n",
              "    </tr>\n",
              "    <tr>\n",
              "      <th>27723</th>\n",
              "      <td>0</td>\n",
              "      <td>6</td>\n",
              "    </tr>\n",
              "    <tr>\n",
              "      <th>27725</th>\n",
              "      <td>0</td>\n",
              "      <td>3</td>\n",
              "    </tr>\n",
              "    <tr>\n",
              "      <th>27729</th>\n",
              "      <td>0</td>\n",
              "      <td>3</td>\n",
              "    </tr>\n",
              "  </tbody>\n",
              "</table>\n",
              "<p>79424 rows × 2 columns</p>\n",
              "</div>"
            ],
            "text/plain": [
              "             P7470 P6210\n",
              "ENERO 1          0     5\n",
              "      3          0     5\n",
              "      5          0     4\n",
              "      6          0     3\n",
              "      7          0     3\n",
              "...            ...   ...\n",
              "JUNIO 27716      0     5\n",
              "      27722      0     6\n",
              "      27723      0     6\n",
              "      27725      0     3\n",
              "      27729      0     3\n",
              "\n",
              "[79424 rows x 2 columns]"
            ]
          },
          "metadata": {},
          "execution_count": 228
        }
      ]
    },
    {
      "cell_type": "code",
      "metadata": {
        "id": "wPODSoYMya-q",
        "colab": {
          "base_uri": "https://localhost:8080/",
          "height": 332
        },
        "outputId": "cf215d92-e3da-4851-b0a4-99d854c49811"
      },
      "source": [
        "A = H1.groupby('P6210').count()\n",
        "A"
      ],
      "execution_count": 229,
      "outputs": [
        {
          "output_type": "execute_result",
          "data": {
            "text/html": [
              "<div>\n",
              "<style scoped>\n",
              "    .dataframe tbody tr th:only-of-type {\n",
              "        vertical-align: middle;\n",
              "    }\n",
              "\n",
              "    .dataframe tbody tr th {\n",
              "        vertical-align: top;\n",
              "    }\n",
              "\n",
              "    .dataframe thead th {\n",
              "        text-align: right;\n",
              "    }\n",
              "</style>\n",
              "<table border=\"1\" class=\"dataframe\">\n",
              "  <thead>\n",
              "    <tr style=\"text-align: right;\">\n",
              "      <th></th>\n",
              "      <th>P7470</th>\n",
              "    </tr>\n",
              "    <tr>\n",
              "      <th>P6210</th>\n",
              "      <th></th>\n",
              "    </tr>\n",
              "  </thead>\n",
              "  <tbody>\n",
              "    <tr>\n",
              "      <th>0</th>\n",
              "      <td>2780</td>\n",
              "    </tr>\n",
              "    <tr>\n",
              "      <th>1</th>\n",
              "      <td>2955</td>\n",
              "    </tr>\n",
              "    <tr>\n",
              "      <th>2</th>\n",
              "      <td>1983</td>\n",
              "    </tr>\n",
              "    <tr>\n",
              "      <th>3</th>\n",
              "      <td>16702</td>\n",
              "    </tr>\n",
              "    <tr>\n",
              "      <th>4</th>\n",
              "      <td>13885</td>\n",
              "    </tr>\n",
              "    <tr>\n",
              "      <th>5</th>\n",
              "      <td>21724</td>\n",
              "    </tr>\n",
              "    <tr>\n",
              "      <th>6</th>\n",
              "      <td>19384</td>\n",
              "    </tr>\n",
              "    <tr>\n",
              "      <th>9</th>\n",
              "      <td>11</td>\n",
              "    </tr>\n",
              "  </tbody>\n",
              "</table>\n",
              "</div>"
            ],
            "text/plain": [
              "       P7470\n",
              "P6210       \n",
              "0       2780\n",
              "1       2955\n",
              "2       1983\n",
              "3      16702\n",
              "4      13885\n",
              "5      21724\n",
              "6      19384\n",
              "9         11"
            ]
          },
          "metadata": {},
          "execution_count": 229
        }
      ]
    },
    {
      "cell_type": "code",
      "metadata": {
        "id": "_Rm6MCXz125d",
        "colab": {
          "base_uri": "https://localhost:8080/",
          "height": 332
        },
        "outputId": "4eb9fd0f-66b1-4290-a7b2-b89fa9be6168"
      },
      "source": [
        "B = M1.groupby('P6210').count()\n",
        "B"
      ],
      "execution_count": 230,
      "outputs": [
        {
          "output_type": "execute_result",
          "data": {
            "text/html": [
              "<div>\n",
              "<style scoped>\n",
              "    .dataframe tbody tr th:only-of-type {\n",
              "        vertical-align: middle;\n",
              "    }\n",
              "\n",
              "    .dataframe tbody tr th {\n",
              "        vertical-align: top;\n",
              "    }\n",
              "\n",
              "    .dataframe thead th {\n",
              "        text-align: right;\n",
              "    }\n",
              "</style>\n",
              "<table border=\"1\" class=\"dataframe\">\n",
              "  <thead>\n",
              "    <tr style=\"text-align: right;\">\n",
              "      <th></th>\n",
              "      <th>P7470</th>\n",
              "    </tr>\n",
              "    <tr>\n",
              "      <th>P6210</th>\n",
              "      <th></th>\n",
              "    </tr>\n",
              "  </thead>\n",
              "  <tbody>\n",
              "    <tr>\n",
              "      <th>0</th>\n",
              "      <td>2722</td>\n",
              "    </tr>\n",
              "    <tr>\n",
              "      <th>1</th>\n",
              "      <td>3415</td>\n",
              "    </tr>\n",
              "    <tr>\n",
              "      <th>2</th>\n",
              "      <td>1864</td>\n",
              "    </tr>\n",
              "    <tr>\n",
              "      <th>3</th>\n",
              "      <td>19688</td>\n",
              "    </tr>\n",
              "    <tr>\n",
              "      <th>4</th>\n",
              "      <td>14154</td>\n",
              "    </tr>\n",
              "    <tr>\n",
              "      <th>5</th>\n",
              "      <td>24113</td>\n",
              "    </tr>\n",
              "    <tr>\n",
              "      <th>6</th>\n",
              "      <td>24585</td>\n",
              "    </tr>\n",
              "    <tr>\n",
              "      <th>9</th>\n",
              "      <td>11</td>\n",
              "    </tr>\n",
              "  </tbody>\n",
              "</table>\n",
              "</div>"
            ],
            "text/plain": [
              "       P7470\n",
              "P6210       \n",
              "0       2722\n",
              "1       3415\n",
              "2       1864\n",
              "3      19688\n",
              "4      14154\n",
              "5      24113\n",
              "6      24585\n",
              "9         11"
            ]
          },
          "metadata": {},
          "execution_count": 230
        }
      ]
    },
    {
      "cell_type": "code",
      "metadata": {
        "colab": {
          "base_uri": "https://localhost:8080/",
          "height": 312
        },
        "id": "HDP9Uyy71_Eg",
        "outputId": "b4a92916-a4d7-4080-cb29-0c3bada19a32"
      },
      "source": [
        "s = [\"Basica Primaria\",\"Básica secundaria\",\"Media\",\"Superior o universitaria\"]\n",
        "m = [19688,14154,24113,24585]\n",
        "plt.bar(s,m,color='tab:green',width=0.45)\n",
        "plt.title(\"DISTRIBUCION DE ESCOLARIDAD MAXIMA ALCANZADA POR MUJERES CON AHORROS EN FONDO DE PENSIONES\")\n",
        "plt.ylabel(\"PERSONAS\")\n",
        "plt.xlabel(\"ESCOLARIDAD\")"
      ],
      "execution_count": 231,
      "outputs": [
        {
          "output_type": "execute_result",
          "data": {
            "text/plain": [
              "Text(0.5, 0, 'ESCOLARIDAD')"
            ]
          },
          "metadata": {},
          "execution_count": 231
        },
        {
          "output_type": "display_data",
          "data": {
            "image/png": "[encoded data removed]",
            "text/plain": [
              "<Figure size 432x288 with 1 Axes>"
            ]
          },
          "metadata": {
            "needs_background": "light"
          }
        }
      ]
    },
    {
      "cell_type": "code",
      "metadata": {
        "id": "gj7l2uhQ9pkT",
        "colab": {
          "base_uri": "https://localhost:8080/",
          "height": 312
        },
        "outputId": "aa035166-d45b-459f-b552-8aed428dab1a"
      },
      "source": [
        "s = [\"Basica Primaria\",\"Básica secundaria\",\"Media\",\"Superior o universitaria\"]\n",
        "m = [16702,13885,21724,19384]\n",
        "plt.bar(s,m,color='tab:red',width=0.45)\n",
        "plt.title(\"DISTRIBUCION DE ESCOLARIDAD MAXIMA ALCANZADA POR HOMBRES CON AHORROS EN FONDO DE PENSIONES\")\n",
        "plt.ylabel(\"PERSONAS\")\n",
        "plt.xlabel(\"ESCOLARIDAD\")"
      ],
      "execution_count": 232,
      "outputs": [
        {
          "output_type": "execute_result",
          "data": {
            "text/plain": [
              "Text(0.5, 0, 'ESCOLARIDAD')"
            ]
          },
          "metadata": {},
          "execution_count": 232
        },
        {
          "output_type": "display_data",
          "data": {
            "image/png": "[encoded data removed]",
            "text/plain": [
              "<Figure size 432x288 with 1 Axes>"
            ]
          },
          "metadata": {
            "needs_background": "light"
          }
        }
      ]
    },
    {
      "cell_type": "markdown",
      "metadata": {
        "id": "McHiDqod2WRf"
      },
      "source": [
        "¿Existe relacion entre el nivel de educacion maximo alcanzado con el ahorro en un fondo de pensiones ?\n",
        "\n",
        "***Rta:*** Dado los calculos y analisis anteriores, podemos observar claramente que si existe una relacion, pues a mayor escolaridad, mayor cantidad de personas afiliadas a un fondo de pensiones cualquiera que sea."
      ]
    },
    {
      "cell_type": "markdown",
      "metadata": {
        "id": "ppmD0iMC5LwT"
      },
      "source": [
        "**CONCLUSIÓN:**\n",
        "\n",
        "Dado a los cálculos hallados en el anterior trabajo, podríamos decir que en cuanto a la distribución de sexo, se encuentra más hombres que mujeres para cada mes y en general para el primer semestre del año 2021 en la encuesta GEIH. Adicionalmente se encuentra que el 50.23% del total de las personas encuestadas tenían un empleo durante los meses de enero a junio por el contrario respecto a la tasa de desempleo  es de 10.02% es relativamente una tasa baja debido a que aún la economía de Colombia no se ha recuperado por completo de todo lo que produjó el COVID-19 aunque todas las personas que se encuestaron tuvieron este virus, como reportó el director del DANE, Juan Daniel Oviedo la tasa de desempleo en Colombia en julio de 2021 se ubicó en 14,3 %. Esta es una mejoría de 5,9 puntos porcentuales respecto al dato de julio de 2020, cuando la desocupación llegó al 20,2 %."
      ]
    }
  ]
}